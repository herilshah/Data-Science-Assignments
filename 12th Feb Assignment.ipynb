{
 "cells": [
  {
   "cell_type": "markdown",
   "id": "81e52112-7b05-4add-a2c1-b3c14b680e13",
   "metadata": {},
   "source": [
    "Q.1 What is an Exception in python? Write the difference between Exceptions and Syntax errors."
   ]
  },
  {
   "cell_type": "markdown",
   "id": "442ed173-5b95-4769-a7b9-0c6ede5dfe2f",
   "metadata": {},
   "source": [
    "An exception in Python is an event that occurs during the execution of a program that disrupts the normal flow of the program's instructions. Exceptions are used to handle runtime errors such as division by zero, file not found, etc.\n",
    "\n",
    "Syntax errors, on the other hand, are errors that occur when the syntax of the program is incorrect, and the code cannot be executed. For example, forgetting a colon at the end of a statement or misspelling a keyword would result in a syntax error.\n",
    "\n",
    "The main difference between exceptions and syntax errors is that exceptions occur at runtime, while syntax errors occur at compile-time."
   ]
  },
  {
   "cell_type": "markdown",
   "id": "8d7dfdc2-e7db-4ea2-8608-159fbf458e38",
   "metadata": {},
   "source": [
    "Q2. What happens when an exception is not handled? Explain with an example. "
   ]
  },
  {
   "cell_type": "markdown",
   "id": "55e25312-2353-4b47-a62d-fa7100f7b1bd",
   "metadata": {},
   "source": [
    "When an exception is not handled, the program terminates abnormally, and the traceback of the exception is displayed, showing the line number and type of the exception. This can lead to data loss and can also leave the system in an unstable state.\n",
    "\n",
    "Example:"
   ]
  },
  {
   "cell_type": "code",
   "execution_count": 1,
   "id": "d73c98d2-92f1-4cab-8e4b-18f4f630f240",
   "metadata": {},
   "outputs": [
    {
     "ename": "ZeroDivisionError",
     "evalue": "division by zero",
     "output_type": "error",
     "traceback": [
      "\u001b[0;31m---------------------------------------------------------------------------\u001b[0m",
      "\u001b[0;31mZeroDivisionError\u001b[0m                         Traceback (most recent call last)",
      "Cell \u001b[0;32mIn[1], line 4\u001b[0m\n\u001b[1;32m      1\u001b[0m \u001b[38;5;28;01mdef\u001b[39;00m \u001b[38;5;21mdivide\u001b[39m(a, b):\n\u001b[1;32m      2\u001b[0m     \u001b[38;5;28;01mreturn\u001b[39;00m a \u001b[38;5;241m/\u001b[39m b\n\u001b[0;32m----> 4\u001b[0m \u001b[38;5;28mprint\u001b[39m(\u001b[43mdivide\u001b[49m\u001b[43m(\u001b[49m\u001b[38;5;241;43m10\u001b[39;49m\u001b[43m,\u001b[49m\u001b[43m \u001b[49m\u001b[38;5;241;43m0\u001b[39;49m\u001b[43m)\u001b[49m)\n",
      "Cell \u001b[0;32mIn[1], line 2\u001b[0m, in \u001b[0;36mdivide\u001b[0;34m(a, b)\u001b[0m\n\u001b[1;32m      1\u001b[0m \u001b[38;5;28;01mdef\u001b[39;00m \u001b[38;5;21mdivide\u001b[39m(a, b):\n\u001b[0;32m----> 2\u001b[0m     \u001b[38;5;28;01mreturn\u001b[39;00m \u001b[43ma\u001b[49m\u001b[43m \u001b[49m\u001b[38;5;241;43m/\u001b[39;49m\u001b[43m \u001b[49m\u001b[43mb\u001b[49m\n",
      "\u001b[0;31mZeroDivisionError\u001b[0m: division by zero"
     ]
    }
   ],
   "source": [
    "def divide(a, b):\n",
    "    return a / b\n",
    "\n",
    "print(divide(10, 0))\n",
    "#In this example, if we try to divide 10 by 0, a ZeroDivisionError exception is raised, and the program terminates abnormally with a traceback showing\n",
    "#the error message and line number where the error occurred."
   ]
  },
  {
   "cell_type": "markdown",
   "id": "7b080e40-e785-4563-9d7e-7e6a8cc849cc",
   "metadata": {},
   "source": [
    "Q3. Which Python statements are used to catch and handle exceptions? Explain with an example."
   ]
  },
  {
   "cell_type": "markdown",
   "id": "4d8ea250-b767-4391-9266-421954e9c94a",
   "metadata": {},
   "source": [
    "Q3. Which Python statements are used to catch and handle exceptions? Explain with an example.\n",
    "\n",
    "The try and except statements are used to catch and handle exceptions in Python. The try block contains the code that might raise an exception, and the except block contains the code that will be executed if an exception is raised.\n",
    "\n",
    "Example:\n",
    "\n",
    "In this example, we use the try and except statements to handle the ZeroDivisionError exception. If the division of a by b raises a ZeroDivisionError, the code in the except block will be executed, and the message Cannot divide by zero will be printed."
   ]
  },
  {
   "cell_type": "code",
   "execution_count": 2,
   "id": "9a51e7ec-e3e3-492c-9743-a4a3de53e998",
   "metadata": {},
   "outputs": [
    {
     "name": "stdout",
     "output_type": "stream",
     "text": [
      "5.0\n",
      "Cannot divide by zero\n",
      "None\n"
     ]
    }
   ],
   "source": [
    "def divide(a, b):\n",
    "    try:\n",
    "        return a / b\n",
    "    except ZeroDivisionError:\n",
    "        print('Cannot divide by zero')\n",
    "\n",
    "print(divide(10, 2))\n",
    "print(divide(10, 0))"
   ]
  },
  {
   "cell_type": "markdown",
   "id": "50bf272f-0c17-4733-8f47-3091c52b4262",
   "metadata": {},
   "source": [
    "Q4. Explain with an example:\n",
    "a. try and else\n",
    "b. finally \n",
    "c. raise"
   ]
  },
  {
   "cell_type": "markdown",
   "id": "b7d12299-7a3d-46b8-a416-e650e3d4f6f5",
   "metadata": {},
   "source": [
    "a. try and else: In Python, try and else are used in exception handling. The try block is used to specify the code that you want to run, and the else block is used to specify the code that you want to run if there are no exceptions in the try block. For example:"
   ]
  },
  {
   "cell_type": "code",
   "execution_count": 3,
   "id": "75c69dda-6ef6-46e5-96c1-615294914008",
   "metadata": {},
   "outputs": [
    {
     "name": "stdin",
     "output_type": "stream",
     "text": [
      "Enter a number:  10\n"
     ]
    },
    {
     "name": "stdout",
     "output_type": "stream",
     "text": [
      "The number entered is: 10\n"
     ]
    }
   ],
   "source": [
    "try:\n",
    "    # code that might raise an exception\n",
    "    x = int(input(\"Enter a number: \"))\n",
    "except ValueError:\n",
    "    # code to handle the exception\n",
    "    print(\"Invalid input. Please enter a valid number.\")\n",
    "else:\n",
    "    # code to run if there are no exceptions in the try block\n",
    "    print(\"The number entered is:\", x)\n"
   ]
  },
  {
   "cell_type": "markdown",
   "id": "09dfb1e4-d084-4dc2-967b-fdbb36db5449",
   "metadata": {},
   "source": [
    "b. finally: In Python, the finally block is used to specify the code that you want to run regardless of whether an exception was raised in the try block or not. For example:"
   ]
  },
  {
   "cell_type": "code",
   "execution_count": 4,
   "id": "51e933c8-d49b-48a6-8454-9f9f3aedc2ea",
   "metadata": {},
   "outputs": [
    {
     "name": "stdin",
     "output_type": "stream",
     "text": [
      "Enter a number:  100\n"
     ]
    },
    {
     "name": "stdout",
     "output_type": "stream",
     "text": [
      "Exiting the program.\n"
     ]
    }
   ],
   "source": [
    "try:\n",
    "    # code that might raise an exception\n",
    "    x = int(input(\"Enter a number: \"))\n",
    "except ValueError:\n",
    "    # code to handle the exception\n",
    "    print(\"Invalid input. Please enter a valid number.\")\n",
    "finally:\n",
    "    # code to run regardless of whether an exception was raised or not\n",
    "    print(\"Exiting the program.\")\n"
   ]
  },
  {
   "cell_type": "markdown",
   "id": "c0d4607d-8201-4fcf-953c-e29bfce0d93d",
   "metadata": {},
   "source": [
    "raise: In Python, raise is used to manually raise an exception. For example:"
   ]
  },
  {
   "cell_type": "code",
   "execution_count": 5,
   "id": "2f474b7a-090a-4462-acac-e54a7ca93407",
   "metadata": {},
   "outputs": [
    {
     "name": "stdout",
     "output_type": "stream",
     "text": [
      "division by zero is not allowed\n"
     ]
    }
   ],
   "source": [
    "def divide(a, b):\n",
    "    if b == 0:\n",
    "        raise ZeroDivisionError(\"division by zero is not allowed\")\n",
    "    return a / b\n",
    "\n",
    "try:\n",
    "    result = divide(10, 0)\n",
    "    print(result)\n",
    "except ZeroDivisionError as e:\n",
    "    print(e)\n"
   ]
  },
  {
   "cell_type": "markdown",
   "id": "d6c9ffed-0ff9-4212-b7c8-f2488a760dca",
   "metadata": {},
   "source": [
    "Q5. What are Custom Exceptions in python? Why do we need Custom Exceptions? Explain with an example"
   ]
  },
  {
   "cell_type": "markdown",
   "id": "1b095947-a766-4f42-8386-57f1480d2316",
   "metadata": {},
   "source": [
    "Custom Exceptions are user-defined exceptions that can be raised and caught in the same way as the built-in exceptions in Python. They allow you to define your own specific exception types that can be more meaningful for your program. For example, you can create a custom exception to indicate that a specific error has occurred, such as an invalid password, an out-of-bounds error, or a network error.\n",
    "\n",
    "For example, let's say you are writing a program that takes in a password from the user and you want to raise an exception if the password is not strong enough. You can create a custom exception for this:"
   ]
  },
  {
   "cell_type": "code",
   "execution_count": 6,
   "id": "9d9b82c3-6bc9-4039-9f8e-d00dc1578a29",
   "metadata": {},
   "outputs": [
    {
     "name": "stdin",
     "output_type": "stream",
     "text": [
      "Enter a password:  dffdfdf\n"
     ]
    },
    {
     "name": "stdout",
     "output_type": "stream",
     "text": [
      "Password is too short. It should be at least 8 characters long.\n"
     ]
    }
   ],
   "source": [
    "class PasswordTooShortError(Exception):\n",
    "    pass\n",
    "\n",
    "def check_password_strength(password):\n",
    "    if len(password) < 8:\n",
    "        raise PasswordTooShortError(\"Password is too short. It should be at least 8 characters long.\")\n",
    "\n",
    "try:\n",
    "    password = input(\"Enter a password: \")\n",
    "    check_password_strength(password)\n",
    "except PasswordTooShortError as e:\n",
    "    print(e)\n"
   ]
  },
  {
   "cell_type": "markdown",
   "id": "6498386f-a88a-4057-9cb0-3b540aef9926",
   "metadata": {},
   "source": [
    "Q6. Create a custom exception class. Use this class to handle an exception."
   ]
  },
  {
   "cell_type": "markdown",
   "id": "ef015598-c4e2-44bf-a845-c1c1ddc6c81a",
   "metadata": {},
   "source": [
    "To create a custom exception class, you can simply create a class that inherits from the built-in Exception class. Then, you can raise an instance of this class to indicate that a specific error has occurred. For example:"
   ]
  },
  {
   "cell_type": "code",
   "execution_count": 11,
   "id": "e6176372-63a7-4fc6-9d82-fd4e4f6df561",
   "metadata": {},
   "outputs": [
    {
     "name": "stdin",
     "output_type": "stream",
     "text": [
      "Enter your age:  123\n"
     ]
    },
    {
     "name": "stdout",
     "output_type": "stream",
     "text": [
      "Age is invalid. It should be between 0 and 120.\n"
     ]
    }
   ],
   "source": [
    "class InvalidAgeError(Exception):\n",
    "    pass\n",
    "\n",
    "def check_age(age):\n",
    "    if age < 0 or age > 120:\n",
    "        raise InvalidAgeError(\"Age is invalid. It should be between 0 and 120.\")\n",
    "\n",
    "try:\n",
    "    age = int(input(\"Enter your age: \"))\n",
    "    check_age(age)\n",
    "except InvalidAgeError as e:\n",
    "    print(e)\n"
   ]
  },
  {
   "cell_type": "code",
   "execution_count": null,
   "id": "b0adadaa-8026-4093-9b03-cfc5a35e56c3",
   "metadata": {},
   "outputs": [],
   "source": []
  },
  {
   "cell_type": "code",
   "execution_count": null,
   "id": "83063f1d-9f5c-47a1-87fd-14e4055f63b4",
   "metadata": {},
   "outputs": [],
   "source": []
  },
  {
   "cell_type": "code",
   "execution_count": null,
   "id": "af677b13-5b54-405a-9ea3-67f75d71a1d3",
   "metadata": {},
   "outputs": [],
   "source": []
  }
 ],
 "metadata": {
  "kernelspec": {
   "display_name": "Python 3 (ipykernel)",
   "language": "python",
   "name": "python3"
  },
  "language_info": {
   "codemirror_mode": {
    "name": "ipython",
    "version": 3
   },
   "file_extension": ".py",
   "mimetype": "text/x-python",
   "name": "python",
   "nbconvert_exporter": "python",
   "pygments_lexer": "ipython3",
   "version": "3.10.8"
  }
 },
 "nbformat": 4,
 "nbformat_minor": 5
}
