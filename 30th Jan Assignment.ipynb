{
 "cells": [
  {
   "cell_type": "code",
   "execution_count": 2,
   "id": "82623725-d5f2-4542-bcbd-72739b0e6d22",
   "metadata": {},
   "outputs": [
    {
     "name": "stdin",
     "output_type": "stream",
     "text": [
      "enter your marks 45\n"
     ]
    },
    {
     "name": "stdout",
     "output_type": "stream",
     "text": [
      "Your Grade is D\n"
     ]
    }
   ],
   "source": [
    "#Q.1\n",
    "marks = int(input(\"enter your marks\"))\n",
    "if marks >90:\n",
    "    print (\"Your Grade is A\")\n",
    "elif marks >80 and marks <=90 :\n",
    "    print(\"Your Grade is B\")\n",
    "elif marks >=60 and marks <=80 :\n",
    "    print(\"Your Grade is C\")\n",
    "else :\n",
    "    print(\"Your Grade is D\")"
   ]
  },
  {
   "cell_type": "code",
   "execution_count": 8,
   "id": "9c1bf61f-b41a-46b1-acc2-c826c86fa3e1",
   "metadata": {},
   "outputs": [
    {
     "name": "stdin",
     "output_type": "stream",
     "text": [
      "Enter the price of bike  150000\n"
     ]
    },
    {
     "name": "stdout",
     "output_type": "stream",
     "text": [
      "Your road tax is 15%\n"
     ]
    }
   ],
   "source": [
    "#Q.2\n",
    "price = int(input(\"Enter the price of bike \"))\n",
    "if price >100000 :\n",
    "    print (\"Your road tax is 15%\")\n",
    "elif price >50000 and price <100000 :\n",
    "    print(\"Your road tax is 10%\")\n",
    "else :\n",
    "    print(\"Your road tax is 5%\")"
   ]
  },
  {
   "cell_type": "code",
   "execution_count": 6,
   "id": "044b0547-07e4-4b95-aa42-7680ce746d8c",
   "metadata": {},
   "outputs": [
    {
     "name": "stdin",
     "output_type": "stream",
     "text": [
      "Enter your city Delhi\n"
     ]
    },
    {
     "name": "stdout",
     "output_type": "stream",
     "text": [
      "Monument of your city is Red Fort\n"
     ]
    }
   ],
   "source": [
    "#Q.3\n",
    "city = input(\"Enter your city\")\n",
    "if city == \"Delhi\" :\n",
    "    print(\"Monument of your city is Red Fort\")\n",
    "if city == \"Agra\" :\n",
    "    print(\"Monument of your city is Taj Mahal\")\n",
    "if city == \"Jaipur\":\n",
    "    print(\"Monument of your city is Jal Mahal\")"
   ]
  },
  {
   "cell_type": "markdown",
   "id": "6a0e1c4b-8152-48f6-894e-18569408befe",
   "metadata": {},
   "source": [
    "Q 4. Check how many times a given number can be divided by 3 before it is less than of equal to 10.\n",
    "\n"
   ]
  },
  {
   "cell_type": "code",
   "execution_count": 14,
   "id": "602b0036-49a9-4a67-9a4c-2d3003df2d55",
   "metadata": {},
   "outputs": [
    {
     "name": "stdin",
     "output_type": "stream",
     "text": [
      "Enter a number :  100\n"
     ]
    },
    {
     "name": "stdout",
     "output_type": "stream",
     "text": [
      "30\n"
     ]
    }
   ],
   "source": [
    "n = int(input(\"Enter a number : \"))\n",
    "count = 0\n",
    "while n > 10:\n",
    "    count +=1\n",
    "    n -=3\n",
    "    if n<=10:\n",
    "        break\n",
    "print(count)"
   ]
  },
  {
   "cell_type": "markdown",
   "id": "ab79e69d-9369-438c-a025-05265cf9e82c",
   "metadata": {},
   "source": [
    "Q 5. Why and when to use while loop in python give a detailed description with example"
   ]
  },
  {
   "cell_type": "markdown",
   "id": "f302fe10-adfd-4975-9741-104fb1f12eb2",
   "metadata": {},
   "source": [
    "A while loop evaluates when condition is True\n",
    "If the condition evaluates to True, the code inside the while loop is executed.\n",
    "condition is evaluated again.\n",
    "This process continues until the condition is False.\n",
    "When condition evaluates to False, the loop stops."
   ]
  },
  {
   "cell_type": "code",
   "execution_count": 16,
   "id": "a995d730-5c6a-4a2a-a873-46e78ba6d9aa",
   "metadata": {},
   "outputs": [
    {
     "name": "stdout",
     "output_type": "stream",
     "text": [
      "1\n",
      "2\n",
      "3\n",
      "4\n",
      "5\n"
     ]
    }
   ],
   "source": [
    "# initialize the variable\n",
    "i = 1\n",
    "n = 5\n",
    "\n",
    "# while loop from i = 1 to 5\n",
    "while i <= n:\n",
    "    print(i)\n",
    "    i = i + 1"
   ]
  },
  {
   "cell_type": "markdown",
   "id": "a0e48543-3b16-40d7-94ce-4e516fec7a7c",
   "metadata": {},
   "source": [
    "Q 6. Use nested while loop to print 3 different pattern."
   ]
  },
  {
   "cell_type": "code",
   "execution_count": 17,
   "id": "814ab7c8-d811-4d88-90c1-93da0fecf731",
   "metadata": {},
   "outputs": [
    {
     "name": "stdin",
     "output_type": "stream",
     "text": [
      "Enter row number :  5\n"
     ]
    },
    {
     "name": "stdout",
     "output_type": "stream",
     "text": [
      "\n",
      "* \n",
      "* * \n",
      "* * * \n",
      "* * * * \n",
      "* * * * * \n"
     ]
    }
   ],
   "source": [
    "row = int(input(\"Enter row number : \"))\n",
    "num = 0\n",
    "while num <= row:\n",
    "    print(\"* \"*num)\n",
    "    num +=1"
   ]
  },
  {
   "cell_type": "code",
   "execution_count": 18,
   "id": "e99d43ed-a07a-45b6-bd7a-241e39c787f4",
   "metadata": {},
   "outputs": [
    {
     "name": "stdin",
     "output_type": "stream",
     "text": [
      "Enter row number :  6\n"
     ]
    },
    {
     "name": "stdout",
     "output_type": "stream",
     "text": [
      "\n",
      "* * * * * * \n",
      "* * * * * \n",
      "* * * * \n",
      "* * * \n",
      "* * \n",
      "* "
     ]
    }
   ],
   "source": [
    "row = int(input(\"Enter row number : \"))\n",
    "while row>0:\n",
    "    print()\n",
    "    column = 0\n",
    "    while column < row:\n",
    "        print(\"*\", end=' ')\n",
    "        column +=1\n",
    "    row -=1\n",
    "    "
   ]
  },
  {
   "cell_type": "code",
   "execution_count": 19,
   "id": "f4f4bfe2-20e8-4178-bfcc-f164834f76e7",
   "metadata": {},
   "outputs": [
    {
     "name": "stdin",
     "output_type": "stream",
     "text": [
      "Enter row number :  7\n"
     ]
    },
    {
     "name": "stdout",
     "output_type": "stream",
     "text": [
      "\n",
      "* \n",
      "* * \n",
      "* * * \n",
      "* * * * \n",
      "* * * * * \n",
      "* * * * * * \n",
      "* * * * * * * \n",
      "* * * * * * \n",
      "* * * * * \n",
      "* * * * \n",
      "* * * \n",
      "* * \n",
      "* \n"
     ]
    }
   ],
   "source": [
    "row = int(input(\"Enter row number : \"))\n",
    "num = 0\n",
    "while num <= row:\n",
    "    print(\"* \"*num)\n",
    "    num +=1\n",
    "    if num > row:\n",
    "        row = row-1\n",
    "        num = -row +2\n",
    "        while num <= row:\n",
    "            print(\"* \"*row)\n",
    "            num +=1\n",
    "            row -=1"
   ]
  },
  {
   "cell_type": "markdown",
   "id": "699b0645-88a7-48c4-82f7-58193088edce",
   "metadata": {},
   "source": [
    "Q 7. Reverse a while loop to display numbers form 10 to 1.\n"
   ]
  },
  {
   "cell_type": "code",
   "execution_count": 21,
   "id": "38b5a69d-33a8-459d-8aeb-857ac28ae612",
   "metadata": {},
   "outputs": [
    {
     "name": "stdout",
     "output_type": "stream",
     "text": [
      "10\n",
      "9\n",
      "8\n",
      "7\n",
      "6\n",
      "5\n",
      "4\n",
      "3\n",
      "2\n",
      "1\n"
     ]
    }
   ],
   "source": [
    "i = 10\n",
    "while i > 0:\n",
    "    print(i)\n",
    "    i = i - 1"
   ]
  },
  {
   "cell_type": "code",
   "execution_count": null,
   "id": "56807c5f-1c07-468e-83bc-1db385235943",
   "metadata": {},
   "outputs": [],
   "source": []
  }
 ],
 "metadata": {
  "kernelspec": {
   "display_name": "Python 3 (ipykernel)",
   "language": "python",
   "name": "python3"
  },
  "language_info": {
   "codemirror_mode": {
    "name": "ipython",
    "version": 3
   },
   "file_extension": ".py",
   "mimetype": "text/x-python",
   "name": "python",
   "nbconvert_exporter": "python",
   "pygments_lexer": "ipython3",
   "version": "3.10.8"
  }
 },
 "nbformat": 4,
 "nbformat_minor": 5
}
