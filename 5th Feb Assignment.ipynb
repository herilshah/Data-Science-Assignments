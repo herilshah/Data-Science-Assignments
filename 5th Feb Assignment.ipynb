{
 "cells": [
  {
   "cell_type": "markdown",
   "id": "567cc954-f83f-4cff-a1e2-a2ea9eea109f",
   "metadata": {},
   "source": [
    "Q1. Explain Class and Object with respect to Object-Oriented Programming. Give a suitable example."
   ]
  },
  {
   "cell_type": "markdown",
   "id": "7a039643-db1a-4844-bf50-b8c5a683cfd6",
   "metadata": {},
   "source": [
    "A class is a blueprint or a template for creating objects. It defines the attributes and behaviors of the objects that are created from it. In other words, it defines the data and the functions that can be performed on that data.\n",
    "\n",
    "An object, on the other hand, is an instance of a class. It represents a single instance of the class, with its own attributes and behaviors. Objects are created from classes and can interact with one another through methods."
   ]
  },
  {
   "cell_type": "code",
   "execution_count": 1,
   "id": "ba210229-ecaa-4e42-b183-a34a2d0ea611",
   "metadata": {},
   "outputs": [
    {
     "name": "stdout",
     "output_type": "stream",
     "text": [
      "2020 Audi A4\n"
     ]
    }
   ],
   "source": [
    "class Car:\n",
    "  def __init__(self, make, model, year):\n",
    "    self.make = make\n",
    "    self.model = model\n",
    "    self.year = year\n",
    "    \n",
    "  def get_descriptive_name(self):\n",
    "    long_name = f'{self.year} {self.make} {self.model}'\n",
    "    return long_name.title()\n",
    "\n",
    "my_car = Car('audi', 'a4', 2020)\n",
    "print(my_car.get_descriptive_name())\n",
    "\n",
    "'''In this example, Car is a class and my_car is an object of that class. The class Car has a constructor __init__ method which is used to initialize\n",
    "the attributes of the class (i.e., make, model, and year). The class also has a method get_descriptive_name which returns a descriptive name for the \n",
    "car.When we create an object my_car of the class Car and assign values to its attributes, we are creating an instance of the class. This instance can \n",
    "access the class's methods and can also have its own unique values for its attributes'''"
   ]
  },
  {
   "cell_type": "markdown",
   "id": "bf6dcd71-a0c0-4973-9f10-f1516f9761ba",
   "metadata": {},
   "source": [
    "Q2. Name the four pillars of OOPs."
   ]
  },
  {
   "cell_type": "markdown",
   "id": "5735d6e5-a245-427a-8e84-311be8b5b7b0",
   "metadata": {},
   "source": [
    "Abstraction: This refers to hiding the implementation details of an object and exposing only the necessary information to the outside world.\n",
    "Encapsulation: This refers to combining the data and the functions that operate on the data within an object. It provides a way to protect the data from outside objects.\n",
    "Inheritance: This refers to the ability of an object to inherit the properties and behaviors of a parent object. This helps in reducing code duplication and improving the code maintainability.\n",
    "Polymorphism: This refers to the ability of an object to take multiple forms.\n"
   ]
  },
  {
   "cell_type": "markdown",
   "id": "0b3e8788-9568-4338-96d4-d5f077c7a97b",
   "metadata": {},
   "source": [
    "Q3. Explain why the __init__() function is used. Give a suitable example."
   ]
  },
  {
   "cell_type": "code",
   "execution_count": 3,
   "id": "0378ce44-7c3e-4aeb-9133-1ab962639ef9",
   "metadata": {},
   "outputs": [
    {
     "name": "stdout",
     "output_type": "stream",
     "text": [
      "Name: Heril\n",
      "Age: 30\n",
      "Salary: 50000\n",
      "Name: Shah\n",
      "Age: 25\n",
      "Salary: 60000\n"
     ]
    }
   ],
   "source": [
    "class Employee:\n",
    "    def __init__(self, name, age, salary):\n",
    "        self.name = name\n",
    "        self.age = age\n",
    "        self.salary = salary\n",
    "        \n",
    "    def display_employee(self):\n",
    "        print(\"Name:\", self.name)\n",
    "        print(\"Age:\", self.age)\n",
    "        print(\"Salary:\", self.salary)\n",
    "\n",
    "employee1 = Employee(\"Heril\", 30, 50000)\n",
    "employee1.display_employee()\n",
    "\n",
    "employee2 = Employee(\"Shah\", 25, 60000)\n",
    "employee2.display_employee()\n"
   ]
  },
  {
   "cell_type": "markdown",
   "id": "40d26fba-4657-4b44-a564-f8b303f6ba9c",
   "metadata": {},
   "source": [
    "In the above example, the __init__() function takes three parameters name, age, and salary and assigns them to the corresponding attributes of the class. The display_employee() method is used to display the values of the attributes for each object."
   ]
  },
  {
   "cell_type": "markdown",
   "id": "bc197a48-a9c5-4867-b138-20f49a70b67f",
   "metadata": {},
   "source": [
    "Q4. Why self is used in OOPs?"
   ]
  },
  {
   "cell_type": "markdown",
   "id": "b51e32d2-8e1e-40a4-9272-41f024d70f05",
   "metadata": {},
   "source": [
    "In Object-Oriented Programming (OOP), \"self\" is a reference to the current instance of the class. It is used to access the attributes and methods of the class within the class itself. \"self\" is a conventional name, but any valid variable name can be used in place of \"self\".\n"
   ]
  },
  {
   "cell_type": "code",
   "execution_count": 4,
   "id": "53ceb4ae-211c-4560-b3c0-da1cbf169ee9",
   "metadata": {},
   "outputs": [],
   "source": [
    "def display(self):\n",
    "    print(\"Name:\", self.name)\n",
    "    print(\"Salary:\", self.salary)"
   ]
  },
  {
   "cell_type": "markdown",
   "id": "6ae43214-79ff-4404-b4c4-94635653307f",
   "metadata": {},
   "source": [
    "In the above example, the \"self\" parameter is used to store the name and salary attributes of an instance of the Employee class. The display method also uses \"self\" to access the name and salary attributes. When an instance of the class is created, the reference to the instance is passed as the first argument to the methods of the class, so that the methods can access the attributes of the instance."
   ]
  },
  {
   "cell_type": "markdown",
   "id": "eab12ef7-c3af-4e2a-aebc-491ae0c3b4d5",
   "metadata": {},
   "source": [
    "Q5. What is inheritance? Give an example for each type of inheritance."
   ]
  },
  {
   "cell_type": "markdown",
   "id": "f6dc3198-16ca-4144-a900-e91de81446a2",
   "metadata": {},
   "source": [
    "Inheritance is a feature of object-oriented programming (OOP) that allows a new class to inherit or reuse the properties and methods of an existing class. The new class is called the subclass, and the existing class is the superclass.\n",
    "There are several types of inheritance, including:\n"
   ]
  },
  {
   "cell_type": "markdown",
   "id": "b1afe0ba-f065-4a44-ba25-3ab2d1c663ab",
   "metadata": {},
   "source": [
    "Single inheritance: One class inherits from a single parent class, meaning that the subclass can inherit attributes and behaviors from a single superclass"
   ]
  },
  {
   "cell_type": "code",
   "execution_count": 6,
   "id": "06e3f935-95ef-41f7-abe5-04cbd84dfe6c",
   "metadata": {},
   "outputs": [
    {
     "name": "stdout",
     "output_type": "stream",
     "text": [
      "Rocky makes the sound Bark\n"
     ]
    }
   ],
   "source": [
    "class Animal:\n",
    "    def __init__(self, name, species):\n",
    "        self.name = name\n",
    "        self.species = species\n",
    "    \n",
    "    def make_sound(self, sound):\n",
    "        print(f\"{self.name} makes the sound {sound}\")\n",
    "        \n",
    "class Dog(Animal):\n",
    "    def __init__(self, name, breed):\n",
    "        Animal.__init__(self, name, species=\"Dog\")\n",
    "        self.breed = breed\n",
    "        \n",
    "dog = Dog(\"Rocky\", \"Labrador\")\n",
    "dog.make_sound(\"Bark\")"
   ]
  },
  {
   "cell_type": "markdown",
   "id": "4ba9c5bb-f290-493c-bf1b-38a2952eb947",
   "metadata": {},
   "source": [
    "Multi-level inheritance: A subclass can inherit attributes and behaviors from a parent class and its parent class."
   ]
  },
  {
   "cell_type": "code",
   "execution_count": 7,
   "id": "33244e08-ae69-4526-b579-bdcfe386a8e9",
   "metadata": {},
   "outputs": [
    {
     "name": "stdout",
     "output_type": "stream",
     "text": [
      "Rocky makes the sound Bark\n"
     ]
    }
   ],
   "source": [
    "class Animal:\n",
    "    def __init__(self, name, species):\n",
    "        self.name = name\n",
    "        self.species = species\n",
    "    \n",
    "    def make_sound(self, sound):\n",
    "        print(f\"{self.name} makes the sound {sound}\")\n",
    "        \n",
    "class Mammal(Animal):\n",
    "    def __init__(self, name, animal_type):\n",
    "        Animal.__init__(self, name, species=\"Mammal\")\n",
    "        self.animal_type = animal_type\n",
    "        \n",
    "class Dog(Mammal):\n",
    "    def __init__(self, name, breed):\n",
    "        Mammal.__init__(self, name, animal_type=\"Dog\")\n",
    "        self.breed = breed\n",
    "        \n",
    "dog = Dog(\"Rocky\", \"Labrador\")\n",
    "dog.make_sound(\"Bark\")"
   ]
  },
  {
   "cell_type": "code",
   "execution_count": null,
   "id": "10deec12-71e8-47bd-9f93-d7b7915c454c",
   "metadata": {},
   "outputs": [],
   "source": [
    "Multiple inheritance: A subclass can inherit attributes and behaviors from multiple parent classes.\n"
   ]
  },
  {
   "cell_type": "code",
   "execution_count": 8,
   "id": "31167ba1-7d2a-498a-9d56-a3bc99f78b9c",
   "metadata": {},
   "outputs": [
    {
     "name": "stdout",
     "output_type": "stream",
     "text": [
      "Rocky makes the sound Bark\n"
     ]
    }
   ],
   "source": [
    "class Animal:\n",
    "    def __init__(self, name, species):\n",
    "        self.name = name\n",
    "        self.species = species\n",
    "    \n",
    "    def make_sound(self, sound):\n",
    "        print(f\"{self.name} makes the sound {sound}\")\n",
    "        \n",
    "class DomesticAnimal:\n",
    "    def __init__(self, name, is_domestic):\n",
    "        self.name = name\n",
    "        self.is_domestic = is_domestic\n",
    "        \n",
    "class Dog(Animal, DomesticAnimal):\n",
    "    def __init__(self, name, breed):\n",
    "        Animal.__init__(self, name, species=\"Dog\")\n",
    "        DomesticAnimal.__init__(self, name, is_domestic=True)\n",
    "        self.breed = breed\n",
    "        \n",
    "dog = Dog(\"Rocky\", \"Labrador\")\n",
    "dog.make_sound(\"Bark\")"
   ]
  },
  {
   "cell_type": "markdown",
   "id": "8f228872-1be9-4770-90f7-66e2415fbe2e",
   "metadata": {},
   "source": [
    "When more than one derived class are created from a single base this type of inheritance is called hierarchical inheritance. In this program, we have a parent (base) class and two child (derived) classes."
   ]
  },
  {
   "cell_type": "code",
   "execution_count": 14,
   "id": "6725697a-7487-476a-8b90-42fce48eab26",
   "metadata": {},
   "outputs": [
    {
     "name": "stdout",
     "output_type": "stream",
     "text": [
      "This function is in parent class.\n",
      "This function is in child 1.\n",
      "This function is in parent class.\n",
      "This function is in child 2.\n"
     ]
    }
   ],
   "source": [
    "# Hierarchical inheritance\n",
    "\n",
    "\n",
    "# Base class\n",
    "class Parent:\n",
    "\tdef func1(self):\n",
    "\t\tprint(\"This function is in parent class.\")\n",
    "\n",
    "# Derived class1\n",
    "\n",
    "\n",
    "class Child1(Parent):\n",
    "\tdef func2(self):\n",
    "\t\tprint(\"This function is in child 1.\")\n",
    "\n",
    "# Derivied class2\n",
    "\n",
    "\n",
    "class Child2(Parent):\n",
    "\tdef func3(self):\n",
    "\t\tprint(\"This function is in child 2.\")\n",
    "\n",
    "\n",
    "# Driver's code\n",
    "object1 = Child1()\n",
    "object2 = Child2()\n",
    "object1.func1()\n",
    "object1.func2()\n",
    "object2.func1()\n",
    "object2.func3()\n"
   ]
  },
  {
   "cell_type": "markdown",
   "id": "bfa7eebc-2ba8-4234-88a1-1e8bd594cb69",
   "metadata": {},
   "source": [
    "Hybrid Inheritance: \n",
    "Inheritance consisting of multiple types of inheritance is called hybrid inheritance."
   ]
  },
  {
   "cell_type": "code",
   "execution_count": 15,
   "id": "d7a5a688-8c94-420a-996c-48324927af60",
   "metadata": {},
   "outputs": [
    {
     "name": "stdout",
     "output_type": "stream",
     "text": [
      "This function is in school.\n",
      "This function is in student 1. \n"
     ]
    }
   ],
   "source": [
    "# hybrid inheritance\n",
    "\n",
    "\n",
    "class School:\n",
    "\tdef func1(self):\n",
    "\t\tprint(\"This function is in school.\")\n",
    "\n",
    "\n",
    "class Student1(School):\n",
    "\tdef func2(self):\n",
    "\t\tprint(\"This function is in student 1. \")\n",
    "\n",
    "\n",
    "class Student2(School):\n",
    "\tdef func3(self):\n",
    "\t\tprint(\"This function is in student 2.\")\n",
    "\n",
    "\n",
    "class Student3(Student1, School):\n",
    "\tdef func4(self):\n",
    "\t\tprint(\"This function is in student 3.\")\n",
    "\n",
    "\n",
    "# Driver's code\n",
    "object = Student3()\n",
    "object.func1()\n",
    "object.func2()\n"
   ]
  },
  {
   "cell_type": "code",
   "execution_count": null,
   "id": "60dc0dcd-de78-459a-8fc0-5b737617756e",
   "metadata": {},
   "outputs": [],
   "source": []
  },
  {
   "cell_type": "code",
   "execution_count": null,
   "id": "2ce19afc-ac9c-4f57-b619-1a61cc9f4adf",
   "metadata": {},
   "outputs": [],
   "source": []
  },
  {
   "cell_type": "code",
   "execution_count": null,
   "id": "d9c52f30-6d32-4ef9-a2e4-277a90e0df86",
   "metadata": {},
   "outputs": [],
   "source": []
  }
 ],
 "metadata": {
  "kernelspec": {
   "display_name": "Python 3 (ipykernel)",
   "language": "python",
   "name": "python3"
  },
  "language_info": {
   "codemirror_mode": {
    "name": "ipython",
    "version": 3
   },
   "file_extension": ".py",
   "mimetype": "text/x-python",
   "name": "python",
   "nbconvert_exporter": "python",
   "pygments_lexer": "ipython3",
   "version": "3.10.8"
  }
 },
 "nbformat": 4,
 "nbformat_minor": 5
}
