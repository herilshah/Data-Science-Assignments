{
  "nbformat": 4,
  "nbformat_minor": 0,
  "metadata": {
    "colab": {
      "provenance": []
    },
    "kernelspec": {
      "name": "python3",
      "display_name": "Python 3"
    },
    "language_info": {
      "name": "python"
    },
    "accelerator": "TPU"
  },
  "cells": [
    {
      "cell_type": "markdown",
      "source": [
        "Q1. What is regularization in the context of deep learning? Why it is important?"
      ],
      "metadata": {
        "id": "wODRYGXA7dts"
      }
    },
    {
      "cell_type": "markdown",
      "source": [
        "In the context of deep learning, regularization is a technique used to prevent overfitting and improve the generalization of a model. Overfitting occurs when a model learns the training data too well, including the noise or random fluctuations in the data, to the extent that it performs poorly on new, unseen data.\n",
        "\n",
        "Regularization methods introduce a penalty term to the objective function that the model is trying to optimize. This penalty discourages the model from fitting the training data too closely and helps it generalize better to unseen data. There are several common regularization techniques in deep learning:\n",
        "\n",
        "1. **L1 Regularization (Lasso):** Involves adding the sum of absolute values of the weights to the loss function. It encourages sparsity in the weight matrix, effectively pushing some weights to exactly zero.\n",
        "\n",
        "2. **L2 Regularization (Ridge):** Involves adding the sum of squared values of the weights to the loss function. It penalizes large weights and helps prevent the dominance of a single feature.\n",
        "\n",
        "3. **Dropout:** Involves randomly setting a fraction of input units to zero during training. This helps prevent co-adaptation of feature detectors and introduces a form of ensemble learning.\n",
        "\n",
        "4. **Early Stopping:** Monitors the performance of the model on a validation set during training and stops training once the performance starts degrading, preventing the model from overfitting.\n",
        "\n",
        "Regularization is important because it helps control the complexity of a model, preventing it from becoming too flexible and fitting the noise in the training data. By promoting simpler models, regularization improves the model's ability to generalize well to new, unseen data, which is crucial for the success of machine learning models in real-world applications."
      ],
      "metadata": {
        "id": "-3gQJVIO7dxI"
      }
    },
    {
      "cell_type": "markdown",
      "source": [
        "Q2. Explain Bias Variance Tradeoff and how regularization helps in addressing this tradeoff"
      ],
      "metadata": {
        "id": "4E6PFDHA7oR1"
      }
    },
    {
      "cell_type": "markdown",
      "source": [
        "The bias-variance tradeoff is a fundamental concept in machine learning that involves balancing two sources of error: bias and variance.\n",
        "\n",
        "1. **Bias:** Bias refers to the error introduced by approximating a real-world problem, which may be complex, by a simplified model. A high-bias model is one that makes strong assumptions about the underlying data distribution and is likely to oversimplify the problem. High-bias models are associated with underfitting, where the model performs poorly on both the training data and unseen data.\n",
        "\n",
        "2. **Variance:** Variance, on the other hand, refers to the model's sensitivity to the fluctuations in the training data. A high-variance model is one that is very flexible and fits the training data closely, even capturing the noise in the data. High-variance models are prone to overfitting, where they perform well on the training data but poorly on new, unseen data.\n",
        "\n",
        "The tradeoff arises because increasing model complexity typically reduces bias but increases variance, and vice versa. The goal is to find the right level of complexity that minimizes the total error on unseen data.\n",
        "\n",
        "Regularization helps address the bias-variance tradeoff by adding a penalty term to the model's objective function, as I mentioned in the previous response. Regularization techniques, such as L1 and L2 regularization, act as constraints on the model parameters (weights). Here's how regularization helps:\n",
        "\n",
        "1. **Bias Reduction:** Regularization penalizes overly complex models by discouraging the learning of large parameter values. This tends to reduce the model's flexibility and, in turn, helps control bias.\n",
        "\n",
        "2. **Variance Reduction:** By preventing the model from fitting the training data too closely (through the penalty term), regularization helps control the variance. This is because the model is less likely to capture noise and fluctuations in the training data that may not generalize well.\n",
        "\n",
        "In summary, regularization is a tool that helps find an optimal balance between bias and variance by adding a penalty for model complexity. It promotes models that generalize well to new data while avoiding the extremes of underfitting (high bias) and overfitting (high variance)."
      ],
      "metadata": {
        "id": "Lg0-AmoY7oOM"
      }
    },
    {
      "cell_type": "markdown",
      "source": [
        "Q3: Describe the concept of L1 and L2 regularization. How do they differ in terms of penalty calculation and their effects on the model?\n",
        "\n",
        "A3:\n",
        "\n",
        "**L1 Regularization (Lasso):**\n",
        "- **Penalty Calculation:** L1 regularization adds the sum of the absolute values of the weights to the loss function.\n",
        "  \n",
        "  \\[ \\text{L1 penalty} = \\lambda \\sum_{i=1}^{n} |w_i| \\]\n",
        "\n",
        "  Here, \\( \\lambda \\) is the regularization strength, and \\( w_i \\) are the model weights.\n",
        "\n",
        "- **Effect on Model:** L1 regularization encourages sparsity in the weight matrix, meaning it tends to force some weights to become exactly zero. This makes L1 regularization useful for feature selection, as it effectively ignores less important features.\n",
        "\n",
        "**L2 Regularization (Ridge):**\n",
        "- **Penalty Calculation:** L2 regularization adds the sum of the squared values of the weights to the loss function.\n",
        "  \n",
        "  \\[ \\text{L2 penalty} = \\lambda \\sum_{i=1}^{n} w_i^2 \\]\n",
        "\n",
        "  Here, \\( \\lambda \\) is the regularization strength, and \\( w_i \\) are the model weights.\n",
        "\n",
        "- **Effect on Model:** L2 regularization penalizes large weights, preventing the dominance of a single feature. While it doesn't enforce sparsity as strongly as L1 regularization, it generally results in a more evenly distributed set of non-zero weights.\n",
        "\n",
        "**Differences:**\n",
        "1. **Penalty Calculation:** The primary difference lies in how the penalty term is calculated – L1 uses the sum of absolute values, and L2 uses the sum of squared values of the weights.\n",
        "  \n",
        "2. **Effect on Weights:** L1 tends to yield sparse weight vectors with some weights being exactly zero, effectively performing feature selection. L2 tends to keep all weights small but non-zero.\n",
        "\n",
        "3. **Application:** L1 regularization is often preferred when there's a desire to emphasize feature selection or when dealing with high-dimensional data. L2 regularization is effective for preventing large individual weights and is commonly used for smoothing models.\n",
        "\n",
        "In practice, a combination of L1 and L2 regularization, known as Elastic Net regularization, is also used to leverage the benefits of both techniques."
      ],
      "metadata": {
        "id": "gis1oOlg78V8"
      }
    },
    {
      "cell_type": "markdown",
      "source": [
        "Q4: Discuss the role of regularization in preventing overfitting and improving the generalization of deep learning models.\n",
        "\n",
        "A4:\n",
        "\n",
        "Regularization plays a crucial role in preventing overfitting and improving the generalization of deep learning models. Overfitting occurs when a model learns the training data too well, capturing noise and details that are specific to that data but do not generalize well to new, unseen data. Here's how regularization helps in addressing this issue:\n",
        "\n",
        "1. **Controlling Model Complexity:** Regularization introduces penalty terms into the optimization process, discouraging the model from becoming overly complex. By penalizing large weights or encouraging sparsity in the weight matrix, regularization helps control the complexity of the model. This prevents the model from fitting the training data too closely and, consequently, from overfitting.\n",
        "\n",
        "2. **Bias-Variance Tradeoff:** Regularization contributes to finding the right balance between bias and variance, addressing the bias-variance tradeoff. By penalizing complex models, it reduces variance, making the model less sensitive to fluctuations in the training data. At the same time, it helps control bias by preventing the model from oversimplifying the underlying patterns in the data.\n",
        "\n",
        "3. **Preventing Co-adaptation of Features:** In deep learning models, regularization techniques like dropout are employed to prevent co-adaptation of features. Dropout randomly sets a fraction of input units to zero during training, forcing the model to learn more robust and independent representations. This prevents the model from relying too heavily on specific features, making it more adaptable to diverse data.\n",
        "\n",
        "4. **Early Stopping:** Although not a direct regularization technique, early stopping is often used in conjunction with regularization. Monitoring the model's performance on a validation set during training and stopping the training process when performance starts to degrade helps prevent the model from overfitting the training data.\n",
        "\n",
        "In summary, regularization acts as a form of regularization prevents overfitting by controlling the complexity of the model, balancing bias and variance. It is a key component in training deep learning models that are capable of generalizing well to new, unseen data."
      ],
      "metadata": {
        "id": "fihNrqHv8DDR"
      }
    },
    {
      "cell_type": "markdown",
      "source": [
        "Q5: Explain Dropout Regularization and how it works to reduce overfitting. Discuss the impact on model training and inference.\n",
        "\n",
        "**Dropout Regularization:**\n",
        "\n",
        "Dropout is a regularization technique used in neural networks to mitigate overfitting. It involves randomly deactivating a fraction of neurons during training, forcing the model to become more robust by preventing it from relying too much on specific neurons or features.\n",
        "\n",
        "**How Dropout Works:**\n",
        "\n",
        "1. **Random Deactivation:** During each training iteration, individual neurons are probabilistically \"dropped out\" or set to zero with a certain probability (dropout rate). This means that different subsets of neurons are active in each training epoch, introducing variability into the learning process.\n",
        "\n",
        "2. **Ensemble Effect:** Dropout can be viewed as training an ensemble of subnetworks. Each subnetwork corresponds to a different combination of active and inactive neurons. During inference, the predictions are averaged over these subnetworks, leading to an ensemble effect that improves generalization.\n",
        "\n",
        "**Impact on Model Training:**\n",
        "\n",
        "1. **Regularization:** Dropout acts as a form of regularization by preventing the network from becoming too specialized in the training data. It introduces noise and discourages co-adaptation of neurons, making the model more robust.\n",
        "\n",
        "2. **Reducing Overfitting:** By randomly dropping out neurons, dropout reduces the risk of overfitting, as the model cannot rely too heavily on specific features. It helps the network generalize better to unseen data.\n",
        "\n",
        "**Impact on Model Inference:**\n",
        "\n",
        "During the inference phase (when making predictions on new data), dropout is typically turned off. However, adjustments are made to the weights to account for the fact that more neurons were active during training than during inference.\n",
        "\n",
        "1. **Scaling Weights:** The weights of the neurons are scaled during inference by a factor of \\(1 - \\text{dropout rate}\\). This scaling ensures that the expected value of each neuron's output remains consistent with the training phase.\n",
        "\n",
        "2. **No Dropout during Inference:** Dropout is not applied during inference, as the goal is to make deterministic predictions. The full network is used, but the weights are adjusted to reflect the dropout during training.\n",
        "\n",
        "In summary, dropout regularization is a powerful technique for preventing overfitting in neural networks. It introduces randomness during training, promoting a more robust model that generalizes well to new, unseen data. During inference, appropriate scaling ensures a smooth transition from the dropout-affected training phase to the deterministic prediction phase."
      ],
      "metadata": {
        "id": "1Ul_8JdV8VPt"
      }
    },
    {
      "cell_type": "markdown",
      "source": [
        "**Q6: Describe the concept of Early Stopping as a form of Regularization. How does it prevent overfitting during the training process?**\n",
        "\n",
        "**A6:**\n",
        "\n",
        "**Early Stopping:**\n",
        "\n",
        "Early stopping is a regularization technique used to prevent overfitting during the training process of machine learning models, including deep neural networks. Instead of training the model for a fixed number of epochs, early stopping monitors the model's performance on a validation set during training and halts the training process once the performance on the validation set starts to degrade.\n",
        "\n",
        "**How Early Stopping Works:**\n",
        "\n",
        "1. **Monitoring Validation Performance:** The model's performance is evaluated on a separate validation dataset at regular intervals (after each epoch or a certain number of iterations).\n",
        "\n",
        "2. **Stopping Criteria:** A stopping criterion is defined based on the validation performance. This could be, for example, the point at which the validation loss ceases to improve or begins to worsen.\n",
        "\n",
        "3. **Halting Training:** When the stopping criterion is met, the training process is terminated early, and the model with the best validation performance is typically chosen as the final model.\n",
        "\n",
        "**Preventing Overfitting:**\n",
        "\n",
        "Early stopping helps prevent overfitting by addressing the following:\n",
        "\n",
        "1. **Monitoring Generalization:** The validation set serves as a proxy for unseen data. By monitoring the model's performance on this set, early stopping prevents the model from becoming too specialized to the training data and ensures that it generalizes well to new, unseen data.\n",
        "\n",
        "2. **Finding the Optimal Point:** Training for too many epochs can lead to overfitting, as the model may start memorizing noise in the training data. Early stopping helps identify the point where the model has learned the underlying patterns in the data without overfitting.\n",
        "\n",
        "3. **Implicit Regularization:** Early stopping acts as a form of implicit regularization by preventing the model from fitting the noise in the training data. It encourages the model to converge to a solution that generalizes well.\n",
        "\n",
        "**Impact on Training Time:**\n",
        "\n",
        "While early stopping helps prevent overfitting, it may also reduce the overall training time. Instead of training for a fixed number of epochs, early stopping allows the model to stop as soon as it achieves good generalization, potentially saving computational resources.\n",
        "\n",
        "In summary, early stopping is an effective form of regularization that prevents overfitting by monitoring the model's performance on a validation set and stopping the training process when the model's generalization performance starts to degrade."
      ],
      "metadata": {
        "id": "AlQIBYAM8VTB"
      }
    },
    {
      "cell_type": "markdown",
      "source": [
        "**Q7: Explain the concept of Batch Normalization and its role as a form of regularization. How does Batch Normalization prevent overfitting?**\n",
        "\n",
        "**A7:**\n",
        "\n",
        "**Batch Normalization:**\n",
        "\n",
        "Batch Normalization (BatchNorm) is a technique used in neural networks to normalize the inputs of each layer by adjusting and scaling the activations. It was introduced to address issues like internal covariate shift, where the distribution of inputs to a layer changes during training, making it challenging for the network to learn effectively.\n",
        "\n",
        "**How Batch Normalization Works:**\n",
        "\n",
        "1. **Normalization:** BatchNorm normalizes the inputs of each layer by subtracting the mean and dividing by the standard deviation of the mini-batch. This centers and scales the inputs, making the optimization process more stable.\n",
        "\n",
        "2. **Scaling and Shifting:** The normalized inputs are then scaled and shifted using learnable parameters (gamma and beta). This introduces some flexibility back into the process, allowing the network to learn the optimal scale and shift for each feature.\n",
        "\n",
        "3. **Training and Inference:** During training, the mean and standard deviation are computed for each mini-batch. During inference, running averages of these statistics are used.\n",
        "\n",
        "**Role as a Form of Regularization:**\n",
        "\n",
        "Batch Normalization has regularization effects that contribute to preventing overfitting:\n",
        "\n",
        "1. **Reduction of Internal Covariate Shift:** By normalizing the inputs of each layer, BatchNorm reduces the internal covariate shift. This can lead to more stable and faster convergence during training.\n",
        "\n",
        "2. **Effect on Model Robustness:** Normalizing the inputs helps prevent the model from being overly sensitive to changes in the scale and distribution of the input data. This improved robustness can contribute to better generalization.\n",
        "\n",
        "3. **Implicit Noise Injection:** The normalization process introduces a level of noise during training. This noise, similar to dropout, can act as a form of implicit regularization, preventing the model from fitting the training data too closely.\n",
        "\n",
        "4. **Reduced Dependence on Initialization:** BatchNorm reduces the dependence of the model on the choice of weight initialization. This can make it easier to train deeper networks and reduces the risk of overfitting.\n",
        "\n",
        "In summary, Batch Normalization serves as a form of regularization by normalizing the inputs of each layer, reducing internal covariate shift, and introducing a level of noise during training. These regularization effects contribute to the prevention of overfitting and can lead to more robust and generalizable models."
      ],
      "metadata": {
        "id": "4aTnGM1d8tmU"
      }
    },
    {
      "cell_type": "markdown",
      "source": [
        "Q8. Implement Dropout Regularization in deep learning model framework of your choice. Evaluate its impact on model performance and compare it with a model without dropout"
      ],
      "metadata": {
        "id": "WVAX9Uso8uLs"
      }
    },
    {
      "cell_type": "code",
      "source": [
        "# Create a dummy dataset\n",
        "from sklearn.datasets import make_classification\n",
        "X, Y = make_classification(n_samples=5000, n_classes=3, n_features=25, n_informative=15, random_state=42)\n",
        "\n"
      ],
      "metadata": {
        "id": "zKcfcexK8UWV"
      },
      "execution_count": 2,
      "outputs": []
    },
    {
      "cell_type": "code",
      "source": [
        "X"
      ],
      "metadata": {
        "colab": {
          "base_uri": "https://localhost:8080/"
        },
        "id": "IAHypRIW8UZi",
        "outputId": "e63bd5fc-eb9c-4a42-b881-dfb4f7703f50"
      },
      "execution_count": 3,
      "outputs": [
        {
          "output_type": "execute_result",
          "data": {
            "text/plain": [
              "array([[ 4.58036260e+00, -8.14637575e-01,  1.51770944e+00, ...,\n",
              "        -2.09397137e+00,  1.99947956e+00,  1.45769489e-01],\n",
              "       [-3.14818122e+00, -2.80732113e-01, -3.16472780e+00, ...,\n",
              "         2.89570891e+00,  3.50553290e+00, -2.77751117e-01],\n",
              "       [-1.16832829e-01,  2.04911815e-02, -3.99775936e+00, ...,\n",
              "         2.17081958e+00, -1.66849691e+00, -9.70695927e-01],\n",
              "       ...,\n",
              "       [ 1.05485845e+00,  1.41421141e+00,  1.32905545e+00, ...,\n",
              "        -1.07431880e+00, -4.65195250e-03, -9.03638518e-03],\n",
              "       [ 5.85318213e+00,  5.98541429e-01, -4.22631246e+00, ...,\n",
              "         2.82453269e+00, -1.61452003e+00, -3.18912068e-01],\n",
              "       [-4.14033808e+00, -2.89774422e+00,  3.31688673e+00, ...,\n",
              "        -2.69980885e+00, -3.01404513e+00, -9.25002437e-01]])"
            ]
          },
          "metadata": {},
          "execution_count": 3
        }
      ]
    },
    {
      "cell_type": "code",
      "source": [
        "Y"
      ],
      "metadata": {
        "colab": {
          "base_uri": "https://localhost:8080/"
        },
        "id": "tjHzkPAb8IWR",
        "outputId": "4718e2b2-ac86-4ee0-9abe-aeab128f8ae2"
      },
      "execution_count": 4,
      "outputs": [
        {
          "output_type": "execute_result",
          "data": {
            "text/plain": [
              "array([0, 0, 1, ..., 0, 0, 1])"
            ]
          },
          "metadata": {},
          "execution_count": 4
        }
      ]
    },
    {
      "cell_type": "code",
      "source": [
        "#Perform Train Test Split\n",
        "from sklearn.model_selection import train_test_split\n",
        "xtrain, xtest, ytrain, ytest = train_test_split(X,Y, test_size=0.2, random_state=42)"
      ],
      "metadata": {
        "id": "D5uhISXs9JTA"
      },
      "execution_count": 5,
      "outputs": []
    },
    {
      "cell_type": "code",
      "source": [
        "xtrain.shape"
      ],
      "metadata": {
        "colab": {
          "base_uri": "https://localhost:8080/"
        },
        "id": "K43CNiKI9NKC",
        "outputId": "0dc116a0-502e-4e2f-bad2-db18e7f0e48a"
      },
      "execution_count": 6,
      "outputs": [
        {
          "output_type": "execute_result",
          "data": {
            "text/plain": [
              "(4000, 25)"
            ]
          },
          "metadata": {},
          "execution_count": 6
        }
      ]
    },
    {
      "cell_type": "code",
      "source": [
        "ytrain.shape"
      ],
      "metadata": {
        "colab": {
          "base_uri": "https://localhost:8080/"
        },
        "id": "2t6gj9oG9QLr",
        "outputId": "0506fd0e-c3fd-4736-9b96-3690336199d8"
      },
      "execution_count": 7,
      "outputs": [
        {
          "output_type": "execute_result",
          "data": {
            "text/plain": [
              "(4000,)"
            ]
          },
          "metadata": {},
          "execution_count": 7
        }
      ]
    },
    {
      "cell_type": "code",
      "source": [
        "#Scaling the train and test data\n",
        "from sklearn.preprocessing import StandardScaler\n",
        "scaler =  StandardScaler()\n",
        "xtrain = scaler.fit_transform(xtrain)\n",
        "xtest = scaler.transform(xtest)"
      ],
      "metadata": {
        "id": "pgcAUg_N9RtK"
      },
      "execution_count": 8,
      "outputs": []
    },
    {
      "cell_type": "code",
      "source": [
        "#Converting y data to categorical\n",
        "from keras.utils import to_categorical\n",
        "ytrain_cat = to_categorical(ytrain)\n",
        "ytest_cat = to_categorical(ytest)\n",
        "ytrain_cat\n"
      ],
      "metadata": {
        "colab": {
          "base_uri": "https://localhost:8080/"
        },
        "id": "htbCSo7V9Urw",
        "outputId": "134de604-d1ee-4d73-b998-5bf0280c774a"
      },
      "execution_count": 9,
      "outputs": [
        {
          "output_type": "execute_result",
          "data": {
            "text/plain": [
              "array([[0., 0., 1.],\n",
              "       [0., 1., 0.],\n",
              "       [0., 0., 1.],\n",
              "       ...,\n",
              "       [0., 1., 0.],\n",
              "       [0., 1., 0.],\n",
              "       [1., 0., 0.]], dtype=float32)"
            ]
          },
          "metadata": {},
          "execution_count": 9
        }
      ]
    },
    {
      "cell_type": "code",
      "source": [
        "ytest_cat"
      ],
      "metadata": {
        "colab": {
          "base_uri": "https://localhost:8080/"
        },
        "id": "hwMF6T8P9Xtn",
        "outputId": "73fd072c-a7b0-488a-d8f7-cc0344350965"
      },
      "execution_count": 10,
      "outputs": [
        {
          "output_type": "execute_result",
          "data": {
            "text/plain": [
              "array([[1., 0., 0.],\n",
              "       [0., 1., 0.],\n",
              "       [0., 1., 0.],\n",
              "       ...,\n",
              "       [0., 1., 0.],\n",
              "       [1., 0., 0.],\n",
              "       [1., 0., 0.]], dtype=float32)"
            ]
          },
          "metadata": {},
          "execution_count": 10
        }
      ]
    },
    {
      "cell_type": "code",
      "source": [
        "#Creating Model1 without dropout\n",
        "from keras.models import Sequential\n",
        "from keras.layers import Dense, Dropout\n",
        "# Initialize the model\n",
        "model1 = Sequential()\n",
        "\n",
        "# Dense Layer 1\n",
        "model1.add(Dense(64, activation='relu',input_dim = xtrain.shape[1]))\n",
        "\n",
        "# Dense Layer 2\n",
        "model1.add(Dense(32,activation='relu'))\n",
        "\n",
        "# Output Layer\n",
        "model1.add(Dense(3,activation='softmax'))\n",
        "\n",
        "# Summary\n",
        "model1.summary()"
      ],
      "metadata": {
        "colab": {
          "base_uri": "https://localhost:8080/"
        },
        "id": "zvJwdz_B9ZvF",
        "outputId": "0c0ae734-254f-4ebb-ba5f-0c8bb8d63adc"
      },
      "execution_count": 11,
      "outputs": [
        {
          "output_type": "stream",
          "name": "stdout",
          "text": [
            "Model: \"sequential\"\n",
            "_________________________________________________________________\n",
            " Layer (type)                Output Shape              Param #   \n",
            "=================================================================\n",
            " dense (Dense)               (None, 64)                1664      \n",
            "                                                                 \n",
            " dense_1 (Dense)             (None, 32)                2080      \n",
            "                                                                 \n",
            " dense_2 (Dense)             (None, 3)                 99        \n",
            "                                                                 \n",
            "=================================================================\n",
            "Total params: 3,843\n",
            "Trainable params: 3,843\n",
            "Non-trainable params: 0\n",
            "_________________________________________________________________\n"
          ]
        }
      ]
    },
    {
      "cell_type": "code",
      "source": [
        "model1.compile(optimizer='adam',loss='categorical_crossentropy',metrics=['accuracy'])\n",
        "hist1 = model1.fit(xtrain, ytrain_cat, epochs=100, validation_split=0.2)"
      ],
      "metadata": {
        "colab": {
          "base_uri": "https://localhost:8080/"
        },
        "id": "cyXw6Tmo9hln",
        "outputId": "1e510539-36f5-415e-e997-d5c68bf7a79d"
      },
      "execution_count": 12,
      "outputs": [
        {
          "output_type": "stream",
          "name": "stdout",
          "text": [
            "Epoch 1/100\n",
            "100/100 [==============================] - 4s 14ms/step - loss: 0.9197 - accuracy: 0.5903 - val_loss: 0.7689 - val_accuracy: 0.7075\n",
            "Epoch 2/100\n",
            "100/100 [==============================] - 1s 9ms/step - loss: 0.6663 - accuracy: 0.7312 - val_loss: 0.6132 - val_accuracy: 0.7650\n",
            "Epoch 3/100\n",
            "100/100 [==============================] - 1s 8ms/step - loss: 0.5278 - accuracy: 0.7981 - val_loss: 0.5191 - val_accuracy: 0.8025\n",
            "Epoch 4/100\n",
            "100/100 [==============================] - 1s 11ms/step - loss: 0.4323 - accuracy: 0.8384 - val_loss: 0.4500 - val_accuracy: 0.8275\n",
            "Epoch 5/100\n",
            "100/100 [==============================] - 1s 9ms/step - loss: 0.3603 - accuracy: 0.8687 - val_loss: 0.3922 - val_accuracy: 0.8462\n",
            "Epoch 6/100\n",
            "100/100 [==============================] - 1s 8ms/step - loss: 0.3072 - accuracy: 0.8919 - val_loss: 0.3583 - val_accuracy: 0.8575\n",
            "Epoch 7/100\n",
            "100/100 [==============================] - 0s 5ms/step - loss: 0.2680 - accuracy: 0.9059 - val_loss: 0.3077 - val_accuracy: 0.8763\n",
            "Epoch 8/100\n",
            "100/100 [==============================] - 1s 7ms/step - loss: 0.2357 - accuracy: 0.9194 - val_loss: 0.2989 - val_accuracy: 0.8850\n",
            "Epoch 9/100\n",
            "100/100 [==============================] - 0s 5ms/step - loss: 0.2125 - accuracy: 0.9294 - val_loss: 0.2753 - val_accuracy: 0.8963\n",
            "Epoch 10/100\n",
            "100/100 [==============================] - 1s 6ms/step - loss: 0.1936 - accuracy: 0.9369 - val_loss: 0.2666 - val_accuracy: 0.8938\n",
            "Epoch 11/100\n",
            "100/100 [==============================] - 1s 6ms/step - loss: 0.1760 - accuracy: 0.9419 - val_loss: 0.2547 - val_accuracy: 0.9100\n",
            "Epoch 12/100\n",
            "100/100 [==============================] - 1s 6ms/step - loss: 0.1622 - accuracy: 0.9494 - val_loss: 0.2801 - val_accuracy: 0.8975\n",
            "Epoch 13/100\n",
            "100/100 [==============================] - 1s 5ms/step - loss: 0.1517 - accuracy: 0.9534 - val_loss: 0.2443 - val_accuracy: 0.9137\n",
            "Epoch 14/100\n",
            "100/100 [==============================] - 1s 5ms/step - loss: 0.1378 - accuracy: 0.9572 - val_loss: 0.2514 - val_accuracy: 0.9100\n",
            "Epoch 15/100\n",
            "100/100 [==============================] - 0s 5ms/step - loss: 0.1309 - accuracy: 0.9619 - val_loss: 0.2556 - val_accuracy: 0.9137\n",
            "Epoch 16/100\n",
            "100/100 [==============================] - 1s 7ms/step - loss: 0.1222 - accuracy: 0.9653 - val_loss: 0.2475 - val_accuracy: 0.9062\n",
            "Epoch 17/100\n",
            "100/100 [==============================] - 1s 10ms/step - loss: 0.1145 - accuracy: 0.9666 - val_loss: 0.2472 - val_accuracy: 0.9087\n",
            "Epoch 18/100\n",
            "100/100 [==============================] - 1s 9ms/step - loss: 0.1053 - accuracy: 0.9741 - val_loss: 0.2478 - val_accuracy: 0.9162\n",
            "Epoch 19/100\n",
            "100/100 [==============================] - 1s 9ms/step - loss: 0.1006 - accuracy: 0.9716 - val_loss: 0.2615 - val_accuracy: 0.9087\n",
            "Epoch 20/100\n",
            "100/100 [==============================] - 1s 9ms/step - loss: 0.0931 - accuracy: 0.9769 - val_loss: 0.2647 - val_accuracy: 0.9087\n",
            "Epoch 21/100\n",
            "100/100 [==============================] - 1s 10ms/step - loss: 0.0880 - accuracy: 0.9797 - val_loss: 0.2598 - val_accuracy: 0.9087\n",
            "Epoch 22/100\n",
            "100/100 [==============================] - 1s 9ms/step - loss: 0.0822 - accuracy: 0.9812 - val_loss: 0.2818 - val_accuracy: 0.9112\n",
            "Epoch 23/100\n",
            "100/100 [==============================] - 1s 6ms/step - loss: 0.0775 - accuracy: 0.9831 - val_loss: 0.2713 - val_accuracy: 0.9100\n",
            "Epoch 24/100\n",
            "100/100 [==============================] - 1s 7ms/step - loss: 0.0730 - accuracy: 0.9825 - val_loss: 0.2883 - val_accuracy: 0.9050\n",
            "Epoch 25/100\n",
            "100/100 [==============================] - 1s 8ms/step - loss: 0.0691 - accuracy: 0.9831 - val_loss: 0.2847 - val_accuracy: 0.9013\n",
            "Epoch 26/100\n",
            "100/100 [==============================] - 1s 6ms/step - loss: 0.0656 - accuracy: 0.9853 - val_loss: 0.2939 - val_accuracy: 0.9050\n",
            "Epoch 27/100\n",
            "100/100 [==============================] - 1s 7ms/step - loss: 0.0578 - accuracy: 0.9891 - val_loss: 0.2968 - val_accuracy: 0.9075\n",
            "Epoch 28/100\n",
            "100/100 [==============================] - 1s 6ms/step - loss: 0.0554 - accuracy: 0.9878 - val_loss: 0.2923 - val_accuracy: 0.9025\n",
            "Epoch 29/100\n",
            "100/100 [==============================] - 0s 2ms/step - loss: 0.0525 - accuracy: 0.9909 - val_loss: 0.3066 - val_accuracy: 0.9087\n",
            "Epoch 30/100\n",
            "100/100 [==============================] - 0s 3ms/step - loss: 0.0474 - accuracy: 0.9919 - val_loss: 0.2986 - val_accuracy: 0.9087\n",
            "Epoch 31/100\n",
            "100/100 [==============================] - 0s 3ms/step - loss: 0.0453 - accuracy: 0.9928 - val_loss: 0.3139 - val_accuracy: 0.9075\n",
            "Epoch 32/100\n",
            "100/100 [==============================] - 0s 3ms/step - loss: 0.0407 - accuracy: 0.9947 - val_loss: 0.3245 - val_accuracy: 0.8975\n",
            "Epoch 33/100\n",
            "100/100 [==============================] - 0s 3ms/step - loss: 0.0394 - accuracy: 0.9944 - val_loss: 0.3364 - val_accuracy: 0.9025\n",
            "Epoch 34/100\n",
            "100/100 [==============================] - 0s 3ms/step - loss: 0.0358 - accuracy: 0.9956 - val_loss: 0.3270 - val_accuracy: 0.8975\n",
            "Epoch 35/100\n",
            "100/100 [==============================] - 0s 3ms/step - loss: 0.0332 - accuracy: 0.9959 - val_loss: 0.3400 - val_accuracy: 0.9025\n",
            "Epoch 36/100\n",
            "100/100 [==============================] - 0s 3ms/step - loss: 0.0301 - accuracy: 0.9966 - val_loss: 0.3546 - val_accuracy: 0.9025\n",
            "Epoch 37/100\n",
            "100/100 [==============================] - 0s 3ms/step - loss: 0.0295 - accuracy: 0.9950 - val_loss: 0.3485 - val_accuracy: 0.8975\n",
            "Epoch 38/100\n",
            "100/100 [==============================] - 0s 3ms/step - loss: 0.0254 - accuracy: 0.9978 - val_loss: 0.3557 - val_accuracy: 0.9062\n",
            "Epoch 39/100\n",
            "100/100 [==============================] - 0s 3ms/step - loss: 0.0249 - accuracy: 0.9975 - val_loss: 0.3686 - val_accuracy: 0.9062\n",
            "Epoch 40/100\n",
            "100/100 [==============================] - 0s 3ms/step - loss: 0.0222 - accuracy: 0.9981 - val_loss: 0.3578 - val_accuracy: 0.9062\n",
            "Epoch 41/100\n",
            "100/100 [==============================] - 0s 3ms/step - loss: 0.0208 - accuracy: 0.9984 - val_loss: 0.3651 - val_accuracy: 0.9050\n",
            "Epoch 42/100\n",
            "100/100 [==============================] - 0s 3ms/step - loss: 0.0187 - accuracy: 0.9978 - val_loss: 0.3739 - val_accuracy: 0.9013\n",
            "Epoch 43/100\n",
            "100/100 [==============================] - 0s 3ms/step - loss: 0.0167 - accuracy: 0.9987 - val_loss: 0.3672 - val_accuracy: 0.9050\n",
            "Epoch 44/100\n",
            "100/100 [==============================] - 0s 3ms/step - loss: 0.0162 - accuracy: 0.9991 - val_loss: 0.3829 - val_accuracy: 0.9000\n",
            "Epoch 45/100\n",
            "100/100 [==============================] - 0s 3ms/step - loss: 0.0147 - accuracy: 0.9994 - val_loss: 0.3844 - val_accuracy: 0.8988\n",
            "Epoch 46/100\n",
            "100/100 [==============================] - 0s 3ms/step - loss: 0.0142 - accuracy: 0.9994 - val_loss: 0.3930 - val_accuracy: 0.9013\n",
            "Epoch 47/100\n",
            "100/100 [==============================] - 0s 3ms/step - loss: 0.0125 - accuracy: 0.9994 - val_loss: 0.4040 - val_accuracy: 0.9050\n",
            "Epoch 48/100\n",
            "100/100 [==============================] - 0s 3ms/step - loss: 0.0116 - accuracy: 0.9997 - val_loss: 0.4197 - val_accuracy: 0.9013\n",
            "Epoch 49/100\n",
            "100/100 [==============================] - 0s 4ms/step - loss: 0.0107 - accuracy: 0.9991 - val_loss: 0.3990 - val_accuracy: 0.9025\n",
            "Epoch 50/100\n",
            "100/100 [==============================] - 0s 4ms/step - loss: 0.0093 - accuracy: 0.9994 - val_loss: 0.4240 - val_accuracy: 0.9062\n",
            "Epoch 51/100\n",
            "100/100 [==============================] - 0s 4ms/step - loss: 0.0087 - accuracy: 0.9997 - val_loss: 0.4231 - val_accuracy: 0.9038\n",
            "Epoch 52/100\n",
            "100/100 [==============================] - 0s 4ms/step - loss: 0.0085 - accuracy: 0.9997 - val_loss: 0.4315 - val_accuracy: 0.9062\n",
            "Epoch 53/100\n",
            "100/100 [==============================] - 0s 4ms/step - loss: 0.0079 - accuracy: 0.9997 - val_loss: 0.4398 - val_accuracy: 0.9025\n",
            "Epoch 54/100\n",
            "100/100 [==============================] - 0s 4ms/step - loss: 0.0069 - accuracy: 0.9997 - val_loss: 0.4385 - val_accuracy: 0.9050\n",
            "Epoch 55/100\n",
            "100/100 [==============================] - 0s 4ms/step - loss: 0.0064 - accuracy: 0.9997 - val_loss: 0.4520 - val_accuracy: 0.9025\n",
            "Epoch 56/100\n",
            "100/100 [==============================] - 0s 4ms/step - loss: 0.0055 - accuracy: 1.0000 - val_loss: 0.4645 - val_accuracy: 0.8988\n",
            "Epoch 57/100\n",
            "100/100 [==============================] - 0s 4ms/step - loss: 0.0055 - accuracy: 1.0000 - val_loss: 0.4649 - val_accuracy: 0.9038\n",
            "Epoch 58/100\n",
            "100/100 [==============================] - 0s 3ms/step - loss: 0.0051 - accuracy: 1.0000 - val_loss: 0.4669 - val_accuracy: 0.9013\n",
            "Epoch 59/100\n",
            "100/100 [==============================] - 0s 4ms/step - loss: 0.0048 - accuracy: 1.0000 - val_loss: 0.4782 - val_accuracy: 0.9075\n",
            "Epoch 60/100\n",
            "100/100 [==============================] - 0s 3ms/step - loss: 0.0045 - accuracy: 1.0000 - val_loss: 0.4935 - val_accuracy: 0.9062\n",
            "Epoch 61/100\n",
            "100/100 [==============================] - 0s 3ms/step - loss: 0.0047 - accuracy: 0.9997 - val_loss: 0.4910 - val_accuracy: 0.9000\n",
            "Epoch 62/100\n",
            "100/100 [==============================] - 0s 3ms/step - loss: 0.0040 - accuracy: 1.0000 - val_loss: 0.4962 - val_accuracy: 0.9050\n",
            "Epoch 63/100\n",
            "100/100 [==============================] - 0s 3ms/step - loss: 0.0036 - accuracy: 1.0000 - val_loss: 0.5088 - val_accuracy: 0.9013\n",
            "Epoch 64/100\n",
            "100/100 [==============================] - 0s 3ms/step - loss: 0.0032 - accuracy: 1.0000 - val_loss: 0.5060 - val_accuracy: 0.9038\n",
            "Epoch 65/100\n",
            "100/100 [==============================] - 0s 3ms/step - loss: 0.0029 - accuracy: 1.0000 - val_loss: 0.5193 - val_accuracy: 0.9013\n",
            "Epoch 66/100\n",
            "100/100 [==============================] - 0s 3ms/step - loss: 0.0026 - accuracy: 1.0000 - val_loss: 0.5276 - val_accuracy: 0.9000\n",
            "Epoch 67/100\n",
            "100/100 [==============================] - 0s 3ms/step - loss: 0.0024 - accuracy: 1.0000 - val_loss: 0.5321 - val_accuracy: 0.8988\n",
            "Epoch 68/100\n",
            "100/100 [==============================] - 0s 3ms/step - loss: 0.0024 - accuracy: 1.0000 - val_loss: 0.5315 - val_accuracy: 0.9000\n",
            "Epoch 69/100\n",
            "100/100 [==============================] - 0s 3ms/step - loss: 0.0021 - accuracy: 1.0000 - val_loss: 0.5463 - val_accuracy: 0.8975\n",
            "Epoch 70/100\n",
            "100/100 [==============================] - 0s 3ms/step - loss: 0.0020 - accuracy: 1.0000 - val_loss: 0.5499 - val_accuracy: 0.9038\n",
            "Epoch 71/100\n",
            "100/100 [==============================] - 0s 3ms/step - loss: 0.0018 - accuracy: 1.0000 - val_loss: 0.5512 - val_accuracy: 0.8988\n",
            "Epoch 72/100\n",
            "100/100 [==============================] - 0s 3ms/step - loss: 0.0017 - accuracy: 1.0000 - val_loss: 0.5568 - val_accuracy: 0.9000\n",
            "Epoch 73/100\n",
            "100/100 [==============================] - 0s 3ms/step - loss: 0.0016 - accuracy: 1.0000 - val_loss: 0.5566 - val_accuracy: 0.9038\n",
            "Epoch 74/100\n",
            "100/100 [==============================] - 0s 3ms/step - loss: 0.0014 - accuracy: 1.0000 - val_loss: 0.5644 - val_accuracy: 0.8988\n",
            "Epoch 75/100\n",
            "100/100 [==============================] - 0s 3ms/step - loss: 0.0013 - accuracy: 1.0000 - val_loss: 0.5731 - val_accuracy: 0.9050\n",
            "Epoch 76/100\n",
            "100/100 [==============================] - 0s 3ms/step - loss: 0.0013 - accuracy: 1.0000 - val_loss: 0.5820 - val_accuracy: 0.9000\n",
            "Epoch 77/100\n",
            "100/100 [==============================] - 0s 3ms/step - loss: 0.0012 - accuracy: 1.0000 - val_loss: 0.5819 - val_accuracy: 0.9025\n",
            "Epoch 78/100\n",
            "100/100 [==============================] - 0s 3ms/step - loss: 0.0011 - accuracy: 1.0000 - val_loss: 0.5916 - val_accuracy: 0.9000\n",
            "Epoch 79/100\n",
            "100/100 [==============================] - 0s 3ms/step - loss: 0.0010 - accuracy: 1.0000 - val_loss: 0.5866 - val_accuracy: 0.9013\n",
            "Epoch 80/100\n",
            "100/100 [==============================] - 0s 3ms/step - loss: 9.9816e-04 - accuracy: 1.0000 - val_loss: 0.6083 - val_accuracy: 0.8963\n",
            "Epoch 81/100\n",
            "100/100 [==============================] - 0s 3ms/step - loss: 9.4046e-04 - accuracy: 1.0000 - val_loss: 0.6028 - val_accuracy: 0.9025\n",
            "Epoch 82/100\n",
            "100/100 [==============================] - 1s 6ms/step - loss: 8.4454e-04 - accuracy: 1.0000 - val_loss: 0.6167 - val_accuracy: 0.9013\n",
            "Epoch 83/100\n",
            "100/100 [==============================] - 0s 3ms/step - loss: 8.0813e-04 - accuracy: 1.0000 - val_loss: 0.6133 - val_accuracy: 0.8988\n",
            "Epoch 84/100\n",
            "100/100 [==============================] - 0s 2ms/step - loss: 7.6938e-04 - accuracy: 1.0000 - val_loss: 0.6221 - val_accuracy: 0.9013\n",
            "Epoch 85/100\n",
            "100/100 [==============================] - 0s 3ms/step - loss: 7.1834e-04 - accuracy: 1.0000 - val_loss: 0.6373 - val_accuracy: 0.8950\n",
            "Epoch 86/100\n",
            "100/100 [==============================] - 0s 3ms/step - loss: 6.8356e-04 - accuracy: 1.0000 - val_loss: 0.6378 - val_accuracy: 0.9000\n",
            "Epoch 87/100\n",
            "100/100 [==============================] - 0s 3ms/step - loss: 6.4414e-04 - accuracy: 1.0000 - val_loss: 0.6429 - val_accuracy: 0.8988\n",
            "Epoch 88/100\n",
            "100/100 [==============================] - 0s 3ms/step - loss: 5.7520e-04 - accuracy: 1.0000 - val_loss: 0.6545 - val_accuracy: 0.8988\n",
            "Epoch 89/100\n",
            "100/100 [==============================] - 0s 3ms/step - loss: 6.1272e-04 - accuracy: 1.0000 - val_loss: 0.6386 - val_accuracy: 0.9050\n",
            "Epoch 90/100\n",
            "100/100 [==============================] - 0s 3ms/step - loss: 5.2462e-04 - accuracy: 1.0000 - val_loss: 0.6570 - val_accuracy: 0.8988\n",
            "Epoch 91/100\n",
            "100/100 [==============================] - 0s 3ms/step - loss: 4.7822e-04 - accuracy: 1.0000 - val_loss: 0.6634 - val_accuracy: 0.9000\n",
            "Epoch 92/100\n",
            "100/100 [==============================] - 0s 3ms/step - loss: 4.5126e-04 - accuracy: 1.0000 - val_loss: 0.6623 - val_accuracy: 0.9013\n",
            "Epoch 93/100\n",
            "100/100 [==============================] - 0s 4ms/step - loss: 4.1477e-04 - accuracy: 1.0000 - val_loss: 0.6701 - val_accuracy: 0.9038\n",
            "Epoch 94/100\n",
            "100/100 [==============================] - 0s 4ms/step - loss: 3.9113e-04 - accuracy: 1.0000 - val_loss: 0.6707 - val_accuracy: 0.8975\n",
            "Epoch 95/100\n",
            "100/100 [==============================] - 0s 4ms/step - loss: 3.7009e-04 - accuracy: 1.0000 - val_loss: 0.6852 - val_accuracy: 0.8975\n",
            "Epoch 96/100\n",
            "100/100 [==============================] - 0s 4ms/step - loss: 3.3539e-04 - accuracy: 1.0000 - val_loss: 0.6796 - val_accuracy: 0.9000\n",
            "Epoch 97/100\n",
            "100/100 [==============================] - 0s 3ms/step - loss: 3.2822e-04 - accuracy: 1.0000 - val_loss: 0.6824 - val_accuracy: 0.8988\n",
            "Epoch 98/100\n",
            "100/100 [==============================] - 0s 4ms/step - loss: 3.0489e-04 - accuracy: 1.0000 - val_loss: 0.6871 - val_accuracy: 0.9025\n",
            "Epoch 99/100\n",
            "100/100 [==============================] - 0s 4ms/step - loss: 2.8663e-04 - accuracy: 1.0000 - val_loss: 0.7050 - val_accuracy: 0.9038\n",
            "Epoch 100/100\n",
            "100/100 [==============================] - 0s 4ms/step - loss: 2.7696e-04 - accuracy: 1.0000 - val_loss: 0.7164 - val_accuracy: 0.9000\n"
          ]
        }
      ]
    },
    {
      "cell_type": "code",
      "source": [
        "#Plot the learning curve\n",
        "import matplotlib.pyplot as plt\n",
        "def plot_learning_curve(hist):\n",
        "    plt.figure(figsize=(16,8))\n",
        "    plt.plot(hist.history['loss'],label='Training Loss')\n",
        "    plt.plot(hist.history['val_loss'],label='Validation Loss')\n",
        "    plt.xlabel('Epochs')\n",
        "    plt.ylabel('Categorical Crossentropy Loss')\n",
        "    plt.title('Learning Curve')\n",
        "    plt.legend()\n",
        "    plt.show()\n",
        "plot_learning_curve(hist1)"
      ],
      "metadata": {
        "colab": {
          "base_uri": "https://localhost:8080/",
          "height": 718
        },
        "id": "AmucrBsL-E8B",
        "outputId": "39b25df2-a7bf-4b36-b5a6-bfe53d2040db"
      },
      "execution_count": 13,
      "outputs": [
        {
          "output_type": "display_data",
          "data": {
            "text/plain": [
              "<Figure size 1600x800 with 1 Axes>"
            ],
            "image/png": "[encoded data removed]"
          },
          "metadata": {}
        }
      ]
    },
    {
      "cell_type": "code",
      "source": [
        "#Evaluate the model\n",
        "# Training Evaluate\n",
        "tr_err1, tr_acc1 = model1.evaluate(xtrain, ytrain_cat)"
      ],
      "metadata": {
        "colab": {
          "base_uri": "https://localhost:8080/"
        },
        "id": "SyWSIzE_-Ol-",
        "outputId": "361c61a7-1244-49a4-81c9-5ccaf2940709"
      },
      "execution_count": 15,
      "outputs": [
        {
          "output_type": "stream",
          "name": "stdout",
          "text": [
            "125/125 [==============================] - 0s 3ms/step - loss: 0.1435 - accuracy: 0.9800\n"
          ]
        }
      ]
    },
    {
      "cell_type": "code",
      "source": [
        "# Testing evaluation\n",
        "ts_err1, ts_acc1 = model1.evaluate(xtest, ytest_cat)\n"
      ],
      "metadata": {
        "colab": {
          "base_uri": "https://localhost:8080/"
        },
        "id": "yTTuLy2E_XJs",
        "outputId": "c949d838-6700-4841-f84e-cf570bedaa41"
      },
      "execution_count": 16,
      "outputs": [
        {
          "output_type": "stream",
          "name": "stdout",
          "text": [
            "32/32 [==============================] - 0s 2ms/step - loss: 0.5091 - accuracy: 0.9260\n"
          ]
        }
      ]
    },
    {
      "cell_type": "code",
      "source": [
        "# Model 2 With Dropout Layer\n",
        "# Model 2 Initialize\n",
        "model2 = Sequential()\n",
        "\n",
        "# Dense Layer 1\n",
        "model2.add(Dense(64, activation='relu', input_dim=xtrain.shape[1]))\n",
        "\n",
        "# Dropout Layer 1\n",
        "model2.add(Dropout(0.3))\n",
        "\n",
        "# Dense Layer 2\n",
        "model2.add(Dense(32, activation='relu'))\n",
        "\n",
        "# Dropout Layer 2\n",
        "model2.add(Dropout(0.3))\n",
        "\n",
        "# Output Layer\n",
        "model2.add(Dense(3, activation='softmax'))\n",
        "model2.summary()"
      ],
      "metadata": {
        "colab": {
          "base_uri": "https://localhost:8080/"
        },
        "id": "QG_TpR3Q-OgM",
        "outputId": "74669912-d8b4-41c5-aad8-c94a2788e653"
      },
      "execution_count": 17,
      "outputs": [
        {
          "output_type": "stream",
          "name": "stdout",
          "text": [
            "Model: \"sequential_1\"\n",
            "_________________________________________________________________\n",
            " Layer (type)                Output Shape              Param #   \n",
            "=================================================================\n",
            " dense_3 (Dense)             (None, 64)                1664      \n",
            "                                                                 \n",
            " dropout (Dropout)           (None, 64)                0         \n",
            "                                                                 \n",
            " dense_4 (Dense)             (None, 32)                2080      \n",
            "                                                                 \n",
            " dropout_1 (Dropout)         (None, 32)                0         \n",
            "                                                                 \n",
            " dense_5 (Dense)             (None, 3)                 99        \n",
            "                                                                 \n",
            "=================================================================\n",
            "Total params: 3,843\n",
            "Trainable params: 3,843\n",
            "Non-trainable params: 0\n",
            "_________________________________________________________________\n"
          ]
        }
      ]
    },
    {
      "cell_type": "code",
      "source": [
        "model2.compile(optimizer='adam', loss='binary_crossentropy', metrics=['accuracy'])\n",
        "hist2 = model2.fit(xtrain, ytrain_cat, validation_split=0.2, epochs=100)"
      ],
      "metadata": {
        "colab": {
          "base_uri": "https://localhost:8080/"
        },
        "id": "sQJZxiQl-OdE",
        "outputId": "bad52b6b-8c45-4528-e030-c546f6a86393"
      },
      "execution_count": 18,
      "outputs": [
        {
          "output_type": "stream",
          "name": "stdout",
          "text": [
            "Epoch 1/100\n",
            "100/100 [==============================] - 2s 5ms/step - loss: 0.6400 - accuracy: 0.4450 - val_loss: 0.5517 - val_accuracy: 0.6162\n",
            "Epoch 2/100\n",
            "100/100 [==============================] - 0s 3ms/step - loss: 0.5585 - accuracy: 0.5656 - val_loss: 0.4854 - val_accuracy: 0.6963\n",
            "Epoch 3/100\n",
            "100/100 [==============================] - 0s 3ms/step - loss: 0.5054 - accuracy: 0.6319 - val_loss: 0.4375 - val_accuracy: 0.7287\n",
            "Epoch 4/100\n",
            "100/100 [==============================] - 0s 3ms/step - loss: 0.4613 - accuracy: 0.6719 - val_loss: 0.4006 - val_accuracy: 0.7625\n",
            "Epoch 5/100\n",
            "100/100 [==============================] - 0s 3ms/step - loss: 0.4208 - accuracy: 0.7072 - val_loss: 0.3658 - val_accuracy: 0.7862\n",
            "Epoch 6/100\n",
            "100/100 [==============================] - 0s 3ms/step - loss: 0.3951 - accuracy: 0.7375 - val_loss: 0.3407 - val_accuracy: 0.7950\n",
            "Epoch 7/100\n",
            "100/100 [==============================] - 0s 3ms/step - loss: 0.3713 - accuracy: 0.7644 - val_loss: 0.3174 - val_accuracy: 0.8112\n",
            "Epoch 8/100\n",
            "100/100 [==============================] - 0s 3ms/step - loss: 0.3568 - accuracy: 0.7650 - val_loss: 0.2971 - val_accuracy: 0.8288\n",
            "Epoch 9/100\n",
            "100/100 [==============================] - 0s 3ms/step - loss: 0.3413 - accuracy: 0.7862 - val_loss: 0.2770 - val_accuracy: 0.8375\n",
            "Epoch 10/100\n",
            "100/100 [==============================] - 0s 3ms/step - loss: 0.3126 - accuracy: 0.8019 - val_loss: 0.2647 - val_accuracy: 0.8413\n",
            "Epoch 11/100\n",
            "100/100 [==============================] - 0s 3ms/step - loss: 0.3007 - accuracy: 0.8156 - val_loss: 0.2482 - val_accuracy: 0.8475\n",
            "Epoch 12/100\n",
            "100/100 [==============================] - 0s 3ms/step - loss: 0.2909 - accuracy: 0.8159 - val_loss: 0.2383 - val_accuracy: 0.8550\n",
            "Epoch 13/100\n",
            "100/100 [==============================] - 0s 3ms/step - loss: 0.2839 - accuracy: 0.8247 - val_loss: 0.2236 - val_accuracy: 0.8625\n",
            "Epoch 14/100\n",
            "100/100 [==============================] - 0s 3ms/step - loss: 0.2702 - accuracy: 0.8363 - val_loss: 0.2144 - val_accuracy: 0.8763\n",
            "Epoch 15/100\n",
            "100/100 [==============================] - 0s 3ms/step - loss: 0.2540 - accuracy: 0.8459 - val_loss: 0.2030 - val_accuracy: 0.8850\n",
            "Epoch 16/100\n",
            "100/100 [==============================] - 0s 3ms/step - loss: 0.2451 - accuracy: 0.8503 - val_loss: 0.1937 - val_accuracy: 0.8900\n",
            "Epoch 17/100\n",
            "100/100 [==============================] - 0s 3ms/step - loss: 0.2420 - accuracy: 0.8525 - val_loss: 0.1864 - val_accuracy: 0.8988\n",
            "Epoch 18/100\n",
            "100/100 [==============================] - 0s 3ms/step - loss: 0.2243 - accuracy: 0.8681 - val_loss: 0.1778 - val_accuracy: 0.9062\n",
            "Epoch 19/100\n",
            "100/100 [==============================] - 0s 3ms/step - loss: 0.2120 - accuracy: 0.8797 - val_loss: 0.1686 - val_accuracy: 0.9050\n",
            "Epoch 20/100\n",
            "100/100 [==============================] - 0s 3ms/step - loss: 0.2162 - accuracy: 0.8709 - val_loss: 0.1682 - val_accuracy: 0.9062\n",
            "Epoch 21/100\n",
            "100/100 [==============================] - 0s 3ms/step - loss: 0.2071 - accuracy: 0.8838 - val_loss: 0.1604 - val_accuracy: 0.9137\n",
            "Epoch 22/100\n",
            "100/100 [==============================] - 0s 4ms/step - loss: 0.2077 - accuracy: 0.8816 - val_loss: 0.1608 - val_accuracy: 0.9100\n",
            "Epoch 23/100\n",
            "100/100 [==============================] - 0s 4ms/step - loss: 0.1990 - accuracy: 0.8916 - val_loss: 0.1563 - val_accuracy: 0.9187\n",
            "Epoch 24/100\n",
            "100/100 [==============================] - 0s 4ms/step - loss: 0.1973 - accuracy: 0.8834 - val_loss: 0.1526 - val_accuracy: 0.9212\n",
            "Epoch 25/100\n",
            "100/100 [==============================] - 0s 4ms/step - loss: 0.1930 - accuracy: 0.8891 - val_loss: 0.1481 - val_accuracy: 0.9287\n",
            "Epoch 26/100\n",
            "100/100 [==============================] - 0s 4ms/step - loss: 0.1767 - accuracy: 0.9013 - val_loss: 0.1483 - val_accuracy: 0.9225\n",
            "Epoch 27/100\n",
            "100/100 [==============================] - 0s 4ms/step - loss: 0.1753 - accuracy: 0.9019 - val_loss: 0.1468 - val_accuracy: 0.9200\n",
            "Epoch 28/100\n",
            "100/100 [==============================] - 0s 5ms/step - loss: 0.1746 - accuracy: 0.9047 - val_loss: 0.1435 - val_accuracy: 0.9275\n",
            "Epoch 29/100\n",
            "100/100 [==============================] - 0s 4ms/step - loss: 0.1718 - accuracy: 0.8997 - val_loss: 0.1475 - val_accuracy: 0.9212\n",
            "Epoch 30/100\n",
            "100/100 [==============================] - 0s 4ms/step - loss: 0.1726 - accuracy: 0.9038 - val_loss: 0.1438 - val_accuracy: 0.9337\n",
            "Epoch 31/100\n",
            "100/100 [==============================] - 0s 4ms/step - loss: 0.1717 - accuracy: 0.9106 - val_loss: 0.1427 - val_accuracy: 0.9287\n",
            "Epoch 32/100\n",
            "100/100 [==============================] - 0s 4ms/step - loss: 0.1643 - accuracy: 0.9106 - val_loss: 0.1387 - val_accuracy: 0.9337\n",
            "Epoch 33/100\n",
            "100/100 [==============================] - 0s 3ms/step - loss: 0.1580 - accuracy: 0.9119 - val_loss: 0.1365 - val_accuracy: 0.9350\n",
            "Epoch 34/100\n",
            "100/100 [==============================] - 0s 3ms/step - loss: 0.1535 - accuracy: 0.9144 - val_loss: 0.1339 - val_accuracy: 0.9337\n",
            "Epoch 35/100\n",
            "100/100 [==============================] - 0s 3ms/step - loss: 0.1544 - accuracy: 0.9203 - val_loss: 0.1359 - val_accuracy: 0.9300\n",
            "Epoch 36/100\n",
            "100/100 [==============================] - 0s 3ms/step - loss: 0.1583 - accuracy: 0.9159 - val_loss: 0.1355 - val_accuracy: 0.9300\n",
            "Epoch 37/100\n",
            "100/100 [==============================] - 0s 3ms/step - loss: 0.1609 - accuracy: 0.9172 - val_loss: 0.1409 - val_accuracy: 0.9262\n",
            "Epoch 38/100\n",
            "100/100 [==============================] - 0s 3ms/step - loss: 0.1503 - accuracy: 0.9144 - val_loss: 0.1340 - val_accuracy: 0.9300\n",
            "Epoch 39/100\n",
            "100/100 [==============================] - 0s 3ms/step - loss: 0.1536 - accuracy: 0.9197 - val_loss: 0.1329 - val_accuracy: 0.9262\n",
            "Epoch 40/100\n",
            "100/100 [==============================] - 0s 3ms/step - loss: 0.1508 - accuracy: 0.9159 - val_loss: 0.1335 - val_accuracy: 0.9337\n",
            "Epoch 41/100\n",
            "100/100 [==============================] - 0s 3ms/step - loss: 0.1448 - accuracy: 0.9247 - val_loss: 0.1320 - val_accuracy: 0.9287\n",
            "Epoch 42/100\n",
            "100/100 [==============================] - 0s 3ms/step - loss: 0.1478 - accuracy: 0.9250 - val_loss: 0.1358 - val_accuracy: 0.9237\n",
            "Epoch 43/100\n",
            "100/100 [==============================] - 0s 3ms/step - loss: 0.1439 - accuracy: 0.9231 - val_loss: 0.1358 - val_accuracy: 0.9262\n",
            "Epoch 44/100\n",
            "100/100 [==============================] - 0s 3ms/step - loss: 0.1403 - accuracy: 0.9300 - val_loss: 0.1380 - val_accuracy: 0.9237\n",
            "Epoch 45/100\n",
            "100/100 [==============================] - 0s 3ms/step - loss: 0.1417 - accuracy: 0.9266 - val_loss: 0.1358 - val_accuracy: 0.9287\n",
            "Epoch 46/100\n",
            "100/100 [==============================] - 0s 3ms/step - loss: 0.1448 - accuracy: 0.9219 - val_loss: 0.1314 - val_accuracy: 0.9300\n",
            "Epoch 47/100\n",
            "100/100 [==============================] - 0s 3ms/step - loss: 0.1345 - accuracy: 0.9322 - val_loss: 0.1316 - val_accuracy: 0.9287\n",
            "Epoch 48/100\n",
            "100/100 [==============================] - 0s 3ms/step - loss: 0.1339 - accuracy: 0.9294 - val_loss: 0.1335 - val_accuracy: 0.9250\n",
            "Epoch 49/100\n",
            "100/100 [==============================] - 0s 3ms/step - loss: 0.1304 - accuracy: 0.9316 - val_loss: 0.1331 - val_accuracy: 0.9237\n",
            "Epoch 50/100\n",
            "100/100 [==============================] - 0s 3ms/step - loss: 0.1351 - accuracy: 0.9234 - val_loss: 0.1325 - val_accuracy: 0.9225\n",
            "Epoch 51/100\n",
            "100/100 [==============================] - 0s 3ms/step - loss: 0.1268 - accuracy: 0.9353 - val_loss: 0.1348 - val_accuracy: 0.9225\n",
            "Epoch 52/100\n",
            "100/100 [==============================] - 0s 3ms/step - loss: 0.1325 - accuracy: 0.9216 - val_loss: 0.1309 - val_accuracy: 0.9275\n",
            "Epoch 53/100\n",
            "100/100 [==============================] - 0s 4ms/step - loss: 0.1329 - accuracy: 0.9306 - val_loss: 0.1325 - val_accuracy: 0.9275\n",
            "Epoch 54/100\n",
            "100/100 [==============================] - 0s 3ms/step - loss: 0.1295 - accuracy: 0.9316 - val_loss: 0.1347 - val_accuracy: 0.9275\n",
            "Epoch 55/100\n",
            "100/100 [==============================] - 0s 3ms/step - loss: 0.1321 - accuracy: 0.9294 - val_loss: 0.1308 - val_accuracy: 0.9250\n",
            "Epoch 56/100\n",
            "100/100 [==============================] - 0s 3ms/step - loss: 0.1341 - accuracy: 0.9269 - val_loss: 0.1347 - val_accuracy: 0.9200\n",
            "Epoch 57/100\n",
            "100/100 [==============================] - 0s 4ms/step - loss: 0.1292 - accuracy: 0.9312 - val_loss: 0.1401 - val_accuracy: 0.9175\n",
            "Epoch 58/100\n",
            "100/100 [==============================] - 0s 3ms/step - loss: 0.1264 - accuracy: 0.9372 - val_loss: 0.1338 - val_accuracy: 0.9250\n",
            "Epoch 59/100\n",
            "100/100 [==============================] - 0s 3ms/step - loss: 0.1215 - accuracy: 0.9325 - val_loss: 0.1341 - val_accuracy: 0.9262\n",
            "Epoch 60/100\n",
            "100/100 [==============================] - 0s 3ms/step - loss: 0.1328 - accuracy: 0.9297 - val_loss: 0.1382 - val_accuracy: 0.9275\n",
            "Epoch 61/100\n",
            "100/100 [==============================] - 0s 3ms/step - loss: 0.1258 - accuracy: 0.9375 - val_loss: 0.1359 - val_accuracy: 0.9262\n",
            "Epoch 62/100\n",
            "100/100 [==============================] - 0s 3ms/step - loss: 0.1330 - accuracy: 0.9309 - val_loss: 0.1363 - val_accuracy: 0.9262\n",
            "Epoch 63/100\n",
            "100/100 [==============================] - 0s 3ms/step - loss: 0.1268 - accuracy: 0.9391 - val_loss: 0.1339 - val_accuracy: 0.9287\n",
            "Epoch 64/100\n",
            "100/100 [==============================] - 0s 4ms/step - loss: 0.1283 - accuracy: 0.9372 - val_loss: 0.1327 - val_accuracy: 0.9275\n",
            "Epoch 65/100\n",
            "100/100 [==============================] - 0s 4ms/step - loss: 0.1279 - accuracy: 0.9350 - val_loss: 0.1328 - val_accuracy: 0.9225\n",
            "Epoch 66/100\n",
            "100/100 [==============================] - 0s 4ms/step - loss: 0.1257 - accuracy: 0.9322 - val_loss: 0.1341 - val_accuracy: 0.9250\n",
            "Epoch 67/100\n",
            "100/100 [==============================] - 0s 4ms/step - loss: 0.1139 - accuracy: 0.9400 - val_loss: 0.1302 - val_accuracy: 0.9300\n",
            "Epoch 68/100\n",
            "100/100 [==============================] - 0s 4ms/step - loss: 0.1168 - accuracy: 0.9419 - val_loss: 0.1331 - val_accuracy: 0.9262\n",
            "Epoch 69/100\n",
            "100/100 [==============================] - 0s 4ms/step - loss: 0.1202 - accuracy: 0.9334 - val_loss: 0.1340 - val_accuracy: 0.9275\n",
            "Epoch 70/100\n",
            "100/100 [==============================] - 0s 5ms/step - loss: 0.1154 - accuracy: 0.9413 - val_loss: 0.1321 - val_accuracy: 0.9275\n",
            "Epoch 71/100\n",
            "100/100 [==============================] - 0s 4ms/step - loss: 0.1199 - accuracy: 0.9362 - val_loss: 0.1311 - val_accuracy: 0.9237\n",
            "Epoch 72/100\n",
            "100/100 [==============================] - 0s 4ms/step - loss: 0.1191 - accuracy: 0.9366 - val_loss: 0.1287 - val_accuracy: 0.9250\n",
            "Epoch 73/100\n",
            "100/100 [==============================] - 0s 4ms/step - loss: 0.1257 - accuracy: 0.9388 - val_loss: 0.1338 - val_accuracy: 0.9237\n",
            "Epoch 74/100\n",
            "100/100 [==============================] - 0s 4ms/step - loss: 0.1167 - accuracy: 0.9416 - val_loss: 0.1313 - val_accuracy: 0.9262\n",
            "Epoch 75/100\n",
            "100/100 [==============================] - 0s 3ms/step - loss: 0.1062 - accuracy: 0.9456 - val_loss: 0.1336 - val_accuracy: 0.9200\n",
            "Epoch 76/100\n",
            "100/100 [==============================] - 0s 3ms/step - loss: 0.1180 - accuracy: 0.9394 - val_loss: 0.1325 - val_accuracy: 0.9212\n",
            "Epoch 77/100\n",
            "100/100 [==============================] - 0s 3ms/step - loss: 0.1088 - accuracy: 0.9484 - val_loss: 0.1353 - val_accuracy: 0.9250\n",
            "Epoch 78/100\n",
            "100/100 [==============================] - 0s 3ms/step - loss: 0.1185 - accuracy: 0.9375 - val_loss: 0.1357 - val_accuracy: 0.9262\n",
            "Epoch 79/100\n",
            "100/100 [==============================] - 0s 3ms/step - loss: 0.1128 - accuracy: 0.9400 - val_loss: 0.1337 - val_accuracy: 0.9300\n",
            "Epoch 80/100\n",
            "100/100 [==============================] - 0s 3ms/step - loss: 0.1171 - accuracy: 0.9447 - val_loss: 0.1310 - val_accuracy: 0.9275\n",
            "Epoch 81/100\n",
            "100/100 [==============================] - 0s 3ms/step - loss: 0.1179 - accuracy: 0.9334 - val_loss: 0.1290 - val_accuracy: 0.9262\n",
            "Epoch 82/100\n",
            "100/100 [==============================] - 0s 3ms/step - loss: 0.1066 - accuracy: 0.9456 - val_loss: 0.1289 - val_accuracy: 0.9225\n",
            "Epoch 83/100\n",
            "100/100 [==============================] - 0s 3ms/step - loss: 0.1104 - accuracy: 0.9413 - val_loss: 0.1285 - val_accuracy: 0.9275\n",
            "Epoch 84/100\n",
            "100/100 [==============================] - 0s 3ms/step - loss: 0.1120 - accuracy: 0.9428 - val_loss: 0.1237 - val_accuracy: 0.9287\n",
            "Epoch 85/100\n",
            "100/100 [==============================] - 0s 3ms/step - loss: 0.1129 - accuracy: 0.9441 - val_loss: 0.1280 - val_accuracy: 0.9300\n",
            "Epoch 86/100\n",
            "100/100 [==============================] - 0s 3ms/step - loss: 0.0999 - accuracy: 0.9513 - val_loss: 0.1292 - val_accuracy: 0.9262\n",
            "Epoch 87/100\n",
            "100/100 [==============================] - 0s 3ms/step - loss: 0.1148 - accuracy: 0.9369 - val_loss: 0.1302 - val_accuracy: 0.9250\n",
            "Epoch 88/100\n",
            "100/100 [==============================] - 0s 3ms/step - loss: 0.1081 - accuracy: 0.9438 - val_loss: 0.1288 - val_accuracy: 0.9237\n",
            "Epoch 89/100\n",
            "100/100 [==============================] - 0s 3ms/step - loss: 0.1053 - accuracy: 0.9428 - val_loss: 0.1338 - val_accuracy: 0.9275\n",
            "Epoch 90/100\n",
            "100/100 [==============================] - 0s 3ms/step - loss: 0.1051 - accuracy: 0.9469 - val_loss: 0.1359 - val_accuracy: 0.9237\n",
            "Epoch 91/100\n",
            "100/100 [==============================] - 0s 3ms/step - loss: 0.1144 - accuracy: 0.9438 - val_loss: 0.1291 - val_accuracy: 0.9275\n",
            "Epoch 92/100\n",
            "100/100 [==============================] - 0s 3ms/step - loss: 0.1083 - accuracy: 0.9438 - val_loss: 0.1286 - val_accuracy: 0.9300\n",
            "Epoch 93/100\n",
            "100/100 [==============================] - 0s 3ms/step - loss: 0.1025 - accuracy: 0.9478 - val_loss: 0.1270 - val_accuracy: 0.9312\n",
            "Epoch 94/100\n",
            "100/100 [==============================] - 0s 3ms/step - loss: 0.1017 - accuracy: 0.9459 - val_loss: 0.1274 - val_accuracy: 0.9287\n",
            "Epoch 95/100\n",
            "100/100 [==============================] - 0s 3ms/step - loss: 0.1033 - accuracy: 0.9444 - val_loss: 0.1226 - val_accuracy: 0.9362\n",
            "Epoch 96/100\n",
            "100/100 [==============================] - 0s 3ms/step - loss: 0.1016 - accuracy: 0.9459 - val_loss: 0.1254 - val_accuracy: 0.9275\n",
            "Epoch 97/100\n",
            "100/100 [==============================] - 0s 3ms/step - loss: 0.1052 - accuracy: 0.9456 - val_loss: 0.1244 - val_accuracy: 0.9337\n",
            "Epoch 98/100\n",
            "100/100 [==============================] - 0s 3ms/step - loss: 0.1056 - accuracy: 0.9472 - val_loss: 0.1255 - val_accuracy: 0.9300\n",
            "Epoch 99/100\n",
            "100/100 [==============================] - 0s 3ms/step - loss: 0.1062 - accuracy: 0.9438 - val_loss: 0.1291 - val_accuracy: 0.9262\n",
            "Epoch 100/100\n",
            "100/100 [==============================] - 0s 3ms/step - loss: 0.1002 - accuracy: 0.9472 - val_loss: 0.1303 - val_accuracy: 0.9275\n"
          ]
        }
      ]
    },
    {
      "cell_type": "code",
      "source": [
        "#Plot learning curve2\n",
        "plot_learning_curve(hist2)"
      ],
      "metadata": {
        "colab": {
          "base_uri": "https://localhost:8080/",
          "height": 718
        },
        "id": "GSLaUJX3-OZ4",
        "outputId": "93e09382-c389-4c30-886b-78f76980e964"
      },
      "execution_count": 19,
      "outputs": [
        {
          "output_type": "display_data",
          "data": {
            "text/plain": [
              "<Figure size 1600x800 with 1 Axes>"
            ],
            "image/png": "[encoded data removed]"
          },
          "metadata": {}
        }
      ]
    },
    {
      "cell_type": "code",
      "source": [
        "#Evaluate the data after dropout\n",
        "tr_err2, tr_acc2 = model2.evaluate(xtrain, ytrain_cat)"
      ],
      "metadata": {
        "colab": {
          "base_uri": "https://localhost:8080/"
        },
        "id": "6qrwiDVK-OW9",
        "outputId": "46149b43-8761-4761-f976-e2d820c07b6c"
      },
      "execution_count": 20,
      "outputs": [
        {
          "output_type": "stream",
          "name": "stdout",
          "text": [
            "125/125 [==============================] - 0s 2ms/step - loss: 0.0619 - accuracy: 0.9728\n"
          ]
        }
      ]
    },
    {
      "cell_type": "code",
      "source": [
        "ts_err2, ts_acc2 = model2.evaluate(xtest, ytest_cat)"
      ],
      "metadata": {
        "colab": {
          "base_uri": "https://localhost:8080/"
        },
        "id": "hT_sTTqZ-OT-",
        "outputId": "4ccc603e-eaa2-4252-c515-891a83fa6ea4"
      },
      "execution_count": 21,
      "outputs": [
        {
          "output_type": "stream",
          "name": "stdout",
          "text": [
            "32/32 [==============================] - 0s 2ms/step - loss: 0.1160 - accuracy: 0.9420\n"
          ]
        }
      ]
    },
    {
      "cell_type": "code",
      "source": [
        "#Predict train and test data for best model2 with dropout\n",
        "yprob_tr = model2.predict(xtrain)\n",
        "yprob_ts = model2.predict(xtest)"
      ],
      "metadata": {
        "colab": {
          "base_uri": "https://localhost:8080/"
        },
        "id": "PLopYvto-OQ5",
        "outputId": "9a9bdca9-c943-4d44-a369-8f478f6a06b6"
      },
      "execution_count": 22,
      "outputs": [
        {
          "output_type": "stream",
          "name": "stdout",
          "text": [
            "125/125 [==============================] - 0s 1ms/step\n",
            "32/32 [==============================] - 0s 2ms/step\n"
          ]
        }
      ]
    },
    {
      "cell_type": "code",
      "source": [
        "import numpy as np\n",
        "ypred_tr = np.argmax(yprob_tr, axis=-1)\n",
        "ypred_ts = np.argmax(yprob_ts, axis=-1)"
      ],
      "metadata": {
        "id": "Ffc_2CSy-OOK"
      },
      "execution_count": 23,
      "outputs": []
    },
    {
      "cell_type": "code",
      "source": [
        "ypred_tr[0:5]"
      ],
      "metadata": {
        "colab": {
          "base_uri": "https://localhost:8080/"
        },
        "id": "GQBin5uq-OKh",
        "outputId": "40225b92-d1f4-4fe8-d484-789fc5b2e550"
      },
      "execution_count": 24,
      "outputs": [
        {
          "output_type": "execute_result",
          "data": {
            "text/plain": [
              "array([2, 1, 2, 1, 0])"
            ]
          },
          "metadata": {},
          "execution_count": 24
        }
      ]
    },
    {
      "cell_type": "code",
      "source": [
        "ytrain[0:5]"
      ],
      "metadata": {
        "colab": {
          "base_uri": "https://localhost:8080/"
        },
        "id": "BxYRoUs--OHI",
        "outputId": "9b343c8c-164e-499e-9495-87c60b57a6be"
      },
      "execution_count": 25,
      "outputs": [
        {
          "output_type": "execute_result",
          "data": {
            "text/plain": [
              "array([2, 1, 2, 1, 0])"
            ]
          },
          "metadata": {},
          "execution_count": 25
        }
      ]
    },
    {
      "cell_type": "code",
      "source": [
        "ypred_ts[0:5]"
      ],
      "metadata": {
        "colab": {
          "base_uri": "https://localhost:8080/"
        },
        "id": "L_ZyUDo3-OD8",
        "outputId": "4d138dba-8ee7-4561-8994-0788df43427e"
      },
      "execution_count": 26,
      "outputs": [
        {
          "output_type": "execute_result",
          "data": {
            "text/plain": [
              "array([1, 1, 1, 2, 0])"
            ]
          },
          "metadata": {},
          "execution_count": 26
        }
      ]
    },
    {
      "cell_type": "code",
      "source": [
        "ytest[0:5]"
      ],
      "metadata": {
        "colab": {
          "base_uri": "https://localhost:8080/"
        },
        "id": "c84IBvE0-E3l",
        "outputId": "26e65476-9279-45c9-d4dc-5d268c1ce7ef"
      },
      "execution_count": 27,
      "outputs": [
        {
          "output_type": "execute_result",
          "data": {
            "text/plain": [
              "array([0, 1, 1, 2, 0])"
            ]
          },
          "metadata": {},
          "execution_count": 27
        }
      ]
    },
    {
      "cell_type": "code",
      "source": [
        "#Confusion Matrix\n",
        "from sklearn.metrics import confusion_matrix, ConfusionMatrixDisplay\n",
        "cf = confusion_matrix(ytest, ypred_ts)\n",
        "cfd = ConfusionMatrixDisplay(cf, display_labels=[0,1,2])\n",
        "cfd.plot()"
      ],
      "metadata": {
        "colab": {
          "base_uri": "https://localhost:8080/",
          "height": 466
        },
        "id": "juwMA0Vr-E0I",
        "outputId": "cce8196a-a103-43f7-b2e1-f5abe7d2f375"
      },
      "execution_count": 28,
      "outputs": [
        {
          "output_type": "execute_result",
          "data": {
            "text/plain": [
              "<sklearn.metrics._plot.confusion_matrix.ConfusionMatrixDisplay at 0x784e0aa6f430>"
            ]
          },
          "metadata": {},
          "execution_count": 28
        },
        {
          "output_type": "display_data",
          "data": {
            "text/plain": [
              "<Figure size 640x480 with 2 Axes>"
            ],
            "image/png": "[encoded data removed]"
          },
          "metadata": {}
        }
      ]
    },
    {
      "cell_type": "code",
      "source": [
        "#Classification Report\n",
        "from sklearn.metrics import classification_report\n",
        "print(classification_report(ytest, ypred_ts))"
      ],
      "metadata": {
        "colab": {
          "base_uri": "https://localhost:8080/"
        },
        "id": "VpcK7Wu4-Ewf",
        "outputId": "cdab4814-64d6-4124-e415-271b23c53c6e"
      },
      "execution_count": 29,
      "outputs": [
        {
          "output_type": "stream",
          "name": "stdout",
          "text": [
            "              precision    recall  f1-score   support\n",
            "\n",
            "           0       0.92      0.95      0.93       331\n",
            "           1       0.96      0.93      0.95       351\n",
            "           2       0.95      0.95      0.95       318\n",
            "\n",
            "    accuracy                           0.94      1000\n",
            "   macro avg       0.94      0.94      0.94      1000\n",
            "weighted avg       0.94      0.94      0.94      1000\n",
            "\n"
          ]
        }
      ]
    },
    {
      "cell_type": "code",
      "source": [
        "#Compare Model with Dropout and without Dropout\n",
        "dct = {'Model':['Simple ANN', 'Dropout ANN'],\n",
        "       'train_loss':[tr_err1, tr_err2],\n",
        "       'test_loss':[ts_err1, ts_err2],\n",
        "       'train_accuracy':[tr_acc1, tr_acc2],\n",
        "       'test_accuracy':[ts_acc1, ts_acc2]}"
      ],
      "metadata": {
        "id": "vWfj4tc4-EsX"
      },
      "execution_count": 30,
      "outputs": []
    },
    {
      "cell_type": "code",
      "source": [
        "import pandas as pd\n",
        "eval_df = pd.DataFrame(dct)\n",
        "eval_df"
      ],
      "metadata": {
        "colab": {
          "base_uri": "https://localhost:8080/",
          "height": 112
        },
        "id": "ZqpMoymz-EnD",
        "outputId": "c2be0d40-38a3-4798-8567-84645b2099b3"
      },
      "execution_count": 31,
      "outputs": [
        {
          "output_type": "execute_result",
          "data": {
            "text/plain": [
              "         Model  train_loss  test_loss  train_accuracy  test_accuracy\n",
              "0   Simple ANN    0.143477   0.509083         0.98000          0.926\n",
              "1  Dropout ANN    0.061851   0.116011         0.97275          0.942"
            ],
            "text/html": [
              "\n",
              "  <div id=\"df-75d2ea46-6461-4429-bff4-c3a46cbb413c\" class=\"colab-df-container\">\n",
              "    <div>\n",
              "<style scoped>\n",
              "    .dataframe tbody tr th:only-of-type {\n",
              "        vertical-align: middle;\n",
              "    }\n",
              "\n",
              "    .dataframe tbody tr th {\n",
              "        vertical-align: top;\n",
              "    }\n",
              "\n",
              "    .dataframe thead th {\n",
              "        text-align: right;\n",
              "    }\n",
              "</style>\n",
              "<table border=\"1\" class=\"dataframe\">\n",
              "  <thead>\n",
              "    <tr style=\"text-align: right;\">\n",
              "      <th></th>\n",
              "      <th>Model</th>\n",
              "      <th>train_loss</th>\n",
              "      <th>test_loss</th>\n",
              "      <th>train_accuracy</th>\n",
              "      <th>test_accuracy</th>\n",
              "    </tr>\n",
              "  </thead>\n",
              "  <tbody>\n",
              "    <tr>\n",
              "      <th>0</th>\n",
              "      <td>Simple ANN</td>\n",
              "      <td>0.143477</td>\n",
              "      <td>0.509083</td>\n",
              "      <td>0.98000</td>\n",
              "      <td>0.926</td>\n",
              "    </tr>\n",
              "    <tr>\n",
              "      <th>1</th>\n",
              "      <td>Dropout ANN</td>\n",
              "      <td>0.061851</td>\n",
              "      <td>0.116011</td>\n",
              "      <td>0.97275</td>\n",
              "      <td>0.942</td>\n",
              "    </tr>\n",
              "  </tbody>\n",
              "</table>\n",
              "</div>\n",
              "    <div class=\"colab-df-buttons\">\n",
              "\n",
              "  <div class=\"colab-df-container\">\n",
              "    <button class=\"colab-df-convert\" onclick=\"convertToInteractive('df-75d2ea46-6461-4429-bff4-c3a46cbb413c')\"\n",
              "            title=\"Convert this dataframe to an interactive table.\"\n",
              "            style=\"display:none;\">\n",
              "\n",
              "  <svg xmlns=\"http://www.w3.org/2000/svg\" height=\"24px\" viewBox=\"0 -960 960 960\">\n",
              "    <path d=\"M120-120v-720h720v720H120Zm60-500h600v-160H180v160Zm220 220h160v-160H400v160Zm0 220h160v-160H400v160ZM180-400h160v-160H180v160Zm440 0h160v-160H620v160ZM180-180h160v-160H180v160Zm440 0h160v-160H620v160Z\"/>\n",
              "  </svg>\n",
              "    </button>\n",
              "\n",
              "  <style>\n",
              "    .colab-df-container {\n",
              "      display:flex;\n",
              "      gap: 12px;\n",
              "    }\n",
              "\n",
              "    .colab-df-convert {\n",
              "      background-color: #E8F0FE;\n",
              "      border: none;\n",
              "      border-radius: 50%;\n",
              "      cursor: pointer;\n",
              "      display: none;\n",
              "      fill: #1967D2;\n",
              "      height: 32px;\n",
              "      padding: 0 0 0 0;\n",
              "      width: 32px;\n",
              "    }\n",
              "\n",
              "    .colab-df-convert:hover {\n",
              "      background-color: #E2EBFA;\n",
              "      box-shadow: 0px 1px 2px rgba(60, 64, 67, 0.3), 0px 1px 3px 1px rgba(60, 64, 67, 0.15);\n",
              "      fill: #174EA6;\n",
              "    }\n",
              "\n",
              "    .colab-df-buttons div {\n",
              "      margin-bottom: 4px;\n",
              "    }\n",
              "\n",
              "    [theme=dark] .colab-df-convert {\n",
              "      background-color: #3B4455;\n",
              "      fill: #D2E3FC;\n",
              "    }\n",
              "\n",
              "    [theme=dark] .colab-df-convert:hover {\n",
              "      background-color: #434B5C;\n",
              "      box-shadow: 0px 1px 3px 1px rgba(0, 0, 0, 0.15);\n",
              "      filter: drop-shadow(0px 1px 2px rgba(0, 0, 0, 0.3));\n",
              "      fill: #FFFFFF;\n",
              "    }\n",
              "  </style>\n",
              "\n",
              "    <script>\n",
              "      const buttonEl =\n",
              "        document.querySelector('#df-75d2ea46-6461-4429-bff4-c3a46cbb413c button.colab-df-convert');\n",
              "      buttonEl.style.display =\n",
              "        google.colab.kernel.accessAllowed ? 'block' : 'none';\n",
              "\n",
              "      async function convertToInteractive(key) {\n",
              "        const element = document.querySelector('#df-75d2ea46-6461-4429-bff4-c3a46cbb413c');\n",
              "        const dataTable =\n",
              "          await google.colab.kernel.invokeFunction('convertToInteractive',\n",
              "                                                    [key], {});\n",
              "        if (!dataTable) return;\n",
              "\n",
              "        const docLinkHtml = 'Like what you see? Visit the ' +\n",
              "          '<a target=\"_blank\" href=https://colab.research.google.com/notebooks/data_table.ipynb>data table notebook</a>'\n",
              "          + ' to learn more about interactive tables.';\n",
              "        element.innerHTML = '';\n",
              "        dataTable['output_type'] = 'display_data';\n",
              "        await google.colab.output.renderOutput(dataTable, element);\n",
              "        const docLink = document.createElement('div');\n",
              "        docLink.innerHTML = docLinkHtml;\n",
              "        element.appendChild(docLink);\n",
              "      }\n",
              "    </script>\n",
              "  </div>\n",
              "\n",
              "\n",
              "<div id=\"df-f6dcfea8-0550-44f9-a1f7-2020bec495e4\">\n",
              "  <button class=\"colab-df-quickchart\" onclick=\"quickchart('df-f6dcfea8-0550-44f9-a1f7-2020bec495e4')\"\n",
              "            title=\"Suggest charts\"\n",
              "            style=\"display:none;\">\n",
              "\n",
              "<svg xmlns=\"http://www.w3.org/2000/svg\" height=\"24px\"viewBox=\"0 0 24 24\"\n",
              "     width=\"24px\">\n",
              "    <g>\n",
              "        <path d=\"M19 3H5c-1.1 0-2 .9-2 2v14c0 1.1.9 2 2 2h14c1.1 0 2-.9 2-2V5c0-1.1-.9-2-2-2zM9 17H7v-7h2v7zm4 0h-2V7h2v10zm4 0h-2v-4h2v4z\"/>\n",
              "    </g>\n",
              "</svg>\n",
              "  </button>\n",
              "\n",
              "<style>\n",
              "  .colab-df-quickchart {\n",
              "      --bg-color: #E8F0FE;\n",
              "      --fill-color: #1967D2;\n",
              "      --hover-bg-color: #E2EBFA;\n",
              "      --hover-fill-color: #174EA6;\n",
              "      --disabled-fill-color: #AAA;\n",
              "      --disabled-bg-color: #DDD;\n",
              "  }\n",
              "\n",
              "  [theme=dark] .colab-df-quickchart {\n",
              "      --bg-color: #3B4455;\n",
              "      --fill-color: #D2E3FC;\n",
              "      --hover-bg-color: #434B5C;\n",
              "      --hover-fill-color: #FFFFFF;\n",
              "      --disabled-bg-color: #3B4455;\n",
              "      --disabled-fill-color: #666;\n",
              "  }\n",
              "\n",
              "  .colab-df-quickchart {\n",
              "    background-color: var(--bg-color);\n",
              "    border: none;\n",
              "    border-radius: 50%;\n",
              "    cursor: pointer;\n",
              "    display: none;\n",
              "    fill: var(--fill-color);\n",
              "    height: 32px;\n",
              "    padding: 0;\n",
              "    width: 32px;\n",
              "  }\n",
              "\n",
              "  .colab-df-quickchart:hover {\n",
              "    background-color: var(--hover-bg-color);\n",
              "    box-shadow: 0 1px 2px rgba(60, 64, 67, 0.3), 0 1px 3px 1px rgba(60, 64, 67, 0.15);\n",
              "    fill: var(--button-hover-fill-color);\n",
              "  }\n",
              "\n",
              "  .colab-df-quickchart-complete:disabled,\n",
              "  .colab-df-quickchart-complete:disabled:hover {\n",
              "    background-color: var(--disabled-bg-color);\n",
              "    fill: var(--disabled-fill-color);\n",
              "    box-shadow: none;\n",
              "  }\n",
              "\n",
              "  .colab-df-spinner {\n",
              "    border: 2px solid var(--fill-color);\n",
              "    border-color: transparent;\n",
              "    border-bottom-color: var(--fill-color);\n",
              "    animation:\n",
              "      spin 1s steps(1) infinite;\n",
              "  }\n",
              "\n",
              "  @keyframes spin {\n",
              "    0% {\n",
              "      border-color: transparent;\n",
              "      border-bottom-color: var(--fill-color);\n",
              "      border-left-color: var(--fill-color);\n",
              "    }\n",
              "    20% {\n",
              "      border-color: transparent;\n",
              "      border-left-color: var(--fill-color);\n",
              "      border-top-color: var(--fill-color);\n",
              "    }\n",
              "    30% {\n",
              "      border-color: transparent;\n",
              "      border-left-color: var(--fill-color);\n",
              "      border-top-color: var(--fill-color);\n",
              "      border-right-color: var(--fill-color);\n",
              "    }\n",
              "    40% {\n",
              "      border-color: transparent;\n",
              "      border-right-color: var(--fill-color);\n",
              "      border-top-color: var(--fill-color);\n",
              "    }\n",
              "    60% {\n",
              "      border-color: transparent;\n",
              "      border-right-color: var(--fill-color);\n",
              "    }\n",
              "    80% {\n",
              "      border-color: transparent;\n",
              "      border-right-color: var(--fill-color);\n",
              "      border-bottom-color: var(--fill-color);\n",
              "    }\n",
              "    90% {\n",
              "      border-color: transparent;\n",
              "      border-bottom-color: var(--fill-color);\n",
              "    }\n",
              "  }\n",
              "</style>\n",
              "\n",
              "  <script>\n",
              "    async function quickchart(key) {\n",
              "      const quickchartButtonEl =\n",
              "        document.querySelector('#' + key + ' button');\n",
              "      quickchartButtonEl.disabled = true;  // To prevent multiple clicks.\n",
              "      quickchartButtonEl.classList.add('colab-df-spinner');\n",
              "      try {\n",
              "        const charts = await google.colab.kernel.invokeFunction(\n",
              "            'suggestCharts', [key], {});\n",
              "      } catch (error) {\n",
              "        console.error('Error during call to suggestCharts:', error);\n",
              "      }\n",
              "      quickchartButtonEl.classList.remove('colab-df-spinner');\n",
              "      quickchartButtonEl.classList.add('colab-df-quickchart-complete');\n",
              "    }\n",
              "    (() => {\n",
              "      let quickchartButtonEl =\n",
              "        document.querySelector('#df-f6dcfea8-0550-44f9-a1f7-2020bec495e4 button');\n",
              "      quickchartButtonEl.style.display =\n",
              "        google.colab.kernel.accessAllowed ? 'block' : 'none';\n",
              "    })();\n",
              "  </script>\n",
              "</div>\n",
              "    </div>\n",
              "  </div>\n"
            ]
          },
          "metadata": {},
          "execution_count": 31
        }
      ]
    },
    {
      "cell_type": "markdown",
      "source": [
        "These Results shows that Dropout Layer helps in Regularization."
      ],
      "metadata": {
        "id": "XtAiYiYf98Ud"
      }
    },
    {
      "cell_type": "markdown",
      "source": [
        "Q9. Discuss the considerations and tradeoffs when choosing the appropriate regularization technique for a given deep learning task."
      ],
      "metadata": {
        "id": "eLyzntoF_pW5"
      }
    },
    {
      "cell_type": "markdown",
      "source": [
        "Choosing the appropriate regularization technique for a deep learning task involves careful consideration of various factors and tradeoffs. Here are key considerations and tradeoffs to keep in mind:\n",
        "\n",
        "1. **Type of Regularization:**\n",
        "   - **L1 vs. L2 vs. Elastic Net:** Consider the characteristics of your data and problem. L1 regularization induces sparsity, making it suitable for feature selection. L2 regularization is effective for preventing large weights. Elastic Net combines both L1 and L2 regularization, offering a balance between the two.\n",
        "\n",
        "   - **Dropout vs. Batch Normalization:** Dropout introduces randomness by deactivating neurons during training, acting as a form of regularization. Batch Normalization normalizes input distributions, aiding convergence. The choice between them often depends on the specific characteristics of the task and the model architecture.\n",
        "\n",
        "2. **Model Architecture:**\n",
        "   - **Shallow vs. Deep Networks:** Deeper networks are more prone to overfitting due to increased capacity. Regularization becomes crucial in such cases. Consider using techniques like dropout, batch normalization, or weight regularization for deep architectures.\n",
        "\n",
        "   - **Recurrent Neural Networks (RNNs) vs. Convolutional Neural Networks (CNNs):** Different architectures may have different sensitivities to regularization techniques. For example, dropout is often used in RNNs, while weight decay may be more common in CNNs.\n",
        "\n",
        "3. **Data Size and Complexity:**\n",
        "   - **Small vs. Large Datasets:** In situations with limited data, regularization becomes more critical. Strong regularization may be necessary to prevent overfitting. In contrast, with large datasets, models may have enough data to generalize well without heavy regularization.\n",
        "\n",
        "   - **Data Imbalance:** Consider the class distribution in classification tasks. If classes are imbalanced, regularization techniques may need adjustment to prevent the model from favoring the majority class.\n",
        "\n",
        "4. **Computational Resources:**\n",
        "   - **Training Time:** Some regularization techniques, like dropout, may increase training time due to the need for more epochs. Consider the available computational resources and time constraints.\n",
        "\n",
        "5. **Interpretability:**\n",
        "   - **Interpretability Requirements:** Some regularization techniques may make models more complex and less interpretable. If interpretability is crucial, consider techniques that have a lesser impact on the interpretability of the model.\n",
        "\n",
        "6. **Hyperparameter Tuning:**\n",
        "   - **Tuning Parameters:** Regularization techniques often come with hyperparameters (e.g., dropout rates, regularization strengths). Consider the need for hyperparameter tuning to find the optimal configuration.\n",
        "\n",
        "7. **Domain Knowledge:**\n",
        "   - **Task-specific Knowledge:** Consider domain-specific knowledge. For instance, understanding the significance of certain features might guide the choice between L1 and L2 regularization.\n",
        "\n",
        "8. **Ensemble Methods:**\n",
        "   - **Ensemble Techniques:** Combining multiple models with different regularization techniques can be beneficial. Ensemble methods can help mitigate the limitations of individual regularization approaches.\n",
        "\n",
        "In summary, the choice of regularization technique should be guided by a careful analysis of the dataset, model architecture, and task requirements. Experimentation and validation on a separate dataset or through cross-validation are crucial for assessing the impact of regularization techniques on the model's generalization performance. Regularization is not one-size-fits-all, and thoughtful consideration of these factors is essential for achieving the best results."
      ],
      "metadata": {
        "id": "X3CYkHiN_peu"
      }
    },
    {
      "cell_type": "code",
      "source": [],
      "metadata": {
        "id": "qYkF9Md0_ssS"
      },
      "execution_count": null,
      "outputs": []
    }
  ]
}