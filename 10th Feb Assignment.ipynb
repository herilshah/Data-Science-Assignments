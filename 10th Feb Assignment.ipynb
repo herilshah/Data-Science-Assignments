{
 "cells": [
  {
   "cell_type": "markdown",
   "id": "8e5ecd6f-45b3-425e-8228-08b2a3ddfda5",
   "metadata": {},
   "source": [
    "Q1. Which function is used to open a file? What are the different modes of opening a file? Explain each mode\n",
    "of file opening."
   ]
  },
  {
   "cell_type": "markdown",
   "id": "3653bd97-d927-4882-be9e-0aff3fba14f6",
   "metadata": {},
   "source": [
    "The open() function is used to open a file in Python. The different modes of opening a file are:\n",
    "\n",
    "'r': Read mode, which is used to read the contents of an existing file.\n",
    "'w': Write mode, which is used to write to a file. If the file does not exist, it will create a new file. If the file already exists, its contents will be overwritten.\n",
    "'a': Append mode, which is used to append data to an existing file. If the file does not exist, it will create a new file.\n",
    "'x': Exclusive creation mode, which is used to create a new file but raise an error if the file already exists.\n",
    "'b': Binary mode, which is used to open a binary file for reading or writing.\n",
    "'t': Text mode, which is used to open a text file for reading or writing."
   ]
  },
  {
   "cell_type": "markdown",
   "id": "fc9cfdae-c16e-448f-a167-e918b920ae66",
   "metadata": {},
   "source": [
    "Q2. Why close() function is used? Why is it important to close a file?"
   ]
  },
  {
   "cell_type": "markdown",
   "id": "5966fc51-7379-480f-8c48-7769b272b44d",
   "metadata": {},
   "source": [
    "The close() function is used to close a file in Python. It is important to close a file after you are done with it because it releases the resources used by the file and prevents any further access to it. Not closing a file can lead to corruption or loss of data."
   ]
  },
  {
   "cell_type": "markdown",
   "id": "c5da6d22-8021-40be-a602-d83ac524129a",
   "metadata": {},
   "source": [
    "Q3. Write a python program to create a text file. Write ‘I want to become a Data Scientist’ in that file. Then\n",
    "close the file. Open this file and read the content of the file."
   ]
  },
  {
   "cell_type": "code",
   "execution_count": 2,
   "id": "d95fde69-2685-4319-b0f3-9339b90fb2bd",
   "metadata": {},
   "outputs": [
    {
     "name": "stdout",
     "output_type": "stream",
     "text": [
      "I want to become a Data Scientist\n"
     ]
    }
   ],
   "source": [
    "# Create a text file and write to it\n",
    "with open(\"textfile.txt\", \"w\") as file:\n",
    "    file.write(\"I want to become a Data Scientist\")\n",
    "\n",
    "# Read the contents of the file\n",
    "with open(\"textfile.txt\", \"r\") as file:\n",
    "    t = file.read()\n",
    "    print(t)"
   ]
  },
  {
   "cell_type": "markdown",
   "id": "73a6c5f5-e175-4357-b297-2412a22395a3",
   "metadata": {},
   "source": [
    "Q4. Explain the following with python code: read(), readline() and readlines()."
   ]
  },
  {
   "cell_type": "code",
   "execution_count": null,
   "id": "29a201aa-067d-4e33-a77f-c04fdfea325f",
   "metadata": {},
   "outputs": [],
   "source": [
    "\n",
    "\n",
    "     #read(): The read() method reads the entire contents of a file and returns them as a single string\n",
    "     with open(\"textfile.txt\", \"r\") as file:\n",
    "            content = file.read()\n",
    "            print(content)\n",
    "            \n",
    "    # readline(): The readline() method reads a single line of the file at a time and returns it as a string.\n",
    "     with open(\"textfile.txt\", \"r\") as file:\n",
    "            line = file.readline()\n",
    "            while line:\n",
    "                print(line)\n",
    "                line = file.readline()\n",
    "         \n",
    "     #readlines(): The readlines() method reads the entire contents of a file and returns them as a list of strings,\n",
    "     where each string is a line of the file. Here's an example:\n",
    "        with open(\"textfile.txt\", \"r\") as file:\n",
    "            lines = file.readlines()\n",
    "        for line in lines:\n",
    "            print(line)"
   ]
  },
  {
   "cell_type": "markdown",
   "id": "d2d2838a-aaed-4fe2-aca9-fbb4f72e80b3",
   "metadata": {},
   "source": [
    "Q5. Explain why with statement is used with open(). What is the advantage of using with statement and\n",
    "open() together?"
   ]
  },
  {
   "cell_type": "markdown",
   "id": "c848904f-1154-43b3-bc5b-88d190225d52",
   "metadata": {},
   "source": [
    "The with statement is used with the open() function to create a context in which the file will be used. The advantage of using the with statement with the open() function is that it automatically takes care of closing the file after it has been used, even if an exception occurs during the execution of the code within the with block. This helps to ensure that resources are properly managed and that the file is closed even if the code encounters an error.\n",
    "\n",
    "When a file is opened using the with statement and the open() function, the file is guaranteed to be closed when the with block is exited, even if an exception is raised. This eliminates the need to manually close the file and helps to avoid resource leaks.\n"
   ]
  },
  {
   "cell_type": "markdown",
   "id": "acc5b11e-c1c7-43e1-9cbe-f0d6dddc4757",
   "metadata": {},
   "source": [
    "Q6. Explain the write() and writelines() functions. Give a suitable example."
   ]
  },
  {
   "cell_type": "markdown",
   "id": "95a76e09-b2cc-4227-8c76-b13f1192ab13",
   "metadata": {},
   "source": [
    "The write() and writelines() functions are used to write content to a file.\n",
    "\n",
    "The write() function takes a string as an argument and writes it to the file, while the writelines() function takes a list of strings and writes each element of the list as a separate line to the file."
   ]
  },
  {
   "cell_type": "code",
   "execution_count": 7,
   "id": "929d9a1a-059a-49db-a9da-8d94e2139d12",
   "metadata": {},
   "outputs": [],
   "source": [
    "# Using write() function\n",
    "with open('file.txt', 'w') as f:\n",
    "    f.write('I want to become a Data Scientist\\n')\n",
    "\n",
    "# Using writelines() function\n",
    "with open('file.txt', 'w') as f:\n",
    "    lines = ['I want to become a Data Scientist', 'Data Science is my passion']\n",
    "    f.writelines(lines)\n"
   ]
  },
  {
   "cell_type": "markdown",
   "id": "3911319a-4839-4caf-a689-2a7b127ddb7f",
   "metadata": {},
   "source": [
    "In the first example, the write() function is used to write a single line of text to the file file.txt. In the second example, the writelines() function is used to write multiple lines of text to the file file.txt. The lines are stored in the list lines and passed as an argument to the writelines() function. The contents of the file can be read using the read() or readlines() functions."
   ]
  },
  {
   "cell_type": "code",
   "execution_count": null,
   "id": "def1bb08-7d45-4ad7-934e-d6bcfd18c6e6",
   "metadata": {},
   "outputs": [],
   "source": []
  },
  {
   "cell_type": "code",
   "execution_count": null,
   "id": "9aeff2e6-d81f-40f2-b76a-ee87e6165e13",
   "metadata": {},
   "outputs": [],
   "source": []
  },
  {
   "cell_type": "code",
   "execution_count": null,
   "id": "1955e521-3ccf-46c1-87cc-fb90afe2b7da",
   "metadata": {},
   "outputs": [],
   "source": []
  }
 ],
 "metadata": {
  "kernelspec": {
   "display_name": "Python 3 (ipykernel)",
   "language": "python",
   "name": "python3"
  },
  "language_info": {
   "codemirror_mode": {
    "name": "ipython",
    "version": 3
   },
   "file_extension": ".py",
   "mimetype": "text/x-python",
   "name": "python",
   "nbconvert_exporter": "python",
   "pygments_lexer": "ipython3",
   "version": "3.10.8"
  }
 },
 "nbformat": 4,
 "nbformat_minor": 5
}
