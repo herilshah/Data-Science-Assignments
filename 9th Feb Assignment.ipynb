{
 "cells": [
  {
   "cell_type": "markdown",
   "id": "a20435f9-f3c4-44fb-a8e1-1d6c0ef68657",
   "metadata": {},
   "source": [
    "Q1, Create a vehicle class with an init method having instance variables as name_of_vehicle, max_speed\n",
    "and average_of_vehicle."
   ]
  },
  {
   "cell_type": "code",
   "execution_count": 7,
   "id": "0c859c62-eef9-430a-8919-244854ec0f04",
   "metadata": {},
   "outputs": [
    {
     "name": "stdout",
     "output_type": "stream",
     "text": [
      "Car\n",
      "220\n",
      "40\n"
     ]
    }
   ],
   "source": [
    "class Vehicle:\n",
    "    def __init__(self, name_of_vehicle, max_speed, average_of_vehicle):\n",
    "        self.name_of_vehicle = name_of_vehicle\n",
    "        self.max_speed = max_speed\n",
    "        self.average_of_vehicle = average_of_vehicle\n",
    "        \n",
    "car = Vehicle(\"Car\", 220, 40)\n",
    "print(car.name_of_vehicle) \n",
    "print(car.max_speed) \n",
    "print(car.average_of_vehicle) "
   ]
  },
  {
   "cell_type": "markdown",
   "id": "738c6fc1-2945-4ffc-99e1-94850c3d264b",
   "metadata": {},
   "source": [
    "Q2. Create a child class car from the vehicle class created in Que 1, which will inherit the vehicle class.\n",
    "Create a method named seating_capacity which takes capacity as an argument and returns the name of\n",
    "the vehicle and its seating capacity."
   ]
  },
  {
   "cell_type": "code",
   "execution_count": 10,
   "id": "199190ea-449b-4cdb-8b2d-ec05cd238961",
   "metadata": {},
   "outputs": [
    {
     "name": "stdout",
     "output_type": "stream",
     "text": [
      "The My Car has a seating capacity of 4.\n"
     ]
    }
   ],
   "source": [
    "class Car(Vehicle):\n",
    "    def seating_capacity(self, capacity):\n",
    "        return f\"The {self.name_of_vehicle} has a seating capacity of {capacity}.\"\n",
    "    \n",
    "my_car = Car(\"My Car\", 150, 15)\n",
    "print(my_car.seating_capacity(4))"
   ]
  },
  {
   "cell_type": "markdown",
   "id": "b660778f-1145-4b07-895a-d5f520c42b93",
   "metadata": {},
   "source": [
    "Q3. What is multiple inheritance? Write a python code to demonstrate multiple inheritance."
   ]
  },
  {
   "cell_type": "markdown",
   "id": "034ec5e5-2cd7-493c-b15d-d5f5bf671787",
   "metadata": {},
   "source": [
    "Multiple inheritance is a feature in object-oriented programming languages that allows a class to inherit from multiple parent classes. This allows a class to inherit the properties and methods of multiple parent classes, avoiding the need to write redundant code."
   ]
  },
  {
   "cell_type": "code",
   "execution_count": 4,
   "id": "8cb0a91d-a54c-489e-bfe9-33d5bbd0b4cf",
   "metadata": {},
   "outputs": [
    {
     "name": "stdout",
     "output_type": "stream",
     "text": [
      "Parent1 method1\n",
      "Parent2 method2\n",
      "Child method3\n"
     ]
    }
   ],
   "source": [
    "class Parent1:\n",
    "    def method1(self):\n",
    "        print(\"Parent1 method1\")\n",
    "\n",
    "class Parent2:\n",
    "    def method2(self):\n",
    "        print(\"Parent2 method2\")\n",
    "\n",
    "class Child(Parent1, Parent2):\n",
    "    def method3(self):\n",
    "        print(\"Child method3\")\n",
    "\n",
    "c = Child()\n",
    "c.method1() \n",
    "c.method2() \n",
    "c.method3() \n"
   ]
  },
  {
   "cell_type": "markdown",
   "id": "31db8c56-37db-486c-9f6e-af577df1ffbc",
   "metadata": {},
   "source": [
    "Q4. What are getter and setter in python? Create a class and create a getter and a setter method in this\n",
    "class."
   ]
  },
  {
   "cell_type": "markdown",
   "id": "697c7cb9-e3ea-4a10-946c-0f1e7aaf5fd3",
   "metadata": {},
   "source": [
    "Getters and setters are methods used to get and set the values of instance variables in an object-oriented programming language. They are used to protect the internal data of an object from external modification and ensure that data is set and retrieved in a controlled manner."
   ]
  },
  {
   "cell_type": "code",
   "execution_count": 1,
   "id": "932f0448-941b-4dc3-bd71-1528b8c2ccbe",
   "metadata": {},
   "outputs": [
    {
     "name": "stdout",
     "output_type": "stream",
     "text": [
      "Heril\n",
      "Shah\n"
     ]
    }
   ],
   "source": [
    "class Person:\n",
    "    def __init__(self, name):\n",
    "        self._name = name\n",
    "    \n",
    "    def get_name(self):\n",
    "        return self._name\n",
    "    \n",
    "    def set_name(self, name):\n",
    "        self._name = name\n",
    "\n",
    "p = Person(\"Heril\")\n",
    "print(p.get_name()) \n",
    "p.set_name(\"Shah\")\n",
    "print(p.get_name())\n"
   ]
  },
  {
   "cell_type": "markdown",
   "id": "ad5720ff-9350-405b-862b-55e7c5aa89b2",
   "metadata": {},
   "source": [
    "Q5.What is method overriding in python? Write a python code to demonstrate method overriding."
   ]
  },
  {
   "cell_type": "markdown",
   "id": "2d4c5029-1276-4292-813a-d221a121857a",
   "metadata": {},
   "source": [
    "Method overriding is a feature in object-oriented programming languages that allows a subclass to provide a new implementation for a method that is already defined in its parent class. The new implementation in the subclass \"overrides\" the original implementation in the parent class."
   ]
  },
  {
   "cell_type": "code",
   "execution_count": 3,
   "id": "09376f94-cea8-491a-b9ec-061ecdd88dfb",
   "metadata": {},
   "outputs": [
    {
     "name": "stdout",
     "output_type": "stream",
     "text": [
      "Child method\n"
     ]
    }
   ],
   "source": [
    "class Parent:\n",
    "    def method(self):\n",
    "        print(\"Parent method\")\n",
    "\n",
    "class Child(Parent):\n",
    "    def method(self):\n",
    "        print(\"Child method\")\n",
    "\n",
    "c = Child()\n",
    "c.method() \n"
   ]
  },
  {
   "cell_type": "code",
   "execution_count": null,
   "id": "ea344044-d497-4e87-93a9-ade4b35bdefd",
   "metadata": {},
   "outputs": [],
   "source": []
  },
  {
   "cell_type": "code",
   "execution_count": null,
   "id": "93da7027-acf6-42f3-a000-a2423a2893f2",
   "metadata": {},
   "outputs": [],
   "source": []
  },
  {
   "cell_type": "code",
   "execution_count": null,
   "id": "869dc423-0296-43c6-b33a-524539644869",
   "metadata": {},
   "outputs": [],
   "source": []
  }
 ],
 "metadata": {
  "kernelspec": {
   "display_name": "Python 3 (ipykernel)",
   "language": "python",
   "name": "python3"
  },
  "language_info": {
   "codemirror_mode": {
    "name": "ipython",
    "version": 3
   },
   "file_extension": ".py",
   "mimetype": "text/x-python",
   "name": "python",
   "nbconvert_exporter": "python",
   "pygments_lexer": "ipython3",
   "version": "3.10.8"
  }
 },
 "nbformat": 4,
 "nbformat_minor": 5
}
