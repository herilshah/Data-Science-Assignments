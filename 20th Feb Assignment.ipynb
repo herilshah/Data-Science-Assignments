{
 "cells": [
  {
   "cell_type": "markdown",
   "id": "a26a7ece-42ba-4784-bb3d-e429914368c5",
   "metadata": {},
   "source": [
    "Q1. Explain GET and POST methods."
   ]
  },
  {
   "cell_type": "markdown",
   "id": "ee8dfa6c-ab1d-42d4-b1dd-9c45f0e4bc58",
   "metadata": {},
   "source": [
    "GET method sends data to the server as part of the URL query string, which is visible in the address bar of the browser. This method is typically used to retrieve data from the server, such as a web page or an image. The data sent with a GET request is limited in size, and it should not be used to send sensitive information as the data is visible to anyone who can view the URL.\n",
    "\n",
    "POST method, on the other hand, sends data to the server as part of the request body, which is not visible in the address bar. This method is used to submit data to the server, such as a login form or a message. The data sent with a POST request can be of any size, and it is more secure than GET as the data is not visible to the user."
   ]
  },
  {
   "cell_type": "markdown",
   "id": "9d1d3f38-7c0b-4e8a-ba44-7762d83840c6",
   "metadata": {},
   "source": [
    "Q2. Why is request used in Flask?"
   ]
  },
  {
   "cell_type": "markdown",
   "id": "48c0533c-5e33-4924-9187-8201ac3ed237",
   "metadata": {},
   "source": [
    "Request is used in Flask to handle HTTP requests made by the client to the server. Flask provides a request object that encapsulates the HTTP request made by the client and provides access to various attributes of the request, such as headers, cookies, form data, and files uploaded by the user.\n",
    "\n",
    "The request object is used to extract data sent by the client in the request, such as form data or query parameters, which can then be processed by the server. It is also used to handle various types of HTTP requests, such as GET, POST, PUT, DELETE, and so on."
   ]
  },
  {
   "cell_type": "markdown",
   "id": "988e3047-57b6-4809-b23a-b5b97230c117",
   "metadata": {},
   "source": [
    "Q3. Why is redirect() used in Flask?"
   ]
  },
  {
   "cell_type": "markdown",
   "id": "b8ccca21-869a-470a-aa2b-4ac99ccda7d0",
   "metadata": {},
   "source": [
    "Redirect() is used in Flask to redirect the user to a different URL. It is commonly used after processing a form submission or when a user needs to be redirected to a different page after completing an action.\n",
    "\n",
    "For example, if a user submits a login form, and the server verifies the credentials and logs the user in, the server may redirect the user to their profile page using the redirect() function."
   ]
  },
  {
   "cell_type": "markdown",
   "id": "10b40f5f-45a7-4fdb-9eaf-c9188a18779e",
   "metadata": {},
   "source": [
    "Q4. What are templates in Flask? Why is the render_template() function used?"
   ]
  },
  {
   "cell_type": "markdown",
   "id": "0ad36885-14c8-46d0-ad8e-a7942d45005f",
   "metadata": {},
   "source": [
    "Templates in Flask are files that contain HTML and other dynamic content that can be rendered by the server and sent to the client as a response to an HTTP request. Flask provides a render_template() function that allows you to render a template and pass in variables that can be used to dynamically generate the content.\n",
    "\n",
    "Templates in Flask provide a way to separate the presentation layer from the business logic of the application. This makes it easier to maintain and modify the user interface of the application without affecting the underlying code. The render_template() function allows you to generate dynamic content based on the data passed to the template, making it easy to create dynamic web pages."
   ]
  },
  {
   "cell_type": "markdown",
   "id": "76df2578-013a-454f-a7a8-4df57668d57e",
   "metadata": {},
   "source": [
    "Q5. Create a simple API. Use Postman to test it. Attach the screenshot of the output in the Jupyter Notebook."
   ]
  },
  {
   "cell_type": "code",
   "execution_count": null,
   "id": "595327a7-467d-47f7-85c4-e1b071a03922",
   "metadata": {},
   "outputs": [],
   "source": [
    "from flask import Flask, jsonify,request\n",
    "  \n",
    "app = Flask(__name__)\n",
    "  \n",
    "\n",
    "\n",
    "@app.route('/', methods = ['GET','POST'])\n",
    "def root():\n",
    "    if(request.method == 'GET'):\n",
    "  \n",
    "        data = \"Hello, World!\"\n",
    "        return f\"<h1>{data}</h1>\"\n",
    "  \n",
    "  \n",
    "\n",
    "\n",
    "@app.route('/home/<int:num>', methods = ['GET'])\n",
    "def square(num):\n",
    "  \n",
    "    return jsonify({'data': num**2})\n",
    "  \n",
    "\n",
    "if __name__ == '__main__':\n",
    "  \n",
    "    app.run()"
   ]
  },
  {
   "cell_type": "markdown",
   "id": "dec1faec-4eb0-4b64-b939-bb9fa238e9c1",
   "metadata": {},
   "source": [
    "<img src=\"Screenshot (198).png\">\n"
   ]
  },
  {
   "cell_type": "code",
   "execution_count": null,
   "id": "4e88bde9-0392-4461-bd06-52273a40483c",
   "metadata": {},
   "outputs": [],
   "source": []
  },
  {
   "cell_type": "code",
   "execution_count": null,
   "id": "268ac6a5-139f-4478-99e2-dc7bfb24d19f",
   "metadata": {},
   "outputs": [],
   "source": []
  },
  {
   "cell_type": "code",
   "execution_count": null,
   "id": "7d282f74-233d-4acb-82e8-5fb9c529f0e8",
   "metadata": {},
   "outputs": [],
   "source": []
  },
  {
   "cell_type": "code",
   "execution_count": null,
   "id": "1d024427-25a0-4573-8d73-64271b39acb3",
   "metadata": {},
   "outputs": [],
   "source": []
  },
  {
   "cell_type": "code",
   "execution_count": null,
   "id": "49fb8583-6a6e-40c0-aed4-e5e9cfddbb39",
   "metadata": {},
   "outputs": [],
   "source": []
  },
  {
   "cell_type": "code",
   "execution_count": null,
   "id": "067a8481-6f17-4beb-9e87-df4e137132d9",
   "metadata": {},
   "outputs": [],
   "source": []
  },
  {
   "cell_type": "code",
   "execution_count": null,
   "id": "56bcf64b-a607-4af0-a959-428bbce08d28",
   "metadata": {},
   "outputs": [],
   "source": []
  }
 ],
 "metadata": {
  "kernelspec": {
   "display_name": "Python 3 (ipykernel)",
   "language": "python",
   "name": "python3"
  },
  "language_info": {
   "codemirror_mode": {
    "name": "ipython",
    "version": 3
   },
   "file_extension": ".py",
   "mimetype": "text/x-python",
   "name": "python",
   "nbconvert_exporter": "python",
   "pygments_lexer": "ipython3",
   "version": "3.10.8"
  }
 },
 "nbformat": 4,
 "nbformat_minor": 5
}
