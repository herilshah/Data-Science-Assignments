{
 "cells": [
  {
   "cell_type": "markdown",
   "id": "024dcc33-3e61-4380-a168-726e2128c757",
   "metadata": {},
   "source": [
    "Q1: What are missing values in a dataset? Why is it essential to handle missing values? Name some\n",
    "algorithms that are not affected by missing values."
   ]
  },
  {
   "cell_type": "markdown",
   "id": "eaaa7be1-9ace-4edf-aeb1-9d6ce7bb2a47",
   "metadata": {},
   "source": [
    "Missing values in a dataset refer to the absence of data points in one or more features for some observations in the dataset. Missing values can occur due to various reasons such as data entry errors, sensor failures, or user omissions. Handling missing values is essential because they can lead to biased or incorrect analysis results, which can ultimately affect decision-making processes. Some algorithms that are not affected by missing values include Tree-based models like Random Forest, and Boosting algorithms like XGBoost."
   ]
  },
  {
   "cell_type": "markdown",
   "id": "07782e67-e1ec-4bcf-95e6-800516565c8e",
   "metadata": {},
   "source": [
    "Q2: List down techniques used to handle missing data. Give an example of each with python code."
   ]
  },
  {
   "cell_type": "markdown",
   "id": "7bc9d715-65d8-4a0f-b72e-4a2d32dc949d",
   "metadata": {},
   "source": [
    "Techniques used to handle missing data include:\n",
    "\n",
    "Deletion: This technique involves removing observations or features with missing values from the dataset.\n",
    "Imputation: This technique involves filling in missing values with estimated values using statistical methods. There are several methods for imputing missing values, including mean imputation, median imputation, mode imputation, and K-nearest neighbors (KNN) imputation.\n",
    "Example of deletion in Python code:"
   ]
  },
  {
   "cell_type": "code",
   "execution_count": null,
   "id": "d2484145-26fe-4176-8b26-2202bddd6913",
   "metadata": {},
   "outputs": [],
   "source": [
    "# importing pandas library\n",
    "import pandas as pd\n",
    "\n",
    "# reading the dataset\n",
    "df = pd.read_csv('data.csv')\n",
    "\n",
    "# dropping all the rows with missing values\n",
    "df = df.dropna()\n"
   ]
  },
  {
   "cell_type": "markdown",
   "id": "acf99bdc-fcf8-4c2b-992d-6e93064c043f",
   "metadata": {},
   "source": [
    "Example of imputation using mean in Python code:"
   ]
  },
  {
   "cell_type": "code",
   "execution_count": null,
   "id": "6b75388b-47cd-4087-8493-99dd12493e6e",
   "metadata": {},
   "outputs": [],
   "source": [
    "# importing pandas and numpy libraries\n",
    "import pandas as pd\n",
    "import numpy as np\n",
    "\n",
    "# reading the dataset\n",
    "df = pd.read_csv('data.csv')\n",
    "\n",
    "# imputing missing values with mean of the column\n",
    "df['col_name'] = df['col_name'].fillna(df['col_name'].mean())\n"
   ]
  },
  {
   "cell_type": "markdown",
   "id": "2c255fbb-19a1-44e4-9936-822cbd77eab0",
   "metadata": {},
   "source": [
    "Q3: Explain the imbalanced data. What will happen if imbalanced data is not handled?"
   ]
  },
  {
   "cell_type": "markdown",
   "id": "6fa0dc90-4777-468a-a66b-446a26a9e589",
   "metadata": {},
   "source": [
    "Imbalanced data refers to a situation where the number of observations in one class is significantly higher or lower than the other classes. In a binary classification problem, for example, if one class has 90% of the data points while the other has only 10%, the data is considered imbalanced. If imbalanced data is not handled, it can lead to biased or incorrect analysis results, where the model is likely to classify most of the observations in the majority class."
   ]
  },
  {
   "cell_type": "markdown",
   "id": "56921b69-faca-40b6-8da6-56928c19b6e2",
   "metadata": {},
   "source": [
    "Q4: What are Up-sampling and Down-sampling? Explain with an example when up-sampling and down-\n",
    "sampling are required."
   ]
  },
  {
   "cell_type": "markdown",
   "id": "93a420f2-1475-4e2c-87b7-288d8771c38b",
   "metadata": {},
   "source": [
    "Up-sampling and down-sampling are techniques used to balance imbalanced data. Up-sampling involves duplicating data points from the minority class to increase its representation in the dataset. Down-sampling, on the other hand, involves removing some data points from the majority class to reduce its representation in the dataset.\n",
    "\n",
    "An example where up-sampling is required is in fraud detection, where the number of fraud cases is usually much smaller than the non-fraud cases. In such a scenario, up-sampling the fraud cases can help balance the dataset and improve the model's performance.\n",
    "\n",
    "An example where down-sampling is required is in churn prediction, where the number of customers who don't churn is much larger than those who do. In such a scenario, down-sampling the non-churn cases can help balance the dataset and improve the model's performance."
   ]
  },
  {
   "cell_type": "markdown",
   "id": "fe7f668f-b4f9-4814-99e6-46ff91f8357d",
   "metadata": {},
   "source": [
    "Q5: What is data Augmentation? Explain SMOTE."
   ]
  },
  {
   "cell_type": "markdown",
   "id": "b08bee03-083c-432c-a798-7d9f8c028034",
   "metadata": {},
   "source": [
    "Data augmentation is a technique used to generate additional training data by transforming the existing data. SMOTE (Synthetic Minority Over-sampling Technique) is a data augmentation technique used for balancing imbalanced datasets. SMOTE works by generating synthetic data points for the minority class by interpolating between the existing data points. \n",
    "\n",
    "SMOTE first selects a data point from the minority class and then selects its k-nearest neighbors from the same class. SMOTE then generates a new data point by interpolating between the selected data point and one of its neighbors.\n",
    "For example, in a binary classification problem with imbalanced data, SMOTE can be used to generate synthetic data points for the minority class, thus improving the balance in the dataset and the performance of the classification model."
   ]
  },
  {
   "cell_type": "markdown",
   "id": "a2da658c-3be0-4497-9e7e-09984884b0ba",
   "metadata": {},
   "source": [
    "Q6: What are outliers in a dataset? Why is it essential to handle outliers?"
   ]
  },
  {
   "cell_type": "markdown",
   "id": "953d5083-81de-4f01-83ec-acc2ddff77d5",
   "metadata": {},
   "source": [
    "Outliers are data points that are significantly different from other data points in a dataset. They can be either extremely high or extremely low in value compared to the rest of the data. It is essential to handle outliers because they can significantly affect the results of statistical analyses and machine learning models, leading to inaccurate conclusions and predictions."
   ]
  },
  {
   "cell_type": "markdown",
   "id": "e215b22e-21e6-4c9a-8e1e-e98ce59d2c03",
   "metadata": {},
   "source": [
    "Q7: You are working on a project that requires analyzing customer data. However, you notice that some of\n",
    "the data is missing. What are some techniques you can use to handle the missing data in your analysis?"
   ]
  },
  {
   "cell_type": "markdown",
   "id": "4685939d-9b12-43ab-b2d1-20963cd5cdf8",
   "metadata": {},
   "source": [
    "Some techniques for handling missing data in customer data analysis include:\n",
    "\n",
    "Imputation: replacing missing values with a reasonable estimate based on the available data.\n",
    "Dropping rows or columns with missing values: if the missing values are only a small percentage of the total dataset and dropping them does not significantly affect the analysis.\n",
    "Using models that can handle missing values: certain models, such as decision trees, can handle missing values directly."
   ]
  },
  {
   "cell_type": "markdown",
   "id": "85028f2e-7467-4e2e-8fe9-e5715f67468a",
   "metadata": {},
   "source": [
    "Q8: You are working with a large dataset and find that a small percentage of the data is missing. What are\n",
    "some strategies you can use to determine if the missing data is missing at random or if there is a pattern\n",
    "to the missing data?"
   ]
  },
  {
   "cell_type": "markdown",
   "id": "4a42ae45-bba0-4ac1-be9b-678e6649a591",
   "metadata": {},
   "source": [
    "Some strategies for determining if the missing data is missing at random or if there is a pattern to the missing data include:\n",
    "\n",
    "Analyzing the missing data: examining the patterns of missing data and looking for any relationships with other variables in the dataset.\n",
    "Conducting statistical tests: comparing the characteristics of the data with missing values to the characteristics of the data without missing values to determine if there is a pattern to the missingness."
   ]
  },
  {
   "cell_type": "markdown",
   "id": "362b28de-c434-4b12-8d3e-ae1435585ef8",
   "metadata": {},
   "source": [
    "Q9: Suppose you are working on a medical diagnosis project and find that the majority of patients in the\n",
    "dataset do not have the condition of interest, while a small percentage do. What are some strategies you\n",
    "can use to evaluate the performance of your machine learning model on this imbalanced dataset?"
   ]
  },
  {
   "cell_type": "markdown",
   "id": "9b623c60-028a-420a-915d-901555139035",
   "metadata": {},
   "source": [
    "Some strategies for evaluating the performance of machine learning models on imbalanced datasets include:\n",
    "\n",
    "Using evaluation metrics that account for imbalanced datasets, such as precision, recall, and F1 score.\n",
    "Using resampling techniques to balance the dataset, such as oversampling the minority class or undersampling the majority class.\n",
    "Using algorithms designed for imbalanced datasets, such as ensemble methods or cost-sensitive learning."
   ]
  },
  {
   "cell_type": "markdown",
   "id": "e7597ddd-6622-4d38-881f-7db1411f566d",
   "metadata": {},
   "source": [
    "Q10: When attempting to estimate customer satisfaction for a project, you discover that the dataset is\n",
    "unbalanced, with the bulk of customers reporting being satisfied. What methods can you employ to\n",
    "balance the dataset and down-sample the majority class?"
   ]
  },
  {
   "cell_type": "markdown",
   "id": "0020f88f-2e3a-4335-9f26-a9bef94fe5f1",
   "metadata": {},
   "source": [
    "To balance an unbalanced dataset where the majority class is overrepresented, one can use down-sampling techniques. Some of the commonly used methods are:\n",
    "\n",
    "Random under-sampling: In this method, data points from the majority class are randomly removed to match the size of the minority class. This method can be useful for large datasets, but it may result in the loss of valuable information.\n",
    "\n",
    "Tomek links: It is a method used to identify the noisy or borderline examples in a dataset. In this method, the examples in the majority class that form a Tomek link with an example in the minority class are removed.\n",
    "\n",
    "Cluster centroid undersampling: In this method, the centroids of the clusters formed by the majority class data are used to down-sample the majority class."
   ]
  },
  {
   "cell_type": "markdown",
   "id": "8c9012ad-1593-4a5e-aa37-15674a9e7265",
   "metadata": {},
   "source": [
    "Q11: You discover that the dataset is unbalanced with a low percentage of occurrences while working on a\n",
    "project that requires you to estimate the occurrence of a rare event. What methods can you employ to\n",
    "balance the dataset and up-sample the minority class?"
   ]
  },
  {
   "cell_type": "markdown",
   "id": "c6896879-12b9-4831-b269-5df025d13d3c",
   "metadata": {},
   "source": [
    "To balance an unbalanced dataset where the minority class is underrepresented, one can use up-sampling techniques. Some of the commonly used methods are:\n",
    "\n",
    "Random over-sampling: In this method, the minority class is randomly replicated to match the size of the majority class. This method can lead to overfitting and should be used with caution.\n",
    "\n",
    "SMOTE (Synthetic Minority Over-sampling Technique): It is a popular method used for up-sampling. In this method, new synthetic examples are created by interpolating between existing minority class examples. The synthetic examples are created by taking the difference between the feature vector of a minority example and a randomly selected neighbor of that example and adding it to the feature vector.\n",
    "\n",
    "ADASYN (Adaptive Synthetic Sampling): This method is similar to SMOTE, but it generates synthetic samples in regions where the density of minority class examples is low."
   ]
  },
  {
   "cell_type": "code",
   "execution_count": null,
   "id": "25ac38fe-2994-42f7-876a-fd5449e5920c",
   "metadata": {},
   "outputs": [],
   "source": []
  },
  {
   "cell_type": "code",
   "execution_count": null,
   "id": "792ed927-bc2b-4e89-b89a-d16f7ca76e48",
   "metadata": {},
   "outputs": [],
   "source": []
  },
  {
   "cell_type": "code",
   "execution_count": null,
   "id": "baa898cc-fa84-4f64-a541-abe168933c28",
   "metadata": {},
   "outputs": [],
   "source": []
  }
 ],
 "metadata": {
  "kernelspec": {
   "display_name": "Python 3 (ipykernel)",
   "language": "python",
   "name": "python3"
  },
  "language_info": {
   "codemirror_mode": {
    "name": "ipython",
    "version": 3
   },
   "file_extension": ".py",
   "mimetype": "text/x-python",
   "name": "python",
   "nbconvert_exporter": "python",
   "pygments_lexer": "ipython3",
   "version": "3.10.8"
  }
 },
 "nbformat": 4,
 "nbformat_minor": 5
}
