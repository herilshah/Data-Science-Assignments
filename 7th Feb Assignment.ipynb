{
 "cells": [
  {
   "cell_type": "markdown",
   "id": "1493a674-8fe6-44bd-afd3-0a09b0e50e8a",
   "metadata": {},
   "source": [
    "Q1. You are writing code for a company. The requirement of the company is that you create a python\n",
    "function that will check whether the password entered by the user is correct or not. The function should\n",
    "take the password as input and return the string “Valid Password” if the entered password follows the\n",
    "below-given password guidelines else it should return “Invalid Password”.\n",
    "Note: 1. The Password should contain at least two uppercase letters and at least two lowercase letters.\n",
    "2. The Password should contain at least a number and three special characters.\n",
    "3. The length of the password should be 10 characters long."
   ]
  },
  {
   "cell_type": "code",
   "execution_count": 3,
   "id": "2bf8e143-4845-4938-91d7-628a199e2ad0",
   "metadata": {},
   "outputs": [
    {
     "name": "stdin",
     "output_type": "stream",
     "text": [
      "Enter the password:  HHhh1@#$01\n"
     ]
    },
    {
     "name": "stdout",
     "output_type": "stream",
     "text": [
      "Valid Password\n"
     ]
    }
   ],
   "source": [
    "import re\n",
    "\n",
    "def check_password(password: str):\n",
    "    upper_letters = re.compile(r'[A-Z]')\n",
    "    lower_letters = re.compile(r'[a-z]')\n",
    "    numbers = re.compile(r'[0-9]')\n",
    "    special_characters = re.compile(r'[!@#$%^&*()]')\n",
    "    \n",
    "    if len(password) != 10:\n",
    "        return \"Invalid Password\"\n",
    "    if len(re.findall(upper_letters, password)) < 2:\n",
    "        return \"Invalid Password\"\n",
    "    if len(re.findall(lower_letters, password)) < 2:\n",
    "        return \"Invalid Password\"\n",
    "    if len(re.findall(numbers, password)) < 1:\n",
    "        return \"Invalid Password\"\n",
    "    if len(re.findall(special_characters, password)) < 3:\n",
    "        return \"Invalid Password\"\n",
    "    return \"Valid Password\"\n",
    "\n",
    "password = input(\"Enter the password: \")\n",
    "result = check_password(password)\n",
    "print(result)\n"
   ]
  },
  {
   "cell_type": "markdown",
   "id": "807398eb-94c1-4eac-844b-f85ca6149500",
   "metadata": {},
   "source": [
    "Q2. Solve the below-given questions using at least one of the following:\n",
    "1. Lambda function\n",
    "2. Filter function\n",
    "3. Zap function\n",
    "4. List Comprehension"
   ]
  },
  {
   "cell_type": "markdown",
   "id": "96ab10f0-ae33-41d8-a21f-bebda9db4ea2",
   "metadata": {},
   "source": [
    "Check if the string starts with a particular letter"
   ]
  },
  {
   "cell_type": "code",
   "execution_count": 5,
   "id": "d7bdb0a7-a337-4cd1-93be-721455473459",
   "metadata": {},
   "outputs": [
    {
     "name": "stdout",
     "output_type": "stream",
     "text": [
      "String starts with H\n"
     ]
    }
   ],
   "source": [
    "string = \"Hello, World!\"\n",
    "letter = \"H\"\n",
    "if (filter(lambda x: x.startswith(letter), [string])):\n",
    "    print(\"String starts with \" + letter)\n",
    "else:\n",
    "    print(\"String doesn't start with \" + letter)"
   ]
  },
  {
   "cell_type": "markdown",
   "id": "c31382a9-319a-411b-a0c3-7c2bb3d33174",
   "metadata": {},
   "source": [
    "Check if the string is numeric"
   ]
  },
  {
   "cell_type": "code",
   "execution_count": 6,
   "id": "0a899b15-4d58-49e7-8474-b99e1abc19b8",
   "metadata": {},
   "outputs": [
    {
     "name": "stdout",
     "output_type": "stream",
     "text": [
      "String is numeric\n"
     ]
    }
   ],
   "source": [
    "string = \"12345\"\n",
    "if string.isdigit():\n",
    "    print(\"String is numeric\")\n",
    "else:\n",
    "    print(\"String is not numeric\")"
   ]
  },
  {
   "cell_type": "markdown",
   "id": "9e027e3c-57f4-4568-afb2-dd15a066efaa",
   "metadata": {},
   "source": [
    "Sort a list of tuples having fruit names and their quantity.[(\"mango\",99),(\"orange\",80), (\"grapes\", 1000)"
   ]
  },
  {
   "cell_type": "code",
   "execution_count": 7,
   "id": "a04e7e08-6588-4ffe-8886-4d17353f5a7a",
   "metadata": {},
   "outputs": [
    {
     "name": "stdout",
     "output_type": "stream",
     "text": [
      "[('orange', 80), ('mango', 99), ('grapes', 1000)]\n"
     ]
    }
   ],
   "source": [
    "fruits = [(\"mango\",99),(\"orange\",80), (\"grapes\", 1000)]\n",
    "sorted_fruits = sorted(fruits, key=lambda x: x[1])\n",
    "print(sorted_fruits)"
   ]
  },
  {
   "cell_type": "markdown",
   "id": "7a5c3761-6b41-44d7-8135-6de76348348c",
   "metadata": {},
   "source": [
    "Find the squares of numbers from 1 to 10"
   ]
  },
  {
   "cell_type": "code",
   "execution_count": 8,
   "id": "f807440c-d363-4c14-8e7c-1341f8b81043",
   "metadata": {},
   "outputs": [
    {
     "name": "stdout",
     "output_type": "stream",
     "text": [
      "[1, 4, 9, 16, 25, 36, 49, 64, 81, 100]\n"
     ]
    }
   ],
   "source": [
    "numbers = [1, 2, 3, 4, 5, 6, 7, 8, 9, 10]\n",
    "squared_numbers = list(map(lambda x: x**2, numbers))\n",
    "print(squared_numbers)\n",
    "\n"
   ]
  },
  {
   "cell_type": "markdown",
   "id": "dc6f3457-44e5-435b-b081-15ff2104c593",
   "metadata": {},
   "source": [
    "Find the cube root of numbers from 1 to 10"
   ]
  },
  {
   "cell_type": "code",
   "execution_count": 9,
   "id": "3e8c4cab-163c-4e6b-a0fa-bb4b18fbd7fd",
   "metadata": {},
   "outputs": [
    {
     "name": "stdout",
     "output_type": "stream",
     "text": [
      "[1.0, 1.2599210498948732, 1.4422495703074083, 1.5874010519681994, 1.7099759466766968, 1.8171205928321397, 1.912931182772389, 2.0, 2.080083823051904, 2.154434690031884]\n"
     ]
    }
   ],
   "source": [
    "import math\n",
    "numbers = [1, 2, 3, 4, 5, 6, 7, 8, 9, 10]\n",
    "cube_root_numbers = list(map(lambda x: math.pow(x, 1/3), numbers))\n",
    "print(cube_root_numbers)"
   ]
  },
  {
   "cell_type": "markdown",
   "id": "1fd80670-d97c-45e5-b81a-ad867e27a596",
   "metadata": {},
   "source": [
    " Check if a given number is even"
   ]
  },
  {
   "cell_type": "code",
   "execution_count": 10,
   "id": "53e3935e-cc3d-4b8a-acbb-edbf6aa61d1b",
   "metadata": {},
   "outputs": [
    {
     "name": "stdout",
     "output_type": "stream",
     "text": [
      "[1.0, 1.2599210498948732, 1.4422495703074083, 1.5874010519681994, 1.7099759466766968, 1.8171205928321397, 1.912931182772389, 2.0, 2.080083823051904, 2.154434690031884]\n"
     ]
    }
   ],
   "source": [
    "import math\n",
    "numbers = [1, 2, 3, 4, 5, 6, 7, 8, 9, 10]\n",
    "cube_root_numbers = list(map(lambda x: math.pow(x, 1/3), numbers))\n",
    "print(cube_root_numbers)"
   ]
  },
  {
   "cell_type": "markdown",
   "id": "1bcb23a9-5222-43af-a76d-d7dedc676eb0",
   "metadata": {},
   "source": [
    "Filter odd numbers from the given list."
   ]
  },
  {
   "cell_type": "code",
   "execution_count": 11,
   "id": "a9eac1d0-c11f-4b80-ba90-b32e2661a288",
   "metadata": {},
   "outputs": [
    {
     "name": "stdout",
     "output_type": "stream",
     "text": [
      "[1, 3, 5, 7, 9]\n"
     ]
    }
   ],
   "source": [
    "numbers = [1,2,3,4,5,6,7,8,9,10]\n",
    "odd_numbers = list(filter(lambda x: x % 2 != 0, numbers))\n",
    "print(odd_numbers)\n"
   ]
  },
  {
   "cell_type": "markdown",
   "id": "68235f18-7f11-4a89-b261-b153a148eb93",
   "metadata": {},
   "source": [
    "Sort a list of integers into positive and negative integers lists.\n",
    "[1,2,3,4,5,6,-1,-2,-3,-4,-5,0]"
   ]
  },
  {
   "cell_type": "code",
   "execution_count": 12,
   "id": "cd0e671d-d433-4d8c-9bee-ac1dca1a1f1b",
   "metadata": {},
   "outputs": [
    {
     "name": "stdout",
     "output_type": "stream",
     "text": [
      "Positive numbers:  [1, 2, 3, 4, 5, 6]\n",
      "Negative numbers:  [-1, -2, -3, -4, -5]\n"
     ]
    }
   ],
   "source": [
    "numbers = [1,2,3,4,5,6,-1,-2,-3,-4,-5,0]\n",
    "positive_numbers = list(filter(lambda x: x > 0, numbers))\n",
    "negative_numbers = list(filter(lambda x: x < 0, numbers))\n",
    "print(\"Positive numbers: \", positive_numbers)\n",
    "print(\"Negative numbers: \", negative_numbers)\n"
   ]
  },
  {
   "cell_type": "code",
   "execution_count": null,
   "id": "0f92243d-93ef-4687-bdea-c584c22f74d2",
   "metadata": {},
   "outputs": [],
   "source": []
  },
  {
   "cell_type": "code",
   "execution_count": null,
   "id": "1fac6a33-4bea-496d-b1a6-f2482d9f0405",
   "metadata": {},
   "outputs": [],
   "source": []
  },
  {
   "cell_type": "code",
   "execution_count": null,
   "id": "e2099b69-82bd-4dc2-a330-de2e3478017b",
   "metadata": {},
   "outputs": [],
   "source": []
  }
 ],
 "metadata": {
  "kernelspec": {
   "display_name": "Python 3 (ipykernel)",
   "language": "python",
   "name": "python3"
  },
  "language_info": {
   "codemirror_mode": {
    "name": "ipython",
    "version": 3
   },
   "file_extension": ".py",
   "mimetype": "text/x-python",
   "name": "python",
   "nbconvert_exporter": "python",
   "pygments_lexer": "ipython3",
   "version": "3.10.8"
  }
 },
 "nbformat": 4,
 "nbformat_minor": 5
}
