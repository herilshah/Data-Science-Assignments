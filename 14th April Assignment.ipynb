{
 "cells": [
  {
   "cell_type": "markdown",
   "id": "2a25efa1",
   "metadata": {},
   "source": [
    "Build a random forest classifier to predict the risk of heart disease based on a dataset of patient\n",
    "information. The dataset contains 303 instances with 14 features, including age, sex, chest pain type,\n",
    "resting blood pressure, serum cholesterol, and maximum heart rate achieved."
   ]
  },
  {
   "cell_type": "markdown",
   "id": "3e890505",
   "metadata": {},
   "source": [
    "Q1. Preprocess the dataset by handling missing values, encoding categorical variables, and scaling the\n",
    "numerical features if necessary."
   ]
  },
  {
   "cell_type": "code",
   "execution_count": 6,
   "id": "18eb9a19",
   "metadata": {},
   "outputs": [
    {
     "data": {
      "text/html": [
       "<div>\n",
       "<style scoped>\n",
       "    .dataframe tbody tr th:only-of-type {\n",
       "        vertical-align: middle;\n",
       "    }\n",
       "\n",
       "    .dataframe tbody tr th {\n",
       "        vertical-align: top;\n",
       "    }\n",
       "\n",
       "    .dataframe thead th {\n",
       "        text-align: right;\n",
       "    }\n",
       "</style>\n",
       "<table border=\"1\" class=\"dataframe\">\n",
       "  <thead>\n",
       "    <tr style=\"text-align: right;\">\n",
       "      <th></th>\n",
       "      <th>age</th>\n",
       "      <th>sex</th>\n",
       "      <th>cp</th>\n",
       "      <th>trestbps</th>\n",
       "      <th>chol</th>\n",
       "      <th>fbs</th>\n",
       "      <th>restecg</th>\n",
       "      <th>thalach</th>\n",
       "      <th>exang</th>\n",
       "      <th>oldpeak</th>\n",
       "      <th>slope</th>\n",
       "      <th>ca</th>\n",
       "      <th>thal</th>\n",
       "      <th>target</th>\n",
       "    </tr>\n",
       "  </thead>\n",
       "  <tbody>\n",
       "    <tr>\n",
       "      <th>0</th>\n",
       "      <td>63</td>\n",
       "      <td>1</td>\n",
       "      <td>3</td>\n",
       "      <td>145</td>\n",
       "      <td>233</td>\n",
       "      <td>1</td>\n",
       "      <td>0</td>\n",
       "      <td>150</td>\n",
       "      <td>0</td>\n",
       "      <td>2.3</td>\n",
       "      <td>0</td>\n",
       "      <td>0</td>\n",
       "      <td>1</td>\n",
       "      <td>1</td>\n",
       "    </tr>\n",
       "    <tr>\n",
       "      <th>1</th>\n",
       "      <td>37</td>\n",
       "      <td>1</td>\n",
       "      <td>2</td>\n",
       "      <td>130</td>\n",
       "      <td>250</td>\n",
       "      <td>0</td>\n",
       "      <td>1</td>\n",
       "      <td>187</td>\n",
       "      <td>0</td>\n",
       "      <td>3.5</td>\n",
       "      <td>0</td>\n",
       "      <td>0</td>\n",
       "      <td>2</td>\n",
       "      <td>1</td>\n",
       "    </tr>\n",
       "    <tr>\n",
       "      <th>2</th>\n",
       "      <td>41</td>\n",
       "      <td>0</td>\n",
       "      <td>1</td>\n",
       "      <td>130</td>\n",
       "      <td>204</td>\n",
       "      <td>0</td>\n",
       "      <td>0</td>\n",
       "      <td>172</td>\n",
       "      <td>0</td>\n",
       "      <td>1.4</td>\n",
       "      <td>2</td>\n",
       "      <td>0</td>\n",
       "      <td>2</td>\n",
       "      <td>1</td>\n",
       "    </tr>\n",
       "    <tr>\n",
       "      <th>3</th>\n",
       "      <td>56</td>\n",
       "      <td>1</td>\n",
       "      <td>1</td>\n",
       "      <td>120</td>\n",
       "      <td>236</td>\n",
       "      <td>0</td>\n",
       "      <td>1</td>\n",
       "      <td>178</td>\n",
       "      <td>0</td>\n",
       "      <td>0.8</td>\n",
       "      <td>2</td>\n",
       "      <td>0</td>\n",
       "      <td>2</td>\n",
       "      <td>1</td>\n",
       "    </tr>\n",
       "    <tr>\n",
       "      <th>4</th>\n",
       "      <td>57</td>\n",
       "      <td>0</td>\n",
       "      <td>0</td>\n",
       "      <td>120</td>\n",
       "      <td>354</td>\n",
       "      <td>0</td>\n",
       "      <td>1</td>\n",
       "      <td>163</td>\n",
       "      <td>1</td>\n",
       "      <td>0.6</td>\n",
       "      <td>2</td>\n",
       "      <td>0</td>\n",
       "      <td>2</td>\n",
       "      <td>1</td>\n",
       "    </tr>\n",
       "  </tbody>\n",
       "</table>\n",
       "</div>"
      ],
      "text/plain": [
       "   age  sex  cp  trestbps  chol  fbs  restecg  thalach  exang  oldpeak  slope  \\\n",
       "0   63    1   3       145   233    1        0      150      0      2.3      0   \n",
       "1   37    1   2       130   250    0        1      187      0      3.5      0   \n",
       "2   41    0   1       130   204    0        0      172      0      1.4      2   \n",
       "3   56    1   1       120   236    0        1      178      0      0.8      2   \n",
       "4   57    0   0       120   354    0        1      163      1      0.6      2   \n",
       "\n",
       "   ca  thal  target  \n",
       "0   0     1       1  \n",
       "1   0     2       1  \n",
       "2   0     2       1  \n",
       "3   0     2       1  \n",
       "4   0     2       1  "
      ]
     },
     "execution_count": 6,
     "metadata": {},
     "output_type": "execute_result"
    }
   ],
   "source": [
    "import pandas as pd\n",
    "df = pd.read_csv('./dataset.csv')\n",
    "df.head()"
   ]
  },
  {
   "cell_type": "code",
   "execution_count": 8,
   "id": "a940cc7c",
   "metadata": {},
   "outputs": [
    {
     "data": {
      "text/plain": [
       "(303, 14)"
      ]
     },
     "execution_count": 8,
     "metadata": {},
     "output_type": "execute_result"
    }
   ],
   "source": [
    "df.shape"
   ]
  },
  {
   "cell_type": "code",
   "execution_count": 11,
   "id": "7ff9dd7c",
   "metadata": {},
   "outputs": [
    {
     "data": {
      "text/plain": [
       "<bound method DataFrame.info of      age  sex  cp  trestbps  chol  fbs  restecg  thalach  exang  oldpeak  \\\n",
       "0     63    1   3       145   233    1        0      150      0      2.3   \n",
       "1     37    1   2       130   250    0        1      187      0      3.5   \n",
       "2     41    0   1       130   204    0        0      172      0      1.4   \n",
       "3     56    1   1       120   236    0        1      178      0      0.8   \n",
       "4     57    0   0       120   354    0        1      163      1      0.6   \n",
       "..   ...  ...  ..       ...   ...  ...      ...      ...    ...      ...   \n",
       "298   57    0   0       140   241    0        1      123      1      0.2   \n",
       "299   45    1   3       110   264    0        1      132      0      1.2   \n",
       "300   68    1   0       144   193    1        1      141      0      3.4   \n",
       "301   57    1   0       130   131    0        1      115      1      1.2   \n",
       "302   57    0   1       130   236    0        0      174      0      0.0   \n",
       "\n",
       "     slope  ca  thal  target  \n",
       "0        0   0     1       1  \n",
       "1        0   0     2       1  \n",
       "2        2   0     2       1  \n",
       "3        2   0     2       1  \n",
       "4        2   0     2       1  \n",
       "..     ...  ..   ...     ...  \n",
       "298      1   0     3       0  \n",
       "299      1   0     3       0  \n",
       "300      1   2     3       0  \n",
       "301      1   1     3       0  \n",
       "302      1   1     2       0  \n",
       "\n",
       "[303 rows x 14 columns]>"
      ]
     },
     "execution_count": 11,
     "metadata": {},
     "output_type": "execute_result"
    }
   ],
   "source": [
    "df.info"
   ]
  },
  {
   "cell_type": "code",
   "execution_count": 12,
   "id": "0b480e5a",
   "metadata": {
    "scrolled": true
   },
   "outputs": [
    {
     "data": {
      "text/plain": [
       "age         0\n",
       "sex         0\n",
       "cp          0\n",
       "trestbps    0\n",
       "chol        0\n",
       "fbs         0\n",
       "restecg     0\n",
       "thalach     0\n",
       "exang       0\n",
       "oldpeak     0\n",
       "slope       0\n",
       "ca          0\n",
       "thal        0\n",
       "target      0\n",
       "dtype: int64"
      ]
     },
     "execution_count": 12,
     "metadata": {},
     "output_type": "execute_result"
    }
   ],
   "source": [
    "#Step 2 : Check Missing Values in Dataset\n",
    "df.isnull().sum()"
   ]
  },
  {
   "cell_type": "code",
   "execution_count": 13,
   "id": "1eb57a2b",
   "metadata": {},
   "outputs": [
    {
     "data": {
      "text/html": [
       "<div>\n",
       "<style scoped>\n",
       "    .dataframe tbody tr th:only-of-type {\n",
       "        vertical-align: middle;\n",
       "    }\n",
       "\n",
       "    .dataframe tbody tr th {\n",
       "        vertical-align: top;\n",
       "    }\n",
       "\n",
       "    .dataframe thead th {\n",
       "        text-align: right;\n",
       "    }\n",
       "</style>\n",
       "<table border=\"1\" class=\"dataframe\">\n",
       "  <thead>\n",
       "    <tr style=\"text-align: right;\">\n",
       "      <th></th>\n",
       "      <th>count</th>\n",
       "      <th>mean</th>\n",
       "      <th>std</th>\n",
       "      <th>min</th>\n",
       "      <th>25%</th>\n",
       "      <th>50%</th>\n",
       "      <th>75%</th>\n",
       "      <th>max</th>\n",
       "    </tr>\n",
       "  </thead>\n",
       "  <tbody>\n",
       "    <tr>\n",
       "      <th>age</th>\n",
       "      <td>303.0</td>\n",
       "      <td>54.366337</td>\n",
       "      <td>9.082101</td>\n",
       "      <td>29.0</td>\n",
       "      <td>47.5</td>\n",
       "      <td>55.0</td>\n",
       "      <td>61.0</td>\n",
       "      <td>77.0</td>\n",
       "    </tr>\n",
       "    <tr>\n",
       "      <th>sex</th>\n",
       "      <td>303.0</td>\n",
       "      <td>0.683168</td>\n",
       "      <td>0.466011</td>\n",
       "      <td>0.0</td>\n",
       "      <td>0.0</td>\n",
       "      <td>1.0</td>\n",
       "      <td>1.0</td>\n",
       "      <td>1.0</td>\n",
       "    </tr>\n",
       "    <tr>\n",
       "      <th>cp</th>\n",
       "      <td>303.0</td>\n",
       "      <td>0.966997</td>\n",
       "      <td>1.032052</td>\n",
       "      <td>0.0</td>\n",
       "      <td>0.0</td>\n",
       "      <td>1.0</td>\n",
       "      <td>2.0</td>\n",
       "      <td>3.0</td>\n",
       "    </tr>\n",
       "    <tr>\n",
       "      <th>trestbps</th>\n",
       "      <td>303.0</td>\n",
       "      <td>131.623762</td>\n",
       "      <td>17.538143</td>\n",
       "      <td>94.0</td>\n",
       "      <td>120.0</td>\n",
       "      <td>130.0</td>\n",
       "      <td>140.0</td>\n",
       "      <td>200.0</td>\n",
       "    </tr>\n",
       "    <tr>\n",
       "      <th>chol</th>\n",
       "      <td>303.0</td>\n",
       "      <td>246.264026</td>\n",
       "      <td>51.830751</td>\n",
       "      <td>126.0</td>\n",
       "      <td>211.0</td>\n",
       "      <td>240.0</td>\n",
       "      <td>274.5</td>\n",
       "      <td>564.0</td>\n",
       "    </tr>\n",
       "    <tr>\n",
       "      <th>fbs</th>\n",
       "      <td>303.0</td>\n",
       "      <td>0.148515</td>\n",
       "      <td>0.356198</td>\n",
       "      <td>0.0</td>\n",
       "      <td>0.0</td>\n",
       "      <td>0.0</td>\n",
       "      <td>0.0</td>\n",
       "      <td>1.0</td>\n",
       "    </tr>\n",
       "    <tr>\n",
       "      <th>restecg</th>\n",
       "      <td>303.0</td>\n",
       "      <td>0.528053</td>\n",
       "      <td>0.525860</td>\n",
       "      <td>0.0</td>\n",
       "      <td>0.0</td>\n",
       "      <td>1.0</td>\n",
       "      <td>1.0</td>\n",
       "      <td>2.0</td>\n",
       "    </tr>\n",
       "    <tr>\n",
       "      <th>thalach</th>\n",
       "      <td>303.0</td>\n",
       "      <td>149.646865</td>\n",
       "      <td>22.905161</td>\n",
       "      <td>71.0</td>\n",
       "      <td>133.5</td>\n",
       "      <td>153.0</td>\n",
       "      <td>166.0</td>\n",
       "      <td>202.0</td>\n",
       "    </tr>\n",
       "    <tr>\n",
       "      <th>exang</th>\n",
       "      <td>303.0</td>\n",
       "      <td>0.326733</td>\n",
       "      <td>0.469794</td>\n",
       "      <td>0.0</td>\n",
       "      <td>0.0</td>\n",
       "      <td>0.0</td>\n",
       "      <td>1.0</td>\n",
       "      <td>1.0</td>\n",
       "    </tr>\n",
       "    <tr>\n",
       "      <th>oldpeak</th>\n",
       "      <td>303.0</td>\n",
       "      <td>1.039604</td>\n",
       "      <td>1.161075</td>\n",
       "      <td>0.0</td>\n",
       "      <td>0.0</td>\n",
       "      <td>0.8</td>\n",
       "      <td>1.6</td>\n",
       "      <td>6.2</td>\n",
       "    </tr>\n",
       "    <tr>\n",
       "      <th>slope</th>\n",
       "      <td>303.0</td>\n",
       "      <td>1.399340</td>\n",
       "      <td>0.616226</td>\n",
       "      <td>0.0</td>\n",
       "      <td>1.0</td>\n",
       "      <td>1.0</td>\n",
       "      <td>2.0</td>\n",
       "      <td>2.0</td>\n",
       "    </tr>\n",
       "    <tr>\n",
       "      <th>ca</th>\n",
       "      <td>303.0</td>\n",
       "      <td>0.729373</td>\n",
       "      <td>1.022606</td>\n",
       "      <td>0.0</td>\n",
       "      <td>0.0</td>\n",
       "      <td>0.0</td>\n",
       "      <td>1.0</td>\n",
       "      <td>4.0</td>\n",
       "    </tr>\n",
       "    <tr>\n",
       "      <th>thal</th>\n",
       "      <td>303.0</td>\n",
       "      <td>2.313531</td>\n",
       "      <td>0.612277</td>\n",
       "      <td>0.0</td>\n",
       "      <td>2.0</td>\n",
       "      <td>2.0</td>\n",
       "      <td>3.0</td>\n",
       "      <td>3.0</td>\n",
       "    </tr>\n",
       "    <tr>\n",
       "      <th>target</th>\n",
       "      <td>303.0</td>\n",
       "      <td>0.544554</td>\n",
       "      <td>0.498835</td>\n",
       "      <td>0.0</td>\n",
       "      <td>0.0</td>\n",
       "      <td>1.0</td>\n",
       "      <td>1.0</td>\n",
       "      <td>1.0</td>\n",
       "    </tr>\n",
       "  </tbody>\n",
       "</table>\n",
       "</div>"
      ],
      "text/plain": [
       "          count        mean        std    min    25%    50%    75%    max\n",
       "age       303.0   54.366337   9.082101   29.0   47.5   55.0   61.0   77.0\n",
       "sex       303.0    0.683168   0.466011    0.0    0.0    1.0    1.0    1.0\n",
       "cp        303.0    0.966997   1.032052    0.0    0.0    1.0    2.0    3.0\n",
       "trestbps  303.0  131.623762  17.538143   94.0  120.0  130.0  140.0  200.0\n",
       "chol      303.0  246.264026  51.830751  126.0  211.0  240.0  274.5  564.0\n",
       "fbs       303.0    0.148515   0.356198    0.0    0.0    0.0    0.0    1.0\n",
       "restecg   303.0    0.528053   0.525860    0.0    0.0    1.0    1.0    2.0\n",
       "thalach   303.0  149.646865  22.905161   71.0  133.5  153.0  166.0  202.0\n",
       "exang     303.0    0.326733   0.469794    0.0    0.0    0.0    1.0    1.0\n",
       "oldpeak   303.0    1.039604   1.161075    0.0    0.0    0.8    1.6    6.2\n",
       "slope     303.0    1.399340   0.616226    0.0    1.0    1.0    2.0    2.0\n",
       "ca        303.0    0.729373   1.022606    0.0    0.0    0.0    1.0    4.0\n",
       "thal      303.0    2.313531   0.612277    0.0    2.0    2.0    3.0    3.0\n",
       "target    303.0    0.544554   0.498835    0.0    0.0    1.0    1.0    1.0"
      ]
     },
     "execution_count": 13,
     "metadata": {},
     "output_type": "execute_result"
    }
   ],
   "source": [
    "#Step 3 : Dataset Description\n",
    "df.describe().T"
   ]
  },
  {
   "cell_type": "code",
   "execution_count": 14,
   "id": "7e9c0cac",
   "metadata": {},
   "outputs": [
    {
     "data": {
      "text/plain": [
       "sex           2\n",
       "fbs           2\n",
       "exang         2\n",
       "target        2\n",
       "restecg       3\n",
       "slope         3\n",
       "cp            4\n",
       "thal          4\n",
       "ca            5\n",
       "oldpeak      40\n",
       "age          41\n",
       "trestbps     49\n",
       "thalach      91\n",
       "chol        152\n",
       "dtype: int64"
      ]
     },
     "execution_count": 14,
     "metadata": {},
     "output_type": "execute_result"
    }
   ],
   "source": [
    "df.nunique().sort_values()"
   ]
  },
  {
   "cell_type": "markdown",
   "id": "baea6cfb",
   "metadata": {},
   "source": [
    "No Encoding is required as all dataypes are already in numerical format also random forest does not require feature scaling\n",
    "Now Seperating X and Y variables"
   ]
  },
  {
   "cell_type": "code",
   "execution_count": 15,
   "id": "a3e9fd1c",
   "metadata": {},
   "outputs": [],
   "source": [
    "X = df.drop(labels=['target'],axis=1)\n",
    "Y = df[['target']]"
   ]
  },
  {
   "cell_type": "code",
   "execution_count": 17,
   "id": "890377c5",
   "metadata": {},
   "outputs": [
    {
     "data": {
      "text/plain": [
       "target\n",
       "1         165\n",
       "0         138\n",
       "dtype: int64"
      ]
     },
     "execution_count": 17,
     "metadata": {},
     "output_type": "execute_result"
    }
   ],
   "source": [
    "Y.value_counts()"
   ]
  },
  {
   "cell_type": "markdown",
   "id": "3064e3f9",
   "metadata": {},
   "source": [
    "Q2. Split the dataset into a training set (70%) and a test set (30%)."
   ]
  },
  {
   "cell_type": "code",
   "execution_count": 18,
   "id": "e543144b",
   "metadata": {},
   "outputs": [],
   "source": [
    "from sklearn.model_selection import train_test_split\n",
    "xtrain, xtest, ytrain, ytest = train_test_split(X,Y,test_size=0.3,random_state=42)\n"
   ]
  },
  {
   "cell_type": "code",
   "execution_count": 19,
   "id": "443a7a50",
   "metadata": {},
   "outputs": [
    {
     "data": {
      "text/plain": [
       "(212, 13)"
      ]
     },
     "execution_count": 19,
     "metadata": {},
     "output_type": "execute_result"
    }
   ],
   "source": [
    "xtrain.shape"
   ]
  },
  {
   "cell_type": "code",
   "execution_count": 20,
   "id": "20f022d7",
   "metadata": {},
   "outputs": [
    {
     "data": {
      "text/plain": [
       "(91, 13)"
      ]
     },
     "execution_count": 20,
     "metadata": {},
     "output_type": "execute_result"
    }
   ],
   "source": [
    "xtest.shape"
   ]
  },
  {
   "cell_type": "markdown",
   "id": "e094f64c",
   "metadata": {},
   "source": [
    "Q3. Train a random forest classifier on the training set using 100 trees and a maximum depth of 10 for each\n",
    "tree. Use the default values for other hyperparameters.\n"
   ]
  },
  {
   "cell_type": "code",
   "execution_count": 21,
   "id": "52f65c02",
   "metadata": {},
   "outputs": [
    {
     "data": {
      "text/plain": [
       "RandomForestClassifier(max_depth=10)"
      ]
     },
     "execution_count": 21,
     "metadata": {},
     "output_type": "execute_result"
    }
   ],
   "source": [
    "from sklearn.ensemble import RandomForestClassifier\n",
    "rfc = RandomForestClassifier(n_estimators=100, max_depth=10)\n",
    "rfc.fit(xtrain,ytrain.values.flatten())\n"
   ]
  },
  {
   "cell_type": "markdown",
   "id": "d7197af3",
   "metadata": {},
   "source": [
    "Q4. Evaluate the performance of the model on the test set using accuracy, precision, recall, and F1 score.\n"
   ]
  },
  {
   "cell_type": "code",
   "execution_count": 22,
   "id": "b4108d6a",
   "metadata": {},
   "outputs": [],
   "source": [
    "# Creating a function to evaluate model\n",
    "from sklearn.metrics import accuracy_score, precision_score, recall_score, f1_score\n",
    "def evaluate_model(x,y,model):\n",
    "    ypred = model.predict(x)\n",
    "    acc = accuracy_score(y,ypred)\n",
    "    pre = precision_score(y,ypred)\n",
    "    rec = recall_score(y,ypred)\n",
    "    f1 = f1_score(y,ypred)\n",
    "    print(f'Accuracy Score  : {acc:.4f}')\n",
    "    print(f'Precision Score : {pre:.4f}')\n",
    "    print(f'Recall Score    : {rec:.4f}')\n",
    "    print(f'F1 Score        : {f1:.4f}')\n",
    "    return acc, pre, rec, f1"
   ]
  },
  {
   "cell_type": "code",
   "execution_count": 23,
   "id": "6660eb67",
   "metadata": {},
   "outputs": [
    {
     "name": "stdout",
     "output_type": "stream",
     "text": [
      "Accuracy Score  : 0.8462\n",
      "Precision Score : 0.8600\n",
      "Recall Score    : 0.8600\n",
      "F1 Score        : 0.8600\n"
     ]
    }
   ],
   "source": [
    "# Evaluate model on test data\n",
    "acc_base, pre_base, rec_base, f1_base = evaluate_model(xtest, ytest, rfc)"
   ]
  },
  {
   "cell_type": "code",
   "execution_count": 25,
   "id": "76c29612",
   "metadata": {},
   "outputs": [
    {
     "name": "stdout",
     "output_type": "stream",
     "text": [
      "              precision    recall  f1-score   support\n",
      "\n",
      "           0       0.83      0.83      0.83        41\n",
      "           1       0.86      0.86      0.86        50\n",
      "\n",
      "    accuracy                           0.85        91\n",
      "   macro avg       0.84      0.84      0.84        91\n",
      "weighted avg       0.85      0.85      0.85        91\n",
      "\n"
     ]
    }
   ],
   "source": [
    "from sklearn.metrics import classification_report\n",
    "ypred_test = rfc.predict(xtest)\n",
    "print(classification_report(ytest,ypred_test))"
   ]
  },
  {
   "cell_type": "code",
   "execution_count": 26,
   "id": "e8fc44c0",
   "metadata": {},
   "outputs": [
    {
     "data": {
      "text/plain": [
       "<AxesSubplot:>"
      ]
     },
     "execution_count": 26,
     "metadata": {},
     "output_type": "execute_result"
    },
    {
     "data": {
      "image/png": "[encoded data removed]",
      "text/plain": [
       "<Figure size 640x480 with 2 Axes>"
      ]
     },
     "metadata": {},
     "output_type": "display_data"
    }
   ],
   "source": [
    "from sklearn.metrics import confusion_matrix\n",
    "import seaborn as sns\n",
    "cf = confusion_matrix(ytest,ypred_test)\n",
    "sns.heatmap(cf, annot=True, fmt='d')"
   ]
  },
  {
   "cell_type": "markdown",
   "id": "e7cdce81",
   "metadata": {},
   "source": [
    "Q5. Use the feature importance scores to identify the top 5 most important features in predicting heart\n",
    "disease risk. Visualise the feature importances using a bar chart.\n"
   ]
  },
  {
   "cell_type": "code",
   "execution_count": 27,
   "id": "ad341d12",
   "metadata": {},
   "outputs": [
    {
     "data": {
      "text/plain": [
       "array([0.07717904, 0.03353956, 0.10331917, 0.07852104, 0.07566135,\n",
       "       0.00935667, 0.02016641, 0.11258377, 0.08372459, 0.12142853,\n",
       "       0.04027866, 0.13207132, 0.11216988])"
      ]
     },
     "execution_count": 27,
     "metadata": {},
     "output_type": "execute_result"
    }
   ],
   "source": [
    "rfc.feature_importances_"
   ]
  },
  {
   "cell_type": "code",
   "execution_count": 28,
   "id": "d183f8b8",
   "metadata": {},
   "outputs": [
    {
     "data": {
      "text/plain": [
       "array([0.07717904, 0.03353956, 0.10331917, 0.07852104, 0.07566135,\n",
       "       0.00935667, 0.02016641, 0.11258377, 0.08372459, 0.12142853,\n",
       "       0.04027866, 0.13207132, 0.11216988])"
      ]
     },
     "execution_count": 28,
     "metadata": {},
     "output_type": "execute_result"
    }
   ],
   "source": [
    "rfc.feature_importances_"
   ]
  },
  {
   "cell_type": "code",
   "execution_count": 29,
   "id": "7ba328e7",
   "metadata": {},
   "outputs": [
    {
     "data": {
      "text/plain": [
       "ca          0.132071\n",
       "oldpeak     0.121429\n",
       "thalach     0.112584\n",
       "thal        0.112170\n",
       "cp          0.103319\n",
       "exang       0.083725\n",
       "trestbps    0.078521\n",
       "age         0.077179\n",
       "chol        0.075661\n",
       "slope       0.040279\n",
       "sex         0.033540\n",
       "restecg     0.020166\n",
       "fbs         0.009357\n",
       "dtype: float64"
      ]
     },
     "execution_count": 29,
     "metadata": {},
     "output_type": "execute_result"
    }
   ],
   "source": [
    "imp = pd.Series(rfc.feature_importances_)\n",
    "imp.index = rfc.feature_names_in_\n",
    "imp = imp.sort_values(ascending=False)\n",
    "imp"
   ]
  },
  {
   "cell_type": "code",
   "execution_count": 30,
   "id": "77d8cf45",
   "metadata": {},
   "outputs": [
    {
     "name": "stdout",
     "output_type": "stream",
     "text": [
      "Top 5 features in the data are : ['ca', 'oldpeak', 'thalach', 'thal', 'cp']\n"
     ]
    }
   ],
   "source": [
    "top5 = list(imp[0:5].index)\n",
    "print(f'Top 5 features in the data are : {top5}')"
   ]
  },
  {
   "cell_type": "code",
   "execution_count": 31,
   "id": "32ebd090",
   "metadata": {},
   "outputs": [
    {
     "data": {
      "text/plain": [
       "<AxesSubplot:title={'center':'Feature Importances Plot'}>"
      ]
     },
     "execution_count": 31,
     "metadata": {},
     "output_type": "execute_result"
    },
    {
     "data": {
      "image/png": "[encoded data removed]",
      "text/plain": [
       "<Figure size 1600x800 with 1 Axes>"
      ]
     },
     "metadata": {},
     "output_type": "display_data"
    }
   ],
   "source": [
    "imp.plot(kind='bar',title='Feature Importances Plot', figsize=(16,8))"
   ]
  },
  {
   "cell_type": "markdown",
   "id": "923a641a",
   "metadata": {},
   "source": [
    "Q6. Tune the hyperparameters of the random forest classifier using grid search or random search. Try\n",
    "different values of the number of trees, maximum depth, minimum samples split, and minimum samples\n",
    "leaf. Use 5-fold cross-validation to evaluate the performance of each set of hyperparameters.\n"
   ]
  },
  {
   "cell_type": "code",
   "execution_count": 32,
   "id": "acd6ec49",
   "metadata": {},
   "outputs": [],
   "source": [
    "# Defining the parameters for tuning\n",
    "parameters = {\n",
    "    'n_estimators':[10,50,100,200,300,400],\n",
    "    'max_depth':[4,5,6,7,8,9,10],\n",
    "    'min_samples_leaf':[2,3,4,5,6],\n",
    "    'min_samples_split':[2,5,10]\n",
    "}"
   ]
  },
  {
   "cell_type": "code",
   "execution_count": 33,
   "id": "2c994b10",
   "metadata": {},
   "outputs": [],
   "source": [
    "# Performing Randomized Search CV\n",
    "from sklearn.model_selection import RandomizedSearchCV\n",
    "rscv = RandomizedSearchCV(RandomForestClassifier(),\n",
    "                          param_distributions=parameters,\n",
    "                          cv=5, \n",
    "                          scoring='f1',\n",
    "                          n_iter=50,\n",
    "                          verbose=3)"
   ]
  },
  {
   "cell_type": "code",
   "execution_count": 34,
   "id": "801cf536",
   "metadata": {},
   "outputs": [
    {
     "name": "stdout",
     "output_type": "stream",
     "text": [
      "Fitting 5 folds for each of 50 candidates, totalling 250 fits\n",
      "[CV 1/5] END max_depth=9, min_samples_leaf=2, min_samples_split=10, n_estimators=10;, score=0.933 total time=   0.0s\n",
      "[CV 2/5] END max_depth=9, min_samples_leaf=2, min_samples_split=10, n_estimators=10;, score=0.783 total time=   0.0s\n",
      "[CV 3/5] END max_depth=9, min_samples_leaf=2, min_samples_split=10, n_estimators=10;, score=0.745 total time=   0.0s\n",
      "[CV 4/5] END max_depth=9, min_samples_leaf=2, min_samples_split=10, n_estimators=10;, score=0.936 total time=   0.0s\n",
      "[CV 5/5] END max_depth=9, min_samples_leaf=2, min_samples_split=10, n_estimators=10;, score=0.773 total time=   0.0s\n",
      "[CV 1/5] END max_depth=8, min_samples_leaf=6, min_samples_split=5, n_estimators=10;, score=0.844 total time=   0.0s\n",
      "[CV 2/5] END max_depth=8, min_samples_leaf=6, min_samples_split=5, n_estimators=10;, score=0.875 total time=   0.0s\n",
      "[CV 3/5] END max_depth=8, min_samples_leaf=6, min_samples_split=5, n_estimators=10;, score=0.708 total time=   0.0s\n",
      "[CV 4/5] END max_depth=8, min_samples_leaf=6, min_samples_split=5, n_estimators=10;, score=0.875 total time=   0.0s\n",
      "[CV 5/5] END max_depth=8, min_samples_leaf=6, min_samples_split=5, n_estimators=10;, score=0.837 total time=   0.0s\n",
      "[CV 1/5] END max_depth=8, min_samples_leaf=3, min_samples_split=10, n_estimators=50;, score=0.884 total time=   0.0s\n",
      "[CV 2/5] END max_depth=8, min_samples_leaf=3, min_samples_split=10, n_estimators=50;, score=0.857 total time=   0.0s\n",
      "[CV 3/5] END max_depth=8, min_samples_leaf=3, min_samples_split=10, n_estimators=50;, score=0.800 total time=   0.0s\n",
      "[CV 4/5] END max_depth=8, min_samples_leaf=3, min_samples_split=10, n_estimators=50;, score=0.917 total time=   0.0s\n",
      "[CV 5/5] END max_depth=8, min_samples_leaf=3, min_samples_split=10, n_estimators=50;, score=0.780 total time=   0.0s\n",
      "[CV 1/5] END max_depth=8, min_samples_leaf=2, min_samples_split=5, n_estimators=10;, score=0.851 total time=   0.0s\n",
      "[CV 2/5] END max_depth=8, min_samples_leaf=2, min_samples_split=5, n_estimators=10;, score=0.857 total time=   0.0s\n",
      "[CV 3/5] END max_depth=8, min_samples_leaf=2, min_samples_split=5, n_estimators=10;, score=0.824 total time=   0.0s\n",
      "[CV 4/5] END max_depth=8, min_samples_leaf=2, min_samples_split=5, n_estimators=10;, score=0.870 total time=   0.0s\n",
      "[CV 5/5] END max_depth=8, min_samples_leaf=2, min_samples_split=5, n_estimators=10;, score=0.783 total time=   0.0s\n",
      "[CV 1/5] END max_depth=8, min_samples_leaf=6, min_samples_split=10, n_estimators=10;, score=0.884 total time=   0.0s\n",
      "[CV 2/5] END max_depth=8, min_samples_leaf=6, min_samples_split=10, n_estimators=10;, score=0.826 total time=   0.0s\n",
      "[CV 3/5] END max_depth=8, min_samples_leaf=6, min_samples_split=10, n_estimators=10;, score=0.784 total time=   0.0s\n",
      "[CV 4/5] END max_depth=8, min_samples_leaf=6, min_samples_split=10, n_estimators=10;, score=0.875 total time=   0.0s\n",
      "[CV 5/5] END max_depth=8, min_samples_leaf=6, min_samples_split=10, n_estimators=10;, score=0.744 total time=   0.0s\n",
      "[CV 1/5] END max_depth=6, min_samples_leaf=6, min_samples_split=2, n_estimators=300;, score=0.884 total time=   0.4s\n",
      "[CV 2/5] END max_depth=6, min_samples_leaf=6, min_samples_split=2, n_estimators=300;, score=0.880 total time=   0.5s\n",
      "[CV 3/5] END max_depth=6, min_samples_leaf=6, min_samples_split=2, n_estimators=300;, score=0.784 total time=   0.5s\n",
      "[CV 4/5] END max_depth=6, min_samples_leaf=6, min_samples_split=2, n_estimators=300;, score=0.917 total time=   0.5s\n",
      "[CV 5/5] END max_depth=6, min_samples_leaf=6, min_samples_split=2, n_estimators=300;, score=0.744 total time=   0.5s\n",
      "[CV 1/5] END max_depth=7, min_samples_leaf=3, min_samples_split=5, n_estimators=300;, score=0.884 total time=   0.5s\n",
      "[CV 2/5] END max_depth=7, min_samples_leaf=3, min_samples_split=5, n_estimators=300;, score=0.857 total time=   0.5s\n",
      "[CV 3/5] END max_depth=7, min_samples_leaf=3, min_samples_split=5, n_estimators=300;, score=0.784 total time=   0.4s\n",
      "[CV 4/5] END max_depth=7, min_samples_leaf=3, min_samples_split=5, n_estimators=300;, score=0.894 total time=   0.5s\n",
      "[CV 5/5] END max_depth=7, min_samples_leaf=3, min_samples_split=5, n_estimators=300;, score=0.773 total time=   0.4s\n",
      "[CV 1/5] END max_depth=6, min_samples_leaf=2, min_samples_split=5, n_estimators=50;, score=0.884 total time=   0.0s\n",
      "[CV 2/5] END max_depth=6, min_samples_leaf=2, min_samples_split=5, n_estimators=50;, score=0.857 total time=   0.0s\n",
      "[CV 3/5] END max_depth=6, min_samples_leaf=2, min_samples_split=5, n_estimators=50;, score=0.776 total time=   0.0s\n",
      "[CV 4/5] END max_depth=6, min_samples_leaf=2, min_samples_split=5, n_estimators=50;, score=0.844 total time=   0.0s\n",
      "[CV 5/5] END max_depth=6, min_samples_leaf=2, min_samples_split=5, n_estimators=50;, score=0.727 total time=   0.0s\n",
      "[CV 1/5] END max_depth=5, min_samples_leaf=3, min_samples_split=2, n_estimators=10;, score=0.864 total time=   0.0s\n",
      "[CV 2/5] END max_depth=5, min_samples_leaf=3, min_samples_split=2, n_estimators=10;, score=0.851 total time=   0.0s\n",
      "[CV 3/5] END max_depth=5, min_samples_leaf=3, min_samples_split=2, n_estimators=10;, score=0.840 total time=   0.0s\n",
      "[CV 4/5] END max_depth=5, min_samples_leaf=3, min_samples_split=2, n_estimators=10;, score=0.958 total time=   0.0s\n",
      "[CV 5/5] END max_depth=5, min_samples_leaf=3, min_samples_split=2, n_estimators=10;, score=0.744 total time=   0.0s\n",
      "[CV 1/5] END max_depth=5, min_samples_leaf=4, min_samples_split=10, n_estimators=100;, score=0.884 total time=   0.1s\n",
      "[CV 2/5] END max_depth=5, min_samples_leaf=4, min_samples_split=10, n_estimators=100;, score=0.880 total time=   0.1s\n",
      "[CV 3/5] END max_depth=5, min_samples_leaf=4, min_samples_split=10, n_estimators=100;, score=0.816 total time=   0.1s\n",
      "[CV 4/5] END max_depth=5, min_samples_leaf=4, min_samples_split=10, n_estimators=100;, score=0.917 total time=   0.1s\n",
      "[CV 5/5] END max_depth=5, min_samples_leaf=4, min_samples_split=10, n_estimators=100;, score=0.791 total time=   0.1s\n",
      "[CV 1/5] END max_depth=8, min_samples_leaf=3, min_samples_split=10, n_estimators=400;, score=0.884 total time=   0.6s\n",
      "[CV 2/5] END max_depth=8, min_samples_leaf=3, min_samples_split=10, n_estimators=400;, score=0.857 total time=   0.5s\n",
      "[CV 3/5] END max_depth=8, min_samples_leaf=3, min_samples_split=10, n_estimators=400;, score=0.784 total time=   0.6s\n",
      "[CV 4/5] END max_depth=8, min_samples_leaf=3, min_samples_split=10, n_estimators=400;, score=0.917 total time=   0.6s\n",
      "[CV 5/5] END max_depth=8, min_samples_leaf=3, min_samples_split=10, n_estimators=400;, score=0.744 total time=   0.6s\n",
      "[CV 1/5] END max_depth=4, min_samples_leaf=4, min_samples_split=10, n_estimators=100;, score=0.884 total time=   0.1s\n",
      "[CV 2/5] END max_depth=4, min_samples_leaf=4, min_samples_split=10, n_estimators=100;, score=0.875 total time=   0.1s\n",
      "[CV 3/5] END max_depth=4, min_samples_leaf=4, min_samples_split=10, n_estimators=100;, score=0.808 total time=   0.1s\n",
      "[CV 4/5] END max_depth=4, min_samples_leaf=4, min_samples_split=10, n_estimators=100;, score=0.917 total time=   0.1s\n",
      "[CV 5/5] END max_depth=4, min_samples_leaf=4, min_samples_split=10, n_estimators=100;, score=0.762 total time=   0.1s\n",
      "[CV 1/5] END max_depth=7, min_samples_leaf=5, min_samples_split=2, n_estimators=200;, score=0.864 total time=   0.2s\n",
      "[CV 2/5] END max_depth=7, min_samples_leaf=5, min_samples_split=2, n_estimators=200;, score=0.898 total time=   0.2s\n",
      "[CV 3/5] END max_depth=7, min_samples_leaf=5, min_samples_split=2, n_estimators=200;, score=0.769 total time=   0.2s\n",
      "[CV 4/5] END max_depth=7, min_samples_leaf=5, min_samples_split=2, n_estimators=200;, score=0.917 total time=   0.2s\n",
      "[CV 5/5] END max_depth=7, min_samples_leaf=5, min_samples_split=2, n_estimators=200;, score=0.744 total time=   0.2s\n",
      "[CV 1/5] END max_depth=8, min_samples_leaf=4, min_samples_split=5, n_estimators=50;, score=0.800 total time=   0.0s\n",
      "[CV 2/5] END max_depth=8, min_samples_leaf=4, min_samples_split=5, n_estimators=50;, score=0.809 total time=   0.0s\n",
      "[CV 3/5] END max_depth=8, min_samples_leaf=4, min_samples_split=5, n_estimators=50;, score=0.769 total time=   0.0s\n",
      "[CV 4/5] END max_depth=8, min_samples_leaf=4, min_samples_split=5, n_estimators=50;, score=0.894 total time=   0.0s\n",
      "[CV 5/5] END max_depth=8, min_samples_leaf=4, min_samples_split=5, n_estimators=50;, score=0.762 total time=   0.0s\n"
     ]
    },
    {
     "name": "stdout",
     "output_type": "stream",
     "text": [
      "[CV 1/5] END max_depth=4, min_samples_leaf=2, min_samples_split=5, n_estimators=200;, score=0.909 total time=   0.3s\n",
      "[CV 2/5] END max_depth=4, min_samples_leaf=2, min_samples_split=5, n_estimators=200;, score=0.880 total time=   0.2s\n",
      "[CV 3/5] END max_depth=4, min_samples_leaf=2, min_samples_split=5, n_estimators=200;, score=0.784 total time=   0.3s\n",
      "[CV 4/5] END max_depth=4, min_samples_leaf=2, min_samples_split=5, n_estimators=200;, score=0.917 total time=   0.2s\n",
      "[CV 5/5] END max_depth=4, min_samples_leaf=2, min_samples_split=5, n_estimators=200;, score=0.773 total time=   0.3s\n",
      "[CV 1/5] END max_depth=6, min_samples_leaf=5, min_samples_split=10, n_estimators=200;, score=0.864 total time=   0.2s\n",
      "[CV 2/5] END max_depth=6, min_samples_leaf=5, min_samples_split=10, n_estimators=200;, score=0.857 total time=   0.3s\n",
      "[CV 3/5] END max_depth=6, min_samples_leaf=5, min_samples_split=10, n_estimators=200;, score=0.784 total time=   0.3s\n",
      "[CV 4/5] END max_depth=6, min_samples_leaf=5, min_samples_split=10, n_estimators=200;, score=0.917 total time=   0.2s\n",
      "[CV 5/5] END max_depth=6, min_samples_leaf=5, min_samples_split=10, n_estimators=200;, score=0.762 total time=   0.2s\n",
      "[CV 1/5] END max_depth=5, min_samples_leaf=3, min_samples_split=5, n_estimators=50;, score=0.884 total time=   0.0s\n",
      "[CV 2/5] END max_depth=5, min_samples_leaf=3, min_samples_split=5, n_estimators=50;, score=0.809 total time=   0.0s\n",
      "[CV 3/5] END max_depth=5, min_samples_leaf=3, min_samples_split=5, n_estimators=50;, score=0.800 total time=   0.0s\n",
      "[CV 4/5] END max_depth=5, min_samples_leaf=3, min_samples_split=5, n_estimators=50;, score=0.913 total time=   0.0s\n",
      "[CV 5/5] END max_depth=5, min_samples_leaf=3, min_samples_split=5, n_estimators=50;, score=0.791 total time=   0.0s\n",
      "[CV 1/5] END max_depth=6, min_samples_leaf=2, min_samples_split=5, n_estimators=200;, score=0.864 total time=   0.2s\n",
      "[CV 2/5] END max_depth=6, min_samples_leaf=2, min_samples_split=5, n_estimators=200;, score=0.857 total time=   0.2s\n",
      "[CV 3/5] END max_depth=6, min_samples_leaf=2, min_samples_split=5, n_estimators=200;, score=0.760 total time=   0.3s\n",
      "[CV 4/5] END max_depth=6, min_samples_leaf=2, min_samples_split=5, n_estimators=200;, score=0.917 total time=   0.2s\n",
      "[CV 5/5] END max_depth=6, min_samples_leaf=2, min_samples_split=5, n_estimators=200;, score=0.762 total time=   0.2s\n",
      "[CV 1/5] END max_depth=4, min_samples_leaf=4, min_samples_split=10, n_estimators=400;, score=0.884 total time=   0.5s\n",
      "[CV 2/5] END max_depth=4, min_samples_leaf=4, min_samples_split=10, n_estimators=400;, score=0.857 total time=   0.5s\n",
      "[CV 3/5] END max_depth=4, min_samples_leaf=4, min_samples_split=10, n_estimators=400;, score=0.784 total time=   0.6s\n",
      "[CV 4/5] END max_depth=4, min_samples_leaf=4, min_samples_split=10, n_estimators=400;, score=0.917 total time=   0.7s\n",
      "[CV 5/5] END max_depth=4, min_samples_leaf=4, min_samples_split=10, n_estimators=400;, score=0.791 total time=   0.6s\n",
      "[CV 1/5] END max_depth=4, min_samples_leaf=3, min_samples_split=10, n_estimators=100;, score=0.884 total time=   0.1s\n",
      "[CV 2/5] END max_depth=4, min_samples_leaf=3, min_samples_split=10, n_estimators=100;, score=0.857 total time=   0.1s\n",
      "[CV 3/5] END max_depth=4, min_samples_leaf=3, min_samples_split=10, n_estimators=100;, score=0.784 total time=   0.1s\n",
      "[CV 4/5] END max_depth=4, min_samples_leaf=3, min_samples_split=10, n_estimators=100;, score=0.917 total time=   0.1s\n",
      "[CV 5/5] END max_depth=4, min_samples_leaf=3, min_samples_split=10, n_estimators=100;, score=0.744 total time=   0.1s\n",
      "[CV 1/5] END max_depth=5, min_samples_leaf=6, min_samples_split=10, n_estimators=100;, score=0.909 total time=   0.1s\n",
      "[CV 2/5] END max_depth=5, min_samples_leaf=6, min_samples_split=10, n_estimators=100;, score=0.880 total time=   0.0s\n",
      "[CV 3/5] END max_depth=5, min_samples_leaf=6, min_samples_split=10, n_estimators=100;, score=0.769 total time=   0.1s\n",
      "[CV 4/5] END max_depth=5, min_samples_leaf=6, min_samples_split=10, n_estimators=100;, score=0.917 total time=   0.1s\n",
      "[CV 5/5] END max_depth=5, min_samples_leaf=6, min_samples_split=10, n_estimators=100;, score=0.791 total time=   0.1s\n",
      "[CV 1/5] END max_depth=10, min_samples_leaf=6, min_samples_split=5, n_estimators=50;, score=0.884 total time=   0.0s\n",
      "[CV 2/5] END max_depth=10, min_samples_leaf=6, min_samples_split=5, n_estimators=50;, score=0.880 total time=   0.0s\n",
      "[CV 3/5] END max_depth=10, min_samples_leaf=6, min_samples_split=5, n_estimators=50;, score=0.792 total time=   0.0s\n",
      "[CV 4/5] END max_depth=10, min_samples_leaf=6, min_samples_split=5, n_estimators=50;, score=0.917 total time=   0.0s\n",
      "[CV 5/5] END max_depth=10, min_samples_leaf=6, min_samples_split=5, n_estimators=50;, score=0.791 total time=   0.0s\n",
      "[CV 1/5] END max_depth=4, min_samples_leaf=4, min_samples_split=10, n_estimators=200;, score=0.864 total time=   0.2s\n",
      "[CV 2/5] END max_depth=4, min_samples_leaf=4, min_samples_split=10, n_estimators=200;, score=0.857 total time=   0.3s\n",
      "[CV 3/5] END max_depth=4, min_samples_leaf=4, min_samples_split=10, n_estimators=200;, score=0.808 total time=   0.3s\n",
      "[CV 4/5] END max_depth=4, min_samples_leaf=4, min_samples_split=10, n_estimators=200;, score=0.917 total time=   0.2s\n",
      "[CV 5/5] END max_depth=4, min_samples_leaf=4, min_samples_split=10, n_estimators=200;, score=0.773 total time=   0.2s\n",
      "[CV 1/5] END max_depth=9, min_samples_leaf=2, min_samples_split=5, n_estimators=10;, score=0.818 total time=   0.0s\n",
      "[CV 2/5] END max_depth=9, min_samples_leaf=2, min_samples_split=5, n_estimators=10;, score=0.844 total time=   0.0s\n",
      "[CV 3/5] END max_depth=9, min_samples_leaf=2, min_samples_split=5, n_estimators=10;, score=0.792 total time=   0.0s\n",
      "[CV 4/5] END max_depth=9, min_samples_leaf=2, min_samples_split=5, n_estimators=10;, score=0.913 total time=   0.0s\n",
      "[CV 5/5] END max_depth=9, min_samples_leaf=2, min_samples_split=5, n_estimators=10;, score=0.818 total time=   0.0s\n",
      "[CV 1/5] END max_depth=10, min_samples_leaf=6, min_samples_split=10, n_estimators=100;, score=0.884 total time=   0.1s\n",
      "[CV 2/5] END max_depth=10, min_samples_leaf=6, min_samples_split=10, n_estimators=100;, score=0.880 total time=   0.1s\n",
      "[CV 3/5] END max_depth=10, min_samples_leaf=6, min_samples_split=10, n_estimators=100;, score=0.784 total time=   0.1s\n",
      "[CV 4/5] END max_depth=10, min_samples_leaf=6, min_samples_split=10, n_estimators=100;, score=0.917 total time=   0.1s\n",
      "[CV 5/5] END max_depth=10, min_samples_leaf=6, min_samples_split=10, n_estimators=100;, score=0.773 total time=   0.1s\n",
      "[CV 1/5] END max_depth=9, min_samples_leaf=5, min_samples_split=2, n_estimators=300;, score=0.884 total time=   0.4s\n",
      "[CV 2/5] END max_depth=9, min_samples_leaf=5, min_samples_split=2, n_estimators=300;, score=0.880 total time=   0.5s\n",
      "[CV 3/5] END max_depth=9, min_samples_leaf=5, min_samples_split=2, n_estimators=300;, score=0.769 total time=   0.4s\n",
      "[CV 4/5] END max_depth=9, min_samples_leaf=5, min_samples_split=2, n_estimators=300;, score=0.917 total time=   0.4s\n",
      "[CV 5/5] END max_depth=9, min_samples_leaf=5, min_samples_split=2, n_estimators=300;, score=0.744 total time=   0.5s\n",
      "[CV 1/5] END max_depth=6, min_samples_leaf=2, min_samples_split=10, n_estimators=10;, score=0.864 total time=   0.0s\n",
      "[CV 2/5] END max_depth=6, min_samples_leaf=2, min_samples_split=10, n_estimators=10;, score=0.826 total time=   0.0s\n",
      "[CV 3/5] END max_depth=6, min_samples_leaf=2, min_samples_split=10, n_estimators=10;, score=0.741 total time=   0.0s\n",
      "[CV 4/5] END max_depth=6, min_samples_leaf=2, min_samples_split=10, n_estimators=10;, score=0.958 total time=   0.0s\n",
      "[CV 5/5] END max_depth=6, min_samples_leaf=2, min_samples_split=10, n_estimators=10;, score=0.744 total time=   0.0s\n",
      "[CV 1/5] END max_depth=6, min_samples_leaf=6, min_samples_split=10, n_estimators=300;, score=0.884 total time=   0.4s\n",
      "[CV 2/5] END max_depth=6, min_samples_leaf=6, min_samples_split=10, n_estimators=300;, score=0.880 total time=   0.4s\n",
      "[CV 3/5] END max_depth=6, min_samples_leaf=6, min_samples_split=10, n_estimators=300;, score=0.769 total time=   0.4s\n",
      "[CV 4/5] END max_depth=6, min_samples_leaf=6, min_samples_split=10, n_estimators=300;, score=0.917 total time=   0.4s\n",
      "[CV 5/5] END max_depth=6, min_samples_leaf=6, min_samples_split=10, n_estimators=300;, score=0.773 total time=   0.4s\n"
     ]
    },
    {
     "name": "stdout",
     "output_type": "stream",
     "text": [
      "[CV 1/5] END max_depth=4, min_samples_leaf=4, min_samples_split=2, n_estimators=200;, score=0.889 total time=   0.3s\n",
      "[CV 2/5] END max_depth=4, min_samples_leaf=4, min_samples_split=2, n_estimators=200;, score=0.857 total time=   0.3s\n",
      "[CV 3/5] END max_depth=4, min_samples_leaf=4, min_samples_split=2, n_estimators=200;, score=0.784 total time=   0.2s\n",
      "[CV 4/5] END max_depth=4, min_samples_leaf=4, min_samples_split=2, n_estimators=200;, score=0.917 total time=   0.2s\n",
      "[CV 5/5] END max_depth=4, min_samples_leaf=4, min_samples_split=2, n_estimators=200;, score=0.773 total time=   0.2s\n",
      "[CV 1/5] END max_depth=7, min_samples_leaf=2, min_samples_split=10, n_estimators=100;, score=0.837 total time=   0.1s\n",
      "[CV 2/5] END max_depth=7, min_samples_leaf=2, min_samples_split=10, n_estimators=100;, score=0.857 total time=   0.1s\n",
      "[CV 3/5] END max_depth=7, min_samples_leaf=2, min_samples_split=10, n_estimators=100;, score=0.760 total time=   0.1s\n",
      "[CV 4/5] END max_depth=7, min_samples_leaf=2, min_samples_split=10, n_estimators=100;, score=0.936 total time=   0.1s\n",
      "[CV 5/5] END max_depth=7, min_samples_leaf=2, min_samples_split=10, n_estimators=100;, score=0.744 total time=   0.1s\n",
      "[CV 1/5] END max_depth=9, min_samples_leaf=3, min_samples_split=5, n_estimators=100;, score=0.864 total time=   0.1s\n",
      "[CV 2/5] END max_depth=9, min_samples_leaf=3, min_samples_split=5, n_estimators=100;, score=0.857 total time=   0.1s\n",
      "[CV 3/5] END max_depth=9, min_samples_leaf=3, min_samples_split=5, n_estimators=100;, score=0.784 total time=   0.1s\n",
      "[CV 4/5] END max_depth=9, min_samples_leaf=3, min_samples_split=5, n_estimators=100;, score=0.936 total time=   0.1s\n",
      "[CV 5/5] END max_depth=9, min_samples_leaf=3, min_samples_split=5, n_estimators=100;, score=0.744 total time=   0.1s\n",
      "[CV 1/5] END max_depth=9, min_samples_leaf=5, min_samples_split=10, n_estimators=200;, score=0.884 total time=   0.2s\n",
      "[CV 2/5] END max_depth=9, min_samples_leaf=5, min_samples_split=10, n_estimators=200;, score=0.857 total time=   0.2s\n",
      "[CV 3/5] END max_depth=9, min_samples_leaf=5, min_samples_split=10, n_estimators=200;, score=0.784 total time=   0.2s\n",
      "[CV 4/5] END max_depth=9, min_samples_leaf=5, min_samples_split=10, n_estimators=200;, score=0.936 total time=   0.3s\n",
      "[CV 5/5] END max_depth=9, min_samples_leaf=5, min_samples_split=10, n_estimators=200;, score=0.791 total time=   0.2s\n",
      "[CV 1/5] END max_depth=6, min_samples_leaf=2, min_samples_split=10, n_estimators=200;, score=0.864 total time=   0.2s\n",
      "[CV 2/5] END max_depth=6, min_samples_leaf=2, min_samples_split=10, n_estimators=200;, score=0.880 total time=   0.2s\n",
      "[CV 3/5] END max_depth=6, min_samples_leaf=2, min_samples_split=10, n_estimators=200;, score=0.769 total time=   0.2s\n",
      "[CV 4/5] END max_depth=6, min_samples_leaf=2, min_samples_split=10, n_estimators=200;, score=0.894 total time=   0.3s\n",
      "[CV 5/5] END max_depth=6, min_samples_leaf=2, min_samples_split=10, n_estimators=200;, score=0.744 total time=   0.2s\n",
      "[CV 1/5] END max_depth=4, min_samples_leaf=2, min_samples_split=5, n_estimators=10;, score=0.870 total time=   0.0s\n",
      "[CV 2/5] END max_depth=4, min_samples_leaf=2, min_samples_split=5, n_estimators=10;, score=0.833 total time=   0.0s\n",
      "[CV 3/5] END max_depth=4, min_samples_leaf=2, min_samples_split=5, n_estimators=10;, score=0.731 total time=   0.0s\n",
      "[CV 4/5] END max_depth=4, min_samples_leaf=2, min_samples_split=5, n_estimators=10;, score=0.880 total time=   0.0s\n",
      "[CV 5/5] END max_depth=4, min_samples_leaf=2, min_samples_split=5, n_estimators=10;, score=0.857 total time=   0.0s\n",
      "[CV 1/5] END max_depth=4, min_samples_leaf=5, min_samples_split=5, n_estimators=400;, score=0.864 total time=   0.5s\n",
      "[CV 2/5] END max_depth=4, min_samples_leaf=5, min_samples_split=5, n_estimators=400;, score=0.857 total time=   0.6s\n",
      "[CV 3/5] END max_depth=4, min_samples_leaf=5, min_samples_split=5, n_estimators=400;, score=0.800 total time=   0.5s\n",
      "[CV 4/5] END max_depth=4, min_samples_leaf=5, min_samples_split=5, n_estimators=400;, score=0.917 total time=   0.5s\n",
      "[CV 5/5] END max_depth=4, min_samples_leaf=5, min_samples_split=5, n_estimators=400;, score=0.773 total time=   0.5s\n",
      "[CV 1/5] END max_depth=7, min_samples_leaf=4, min_samples_split=5, n_estimators=300;, score=0.884 total time=   0.4s\n",
      "[CV 2/5] END max_depth=7, min_samples_leaf=4, min_samples_split=5, n_estimators=300;, score=0.880 total time=   0.4s\n",
      "[CV 3/5] END max_depth=7, min_samples_leaf=4, min_samples_split=5, n_estimators=300;, score=0.784 total time=   0.4s\n",
      "[CV 4/5] END max_depth=7, min_samples_leaf=4, min_samples_split=5, n_estimators=300;, score=0.917 total time=   0.4s\n",
      "[CV 5/5] END max_depth=7, min_samples_leaf=4, min_samples_split=5, n_estimators=300;, score=0.744 total time=   0.4s\n",
      "[CV 1/5] END max_depth=8, min_samples_leaf=6, min_samples_split=2, n_estimators=300;, score=0.884 total time=   0.4s\n",
      "[CV 2/5] END max_depth=8, min_samples_leaf=6, min_samples_split=2, n_estimators=300;, score=0.880 total time=   0.4s\n",
      "[CV 3/5] END max_depth=8, min_samples_leaf=6, min_samples_split=2, n_estimators=300;, score=0.784 total time=   0.4s\n",
      "[CV 4/5] END max_depth=8, min_samples_leaf=6, min_samples_split=2, n_estimators=300;, score=0.917 total time=   0.4s\n",
      "[CV 5/5] END max_depth=8, min_samples_leaf=6, min_samples_split=2, n_estimators=300;, score=0.773 total time=   0.4s\n",
      "[CV 1/5] END max_depth=8, min_samples_leaf=5, min_samples_split=2, n_estimators=400;, score=0.884 total time=   0.6s\n",
      "[CV 2/5] END max_depth=8, min_samples_leaf=5, min_samples_split=2, n_estimators=400;, score=0.857 total time=   0.7s\n",
      "[CV 3/5] END max_depth=8, min_samples_leaf=5, min_samples_split=2, n_estimators=400;, score=0.784 total time=   0.6s\n",
      "[CV 4/5] END max_depth=8, min_samples_leaf=5, min_samples_split=2, n_estimators=400;, score=0.917 total time=   0.7s\n",
      "[CV 5/5] END max_depth=8, min_samples_leaf=5, min_samples_split=2, n_estimators=400;, score=0.744 total time=   0.6s\n",
      "[CV 1/5] END max_depth=5, min_samples_leaf=6, min_samples_split=10, n_estimators=50;, score=0.857 total time=   0.0s\n",
      "[CV 2/5] END max_depth=5, min_samples_leaf=6, min_samples_split=10, n_estimators=50;, score=0.917 total time=   0.0s\n",
      "[CV 3/5] END max_depth=5, min_samples_leaf=6, min_samples_split=10, n_estimators=50;, score=0.808 total time=   0.0s\n",
      "[CV 4/5] END max_depth=5, min_samples_leaf=6, min_samples_split=10, n_estimators=50;, score=0.936 total time=   0.0s\n",
      "[CV 5/5] END max_depth=5, min_samples_leaf=6, min_samples_split=10, n_estimators=50;, score=0.756 total time=   0.0s\n",
      "[CV 1/5] END max_depth=9, min_samples_leaf=4, min_samples_split=5, n_estimators=300;, score=0.884 total time=   0.5s\n",
      "[CV 2/5] END max_depth=9, min_samples_leaf=4, min_samples_split=5, n_estimators=300;, score=0.857 total time=   0.4s\n",
      "[CV 3/5] END max_depth=9, min_samples_leaf=4, min_samples_split=5, n_estimators=300;, score=0.784 total time=   0.4s\n",
      "[CV 4/5] END max_depth=9, min_samples_leaf=4, min_samples_split=5, n_estimators=300;, score=0.917 total time=   0.4s\n",
      "[CV 5/5] END max_depth=9, min_samples_leaf=4, min_samples_split=5, n_estimators=300;, score=0.762 total time=   0.4s\n",
      "[CV 1/5] END max_depth=6, min_samples_leaf=2, min_samples_split=5, n_estimators=10;, score=0.800 total time=   0.0s\n",
      "[CV 2/5] END max_depth=6, min_samples_leaf=2, min_samples_split=5, n_estimators=10;, score=0.898 total time=   0.0s\n",
      "[CV 3/5] END max_depth=6, min_samples_leaf=2, min_samples_split=5, n_estimators=10;, score=0.776 total time=   0.0s\n",
      "[CV 4/5] END max_depth=6, min_samples_leaf=2, min_samples_split=5, n_estimators=10;, score=0.889 total time=   0.0s\n",
      "[CV 5/5] END max_depth=6, min_samples_leaf=2, min_samples_split=5, n_estimators=10;, score=0.750 total time=   0.0s\n",
      "[CV 1/5] END max_depth=7, min_samples_leaf=6, min_samples_split=5, n_estimators=100;, score=0.864 total time=   0.1s\n",
      "[CV 2/5] END max_depth=7, min_samples_leaf=6, min_samples_split=5, n_estimators=100;, score=0.880 total time=   0.2s\n",
      "[CV 3/5] END max_depth=7, min_samples_leaf=6, min_samples_split=5, n_estimators=100;, score=0.760 total time=   0.1s\n",
      "[CV 4/5] END max_depth=7, min_samples_leaf=6, min_samples_split=5, n_estimators=100;, score=0.917 total time=   0.1s\n",
      "[CV 5/5] END max_depth=7, min_samples_leaf=6, min_samples_split=5, n_estimators=100;, score=0.762 total time=   0.1s\n"
     ]
    },
    {
     "name": "stdout",
     "output_type": "stream",
     "text": [
      "[CV 1/5] END max_depth=4, min_samples_leaf=3, min_samples_split=2, n_estimators=200;, score=0.913 total time=   0.2s\n",
      "[CV 2/5] END max_depth=4, min_samples_leaf=3, min_samples_split=2, n_estimators=200;, score=0.857 total time=   0.3s\n",
      "[CV 3/5] END max_depth=4, min_samples_leaf=3, min_samples_split=2, n_estimators=200;, score=0.808 total time=   0.3s\n",
      "[CV 4/5] END max_depth=4, min_samples_leaf=3, min_samples_split=2, n_estimators=200;, score=0.917 total time=   0.2s\n",
      "[CV 5/5] END max_depth=4, min_samples_leaf=3, min_samples_split=2, n_estimators=200;, score=0.744 total time=   0.2s\n",
      "[CV 1/5] END max_depth=8, min_samples_leaf=5, min_samples_split=2, n_estimators=200;, score=0.884 total time=   0.2s\n",
      "[CV 2/5] END max_depth=8, min_samples_leaf=5, min_samples_split=2, n_estimators=200;, score=0.880 total time=   0.3s\n",
      "[CV 3/5] END max_depth=8, min_samples_leaf=5, min_samples_split=2, n_estimators=200;, score=0.784 total time=   0.3s\n",
      "[CV 4/5] END max_depth=8, min_samples_leaf=5, min_samples_split=2, n_estimators=200;, score=0.917 total time=   0.3s\n",
      "[CV 5/5] END max_depth=8, min_samples_leaf=5, min_samples_split=2, n_estimators=200;, score=0.762 total time=   0.4s\n",
      "[CV 1/5] END max_depth=10, min_samples_leaf=6, min_samples_split=5, n_estimators=200;, score=0.864 total time=   0.3s\n",
      "[CV 2/5] END max_depth=10, min_samples_leaf=6, min_samples_split=5, n_estimators=200;, score=0.857 total time=   0.3s\n",
      "[CV 3/5] END max_depth=10, min_samples_leaf=6, min_samples_split=5, n_estimators=200;, score=0.784 total time=   0.3s\n",
      "[CV 4/5] END max_depth=10, min_samples_leaf=6, min_samples_split=5, n_estimators=200;, score=0.917 total time=   0.2s\n",
      "[CV 5/5] END max_depth=10, min_samples_leaf=6, min_samples_split=5, n_estimators=200;, score=0.800 total time=   0.4s\n",
      "[CV 1/5] END max_depth=5, min_samples_leaf=2, min_samples_split=2, n_estimators=50;, score=0.864 total time=   0.0s\n",
      "[CV 2/5] END max_depth=5, min_samples_leaf=2, min_samples_split=2, n_estimators=50;, score=0.880 total time=   0.0s\n",
      "[CV 3/5] END max_depth=5, min_samples_leaf=2, min_samples_split=2, n_estimators=50;, score=0.824 total time=   0.0s\n",
      "[CV 4/5] END max_depth=5, min_samples_leaf=2, min_samples_split=2, n_estimators=50;, score=0.917 total time=   0.0s\n",
      "[CV 5/5] END max_depth=5, min_samples_leaf=2, min_samples_split=2, n_estimators=50;, score=0.756 total time=   0.0s\n",
      "[CV 1/5] END max_depth=9, min_samples_leaf=4, min_samples_split=2, n_estimators=50;, score=0.884 total time=   0.0s\n",
      "[CV 2/5] END max_depth=9, min_samples_leaf=4, min_samples_split=2, n_estimators=50;, score=0.880 total time=   0.0s\n",
      "[CV 3/5] END max_depth=9, min_samples_leaf=4, min_samples_split=2, n_estimators=50;, score=0.745 total time=   0.0s\n",
      "[CV 4/5] END max_depth=9, min_samples_leaf=4, min_samples_split=2, n_estimators=50;, score=0.936 total time=   0.0s\n",
      "[CV 5/5] END max_depth=9, min_samples_leaf=4, min_samples_split=2, n_estimators=50;, score=0.800 total time=   0.0s\n",
      "[CV 1/5] END max_depth=7, min_samples_leaf=3, min_samples_split=5, n_estimators=100;, score=0.884 total time=   0.1s\n",
      "[CV 2/5] END max_depth=7, min_samples_leaf=3, min_samples_split=5, n_estimators=100;, score=0.880 total time=   0.1s\n",
      "[CV 3/5] END max_depth=7, min_samples_leaf=3, min_samples_split=5, n_estimators=100;, score=0.776 total time=   0.1s\n",
      "[CV 4/5] END max_depth=7, min_samples_leaf=3, min_samples_split=5, n_estimators=100;, score=0.917 total time=   0.1s\n",
      "[CV 5/5] END max_depth=7, min_samples_leaf=3, min_samples_split=5, n_estimators=100;, score=0.744 total time=   0.1s\n",
      "[CV 1/5] END max_depth=10, min_samples_leaf=2, min_samples_split=5, n_estimators=100;, score=0.857 total time=   0.1s\n",
      "[CV 2/5] END max_depth=10, min_samples_leaf=2, min_samples_split=5, n_estimators=100;, score=0.833 total time=   0.1s\n",
      "[CV 3/5] END max_depth=10, min_samples_leaf=2, min_samples_split=5, n_estimators=100;, score=0.745 total time=   0.1s\n",
      "[CV 4/5] END max_depth=10, min_samples_leaf=2, min_samples_split=5, n_estimators=100;, score=0.870 total time=   0.1s\n",
      "[CV 5/5] END max_depth=10, min_samples_leaf=2, min_samples_split=5, n_estimators=100;, score=0.791 total time=   0.1s\n",
      "[CV 1/5] END max_depth=9, min_samples_leaf=4, min_samples_split=10, n_estimators=100;, score=0.889 total time=   0.1s\n",
      "[CV 2/5] END max_depth=9, min_samples_leaf=4, min_samples_split=10, n_estimators=100;, score=0.857 total time=   0.1s\n",
      "[CV 3/5] END max_depth=9, min_samples_leaf=4, min_samples_split=10, n_estimators=100;, score=0.824 total time=   0.1s\n",
      "[CV 4/5] END max_depth=9, min_samples_leaf=4, min_samples_split=10, n_estimators=100;, score=0.917 total time=   0.1s\n",
      "[CV 5/5] END max_depth=9, min_samples_leaf=4, min_samples_split=10, n_estimators=100;, score=0.818 total time=   0.2s\n"
     ]
    },
    {
     "data": {
      "text/plain": [
       "RandomizedSearchCV(cv=5, estimator=RandomForestClassifier(), n_iter=50,\n",
       "                   param_distributions={'max_depth': [4, 5, 6, 7, 8, 9, 10],\n",
       "                                        'min_samples_leaf': [2, 3, 4, 5, 6],\n",
       "                                        'min_samples_split': [2, 5, 10],\n",
       "                                        'n_estimators': [10, 50, 100, 200, 300,\n",
       "                                                         400]},\n",
       "                   scoring='f1', verbose=3)"
      ]
     },
     "execution_count": 34,
     "metadata": {},
     "output_type": "execute_result"
    }
   ],
   "source": [
    "rscv.fit(xtrain,ytrain.values.flatten())"
   ]
  },
  {
   "cell_type": "code",
   "execution_count": 36,
   "id": "424c7734",
   "metadata": {},
   "outputs": [
    {
     "data": {
      "text/plain": [
       "0.8608819285289873"
      ]
     },
     "execution_count": 36,
     "metadata": {},
     "output_type": "execute_result"
    }
   ],
   "source": [
    "rscv.best_score_"
   ]
  },
  {
   "cell_type": "markdown",
   "id": "bd2550ed",
   "metadata": {},
   "source": [
    "Q7. Report the best set of hyperparameters found by the search and the corresponding performance\n",
    "metrics. Compare the performance of the tuned model with the default model.\n"
   ]
  },
  {
   "cell_type": "code",
   "execution_count": 37,
   "id": "950d1296",
   "metadata": {},
   "outputs": [
    {
     "data": {
      "text/plain": [
       "{'n_estimators': 100,\n",
       " 'min_samples_split': 10,\n",
       " 'min_samples_leaf': 4,\n",
       " 'max_depth': 9}"
      ]
     },
     "execution_count": 37,
     "metadata": {},
     "output_type": "execute_result"
    }
   ],
   "source": [
    "# Best Parameters\n",
    "rscv.best_params_"
   ]
  },
  {
   "cell_type": "code",
   "execution_count": 38,
   "id": "cfdc650b",
   "metadata": {},
   "outputs": [
    {
     "data": {
      "text/plain": [
       "RandomForestClassifier(max_depth=9, min_samples_leaf=4, min_samples_split=10)"
      ]
     },
     "execution_count": 38,
     "metadata": {},
     "output_type": "execute_result"
    }
   ],
   "source": [
    "# Best Estimator (Model)\n",
    "rscv.best_estimator_"
   ]
  },
  {
   "cell_type": "code",
   "execution_count": 39,
   "id": "e840f492",
   "metadata": {},
   "outputs": [
    {
     "data": {
      "text/plain": [
       "0.8608819285289873"
      ]
     },
     "execution_count": 39,
     "metadata": {},
     "output_type": "execute_result"
    }
   ],
   "source": [
    "# Best F1 Score\n",
    "rscv.best_score_"
   ]
  },
  {
   "cell_type": "code",
   "execution_count": 40,
   "id": "30af6ec9",
   "metadata": {},
   "outputs": [
    {
     "name": "stdout",
     "output_type": "stream",
     "text": [
      "Results for Tuned Model :\n",
      "\n",
      "Accuracy Score  : 0.8352\n",
      "Precision Score : 0.8302\n",
      "Recall Score    : 0.8800\n",
      "F1 Score        : 0.8544\n"
     ]
    }
   ],
   "source": [
    "# Testing Accuracy on tuned model\n",
    "print('Results for Tuned Model :\\n')\n",
    "acc_tuned, pre_tuned , rec_tuned, f1_tuned = evaluate_model(xtest,ytest.values.flatten(),rscv)\n"
   ]
  },
  {
   "cell_type": "code",
   "execution_count": 41,
   "id": "ae934880",
   "metadata": {},
   "outputs": [],
   "source": [
    "dct = {\n",
    "    'metrics':['accuracy','precision','recall','f1'],\n",
    "    'base model':[acc_base,pre_base,rec_base,f1_base],\n",
    "    'tuned model':[acc_tuned,pre_tuned,rec_tuned,f1_tuned]\n",
    "}"
   ]
  },
  {
   "cell_type": "code",
   "execution_count": 42,
   "id": "89728306",
   "metadata": {},
   "outputs": [
    {
     "data": {
      "text/html": [
       "<div>\n",
       "<style scoped>\n",
       "    .dataframe tbody tr th:only-of-type {\n",
       "        vertical-align: middle;\n",
       "    }\n",
       "\n",
       "    .dataframe tbody tr th {\n",
       "        vertical-align: top;\n",
       "    }\n",
       "\n",
       "    .dataframe thead th {\n",
       "        text-align: right;\n",
       "    }\n",
       "</style>\n",
       "<table border=\"1\" class=\"dataframe\">\n",
       "  <thead>\n",
       "    <tr style=\"text-align: right;\">\n",
       "      <th></th>\n",
       "      <th>metrics</th>\n",
       "      <th>base model</th>\n",
       "      <th>tuned model</th>\n",
       "    </tr>\n",
       "  </thead>\n",
       "  <tbody>\n",
       "    <tr>\n",
       "      <th>0</th>\n",
       "      <td>accuracy</td>\n",
       "      <td>0.846154</td>\n",
       "      <td>0.835165</td>\n",
       "    </tr>\n",
       "    <tr>\n",
       "      <th>1</th>\n",
       "      <td>precision</td>\n",
       "      <td>0.860000</td>\n",
       "      <td>0.830189</td>\n",
       "    </tr>\n",
       "    <tr>\n",
       "      <th>2</th>\n",
       "      <td>recall</td>\n",
       "      <td>0.860000</td>\n",
       "      <td>0.880000</td>\n",
       "    </tr>\n",
       "    <tr>\n",
       "      <th>3</th>\n",
       "      <td>f1</td>\n",
       "      <td>0.860000</td>\n",
       "      <td>0.854369</td>\n",
       "    </tr>\n",
       "  </tbody>\n",
       "</table>\n",
       "</div>"
      ],
      "text/plain": [
       "     metrics  base model  tuned model\n",
       "0   accuracy    0.846154     0.835165\n",
       "1  precision    0.860000     0.830189\n",
       "2     recall    0.860000     0.880000\n",
       "3         f1    0.860000     0.854369"
      ]
     },
     "execution_count": 42,
     "metadata": {},
     "output_type": "execute_result"
    }
   ],
   "source": [
    "df_compare = pd.DataFrame(dct)\n",
    "df_compare"
   ]
  },
  {
   "cell_type": "markdown",
   "id": "108a5ee6",
   "metadata": {},
   "source": [
    "All parameters of the tuned model increases all scores."
   ]
  },
  {
   "cell_type": "markdown",
   "id": "71c07a0e",
   "metadata": {},
   "source": [
    "Q8. Interpret the model by analysing the decision boundaries of the random forest classifier. Plot the\n",
    "decision boundaries on a scatter plot of two of the most important features. Discuss the insights and\n",
    "limitations of the model for predicting heart disease risk."
   ]
  },
  {
   "cell_type": "code",
   "execution_count": 43,
   "id": "339e6295",
   "metadata": {},
   "outputs": [
    {
     "data": {
      "text/plain": [
       "RandomForestClassifier(max_depth=9, min_samples_leaf=4, min_samples_split=10)"
      ]
     },
     "execution_count": 43,
     "metadata": {},
     "output_type": "execute_result"
    }
   ],
   "source": [
    "best_rfc = rscv.best_estimator_\n",
    "best_rfc"
   ]
  },
  {
   "cell_type": "code",
   "execution_count": 44,
   "id": "dda04b4c",
   "metadata": {},
   "outputs": [
    {
     "data": {
      "text/plain": [
       "ca          0.161898\n",
       "cp          0.158788\n",
       "thal        0.121230\n",
       "exang       0.117358\n",
       "oldpeak     0.108906\n",
       "thalach     0.095726\n",
       "slope       0.063871\n",
       "age         0.053342\n",
       "trestbps    0.034501\n",
       "chol        0.034094\n",
       "sex         0.032548\n",
       "restecg     0.014255\n",
       "fbs         0.003482\n",
       "dtype: float64"
      ]
     },
     "execution_count": 44,
     "metadata": {},
     "output_type": "execute_result"
    }
   ],
   "source": [
    "imp_tuned = best_rfc.feature_importances_\n",
    "imp_tuned = pd.Series(imp_tuned)\n",
    "imp_tuned.index = best_rfc.feature_names_in_\n",
    "imp_tuned = imp_tuned.sort_values(ascending=False)\n",
    "imp_tuned"
   ]
  },
  {
   "cell_type": "code",
   "execution_count": 45,
   "id": "c06ab37b",
   "metadata": {},
   "outputs": [
    {
     "data": {
      "text/plain": [
       "ca    0.161898\n",
       "cp    0.158788\n",
       "dtype: float64"
      ]
     },
     "execution_count": 45,
     "metadata": {},
     "output_type": "execute_result"
    }
   ],
   "source": [
    "imp_tuned[0:2]"
   ]
  },
  {
   "cell_type": "code",
   "execution_count": 46,
   "id": "f42f6362",
   "metadata": {},
   "outputs": [
    {
     "data": {
      "text/plain": [
       "<AxesSubplot:title={'center':'Feature Importances for tuned model'}>"
      ]
     },
     "execution_count": 46,
     "metadata": {},
     "output_type": "execute_result"
    },
    {
     "data": {
      "image/png": "[encoded data removed]",
      "text/plain": [
       "<Figure size 1600x800 with 1 Axes>"
      ]
     },
     "metadata": {},
     "output_type": "display_data"
    }
   ],
   "source": [
    "imp_tuned.plot(kind='bar',title='Feature Importances for tuned model',figsize=(16,8))\n"
   ]
  },
  {
   "cell_type": "code",
   "execution_count": 47,
   "id": "fa69e84b",
   "metadata": {},
   "outputs": [
    {
     "data": {
      "text/html": [
       "<div>\n",
       "<style scoped>\n",
       "    .dataframe tbody tr th:only-of-type {\n",
       "        vertical-align: middle;\n",
       "    }\n",
       "\n",
       "    .dataframe tbody tr th {\n",
       "        vertical-align: top;\n",
       "    }\n",
       "\n",
       "    .dataframe thead th {\n",
       "        text-align: right;\n",
       "    }\n",
       "</style>\n",
       "<table border=\"1\" class=\"dataframe\">\n",
       "  <thead>\n",
       "    <tr style=\"text-align: right;\">\n",
       "      <th></th>\n",
       "      <th>ca</th>\n",
       "      <th>cp</th>\n",
       "    </tr>\n",
       "  </thead>\n",
       "  <tbody>\n",
       "    <tr>\n",
       "      <th>124</th>\n",
       "      <td>0</td>\n",
       "      <td>2</td>\n",
       "    </tr>\n",
       "    <tr>\n",
       "      <th>72</th>\n",
       "      <td>0</td>\n",
       "      <td>1</td>\n",
       "    </tr>\n",
       "    <tr>\n",
       "      <th>15</th>\n",
       "      <td>0</td>\n",
       "      <td>2</td>\n",
       "    </tr>\n",
       "    <tr>\n",
       "      <th>10</th>\n",
       "      <td>0</td>\n",
       "      <td>0</td>\n",
       "    </tr>\n",
       "    <tr>\n",
       "      <th>163</th>\n",
       "      <td>4</td>\n",
       "      <td>2</td>\n",
       "    </tr>\n",
       "  </tbody>\n",
       "</table>\n",
       "</div>"
      ],
      "text/plain": [
       "     ca  cp\n",
       "124   0   2\n",
       "72    0   1\n",
       "15    0   2\n",
       "10    0   0\n",
       "163   4   2"
      ]
     },
     "execution_count": 47,
     "metadata": {},
     "output_type": "execute_result"
    }
   ],
   "source": [
    "top2 = xtrain[['ca','cp']]\n",
    "top2.head()"
   ]
  },
  {
   "cell_type": "code",
   "execution_count": 48,
   "id": "52372ac9",
   "metadata": {},
   "outputs": [
    {
     "data": {
      "text/html": [
       "<div>\n",
       "<style scoped>\n",
       "    .dataframe tbody tr th:only-of-type {\n",
       "        vertical-align: middle;\n",
       "    }\n",
       "\n",
       "    .dataframe tbody tr th {\n",
       "        vertical-align: top;\n",
       "    }\n",
       "\n",
       "    .dataframe thead th {\n",
       "        text-align: right;\n",
       "    }\n",
       "</style>\n",
       "<table border=\"1\" class=\"dataframe\">\n",
       "  <thead>\n",
       "    <tr style=\"text-align: right;\">\n",
       "      <th></th>\n",
       "      <th>ca</th>\n",
       "      <th>cp</th>\n",
       "      <th>target</th>\n",
       "    </tr>\n",
       "  </thead>\n",
       "  <tbody>\n",
       "    <tr>\n",
       "      <th>124</th>\n",
       "      <td>0</td>\n",
       "      <td>2</td>\n",
       "      <td>1</td>\n",
       "    </tr>\n",
       "    <tr>\n",
       "      <th>72</th>\n",
       "      <td>0</td>\n",
       "      <td>1</td>\n",
       "      <td>1</td>\n",
       "    </tr>\n",
       "    <tr>\n",
       "      <th>15</th>\n",
       "      <td>0</td>\n",
       "      <td>2</td>\n",
       "      <td>1</td>\n",
       "    </tr>\n",
       "    <tr>\n",
       "      <th>10</th>\n",
       "      <td>0</td>\n",
       "      <td>0</td>\n",
       "      <td>1</td>\n",
       "    </tr>\n",
       "    <tr>\n",
       "      <th>163</th>\n",
       "      <td>4</td>\n",
       "      <td>2</td>\n",
       "      <td>1</td>\n",
       "    </tr>\n",
       "  </tbody>\n",
       "</table>\n",
       "</div>"
      ],
      "text/plain": [
       "     ca  cp  target\n",
       "124   0   2       1\n",
       "72    0   1       1\n",
       "15    0   2       1\n",
       "10    0   0       1\n",
       "163   4   2       1"
      ]
     },
     "execution_count": 48,
     "metadata": {},
     "output_type": "execute_result"
    }
   ],
   "source": [
    "df_top2 =pd.concat([top2,ytrain],axis=1)\n",
    "df_top2.head()"
   ]
  },
  {
   "cell_type": "code",
   "execution_count": 50,
   "id": "ef587b8d",
   "metadata": {},
   "outputs": [
    {
     "data": {
      "image/png": "[encoded data removed]",
      "text/plain": [
       "<Figure size 640x480 with 1 Axes>"
      ]
     },
     "metadata": {},
     "output_type": "display_data"
    }
   ],
   "source": [
    "import seaborn as sns\n",
    "import matplotlib.pyplot as plt\n",
    "sns.scatterplot(data=df_top2,x='ca',y='cp',hue='target')\n",
    "plt.title('Actual Class Target plot')\n",
    "plt.show()"
   ]
  },
  {
   "cell_type": "code",
   "execution_count": 51,
   "id": "95fc1370",
   "metadata": {},
   "outputs": [],
   "source": [
    "df_top2['predicted'] = best_rfc.predict(xtrain)"
   ]
  },
  {
   "cell_type": "code",
   "execution_count": 52,
   "id": "f5cc47c9",
   "metadata": {},
   "outputs": [
    {
     "data": {
      "image/png": "[encoded data removed]",
      "text/plain": [
       "<Figure size 640x480 with 1 Axes>"
      ]
     },
     "metadata": {},
     "output_type": "display_data"
    }
   ],
   "source": [
    "sns.scatterplot(data=df_top2,x='ca',y='cp',hue='predicted')\n",
    "plt.title('Predicted Class Target plot')\n",
    "plt.show()"
   ]
  },
  {
   "cell_type": "code",
   "execution_count": null,
   "id": "72f32a45",
   "metadata": {},
   "outputs": [],
   "source": []
  }
 ],
 "metadata": {
  "kernelspec": {
   "display_name": "Python 3 (ipykernel)",
   "language": "python",
   "name": "python3"
  },
  "language_info": {
   "codemirror_mode": {
    "name": "ipython",
    "version": 3
   },
   "file_extension": ".py",
   "mimetype": "text/x-python",
   "name": "python",
   "nbconvert_exporter": "python",
   "pygments_lexer": "ipython3",
   "version": "3.9.13"
  }
 },
 "nbformat": 4,
 "nbformat_minor": 5
}
