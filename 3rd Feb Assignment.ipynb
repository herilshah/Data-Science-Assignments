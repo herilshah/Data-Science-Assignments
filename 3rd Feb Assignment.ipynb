{
 "cells": [
  {
   "cell_type": "markdown",
   "id": "cb77aa97-5cf9-48f7-8845-740e20ef6961",
   "metadata": {},
   "source": [
    "Q1. Which keyword is used to create a function? Create a function to return a list of odd numbers in the\n",
    "range of 1 to 25."
   ]
  },
  {
   "cell_type": "markdown",
   "id": "609806d3-e0ac-4dde-86b4-e8e1c28cb1f8",
   "metadata": {},
   "source": [
    "The keyword used to create a function in Python is \"def\". "
   ]
  },
  {
   "cell_type": "code",
   "execution_count": 25,
   "id": "d7840cc5-836e-44d3-a6cd-3206f049ac71",
   "metadata": {},
   "outputs": [
    {
     "name": "stdout",
     "output_type": "stream",
     "text": [
      "[1, 3, 5, 7, 9, 11, 13, 15, 17, 19, 21, 23, 25]\n"
     ]
    }
   ],
   "source": [
    "def odd_numbers():\n",
    "    odds = []\n",
    "    for i in range(1, 26):\n",
    "        if i % 2 != 0:\n",
    "            odds.append(i)\n",
    "    return odds\n",
    "print(odd_numbers())\n"
   ]
  },
  {
   "cell_type": "markdown",
   "id": "f40b2997-d5d2-400f-a90a-df3afda3fc69",
   "metadata": {},
   "source": [
    "Q2. Why *args and **kwargs is used in some functions? Create a function each for *args and **kwargs\n",
    "to demonstrate their use."
   ]
  },
  {
   "cell_type": "markdown",
   "id": "f211fd9d-c92f-47fb-9bab-b02769c3e7b5",
   "metadata": {},
   "source": [
    "*args and **kwargs are special syntax in Python used to pass a variable number of arguments to a function.\n",
    "\n",
    "*args is used to pass a variable number of non-keyword arguments to a function. The arguments are passed to the function as a tuple.\n",
    "\n",
    "**kwargs is used to pass a variable number of keyword arguments to a function. The arguments are passed to the function as a dictionary."
   ]
  },
  {
   "cell_type": "code",
   "execution_count": 28,
   "id": "674fcb79-e651-43b0-ad15-3c5bbeae9d3b",
   "metadata": {},
   "outputs": [
    {
     "name": "stdout",
     "output_type": "stream",
     "text": [
      "(1, 2, 3)\n"
     ]
    }
   ],
   "source": [
    "def print_args(*args):\n",
    "    print(args)\n",
    "\n",
    "print_args(1, 2, 3)\n",
    "#*args"
   ]
  },
  {
   "cell_type": "code",
   "execution_count": 29,
   "id": "b76f8709-321a-4e7d-a5e1-221737a25189",
   "metadata": {},
   "outputs": [
    {
     "name": "stdout",
     "output_type": "stream",
     "text": [
      "{'a': 1, 'b': 2, 'c': 3}\n"
     ]
    }
   ],
   "source": [
    "def print_kwargs(**kwargs):\n",
    "    print(kwargs)\n",
    "\n",
    "print_kwargs(a=1, b=2, c=3)\n",
    "#*kwargs"
   ]
  },
  {
   "cell_type": "markdown",
   "id": "3ff0d7ef-51e0-42db-b107-c080645e5546",
   "metadata": {},
   "source": [
    "Q3. What is an iterator in python? Name the method used to initialise the iterator object and the method\n",
    "used for iteration. Use these methods to print the first five elements of the given list [2, 4, 6, 8, 10, 12, 14,\n",
    "16, 18, 20]."
   ]
  },
  {
   "cell_type": "markdown",
   "id": "8dc1e9ab-0e67-4cf3-82cc-d5fae91d6a94",
   "metadata": {},
   "source": [
    "An iterator in Python is an object that can be iterated (looped) upon. The elements are returned one at a time. In other words, an iterator is an object that implements the iterator protocol, which consists of the methods __iter__() and __next__().\n",
    "The __iter__ method is used to initialize the iterator object and is called automatically when an iterator is used in a for loop. The __next__ method is used for iteration and returns the next value in the sequence.\n"
   ]
  },
  {
   "cell_type": "code",
   "execution_count": 31,
   "id": "edd7d895-c257-4380-b1b5-5b560830b528",
   "metadata": {},
   "outputs": [
    {
     "name": "stdout",
     "output_type": "stream",
     "text": [
      "2\n",
      "4\n",
      "6\n",
      "8\n",
      "10\n"
     ]
    }
   ],
   "source": [
    "class IterateList:\n",
    "    def __init__(self, lst):\n",
    "        self.lst = lst\n",
    "        self.index = 0\n",
    "\n",
    "    def __iter__(self):\n",
    "        return self\n",
    "\n",
    "    def __next__(self):\n",
    "        if self.index < len(self.lst):\n",
    "            value = self.lst[self.index]\n",
    "            self.index += 1\n",
    "            return value\n",
    "        else:\n",
    "            raise StopIteration\n",
    "\n",
    "lst = [2, 4, 6, 8, 10, 12, 14, 16, 18, 20]\n",
    "it = IterateList(lst)\n",
    "for i in range(5):\n",
    "    print(next(it))\n"
   ]
  },
  {
   "cell_type": "markdown",
   "id": "1475dd65-16b8-455e-97fa-d819ef665d51",
   "metadata": {},
   "source": [
    "What is a generator function in python? Why yield keyword is used? Give an example of a generator\n",
    "function."
   ]
  },
  {
   "cell_type": "markdown",
   "id": "adb301e8-4e1e-4aaf-b336-f7ed90c94bb3",
   "metadata": {},
   "source": [
    "A generator function in Python is a special type of function that returns a generator object, which is an iterator that generates values one at a time. The yield keyword is used to return a value from the generator function and \"pauses\" the function's execution until the next value is requested.\n",
    "\n",
    "The yield keyword is used instead of return because a normal function stops executing when it hits a return statement, but a generator function continues executing until the next value is requested or until the generator is exhausted. This allows a generator function to generate a potentially large sequence of values one at a time, which is much more memory-efficient than generating the entire sequence and returning it as a list."
   ]
  },
  {
   "cell_type": "code",
   "execution_count": 32,
   "id": "222db1fb-ee6b-4d43-8504-1f8922190928",
   "metadata": {},
   "outputs": [
    {
     "name": "stdout",
     "output_type": "stream",
     "text": [
      "0\n",
      "1\n",
      "1\n",
      "2\n",
      "3\n",
      "5\n",
      "8\n",
      "13\n",
      "21\n",
      "34\n"
     ]
    }
   ],
   "source": [
    "def fibonacci(n):\n",
    "    a, b = 0, 1\n",
    "    for i in range(n):\n",
    "        yield a\n",
    "        a, b = b, a + b\n",
    "\n",
    "f = fibonacci(10)\n",
    "for i in f:\n",
    "    print(i)\n"
   ]
  },
  {
   "cell_type": "markdown",
   "id": "6a14e5f8-f934-4bdd-af2a-3251de37957b",
   "metadata": {},
   "source": [
    "Q5. Create a generator function for prime numbers less than 1000. Use the next() method to print the\n",
    "first 20 prime numbers."
   ]
  },
  {
   "cell_type": "code",
   "execution_count": 33,
   "id": "87a725e9-3b30-462f-b7ba-1960206af96f",
   "metadata": {},
   "outputs": [
    {
     "name": "stdout",
     "output_type": "stream",
     "text": [
      "2\n",
      "3\n",
      "5\n",
      "7\n",
      "11\n",
      "13\n",
      "17\n",
      "19\n",
      "23\n",
      "29\n",
      "31\n",
      "37\n",
      "41\n",
      "43\n",
      "47\n",
      "53\n",
      "59\n",
      "61\n",
      "67\n",
      "71\n"
     ]
    }
   ],
   "source": [
    "def prime_numbers():\n",
    "    yield 2\n",
    "    primes = [2]\n",
    "    num = 3\n",
    "    while num < 1000:\n",
    "        for p in primes:\n",
    "            if num % p == 0:\n",
    "                break\n",
    "        else:\n",
    "            primes.append(num)\n",
    "            yield num\n",
    "        num += 2\n",
    "\n",
    "p = prime_numbers()\n",
    "for i in range(20):\n",
    "    print(next(p))\n"
   ]
  },
  {
   "cell_type": "markdown",
   "id": "9875964e-7e43-4491-95ba-9d45da592c28",
   "metadata": {},
   "source": [
    "Q6. Write a python program to print the first 10 Fibonacci numbers using a while loop."
   ]
  },
  {
   "cell_type": "code",
   "execution_count": 34,
   "id": "d2e6a259-509f-416d-91a6-66a23d82ce77",
   "metadata": {},
   "outputs": [
    {
     "name": "stdout",
     "output_type": "stream",
     "text": [
      "0\n",
      "1\n",
      "1\n",
      "2\n",
      "3\n",
      "5\n",
      "8\n",
      "13\n",
      "21\n",
      "34\n"
     ]
    }
   ],
   "source": [
    "def fibonacci(n):\n",
    "    a, b = 0, 1\n",
    "    count = 0\n",
    "    while count < n:\n",
    "        yield a\n",
    "        a, b = b, a + b\n",
    "        count += 1\n",
    "\n",
    "f = fibonacci(10)\n",
    "for i in f:\n",
    "    print(i)\n"
   ]
  },
  {
   "cell_type": "markdown",
   "id": "69ef963d-3afe-4923-ae87-3faced235750",
   "metadata": {},
   "source": [
    "Q7. Write a List Comprehension to iterate through the given string: ‘pwskills’.\n",
    "Expected output: ['p', 'w', 's', 'k', 'i', 'l', 'l', 's']"
   ]
  },
  {
   "cell_type": "code",
   "execution_count": 35,
   "id": "47e5a4c0-9295-4352-a11f-b121576caa74",
   "metadata": {},
   "outputs": [
    {
     "name": "stdout",
     "output_type": "stream",
     "text": [
      "['p', 'w', 's', 'k', 'i', 'l', 'l', 's']\n"
     ]
    }
   ],
   "source": [
    "string = \"pwskills\"\n",
    "letters = [letter for letter in string]\n",
    "print(letters)\n"
   ]
  },
  {
   "cell_type": "markdown",
   "id": "7a06ad9c-96ab-4edc-ac4f-2a6a309f5975",
   "metadata": {},
   "source": [
    "Q8. Write a python program to check whether a given number is Palindrome or not using a while loop."
   ]
  },
  {
   "cell_type": "code",
   "execution_count": 40,
   "id": "67a8887a-2f8b-4beb-8b90-63c9ac70088f",
   "metadata": {},
   "outputs": [
    {
     "name": "stdin",
     "output_type": "stream",
     "text": [
      "Enter a number:  121\n"
     ]
    },
    {
     "name": "stdout",
     "output_type": "stream",
     "text": [
      "121 is a palindrome\n"
     ]
    }
   ],
   "source": [
    "def is_palindrome(num):\n",
    "    original = num\n",
    "    reverse = 0\n",
    "    while num > 0:\n",
    "        digit = num % 10\n",
    "        reverse = (reverse * 10) + digit\n",
    "        num = num // 10\n",
    "    return original == reverse\n",
    "\n",
    "num = int(input(\"Enter a number: \"))\n",
    "if is_palindrome(num):\n",
    "    print(num, \"is a palindrome\")\n",
    "else:\n",
    "    print(num, \"is not a palindrome\")\n"
   ]
  },
  {
   "cell_type": "markdown",
   "id": "565b769d-f1d4-4a75-88f5-71fea5674e6b",
   "metadata": {},
   "source": [
    "Q9. Write a code to print odd numbers from 1 to 100 using list comprehension."
   ]
  },
  {
   "cell_type": "code",
   "execution_count": 41,
   "id": "7591e692-6e0c-48c5-aed3-a5b221d58304",
   "metadata": {},
   "outputs": [
    {
     "name": "stdout",
     "output_type": "stream",
     "text": [
      "[1, 3, 5, 7, 9, 11, 13, 15, 17, 19, 21, 23, 25, 27, 29, 31, 33, 35, 37, 39, 41, 43, 45, 47, 49, 51, 53, 55, 57, 59, 61, 63, 65, 67, 69, 71, 73, 75, 77, 79, 81, 83, 85, 87, 89, 91, 93, 95, 97, 99]\n"
     ]
    }
   ],
   "source": [
    "odd_numbers = [number for number in range(1, 101) if number % 2 != 0]\n",
    "print(odd_numbers)\n"
   ]
  },
  {
   "cell_type": "code",
   "execution_count": null,
   "id": "a72d224f-12a9-4430-b844-079db46b3157",
   "metadata": {},
   "outputs": [],
   "source": []
  },
  {
   "cell_type": "code",
   "execution_count": null,
   "id": "280d7111-0404-4cbd-87cc-f55bd6336ef3",
   "metadata": {},
   "outputs": [],
   "source": []
  },
  {
   "cell_type": "code",
   "execution_count": null,
   "id": "e7c9b20a-e504-4d5f-8b11-5717f8102a1b",
   "metadata": {},
   "outputs": [],
   "source": []
  }
 ],
 "metadata": {
  "kernelspec": {
   "display_name": "Python 3 (ipykernel)",
   "language": "python",
   "name": "python3"
  },
  "language_info": {
   "codemirror_mode": {
    "name": "ipython",
    "version": 3
   },
   "file_extension": ".py",
   "mimetype": "text/x-python",
   "name": "python",
   "nbconvert_exporter": "python",
   "pygments_lexer": "ipython3",
   "version": "3.10.8"
  }
 },
 "nbformat": 4,
 "nbformat_minor": 5
}
