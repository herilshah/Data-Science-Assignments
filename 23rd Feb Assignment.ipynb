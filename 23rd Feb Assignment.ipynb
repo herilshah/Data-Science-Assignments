{
 "cells": [
  {
   "cell_type": "markdown",
   "id": "22b557fe-c915-4e4b-86fa-5d334b5f97bb",
   "metadata": {},
   "source": [
    "Q1. Create a Pandas Series that contains the following data: 4, 8, 15, 16, 23, and 42. Then, print the series."
   ]
  },
  {
   "cell_type": "code",
   "execution_count": 1,
   "id": "084e4380-885b-46fb-a385-1394874951dc",
   "metadata": {},
   "outputs": [
    {
     "name": "stdout",
     "output_type": "stream",
     "text": [
      "0     4\n",
      "1     8\n",
      "2    15\n",
      "3    16\n",
      "4    23\n",
      "5    42\n",
      "dtype: int64\n"
     ]
    }
   ],
   "source": [
    "import pandas as pd\n",
    "\n",
    "# Create a Pandas Series\n",
    "my_series = pd.Series([4, 8, 15, 16, 23, 42])\n",
    "\n",
    "# Print the series\n",
    "print(my_series)"
   ]
  },
  {
   "cell_type": "markdown",
   "id": "30760aa8-8bd0-4185-9a01-e8d902af85c0",
   "metadata": {},
   "source": [
    "Q2. Create a variable of list type containing 10 elements in it, and apply pandas.Series function on the variable print it."
   ]
  },
  {
   "cell_type": "code",
   "execution_count": 2,
   "id": "ea65846c-2ebc-486b-a401-df9fa7a645e0",
   "metadata": {},
   "outputs": [
    {
     "name": "stdout",
     "output_type": "stream",
     "text": [
      "0     10\n",
      "1     20\n",
      "2     30\n",
      "3     40\n",
      "4     50\n",
      "5     60\n",
      "6     70\n",
      "7     80\n",
      "8     90\n",
      "9    100\n",
      "dtype: int64\n"
     ]
    }
   ],
   "source": [
    "import pandas as pd\n",
    "\n",
    "# Create a list with 10 elements\n",
    "my_list = [10, 20, 30, 40, 50, 60, 70, 80, 90, 100]\n",
    "\n",
    "# Convert the list to a Pandas Series\n",
    "my_series = pd.Series(my_list)\n",
    "\n",
    "# Print the series\n",
    "print(my_series)"
   ]
  },
  {
   "cell_type": "markdown",
   "id": "17188395-4da3-4539-aaa7-5fb406acead5",
   "metadata": {},
   "source": [
    "Q3. Create a Pandas DataFrame that contains the following data. Then, print the DataFrame."
   ]
  },
  {
   "cell_type": "code",
   "execution_count": 3,
   "id": "dd7676d0-b529-4a46-a4b8-51a8cfe9de76",
   "metadata": {},
   "outputs": [
    {
     "name": "stdout",
     "output_type": "stream",
     "text": [
      "     Name  Age  Gender\n",
      "0   Alice   25  Female\n",
      "1     Bob   30    Male\n",
      "2  Claire   27  Female\n"
     ]
    }
   ],
   "source": [
    "import pandas as pd\n",
    "\n",
    "data = {'Name': ['Alice', 'Bob', 'Claire'],\n",
    "        'Age': [25, 30, 27],\n",
    "        'Gender': ['Female', 'Male', 'Female']}\n",
    "\n",
    "df = pd.DataFrame(data)\n",
    "print(df)"
   ]
  },
  {
   "cell_type": "markdown",
   "id": "7153601a-6445-426d-91c1-74f7a75fa69d",
   "metadata": {},
   "source": [
    "Q4. What is ‘DataFrame’ in pandas and how is it different from pandas.series? Explain with an example."
   ]
  },
  {
   "cell_type": "markdown",
   "id": "ea001730-54dd-4469-a0c5-d04b3583c6d8",
   "metadata": {},
   "source": [
    "In Pandas, a DataFrame is a two-dimensional labeled data structure with columns of potentially different data types. It is similar to a spreadsheet or SQL table, where data is arranged in rows and columns. Each column in a DataFrame can be considered as a Pandas Series.\n",
    "\n",
    "In contrast to a Pandas Series, which is a one-dimensional labeled array that can hold only one data type, a DataFrame can hold multiple data types and supports row and column indexing.\n",
    "\n",
    "Here is an example to illustrate the difference between a Pandas Series and a DataFrame:m"
   ]
  },
  {
   "cell_type": "code",
   "execution_count": 4,
   "id": "8a7e4eac-c7f4-488c-89f3-55cf4e0dfa4c",
   "metadata": {},
   "outputs": [
    {
     "name": "stdout",
     "output_type": "stream",
     "text": [
      "0    1\n",
      "1    2\n",
      "2    3\n",
      "3    4\n",
      "dtype: int64\n",
      "   Name  Age Occupation\n",
      "0  John   25   Engineer\n",
      "1  Jane   30     Doctor\n",
      "2   Jim   35    Teacher\n",
      "3  Joan   40     Lawyer\n"
     ]
    }
   ],
   "source": [
    "import pandas as pd\n",
    "\n",
    "# create a Pandas Series\n",
    "series = pd.Series([1, 2, 3, 4])\n",
    "print(series)\n",
    "\n",
    "\n",
    "# create a DataFrame\n",
    "data = {'Name': ['John', 'Jane', 'Jim', 'Joan'],\n",
    "        'Age': [25, 30, 35, 40],\n",
    "        'Occupation': ['Engineer', 'Doctor', 'Teacher', 'Lawyer']}\n",
    "df = pd.DataFrame(data)\n",
    "print(df)\n"
   ]
  },
  {
   "cell_type": "markdown",
   "id": "bec848a0-8ff1-4efd-9b79-af221755ba51",
   "metadata": {},
   "source": [
    "In this example, the first code block creates a Pandas Series using the pd.Series() constructor. The resulting output is a one-dimensional array with an index and values of type integer.\n",
    "\n",
    "The second code block creates a DataFrame using a dictionary object, where each key represents a column name and the values in the list represent the column values. The resulting output is a two-dimensional table-like structure with labeled rows and columns. The column names are 'Name', 'Age', and 'Occupation', and the values are of mixed data types. Each column of the DataFrame is a Pandas Series"
   ]
  },
  {
   "cell_type": "markdown",
   "id": "aa3b4714-54fd-4aae-a327-8f4b164715e8",
   "metadata": {},
   "source": [
    "Q5. What are some common functions you can use to manipulate data in a Pandas DataFrame? Canyou give an example of when you might use one of these functions?"
   ]
  },
  {
   "cell_type": "markdown",
   "id": "a021125b-e545-4a5d-9501-7f0e6a5d4c3d",
   "metadata": {},
   "source": [
    "There are many common functions that can be used to manipulate data in a Pandas DataFrame. Here are some of the most commonly used functions:\n",
    "\n",
    "head() and tail(): These functions are used to view the first or last few rows of a DataFrame, respectively. They are useful for quickly checking the contents of a DataFrame, especially if it has many rows."
   ]
  },
  {
   "cell_type": "code",
   "execution_count": 7,
   "id": "8cfb10c8-99ab-44cc-bd46-abdbf6f93ac0",
   "metadata": {},
   "outputs": [
    {
     "name": "stdout",
     "output_type": "stream",
     "text": [
      "   Name  Age Occupation\n",
      "0  John   25   Engineer\n",
      "1  Jane   30     Doctor\n",
      "   Name  Age Occupation\n",
      "3  Joan   40     Lawyer\n"
     ]
    }
   ],
   "source": [
    "import pandas as pd\n",
    "\n",
    "# create a DataFrame\n",
    "data = {'Name': ['John', 'Jane', 'Jim', 'Joan'],\n",
    "        'Age': [25, 30, 35, 40],\n",
    "        'Occupation': ['Engineer', 'Doctor', 'Teacher', 'Lawyer']}\n",
    "df = pd.DataFrame(data)\n",
    "\n",
    "# view the first few rows of the DataFrame\n",
    "print(df.head(2))\n",
    "\n",
    "# view the last few rows of the DataFrame\n",
    "print(df.tail(1))\n",
    "\n"
   ]
  },
  {
   "cell_type": "markdown",
   "id": "3e842506-4ab6-4761-8ec0-65e30baea383",
   "metadata": {},
   "source": [
    "describe(): This function is used to generate a statistical summary of a DataFrame, including the count, mean, standard deviation, minimum, maximum, and quartiles of each column. It is useful for gaining a quick understanding of the data in a DataFrame."
   ]
  },
  {
   "cell_type": "code",
   "execution_count": 9,
   "id": "3b75dca5-beac-4fdc-a708-b196ea3073ac",
   "metadata": {},
   "outputs": [
    {
     "name": "stdout",
     "output_type": "stream",
     "text": [
      "             Age\n",
      "count   4.000000\n",
      "mean   32.500000\n",
      "std     6.454972\n",
      "min    25.000000\n",
      "25%    28.750000\n",
      "50%    32.500000\n",
      "75%    36.250000\n",
      "max    40.000000\n"
     ]
    }
   ],
   "source": [
    "import pandas as pd\n",
    "\n",
    "# create a DataFrame\n",
    "data = {'Name': ['John', 'Jane', 'Jim', 'Joan'],\n",
    "        'Age': [25, 30, 35, 40],\n",
    "        'Occupation': ['Engineer', 'Doctor', 'Teacher', 'Lawyer']}\n",
    "df = pd.DataFrame(data)\n",
    "\n",
    "# generate a statistical summary of the DataFrame\n",
    "print(df.describe())\n",
    "\n"
   ]
  },
  {
   "cell_type": "markdown",
   "id": "cda22e2e-5d53-4589-ae76-dcf58436a4be",
   "metadata": {},
   "source": [
    "sort_values(): This function is used to sort the rows of a DataFrame by one or more columns. It is useful for ordering the data in a meaningful way, such as sorting by age or salary."
   ]
  },
  {
   "cell_type": "code",
   "execution_count": 10,
   "id": "0e68ca95-5d64-4505-a606-77294a167c73",
   "metadata": {},
   "outputs": [
    {
     "name": "stdout",
     "output_type": "stream",
     "text": [
      "   Name  Age Occupation\n",
      "0  John   25   Engineer\n",
      "1  Jane   30     Doctor\n",
      "2   Jim   35    Teacher\n",
      "3  Joan   40     Lawyer\n"
     ]
    }
   ],
   "source": [
    "import pandas as pd\n",
    "\n",
    "# create a DataFrame\n",
    "data = {'Name': ['John', 'Jane', 'Jim', 'Joan'],\n",
    "        'Age': [25, 30, 35, 40],\n",
    "        'Occupation': ['Engineer', 'Doctor', 'Teacher', 'Lawyer']}\n",
    "df = pd.DataFrame(data)\n",
    "\n",
    "# sort the DataFrame by age in ascending order\n",
    "df_sorted = df.sort_values(by=['Age'])\n",
    "print(df_sorted)"
   ]
  },
  {
   "cell_type": "markdown",
   "id": "220a49af-d04d-4d52-b329-358cfb82f35c",
   "metadata": {},
   "source": [
    "Q6. Which of the following is mutable in nature Series, DataFrame, Panel?  "
   ]
  },
  {
   "cell_type": "markdown",
   "id": "307f486c-2573-4f90-b9a0-40aa1069de05",
   "metadata": {},
   "source": [
    "In Pandas, DATA MUTABILITY refers to the ability to change the values within a data structure, while SIZE MUTABILITY refers to the ability to change the size or shape of the data structure itself.\n",
    "\n",
    "All three, that is Series, DataFrame and Panel are DATA MUTABLE, meaning that you can change the values within them, but only DataFrame and Panel are SIZE MUTABLE, meaning that you can change their shape or size."
   ]
  },
  {
   "cell_type": "markdown",
   "id": "bb8472f4-f8df-4ede-8dd7-3b7196e49eeb",
   "metadata": {},
   "source": [
    "Q7. Create a DataFrame using multiple Series. Explain with an example."
   ]
  },
  {
   "cell_type": "markdown",
   "id": "9a1839f9-4eb4-4f56-94c7-4a0abea3c5f6",
   "metadata": {},
   "source": [
    "We can create a Pandas DataFrame by using multiple Pandas Series, where each Series represents a column of the DataFrame. Here's an example:"
   ]
  },
  {
   "cell_type": "code",
   "execution_count": 12,
   "id": "7868b7a1-cea4-405f-8f5f-c2b85b24bc72",
   "metadata": {},
   "outputs": [
    {
     "name": "stdout",
     "output_type": "stream",
     "text": [
      "   Name  Age   Department  Salary\n",
      "0  John   25  Engineering   50000\n",
      "1  Jane   30  Engineering   60000\n",
      "2   Jim   35     Teaching   70000\n",
      "3  Joan   40          Law   80000\n",
      "4  Mark   25    Marketing   55000\n",
      "5  Mary   30    Marketing   65000\n"
     ]
    }
   ],
   "source": [
    "import pandas as pd\n",
    "\n",
    "# create a series for the 'Name' column\n",
    "names = pd.Series(['John', 'Jane', 'Jim', 'Joan', 'Mark', 'Mary'])\n",
    "\n",
    "# create a series for the 'Age' column\n",
    "ages = pd.Series([25, 30, 35, 40, 25, 30])\n",
    "\n",
    "# create a series for the 'Department' column\n",
    "departments = pd.Series(['Engineering', 'Engineering', 'Teaching', 'Law', 'Marketing', 'Marketing'])\n",
    "\n",
    "# create a series for the 'Salary' column\n",
    "salaries = pd.Series([50000, 60000, 70000, 80000, 55000, 65000])\n",
    "\n",
    "# create the DataFrame by combining the series\n",
    "df = pd.DataFrame({'Name': names, 'Age': ages, 'Department': departments, 'Salary': salaries})\n",
    "\n",
    "# print the DataFrame\n",
    "print(df)\n"
   ]
  },
  {
   "cell_type": "markdown",
   "id": "ddfd16d7-5d44-438e-8057-7d4a2b3bcf1e",
   "metadata": {},
   "source": [
    "In this example, we created four separate Pandas Series for the 'Name', 'Age', 'Department', and 'Salary' columns of the DataFrame. We then combined these series into a single DataFrame using the pd.DataFrame() function and passing in a dictionary where the keys are the column names and the values are the corresponding series. Finally, we printed the resulting DataFrame using the print() function."
   ]
  },
  {
   "cell_type": "code",
   "execution_count": null,
   "id": "c53805dc-c8c8-4e9a-bb4e-581f9d0efc9f",
   "metadata": {},
   "outputs": [],
   "source": []
  },
  {
   "cell_type": "code",
   "execution_count": null,
   "id": "59a69251-2787-42cf-988e-7d1d7df3790f",
   "metadata": {},
   "outputs": [],
   "source": []
  },
  {
   "cell_type": "code",
   "execution_count": null,
   "id": "c55d1c6c-bee0-4ff0-9cc2-6e6d8c23c954",
   "metadata": {},
   "outputs": [],
   "source": []
  },
  {
   "cell_type": "code",
   "execution_count": null,
   "id": "efd751ef-c95e-4780-a3ef-61259a5629cd",
   "metadata": {},
   "outputs": [],
   "source": []
  },
  {
   "cell_type": "code",
   "execution_count": null,
   "id": "2f7d9181-a66a-4286-ad12-998025a315a7",
   "metadata": {},
   "outputs": [],
   "source": []
  },
  {
   "cell_type": "code",
   "execution_count": null,
   "id": "7998d9c0-599d-4571-9528-b99e48b07ef1",
   "metadata": {},
   "outputs": [],
   "source": []
  }
 ],
 "metadata": {
  "kernelspec": {
   "display_name": "Python 3 (ipykernel)",
   "language": "python",
   "name": "python3"
  },
  "language_info": {
   "codemirror_mode": {
    "name": "ipython",
    "version": 3
   },
   "file_extension": ".py",
   "mimetype": "text/x-python",
   "name": "python",
   "nbconvert_exporter": "python",
   "pygments_lexer": "ipython3",
   "version": "3.10.8"
  }
 },
 "nbformat": 4,
 "nbformat_minor": 5
}
