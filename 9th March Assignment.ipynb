{
 "cells": [
  {
   "cell_type": "markdown",
   "id": "4640bb1c-e65b-4f9a-9ff8-513adee3ccf7",
   "metadata": {},
   "source": [
    "Q1: What are the Probability Mass Function (PMF) and Probability Density Function (PDF)? Explain with an example."
   ]
  },
  {
   "cell_type": "markdown",
   "id": "b907e65c-0429-4aaa-b9b4-46ae1f9fc1f6",
   "metadata": {},
   "source": [
    "A Probability Mass Function (PMF) is a function that gives the probability of a discrete random variable taking on a particular value. For example, consider a fair six-sided die. The PMF of this die would be:\n",
    "\n",
    "X\t1\t2\t3\t4\t5\t6\n",
    "P(X)\t1/6\t1/6\t1/6\t1/6\t1/6\t1/6\n",
    "Here, X represents the possible outcomes of rolling the die, and P(X) represents the probability of each outcome.\n",
    "\n",
    "A Probability Density Function (PDF) is a function that gives the probability density of a continuous random variable at a particular value. For example, consider the normal distribution with mean μ and standard deviation σ. The PDF of this distribution is:\n",
    "\n",
    "f(x) = (1/σ√(2π)) * e^(-((x-μ)/σ)^2/2)\n",
    "\n",
    "Here, x represents the possible values that the continuous random variable can take on, and f(x) represents the probability density at each value."
   ]
  },
  {
   "cell_type": "markdown",
   "id": "2b4f145e-526e-4438-b465-45befc8ff692",
   "metadata": {},
   "source": [
    "Q2: What is Cumulative Density Function (CDF)? Explain with an example. Why CDF is used?"
   ]
  },
  {
   "cell_type": "markdown",
   "id": "901adfbc-ea04-420e-bc54-55d8c2bc2341",
   "metadata": {},
   "source": [
    "The Cumulative Density Function (CDF) is a function that gives the probability that a random variable is less than or equal to a particular value. The CDF is the integral of the PDF, and can be used to calculate the probability of a range of values. For example, consider the normal distribution with mean μ = 0 and standard deviation σ = 1. The CDF of this distribution is:\n",
    "\n",
    "F(x) = ∫(-∞,x) f(t) dt\n",
    "\n",
    "Here, F(x) represents the probability that a random variable is less than or equal to x.\n",
    "\n",
    "The CDF is used because it allows us to calculate the probability of a range of values, rather than just a single value. It is also useful for comparing different distributions and determining which distribution fits a set of data best"
   ]
  },
  {
   "cell_type": "markdown",
   "id": "1590dbb2-b9df-4487-a8ba-638a04965605",
   "metadata": {},
   "source": [
    "Q3: What are some examples of situations where the normal distribution might be used as a model?\n",
    "Explain how the parameters of the normal distribution relate to the shape of the distribution."
   ]
  },
  {
   "cell_type": "markdown",
   "id": "3431ccc9-3832-4148-829c-b6da3653076b",
   "metadata": {},
   "source": [
    "The normal distribution is commonly used to model many natural phenomena, such as heights and weights of individuals, IQ scores, and measurement errors. It is also used in finance to model stock returns and interest rates.\n",
    "\n",
    "The shape of the normal distribution is determined by its two parameters: the mean (μ) and standard deviation (σ). The mean determines the center of the distribution, while the standard deviation determines the spread of the distribution. A larger standard deviation results in a wider and flatter distribution, while a smaller standard deviation results in a narrower and taller distribution"
   ]
  },
  {
   "cell_type": "markdown",
   "id": "f1acde6c-185f-4936-bfd8-005e247ca847",
   "metadata": {},
   "source": [
    "Q4: Explain the importance of Normal Distribution. Give a few real-life examples of Normal Distribution."
   ]
  },
  {
   "cell_type": "markdown",
   "id": "e04c21ed-5ffd-4e56-9206-9adf290e9875",
   "metadata": {},
   "source": [
    "The normal distribution is important because it is a widely used probability distribution that describes many natural phenomena. It is also the foundation for many statistical tests and models. Some real-life examples of the normal distribution include:\n",
    "\n",
    "Heights and weights of individuals\n",
    "IQ scores\n",
    "Blood pressure readings\n",
    "Test scores\n",
    "Measurement errors\n",
    "Stock returns and interest rates"
   ]
  },
  {
   "cell_type": "markdown",
   "id": "7aeb83cb-212b-4906-816a-082ad1cc0bb6",
   "metadata": {},
   "source": [
    "Q5: What is Bernaulli Distribution? Give an Example. What is the difference between Bernoulli\n",
    "Distribution and Binomial Distribution?"
   ]
  },
  {
   "cell_type": "markdown",
   "id": "acbb98cc-fbfe-4564-a105-ec1cd3c2e013",
   "metadata": {},
   "source": [
    "Bernoulli Distribution is a discrete probability distribution that models a single trial of an experiment with two possible outcomes: success (with probability p) and failure (with probability 1-p). A simple example of Bernoulli Distribution is flipping a coin, where the outcome can either be heads (success) or tails (failure) with probability p=0.5.\n",
    "\n",
    "The difference between Bernoulli Distribution and Binomial Distribution is that Bernoulli Distribution models a single trial of an experiment, while Binomial Distribution models the number of successes in a fixed number of independent trials. In other words, Binomial Distribution is the sum of n independent trials of Bernoulli Distribution, where n is the number of trials."
   ]
  },
  {
   "cell_type": "markdown",
   "id": "86e17070-96a3-47b7-83fd-2b883b8aa08d",
   "metadata": {},
   "source": [
    "Q6. Consider a dataset with a mean of 50 and a standard deviation of 10. If we assume that the dataset\n",
    "is normally distributed, what is the probability that a randomly selected observation will be greater\n",
    "than 60? Use the appropriate formula and show your calculations."
   ]
  },
  {
   "cell_type": "markdown",
   "id": "189814fe-c64b-4977-8c84-c2681cdee93c",
   "metadata": {},
   "source": [
    "To find the probability that a randomly selected observation from a normally distributed dataset with a mean of 50 and a standard deviation of 10 will be greater than 60, we can use the z-score formula:\n",
    "\n",
    "z = (x - mu) / sigma\n",
    "\n",
    "where x is the value we want to find the probability for (in this case, 60), mu is the mean of the dataset (50), and sigma is the standard deviation of the dataset (10).\n",
    "\n",
    "So, z = (60 - 50) / 10 = 1\n",
    "\n",
    "Using a standard normal distribution table or calculator, we can find that the probability of a z-score of 1 or greater is approximately 0.1587. Therefore, the probability of a randomly selected observation from the dataset being greater than 60 is approximately 0.1587."
   ]
  },
  {
   "cell_type": "markdown",
   "id": "f1b7b071-183c-4ddf-9d98-d58822a8a08b",
   "metadata": {},
   "source": [
    "Q7: Explain uniform Distribution with an example."
   ]
  },
  {
   "cell_type": "markdown",
   "id": "61a40e23-336e-4d7d-86b7-006917686bf8",
   "metadata": {},
   "source": [
    "Uniform Distribution is a continuous probability distribution in which all values in a given interval have equal probability. An example of Uniform Distribution is the probability distribution of the outcome of rolling a fair six-sided die, where each outcome (1, 2, 3, 4, 5, or 6) has an equal probability of 1/6."
   ]
  },
  {
   "cell_type": "markdown",
   "id": "264193d8-a899-4bb1-9f56-f405dbaf397d",
   "metadata": {},
   "source": [
    "Q8: What is the z score? State the importance of the z score."
   ]
  },
  {
   "cell_type": "markdown",
   "id": "4e10da30-85b5-437c-b55c-766b92b731ae",
   "metadata": {},
   "source": [
    "The z-score is a standardized value that measures the number of standard deviations a data point is from the mean of a dataset. It is calculated using the formula:\n",
    "\n",
    "z = (x - mu) / sigma\n",
    "\n",
    "where x is the data point, mu is the mean of the dataset, and sigma is the standard deviation of the dataset.\n",
    "\n",
    "The importance of the z-score is that it allows us to compare data points from different datasets that may have different units and scales. By standardizing the data using z-scores, we can make meaningful comparisons and draw conclusions about the relative position of data points within their respective datasets."
   ]
  },
  {
   "cell_type": "markdown",
   "id": "6ba7bfed-5c84-49cd-90e6-b34d6b881eef",
   "metadata": {},
   "source": [
    "Q9: What is Central Limit Theorem? State the significance of the Central Limit Theorem."
   ]
  },
  {
   "cell_type": "markdown",
   "id": "6f48f8ae-1459-4d45-b519-915325e90b06",
   "metadata": {},
   "source": [
    "Central Limit Theorem states that the sampling distribution of the sample means of a large number of independent and identically distributed random variables will be approximately normally distributed, regardless of the underlying distribution of the population, as long as the sample size is large enough (usually greater than 30).\n",
    "\n",
    "The significance of Central Limit Theorem is that it allows us to make inferences about the population mean based on a sample mean, even if the underlying population distribution is unknown or not normally distributed. This is because the sampling distribution of the sample means will be approximately normally distributed, with a mean equal to the population mean and a standard deviation equal to the standard error of the mean."
   ]
  },
  {
   "cell_type": "markdown",
   "id": "187be834-4c53-40e7-8292-c176b1e8a221",
   "metadata": {},
   "source": [
    "Q10: State the assumptions of the Central Limit Theorem."
   ]
  },
  {
   "cell_type": "markdown",
   "id": "65d0ed74-bf3a-4eaa-8b4b-60445eacefc5",
   "metadata": {},
   "source": [
    "The Central Limit Theorem (CLT) is a fundamental concept in statistics that states that the sampling distribution of the means of any independent, random variables will be approximately normally distributed, regardless of the shape of the original population distribution, if the sample size is large enough (usually n > 30). The assumptions of the Central Limit Theorem include:\n",
    "\n",
    "Random sampling: The sample is a random sample from the population.\n",
    "Independence: The observations in the sample are independent of each other.\n",
    "Sample size: The sample size is sufficiently large, usually n > 30."
   ]
  },
  {
   "cell_type": "code",
   "execution_count": null,
   "id": "32ff5806-f6cc-4f69-a228-f0ce93b2dc74",
   "metadata": {},
   "outputs": [],
   "source": []
  },
  {
   "cell_type": "code",
   "execution_count": null,
   "id": "97cfdeae-a49b-434b-b416-e3b7c216a322",
   "metadata": {},
   "outputs": [],
   "source": []
  },
  {
   "cell_type": "code",
   "execution_count": null,
   "id": "571492f2-921a-4b00-8b47-79f3b861c8c0",
   "metadata": {},
   "outputs": [],
   "source": []
  },
  {
   "cell_type": "code",
   "execution_count": null,
   "id": "0334a3ca-0b5f-405a-8f15-7c38643140ff",
   "metadata": {},
   "outputs": [],
   "source": []
  },
  {
   "cell_type": "code",
   "execution_count": null,
   "id": "e62442dc-109b-485b-a212-cc9dda3ccfe2",
   "metadata": {},
   "outputs": [],
   "source": []
  },
  {
   "cell_type": "code",
   "execution_count": null,
   "id": "851a1747-17f6-4209-9aab-7da14e40605b",
   "metadata": {},
   "outputs": [],
   "source": []
  }
 ],
 "metadata": {
  "kernelspec": {
   "display_name": "Python 3 (ipykernel)",
   "language": "python",
   "name": "python3"
  },
  "language_info": {
   "codemirror_mode": {
    "name": "ipython",
    "version": 3
   },
   "file_extension": ".py",
   "mimetype": "text/x-python",
   "name": "python",
   "nbconvert_exporter": "python",
   "pygments_lexer": "ipython3",
   "version": "3.10.8"
  }
 },
 "nbformat": 4,
 "nbformat_minor": 5
}
