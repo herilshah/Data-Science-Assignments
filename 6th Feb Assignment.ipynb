{
 "cells": [
  {
   "cell_type": "markdown",
   "id": "c2fc54b2-8856-456d-ac90-a5250fdc2f71",
   "metadata": {},
   "source": [
    "Q1. Create a function which will take a list as an argument and return the product of all the numbers\n",
    "after creating a flat list.\n",
    "Use the below-given list as an argument for your function.\n",
    "list1 = [1,2,3,4, [44,55,66, True], False, (34,56,78,89,34), {1,2,3,3,2,1}, {1:34, \"key2\": [55, 67, 78, 89], 4: (45,\n",
    "22, 61, 34)}, [56, 'data science'], 'Machine Learning']\n",
    "Note: you must extract numeric keys and values of the dictionary also."
   ]
  },
  {
   "cell_type": "code",
   "execution_count": 1,
   "id": "7ea540b3-05e9-4f31-8657-ffcd3ab0b984",
   "metadata": {},
   "outputs": [
    {
     "name": "stdout",
     "output_type": "stream",
     "text": [
      "Given list : [1, 2, 3, 4, [44, 55, 66, True], False, (34, 56, 78, 89, 34), {1, 2, 3}, {1: 34, 'key2': [55, 67, 78, 89], 4: (45, 22, 61, 34)}, [56, 'data science'], 'Machine Learning']\n",
      "\n",
      "filtered list : [56, 34, 61, 22, 45, 89, 78, 67, 55, 34, 4, 1, 3, 2, 1, 34, 89, 78, 56, 34, 66, 55, 44, 4, 3, 2, 1]\n",
      "\n",
      "The product of numbers in filtered list is : 4134711838987085478833841242112000\n"
     ]
    }
   ],
   "source": [
    "list1 = [1,2,3,4, [44,55,66, True], False, (34,56,78,89,34), {1,2,3,3,2,1}, {1:34, \"key2\": [55, 67, 78, 89], 4: (45,\n",
    "22, 61, 34)}, [56, 'data science'], 'Machine Learning']\n",
    "print(f\"Given list : {list1}\\n\")\n",
    "\n",
    "from functools import reduce\n",
    "def product_list(lst):\n",
    "    def filter_num(lst):\n",
    "        temp_list = list(lst)\n",
    "        Flat_list = []\n",
    "        while temp_list:\n",
    "            temp_item = temp_list.pop()\n",
    "            if type(temp_item) in (tuple, list, dict,set):\n",
    "                if type(temp_item) == dict:\n",
    "                    temp_list.extend(list(temp_item.keys()) + list(temp_item.values()))\n",
    "                else:\n",
    "                    temp_list.extend(temp_item)\n",
    "            else:\n",
    "                if type(temp_item) in (int, float):\n",
    "                    Flat_list.append(temp_item)\n",
    "        print(f\"filtered list : {Flat_list}\\n\")\n",
    "        return Flat_list\n",
    "    final_list = filter_num(lst)\n",
    "    return reduce(lambda x,y: x*y, final_list,1)\n",
    "list1 = [1,2,3,4, [44,55,66, True], False, (34,56,78,89,34), {1,2,3,3,2,1}, {1:34, \"key2\": [55, 67, 78, 89], 4: (45,\n",
    "22, 61, 34)}, [56, 'data science'], 'Machine Learning']\n",
    "print(f\"The product of numbers in filtered list is : {product_list(list1)}\")"
   ]
  },
  {
   "cell_type": "code",
   "execution_count": null,
   "id": "221c4f5b-32b3-495b-bdce-28e2741b83f2",
   "metadata": {},
   "outputs": [],
   "source": []
  },
  {
   "cell_type": "markdown",
   "id": "d21f88c0-9dd8-4538-a3c0-d13d13df89f9",
   "metadata": {},
   "source": [
    "Q2. Write a python program for encrypting a message sent to you by your friend. The logic of encryption\n",
    "should be such that, for a the output should be z. For b, the output should be y. For c, the output should\n",
    "be x respectively. Also, the whitespace should be replaced with a dollar sign. Keep the punctuation\n",
    "marks unchanged.\n",
    "Input Sentence: I want to become a Data Scientist.\n",
    "Encrypt the above input sentence using the program you just created.\n",
    "Note: Convert the given input sentence into lowercase before encrypting. The final output should be\n",
    "lowercase."
   ]
  },
  {
   "cell_type": "code",
   "execution_count": 3,
   "id": "6f0b35fd-a82c-4817-ab98-c7b86aa5b132",
   "metadata": {},
   "outputs": [
    {
     "name": "stdout",
     "output_type": "stream",
     "text": [
      "r$dzmg$gl$yvxlnv$z$wzgz$hxrvmgrhg.\n"
     ]
    }
   ],
   "source": [
    "def encrypt_message(message: str):\n",
    "    encrypted_message = ''\n",
    "    for char in message.lower():\n",
    "        if char == ' ':\n",
    "            encrypted_message += '$'\n",
    "        elif char.isalpha():\n",
    "            encrypted_message += chr(122 - ord(char) + 97)\n",
    "        else:\n",
    "            encrypted_message += char\n",
    "    return encrypted_message\n",
    "\n",
    "message = \"I want to become a Data Scientist.\"\n",
    "result = encrypt_message(message)\n",
    "print(result)\n"
   ]
  },
  {
   "cell_type": "code",
   "execution_count": null,
   "id": "f714ab90-148a-4dec-8fe2-001aec288cd7",
   "metadata": {},
   "outputs": [],
   "source": []
  },
  {
   "cell_type": "code",
   "execution_count": null,
   "id": "ab2d19b7-00cf-4bc8-a284-3b5bfaad8a4b",
   "metadata": {},
   "outputs": [],
   "source": []
  },
  {
   "cell_type": "code",
   "execution_count": null,
   "id": "f16878c9-befe-4cf8-97cf-180470619d79",
   "metadata": {},
   "outputs": [],
   "source": []
  }
 ],
 "metadata": {
  "kernelspec": {
   "display_name": "Python 3 (ipykernel)",
   "language": "python",
   "name": "python3"
  },
  "language_info": {
   "codemirror_mode": {
    "name": "ipython",
    "version": 3
   },
   "file_extension": ".py",
   "mimetype": "text/x-python",
   "name": "python",
   "nbconvert_exporter": "python",
   "pygments_lexer": "ipython3",
   "version": "3.10.8"
  }
 },
 "nbformat": 4,
 "nbformat_minor": 5
}
