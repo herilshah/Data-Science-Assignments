{
 "cells": [
  {
   "cell_type": "markdown",
   "id": "4f5a1fa7-8594-44cc-be41-963c4b85ca84",
   "metadata": {},
   "source": [
    "Q1. Explain why we have to use the Exception class while creating a Custom Exception.\n",
    "Note: Here Exception class refers to the base class for all the exceptions."
   ]
  },
  {
   "cell_type": "markdown",
   "id": "894ab48a-1be4-4865-9e14-b64308267ef7",
   "metadata": {},
   "source": [
    "In Python, the Exception class is the base class for all exceptions. When creating a custom exception, it is recommended to inherit from the Exception class because it provides a standard way of handling exceptions in the Python ecosystem. By inheriting from the Exception class, our custom exception is part of the same hierarchy of exceptions and can be used in the same way as other built-in exceptions.\n",
    "\n",
    "Additionally, inheriting from the Exception class ensures that our custom exception has the same attributes and methods as other exceptions, such as the args attribute for storing the error message and the __str__ method for displaying the error message.\n",
    "\n",
    "By using the Exception class as the base class for our custom exception, we ensure that it behaves in a predictable and consistent manner, making it easier to handle and integrate with other code that may be raising or catching exception"
   ]
  },
  {
   "cell_type": "markdown",
   "id": "119641f6-66bd-42b2-936f-aa9697cf16ff",
   "metadata": {},
   "source": [
    "Q2. Write a python program to print Python Exception Hierarchy."
   ]
  },
  {
   "cell_type": "code",
   "execution_count": 1,
   "id": "b0e14451-ce2b-42d7-b180-c74d9433d2c8",
   "metadata": {},
   "outputs": [],
   "source": [
    "import logging\n",
    "\n",
    "logger = logging.getLogger(__name__)\n",
    "logger.setLevel(logging.DEBUG)\n",
    "\n",
    "def print_exception_hierarchy(e, indent=0):\n",
    "    logger.debug(\"  \" * indent + str(e))\n",
    "    if e.__cause__:\n",
    "        print_exception_hierarchy(e.__cause__, indent + 1)\n",
    "    if e.__context__:\n",
    "        print_exception_hierarchy(e.__context__, indent + 1)\n",
    "\n",
    "try:\n",
    "    raise Exception(\"Root Exception\")\n",
    "except Exception as e:\n",
    "    logger.debug(\"Python Exception Hierarchy:\")\n",
    "    print_exception_hierarchy(e)"
   ]
  },
  {
   "cell_type": "markdown",
   "id": "a634e5a4-8ac1-4e61-9bda-1e3ef81bcb87",
   "metadata": {},
   "source": [
    "Q3. What errors are defined in the ArithmeticError class? Explain any two with an example"
   ]
  },
  {
   "cell_type": "code",
   "execution_count": null,
   "id": "4bbaf6b5-b4e2-4b81-b245-0e0faae664de",
   "metadata": {},
   "outputs": [],
   "source": [
    "#ArithmeticError is a built-in exception class in Python that is used to indicate errors in mathematical operations. \n",
    "#The following errors are defined in the ArithmeticError class:\n",
    "\n",
    "#OverflowError: Raised when a mathematical operation exceeds the largest representable number for a given data type.\n",
    "import sys\n",
    "sys.float_info.max\n",
    "1.7976931348623157e+308\n",
    "sys.float_info.max * sys.float_info.max\n",
    "Inf\n",
    "1.7976931348623157e+308 * 1.7976931348623157e+308\n",
    "OverflowError: (34, 'Result too large')\n",
    "#In this example, the OverflowError is raised when we try to calculate the square of the maximum representable float, which exceeds the representable range for the float data type.\n",
    "\n",
    "#ZeroDivisionError: Raised when an attempt is made to divide a number by zero.\n",
    "1 / 0\n",
    "ZeroDivisionError: division by zero\n",
    "#In this example, the ZeroDivisionError is raised when we try to divide 1 by 0, which is an undefined mathematical operation.\n",
    "#These are just two of the errors defined in the ArithmeticError class. Other errors include FloatingPointError, OverflowError, and UnderflowError, which indicate errors in floating-point arithmetic.\n",
    "\n",
    "\n",
    "\n",
    "\n"
   ]
  },
  {
   "cell_type": "markdown",
   "id": "53af5404-1855-4df9-bf59-5966a6f9f89c",
   "metadata": {},
   "source": [
    "Q4. Why LookupError class is used? Explain with an example KeyError and IndexError."
   ]
  },
  {
   "cell_type": "markdown",
   "id": "1e65b6a9-6011-4b1d-b71c-9efbd54f62ee",
   "metadata": {},
   "source": [
    "The LookupError class is used in Python to indicate errors that occur when looking up an index or key in a data structure, such as a list or dictionary."
   ]
  },
  {
   "cell_type": "markdown",
   "id": "0ef64159-a3d5-4406-87f1-a22b65f6aa89",
   "metadata": {},
   "source": [
    "KeyError: Raised when a key is not found in a dictionary. For example:"
   ]
  },
  {
   "cell_type": "code",
   "execution_count": 8,
   "id": "1b1dd29c-d81f-4a1f-a05c-5d2e2ade65eb",
   "metadata": {},
   "outputs": [
    {
     "ename": "KeyError",
     "evalue": "'c'",
     "output_type": "error",
     "traceback": [
      "\u001b[0;31m---------------------------------------------------------------------------\u001b[0m",
      "\u001b[0;31mKeyError\u001b[0m                                  Traceback (most recent call last)",
      "Cell \u001b[0;32mIn[8], line 2\u001b[0m\n\u001b[1;32m      1\u001b[0m d \u001b[38;5;241m=\u001b[39m {\u001b[38;5;124m'\u001b[39m\u001b[38;5;124ma\u001b[39m\u001b[38;5;124m'\u001b[39m: \u001b[38;5;241m1\u001b[39m, \u001b[38;5;124m'\u001b[39m\u001b[38;5;124mb\u001b[39m\u001b[38;5;124m'\u001b[39m: \u001b[38;5;241m2\u001b[39m}\n\u001b[0;32m----> 2\u001b[0m \u001b[43md\u001b[49m\u001b[43m[\u001b[49m\u001b[38;5;124;43m'\u001b[39;49m\u001b[38;5;124;43mc\u001b[39;49m\u001b[38;5;124;43m'\u001b[39;49m\u001b[43m]\u001b[49m\n",
      "\u001b[0;31mKeyError\u001b[0m: 'c'"
     ]
    }
   ],
   "source": [
    "d = {'a': 1, 'b': 2}\n",
    "d['c']\n",
    "#In this example, we try to access a key 'c' in a dictionary d, but the key does not exist, and a KeyError is raised."
   ]
  },
  {
   "cell_type": "markdown",
   "id": "a89ef702-72f5-4990-acde-083090eb9b86",
   "metadata": {},
   "source": [
    "IndexError: Raised when an index is out of range for a list or other sequence. For example:"
   ]
  },
  {
   "cell_type": "code",
   "execution_count": 11,
   "id": "a06632f3-d69a-407e-9dc2-36fe27e0e7e2",
   "metadata": {},
   "outputs": [
    {
     "ename": "IndexError",
     "evalue": "list index out of range",
     "output_type": "error",
     "traceback": [
      "\u001b[0;31m---------------------------------------------------------------------------\u001b[0m",
      "\u001b[0;31mIndexError\u001b[0m                                Traceback (most recent call last)",
      "Cell \u001b[0;32mIn[11], line 2\u001b[0m\n\u001b[1;32m      1\u001b[0m a \u001b[38;5;241m=\u001b[39m [\u001b[38;5;241m1\u001b[39m, \u001b[38;5;241m2\u001b[39m, \u001b[38;5;241m3\u001b[39m]\n\u001b[0;32m----> 2\u001b[0m \u001b[43ma\u001b[49m\u001b[43m[\u001b[49m\u001b[38;5;241;43m3\u001b[39;49m\u001b[43m]\u001b[49m\n\u001b[1;32m      3\u001b[0m \u001b[38;5;66;03m#IndexError: list index out of range\u001b[39;00m\n",
      "\u001b[0;31mIndexError\u001b[0m: list index out of range"
     ]
    }
   ],
   "source": [
    "a = [1, 2, 3]\n",
    "a[3]\n",
    "#IndexError: list index out of range\n"
   ]
  },
  {
   "cell_type": "code",
   "execution_count": null,
   "id": "7639a0fe-c825-4317-947e-924059a9ede2",
   "metadata": {},
   "outputs": [],
   "source": [
    "#In this example, we try to access the fourth element of a list a, which has only three elements, and an IndexError is raised.\n",
    "\n"
   ]
  },
  {
   "cell_type": "markdown",
   "id": "c9c31c33-c531-40b4-a9fb-1dede59aac15",
   "metadata": {},
   "source": [
    "Q5. Explain ImportError. What is ModuleNotFoundError?"
   ]
  },
  {
   "cell_type": "markdown",
   "id": "8675b508-7e60-4808-bfd7-f2eaedb56e79",
   "metadata": {},
   "source": [
    "ImportError is a built-in exception class in Python that is raised when a module or package cannot be imported. This can occur due to a variety of reasons, such as a missing file, a syntax error in the module, or a missing required module.\n",
    "\n",
    "ModuleNotFoundError is a subclass of ImportError that is raised specifically when the requested module or package cannot be found in the search path. For example:"
   ]
  },
  {
   "cell_type": "markdown",
   "id": "49b5ab4a-df1b-437a-8bc4-22524c59d2b0",
   "metadata": {},
   "source": [
    "Q6. List down some best practices for exception handling in python."
   ]
  },
  {
   "cell_type": "markdown",
   "id": "4d5b120c-e8be-4b9e-bae2-1bf216afa7e4",
   "metadata": {},
   "source": [
    "Always use a specific exception type instead of the generic Exception class.\n",
    "Handle exceptions as close to the source of the error as possible.\n",
    "Use the try-except block to catch exceptions and avoid crashing the program.\n",
    "Use the finally block to ensure that necessary cleanup actions are taken, even if an exception is raised.\n",
    "Raise custom exceptions when appropriate to provide more specific error messages.\n",
    "Use meaningful exception messages to provide information about the error and its cause.\n",
    "Log the error message and stack trace for debugging purposes.\n",
    "Don't ignore exceptions. If you don't handle an exception, it will propagate up the call stack and may cause unexpected behavior or crashes.\n",
    "Use the else block in the try-except-else structure to execute code if no exceptions are raised."
   ]
  },
  {
   "cell_type": "code",
   "execution_count": null,
   "id": "3f9707b1-88bb-49b2-b6f8-2fbaee783df6",
   "metadata": {},
   "outputs": [],
   "source": []
  },
  {
   "cell_type": "code",
   "execution_count": null,
   "id": "b29b5853-c0ee-498b-ad04-f8261a63f8ee",
   "metadata": {},
   "outputs": [],
   "source": []
  },
  {
   "cell_type": "code",
   "execution_count": null,
   "id": "824993a9-1200-4443-a412-54b5738dd4c7",
   "metadata": {},
   "outputs": [],
   "source": []
  },
  {
   "cell_type": "code",
   "execution_count": null,
   "id": "02a801d8-6a2a-4bf5-8ea8-d2860e286607",
   "metadata": {},
   "outputs": [],
   "source": []
  }
 ],
 "metadata": {
  "kernelspec": {
   "display_name": "Python 3 (ipykernel)",
   "language": "python",
   "name": "python3"
  },
  "language_info": {
   "codemirror_mode": {
    "name": "ipython",
    "version": 3
   },
   "file_extension": ".py",
   "mimetype": "text/x-python",
   "name": "python",
   "nbconvert_exporter": "python",
   "pygments_lexer": "ipython3",
   "version": "3.10.8"
  }
 },
 "nbformat": 4,
 "nbformat_minor": 5
}
