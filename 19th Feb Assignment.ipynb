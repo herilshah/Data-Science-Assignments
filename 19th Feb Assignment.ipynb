{
 "cells": [
  {
   "cell_type": "markdown",
   "id": "bb7f3984-8cd4-4fae-b189-d1bfdba86c94",
   "metadata": {},
   "source": [
    "Q1. What is Flask Framework? What are the advantages of Flask Framework?"
   ]
  },
  {
   "cell_type": "markdown",
   "id": "e63f2e67-0aaa-49bf-b37d-745e39ee7f9f",
   "metadata": {},
   "source": [
    "Flask is a micro web framework written in Python that allows developers to quickly build web applications. It is called a micro framework because it does not require particular tools or libraries and keeps the core of the application simple yet extensible. Flask provides a minimal set of features that are necessary for building web applications such as routing, request/response handling, and templating. Flask also allows developers to add extensions for more complex functionality such as database integration, authentication, and caching.\n",
    "\n",
    "Some of the advantages of Flask are:\n",
    "\n",
    "Lightweight and simple: Flask is lightweight and easy to use, making it an ideal choice for small to medium-sized web applications. Its simplicity and flexibility allow developers to focus on building the core functionality of the application without being bogged down by unnecessary complexity.\n",
    "\n",
    "Flexibility: Flask is a micro-framework that allows developers to add only the features they need, making it very flexible. It also allows developers to choose from a wide range of libraries and tools to extend the functionality of their application.\n",
    "\n",
    "Easy to learn: Flask has a minimalistic design and a simple API that makes it easy for developers to learn and use. It is a great choice for beginners who are just starting with web development.\n",
    "\n",
    "Good documentation: Flask has a well-organized and comprehensive documentation that makes it easy for developers to get started and learn new features.\n",
    "\n",
    "Good community support: Flask has a large and active community of developers who contribute to its development and provide support through forums, tutorials, and other resources.\n",
    "\n",
    "Overall, Flask is an excellent choice for building small to medium-sized web applications with a simple, flexible, and extensible framework.\n",
    "\n",
    "\n",
    "\n"
   ]
  },
  {
   "cell_type": "markdown",
   "id": "46d571c5-7c8f-4295-8f5c-4b8b7d0c08f1",
   "metadata": {},
   "source": [
    "Q2. Create a simple Flask application to display ‘Hello World!!’. Attach the screenshot of the output in\n",
    "Jupyter Notebook."
   ]
  },
  {
   "cell_type": "code",
   "execution_count": null,
   "id": "fa9507e2-3066-48aa-90bf-9075db71e606",
   "metadata": {},
   "outputs": [],
   "source": [
    "from flask import Flask\n",
    "\n",
    "app = Flask(__name__)\n",
    "\n",
    "@app.route(\"/\")\n",
    "def helloWorld():\n",
    "    return \"<h1>Hello World!</h1>\"\n",
    "\n",
    "if __name__ == \"__main__\":\n",
    "    app.run()"
   ]
  },
  {
   "cell_type": "markdown",
   "id": "25d7c934-a521-416c-b4bc-cfcad01cd308",
   "metadata": {},
   "source": [
    "<img src=\"Screenshot (195).png\">"
   ]
  },
  {
   "cell_type": "markdown",
   "id": "9121028d-d668-4bcc-9a31-7c7c5acf0e7b",
   "metadata": {},
   "source": [
    "Q3. What is App routing in Flask? Why do we use app routes?"
   ]
  },
  {
   "cell_type": "code",
   "execution_count": null,
   "id": "194686e9-dacb-41ae-92d2-df94cca970dc",
   "metadata": {},
   "outputs": [],
   "source": [
    "In Flask, app routing refers to the process of mapping URLs to Python functions that handle the corresponding HTTP requests. Flask uses the concept of app routes to define the different routes that your application can respond to.\n",
    "\n",
    "Each app route is defined as a Python function using the @app.route decorator. The decorator maps a URL path to the Python function, allowing the function to handle HTTP requests for that URL.\n",
    "\n",
    "For example, consider the following code:\n"
   ]
  },
  {
   "cell_type": "code",
   "execution_count": null,
   "id": "a1acc3d1-0ecf-444a-9965-4dee6ef89ed2",
   "metadata": {},
   "outputs": [],
   "source": [
    "from flask import Flask\n",
    "\n",
    "app = Flask(__name__)\n",
    "\n",
    "@app.route('/')\n",
    "def hello():\n",
    "    return 'Hello, World!'\n"
   ]
  },
  {
   "cell_type": "markdown",
   "id": "fd997802-a508-46ee-ab0d-a66949fc2aab",
   "metadata": {},
   "source": [
    "In this example, we have defined an app route for the root URL path '/'. When a user visits the root URL of our Flask application, Flask will call the hello() function and return the string 'Hello, World!'.\n",
    "\n",
    "We use app routes in Flask to define the different pages and functionality of our web application. By mapping URLs to specific Python functions, we can create a well-organized and easy-to-maintain codebase.\n",
    "\n",
    "Using app routes also makes it easy to add new functionality to our application as we can simply define a new Python function and map it to a new URL path using the @app.route decorator.\n",
    "\n",
    "In summary, app routing in Flask is a powerful feature that allows us to define the different routes of our web application, map them to Python functions, and create a well-organized and easy-to-maintain codebase."
   ]
  },
  {
   "cell_type": "markdown",
   "id": "b2bc3c7a-06b7-4196-8b2b-d8dfe7f28f2c",
   "metadata": {},
   "source": [
    "Q4. Create a “/welcome” route to display the welcome message “Welcome to ABC Corporation” and a “/”\n",
    "route to show the following details:\n",
    "Company Name: ABC Corporation\n",
    "Location: India\n",
    "Contact Detail: 999-999-9999"
   ]
  },
  {
   "cell_type": "code",
   "execution_count": null,
   "id": "5fb03e84-2239-4aac-9fe3-9567fb084b54",
   "metadata": {},
   "outputs": [],
   "source": [
    "from flask import Flask\n",
    "\n",
    "app = Flask(__name__)\n",
    "\n",
    "@app.route(\"/welcome\")\n",
    "def welcome():\n",
    "    return \"<h1>Welcome to ABC Corporation<h1>\"\n",
    "\n",
    "@app.route(\"/\")\n",
    "def company_details():\n",
    "    return \"<h1>Company Name: ABC Corporation<br>Location: India<br>Contact Detail: 999-999-9999</h1>\"\n",
    "\n",
    "if __name__ == '__main__':\n",
    "    app.run()"
   ]
  },
  {
   "cell_type": "markdown",
   "id": "eb5cc6ce-91b9-4e9c-93df-5ffc6aee8b63",
   "metadata": {},
   "source": [
    "<img src=\"Screenshot (196).png\">\n"
   ]
  },
  {
   "cell_type": "markdown",
   "id": "e8db6c2f-4bc2-4575-ad3c-52aab104854b",
   "metadata": {},
   "source": [
    "<img src=\"Screenshot (197).png\">\n"
   ]
  },
  {
   "cell_type": "markdown",
   "id": "6ea2971e-212b-403b-ae4a-24e3dbb7710d",
   "metadata": {},
   "source": [
    "Q5. What function is used in Flask for URL Building? Write a Python code to demonstrate the working of the\n",
    "url_for() function."
   ]
  },
  {
   "cell_type": "markdown",
   "id": "17ff83f0-05ed-4ccb-a02d-13074da30654",
   "metadata": {},
   "source": [
    "In Flask, the url_for() function is used for URL building. This function generates a URL to the specified endpoint with the method provided.\n",
    "\n",
    "Here's an example code to demonstrate the working of the url_for() function:"
   ]
  },
  {
   "cell_type": "code",
   "execution_count": null,
   "id": "c567117d-9bf2-48c7-8614-5864fc02d746",
   "metadata": {},
   "outputs": [],
   "source": [
    "from flask import Flask, url_for\n",
    "\n",
    "app = Flask(__name__)\n",
    "\n",
    "@app.route('/')\n",
    "def index():\n",
    "    return 'This is the home page'\n",
    "\n",
    "@app.route('/about')\n",
    "def about():\n",
    "    return 'This is the about page'\n",
    "\n",
    "@app.route('/user/<username>')\n",
    "def user(username):\n",
    "    return f'This is the {username}\\'s profile page'\n",
    "\n",
    "@app.route('/contact')\n",
    "def contact():\n",
    "    return f'Contact us at: {url_for(\"contact_info\")}'\n",
    "\n",
    "@app.route('/contact/info')\n",
    "def contact_info():\n",
    "    return 'This is the contact information page'\n",
    "\n",
    "if __name__ == '__main__':\n",
    "    app.run()\n"
   ]
  },
  {
   "cell_type": "markdown",
   "id": "b4a07172-250c-4cfe-a8d7-0360c9994bd5",
   "metadata": {},
   "source": [
    "In this example, we have defined four app routes - \"/\", \"/about\", \"/user/<username>\", and \"/contact\". The /contact route uses the url_for() function to generate a URL to the contact_info endpoint. When the user visits the \"/contact\" route, they will see the string \"Contact us at: /contact/info\" with a hyperlink to the \"/contact/info\" endpoint.\n",
    "\n",
    "The url_for() function takes the endpoint name as its argument and returns a URL to that endpoint. In this example, url_for(\"contact_info\") returns the URL \"/contact/info\".\n",
    "\n",
    "By using the url_for() function, we can create dynamic and maintainable URLs in our Flask application. We can also change the URL structure of our application without affecting the functionality of our code by only changing the endpoint names."
   ]
  },
  {
   "cell_type": "code",
   "execution_count": null,
   "id": "5304fa48-8d82-41c1-b85d-983ad97bbe73",
   "metadata": {},
   "outputs": [],
   "source": []
  },
  {
   "cell_type": "code",
   "execution_count": null,
   "id": "fca4ba4a-99fc-4c3a-8fce-f526c51debed",
   "metadata": {},
   "outputs": [],
   "source": []
  },
  {
   "cell_type": "code",
   "execution_count": null,
   "id": "45068380-cc82-441c-870f-1c38e7bcaf01",
   "metadata": {},
   "outputs": [],
   "source": []
  }
 ],
 "metadata": {
  "kernelspec": {
   "display_name": "Python 3 (ipykernel)",
   "language": "python",
   "name": "python3"
  },
  "language_info": {
   "codemirror_mode": {
    "name": "ipython",
    "version": 3
   },
   "file_extension": ".py",
   "mimetype": "text/x-python",
   "name": "python",
   "nbconvert_exporter": "python",
   "pygments_lexer": "ipython3",
   "version": "3.10.8"
  }
 },
 "nbformat": 4,
 "nbformat_minor": 5
}
