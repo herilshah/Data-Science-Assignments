{
 "cells": [
  {
   "cell_type": "markdown",
   "id": "5147ae94-b7dc-43ff-896e-fd03ca591572",
   "metadata": {},
   "source": [
    "## Q1. What is data encoding? How is it useful in data science?"
   ]
  },
  {
   "cell_type": "markdown",
   "id": "32701a0e-f3f4-4ffd-8250-e3b4ff43acda",
   "metadata": {},
   "source": [
    "##  Data encoding is the process of transforming categorical data into numerical values that can be processed by machine learning algorithms. It is useful in data science because most machine learning algorithms can only work with numerical data. Encoding transforms categorical data into numerical form, allowing algorithms to analyze and interpret the data."
   ]
  },
  {
   "cell_type": "markdown",
   "id": "2a77d953-a8bc-49b0-a62d-957adfb8ac91",
   "metadata": {},
   "source": [
    "## Q2. What is nominal encoding? Provide an example of how you would use it in a real-world scenario."
   ]
  },
  {
   "cell_type": "markdown",
   "id": "dcb5c5f8-2eea-4c47-aead-a0076b3c4e9e",
   "metadata": {},
   "source": [
    "## Nominal encoding is a type of encoding that assigns a unique integer value to each category or level of a categorical variable. One example of using nominal encoding is in sentiment analysis. For example, we can use nominal encoding to convert a customer's sentiment towards a product into numerical values such as \"positive,\" \"negative,\" or \"neutral.\" By encoding this data, it can be analyzed and used to make predictions. "
   ]
  },
  {
   "cell_type": "markdown",
   "id": "5df9b95f-8574-4ad4-820e-c5f9cc1c08fb",
   "metadata": {},
   "source": [
    "## Q3. In what situations is nominal encoding preferred over one-hot encoding? Provide a practical example."
   ]
  },
  {
   "cell_type": "markdown",
   "id": "a6fd96a4-4627-466d-b3bc-5bc66cc002ec",
   "metadata": {},
   "source": [
    "## Nominal encoding is preferred over one-hot encoding in cases where the categorical variable has a large number of categories, and each category has a similar frequency of occurrence. In such situations, one-hot encoding will result in a large number of binary columns, leading to a high-dimensional dataset, which may slow down the training process of machine learning models. For example, nominal encoding may be preferred over one-hot encoding when working with a dataset containing the names of countries worldwide."
   ]
  },
  {
   "cell_type": "markdown",
   "id": "6be6b8d8-967e-461c-91dd-2b08564bb4af",
   "metadata": {},
   "source": [
    "## Q4. Suppose you have a dataset containing categorical data with 5 unique values. Which encoding technique would you use to transform this data into a format suitable for machine learning algorithms? Explain why you made this choice."
   ]
  },
  {
   "cell_type": "markdown",
   "id": "175b7441-390b-4e12-a4df-b1fac086b90a",
   "metadata": {},
   "source": [
    "##  If the categorical data has five unique values, we can use nominal encoding to transform the data into numerical form. Nominal encoding assigns a unique integer value to each category or level of a categorical variable, making it suitable for use in machine learning algorithms. The choice of nominal encoding is appropriate as it reduces the dimensionality of the data, which can improve the performance of the algorithms."
   ]
  },
  {
   "cell_type": "markdown",
   "id": "eefa6639-fc5a-40f3-9a10-3807665a24b9",
   "metadata": {},
   "source": [
    "## Q5. In a machine learning project, you have a dataset with 1000 rows and 5 columns. Two of the columns are categorical, and the remaining three columns are numerical. If you were to use nominal encoding to transform the categorical data, how many new columns would be created? Show your calculations."
   ]
  },
  {
   "cell_type": "markdown",
   "id": "577ca87a-69d3-4a86-963e-598a7f96de37",
   "metadata": {},
   "source": [
    "## If you were to use nominal encoding to transform the categorical data, the number of new columns created would depend on the number of unique values in the categorical columns. Each unique value would be encoded as a new column. For example, if one of the categorical columns had 4 unique values, using nominal encoding would create 4 new columns. Therefore, the total number of new columns created would be the sum of the number of unique values in each categorical column."
   ]
  },
  {
   "cell_type": "markdown",
   "id": "c8fd65c2-02d6-4afe-ab8a-4287a74ad374",
   "metadata": {},
   "source": [
    "## Q6. You are working with a dataset containing information about different types of animals, including their species, habitat, and diet. Which encoding technique would you use to transform the categorical data into a format suitable for machine learning algorithms? Justify your answer."
   ]
  },
  {
   "cell_type": "markdown",
   "id": "4ce7a8ed-6ffb-4e51-9b15-1c65d4e49054",
   "metadata": {},
   "source": [
    "## One encoding technique that could be used to transform the categorical data is one-hot encoding. This technique would be suitable because it can handle multiple categorical variables with multiple categories. For example, the species variable could have multiple categories such as mammal, reptile, and bird. One-hot encoding would create a new binary column for each category and assign a value of 1 if the animal belongs to that category and 0 otherwise."
   ]
  },
  {
   "cell_type": "markdown",
   "id": "9202683c-cb32-4c10-ba69-2f6feb556480",
   "metadata": {},
   "source": [
    "## Q7.You are working on a project that involves predicting customer churn for a telecommunications company. You have a dataset with 5 features, including the customer's gender, age, contract type, monthly charges, and tenure. Which encoding technique(s) would you use to transform the categorical data into numerical data? Provide a step-by-step explanation of how you would implement the encoding."
   ]
  },
  {
   "cell_type": "markdown",
   "id": "62c5c574-7cb6-4824-b397-babc6e84d458",
   "metadata": {},
   "source": [
    "To transform the categorical data into numerical data for predicting customer churn, we can use one-hot encoding for gender and contract type since they have only two unique values. For age, we can use ordinal encoding to group customers into age ranges such as 18-25, 26-35, and so on. For monthly charges and tenure, we can use standard scaling to normalize the values and ensure that they are on the same scale. Here are the steps to implement the encoding:\n",
    "\n",
    "1. Use one-hot encoding to encode the gender and contract type columns.\n",
    "2. Group the age column into age ranges and use ordinal encoding to assign a numerical value to each age range.\n",
    "3. Use standard scaling to normalize the monthly charges and tenure columns.\n",
    "4. Concatenate the encoded columns and the scaled columns to form a final dataset for machine learning algorithms.\n",
    "\n"
   ]
  },
  {
   "cell_type": "markdown",
   "id": "b62bd1b9-4bcd-4840-8efc-873c9babff8e",
   "metadata": {},
   "source": [
    "## "
   ]
  },
  {
   "cell_type": "markdown",
   "id": "29b98f03-c1a0-4872-b5d6-de1395dc05d0",
   "metadata": {},
   "source": [
    "## "
   ]
  },
  {
   "cell_type": "markdown",
   "id": "8df64bfc-aa9f-4734-850f-eb8090e2775f",
   "metadata": {},
   "source": [
    "## "
   ]
  },
  {
   "cell_type": "markdown",
   "id": "ceb81e46-065a-486f-bc2d-a0439e526fbc",
   "metadata": {},
   "source": [
    "## "
   ]
  },
  {
   "cell_type": "markdown",
   "id": "2edeabb2-a938-45ea-8f91-9e90b2642436",
   "metadata": {},
   "source": [
    "## "
   ]
  },
  {
   "cell_type": "markdown",
   "id": "8b788849-8d09-47cf-b2ea-f7cc3b937432",
   "metadata": {},
   "source": [
    "## "
   ]
  },
  {
   "cell_type": "markdown",
   "id": "6053d5c2-b6a4-4c72-83ef-dd9c0398a732",
   "metadata": {},
   "source": [
    "## "
   ]
  },
  {
   "cell_type": "markdown",
   "id": "046be43d-5d78-40c3-a604-fe61a70465c2",
   "metadata": {},
   "source": [
    "## "
   ]
  },
  {
   "cell_type": "markdown",
   "id": "bb891de6-2af5-4f8c-8802-54e39e62f761",
   "metadata": {},
   "source": [
    "## "
   ]
  },
  {
   "cell_type": "markdown",
   "id": "03720d71-24ef-45b2-b176-7afa690f16f3",
   "metadata": {},
   "source": [
    "## "
   ]
  },
  {
   "cell_type": "markdown",
   "id": "8367e4f7-89be-411b-bf0e-2a15625f132f",
   "metadata": {},
   "source": [
    "## "
   ]
  },
  {
   "cell_type": "markdown",
   "id": "a6377d20-efb1-4de1-a860-3578a10ca9ef",
   "metadata": {},
   "source": [
    "## "
   ]
  },
  {
   "cell_type": "markdown",
   "id": "d3a48910-b3ca-48eb-8913-b501e88dc570",
   "metadata": {},
   "source": [
    "## "
   ]
  },
  {
   "cell_type": "markdown",
   "id": "7de92801-d4e1-4ca9-afb3-710e22528c7d",
   "metadata": {},
   "source": [
    "## "
   ]
  },
  {
   "cell_type": "markdown",
   "id": "ab945f4d-36e7-4d75-8154-cd05e09e362c",
   "metadata": {},
   "source": [
    "## "
   ]
  },
  {
   "cell_type": "markdown",
   "id": "8c485574-207d-47f8-887d-0154afb6cd60",
   "metadata": {},
   "source": [
    "## "
   ]
  },
  {
   "cell_type": "markdown",
   "id": "7922ddb2-a0cd-40aa-be36-0b9b73fa223a",
   "metadata": {},
   "source": [
    "## "
   ]
  },
  {
   "cell_type": "markdown",
   "id": "cdf223c4-ce9e-48d1-b940-ea7bd932f672",
   "metadata": {},
   "source": [
    "## "
   ]
  }
 ],
 "metadata": {
  "kernelspec": {
   "display_name": "Python 3 (ipykernel)",
   "language": "python",
   "name": "python3"
  },
  "language_info": {
   "codemirror_mode": {
    "name": "ipython",
    "version": 3
   },
   "file_extension": ".py",
   "mimetype": "text/x-python",
   "name": "python",
   "nbconvert_exporter": "python",
   "pygments_lexer": "ipython3",
   "version": "3.10.8"
  }
 },
 "nbformat": 4,
 "nbformat_minor": 5
}
