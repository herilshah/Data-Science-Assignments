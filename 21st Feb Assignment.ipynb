{
 "cells": [
  {
   "cell_type": "markdown",
   "id": "681aac34-5d08-43f6-9480-2dfb41c0cf6e",
   "metadata": {},
   "source": [
    "Q1. What is Web Scraping? Why is it Used? Give three areas where Web Scraping is used to get data."
   ]
  },
  {
   "cell_type": "markdown",
   "id": "d5ce2431-e930-43de-9ecc-ab992b75753b",
   "metadata": {},
   "source": [
    "Definition of Web Scraping\n",
    "Web scraping is a technique of extracting data from websites using automated software or tools. The software extracts the data from the HTML pages of the website, and then the data is transformed into a structured format, such as a CSV or JSON file, which can be analyzed or used for other purposes.\n",
    "\n",
    "Why Web Scraping is Used\n",
    "Web scraping is used for various purposes, such as:\n",
    "\n",
    "To gather data for research or analysis\n",
    "To monitor and track changes in website content\n",
    "To build datasets for machine learning or data analysis\n",
    "To automate repetitive tasks, such as data entry or data validation\n",
    "To extract data from websites that do not offer APIs or data feeds\n",
    "Three Areas Where Web Scraping is Used to Get Data\n",
    "Web scraping is used in various areas to gather data, such as:\n",
    "\n",
    "E-commerce: To gather product information, pricing, and reviews from online stores.\n",
    "Social media: To collect user data and analyze sentiment.\n",
    "Finance: To gather stock prices, news articles, and financial statements."
   ]
  },
  {
   "cell_type": "markdown",
   "id": "8db78edc-1cee-40e5-a53e-4998bb361389",
   "metadata": {},
   "source": [
    "Q2. What are the different methods used for Web Scraping?"
   ]
  },
  {
   "cell_type": "markdown",
   "id": "bab46dbb-411b-467f-b65d-3e8fe6be5f10",
   "metadata": {},
   "source": [
    "There are different methods used for web scraping, such as:\n",
    "\n",
    "Writing custom web scrapers using programming languages such as Python, JavaScript, or Ruby.\n",
    "Using web scraping tools or software, such as Beautiful Soup, Scrapy, or Selenium.\n",
    "Using APIs or web services to access data from websites that offer APIs."
   ]
  },
  {
   "cell_type": "markdown",
   "id": "1829a449-9f64-4133-8c2b-d7aa8149a0c4",
   "metadata": {},
   "source": [
    "Q3. What is Beautiful Soup? Why is it used?"
   ]
  },
  {
   "cell_type": "markdown",
   "id": "55e3d994-d62f-4a3e-84d7-e521108d4733",
   "metadata": {},
   "source": [
    "Beautiful Soup is a Python library used for web scraping purposes. It allows us to parse HTML and XML documents easily and efficiently. Beautiful Soup provides a set of methods and functions to extract specific data from HTML pages, such as extracting text, links, and images.\n",
    "\n",
    "Beautiful Soup is used for web scraping because:\n",
    "\n",
    "It is easy to use and learn.\n",
    "It has a wide range of functionalities for parsing HTML pages.\n",
    "It can handle poorly formatted HTML pages.\n",
    "It is open source and free to use."
   ]
  },
  {
   "cell_type": "markdown",
   "id": "1ebb8a76-acf2-411e-b759-aa00ebec2c28",
   "metadata": {},
   "source": [
    "Q4. Why is Flask used in this Web Scraping project?"
   ]
  },
  {
   "cell_type": "markdown",
   "id": "ee0ad2bf-8b8d-48bf-8cb9-27b666c2a351",
   "metadata": {},
   "source": [
    "Flask is a lightweight web framework for Python used to build web applications. Flask is used in this web scraping project because it provides a simple and flexible way to create web applications. Flask is also easy to set up and can be used to build web applications quickly.\n",
    "\n",
    "In this web scraping project, Flask is used to create a web application that allows users to input a keyword and retrieve relevant news articles from various news websites."
   ]
  },
  {
   "cell_type": "markdown",
   "id": "6efe43e2-d8ab-4905-a522-e12079934ead",
   "metadata": {},
   "source": [
    "Q5. Write the names of AWS services used in this project. Also, explain the use of each service."
   ]
  },
  {
   "cell_type": "markdown",
   "id": "6a9a91db-6e79-492c-8b7c-3136499f5476",
   "metadata": {},
   "source": [
    "In this project, the following AWS services are used:\n",
    "\n",
    "Amazon S3: S3 is a cloud storage service that allows users to store and retrieve data from anywhere on the web. In this project, S3 is used to store the scraped news articles in CSV format.\n",
    "\n",
    "Amazon EC2: EC2 is a cloud computing service that provides scalable computing capacity in the cloud. In this project, EC2 is used to host the Flask application that allows users to input a keyword and retrieve relevant news articles.\n",
    "\n",
    "Amazon RDS: RDS is a relational database service that provides scalable and cost-effective database solutions. In this project, RDS is used to store the keywords and their associated news articles in a MySQL database.\n",
    "\n",
    "These services are used to store and manage the scraped data, as well as to host and run the web application."
   ]
  },
  {
   "cell_type": "code",
   "execution_count": null,
   "id": "fbc8d99a-159f-4b81-bfe1-d2930c4ecbc4",
   "metadata": {},
   "outputs": [],
   "source": []
  },
  {
   "cell_type": "code",
   "execution_count": null,
   "id": "621f86b8-daba-4f9b-b261-a682cd09b331",
   "metadata": {},
   "outputs": [],
   "source": []
  },
  {
   "cell_type": "code",
   "execution_count": null,
   "id": "8c7d1559-82cf-48a8-93a9-fbaf32a95b0a",
   "metadata": {},
   "outputs": [],
   "source": []
  },
  {
   "cell_type": "code",
   "execution_count": null,
   "id": "a9b54b2c-1d44-445a-a4ea-d30ca4e7cd1f",
   "metadata": {},
   "outputs": [],
   "source": []
  },
  {
   "cell_type": "code",
   "execution_count": null,
   "id": "976df309-b46e-402f-8f6e-d018e8a0398e",
   "metadata": {},
   "outputs": [],
   "source": []
  },
  {
   "cell_type": "code",
   "execution_count": null,
   "id": "42626552-59b7-4116-ab3b-7b85f1d107dd",
   "metadata": {},
   "outputs": [],
   "source": []
  }
 ],
 "metadata": {
  "kernelspec": {
   "display_name": "Python 3 (ipykernel)",
   "language": "python",
   "name": "python3"
  },
  "language_info": {
   "codemirror_mode": {
    "name": "ipython",
    "version": 3
   },
   "file_extension": ".py",
   "mimetype": "text/x-python",
   "name": "python",
   "nbconvert_exporter": "python",
   "pygments_lexer": "ipython3",
   "version": "3.10.8"
  }
 },
 "nbformat": 4,
 "nbformat_minor": 5
}
