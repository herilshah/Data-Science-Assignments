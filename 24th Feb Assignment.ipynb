{
 "cells": [
  {
   "cell_type": "markdown",
   "id": "1064044b-3a64-4728-ba7b-a3d1d6ccad3e",
   "metadata": {},
   "source": [
    "Q1. List any five functions of the pandas library with execution."
   ]
  },
  {
   "cell_type": "markdown",
   "id": "66a65ae5-171f-4d5d-90b6-c67160875d0b",
   "metadata": {},
   "source": [
    "Below are five functions of the pandas library with example executions:\n",
    "\n",
    "The DataFrame() function creates a pandas DataFrame, which is a 2-dimensional labeled data structure with columns of potentially different types. The DataFrame can be created from a variety of sources, such as a dictionary, a NumPy array, or a CSV file."
   ]
  },
  {
   "cell_type": "code",
   "execution_count": 3,
   "id": "4b1b9afb-1f9a-4bfd-a11f-b91c180e1582",
   "metadata": {},
   "outputs": [
    {
     "data": {
      "text/html": [
       "<div>\n",
       "<style scoped>\n",
       "    .dataframe tbody tr th:only-of-type {\n",
       "        vertical-align: middle;\n",
       "    }\n",
       "\n",
       "    .dataframe tbody tr th {\n",
       "        vertical-align: top;\n",
       "    }\n",
       "\n",
       "    .dataframe thead th {\n",
       "        text-align: right;\n",
       "    }\n",
       "</style>\n",
       "<table border=\"1\" class=\"dataframe\">\n",
       "  <thead>\n",
       "    <tr style=\"text-align: right;\">\n",
       "      <th></th>\n",
       "      <th>Name</th>\n",
       "      <th>Age</th>\n",
       "    </tr>\n",
       "  </thead>\n",
       "  <tbody>\n",
       "    <tr>\n",
       "      <th>0</th>\n",
       "      <td>A</td>\n",
       "      <td>15</td>\n",
       "    </tr>\n",
       "    <tr>\n",
       "      <th>1</th>\n",
       "      <td>B</td>\n",
       "      <td>20</td>\n",
       "    </tr>\n",
       "    <tr>\n",
       "      <th>2</th>\n",
       "      <td>C</td>\n",
       "      <td>25</td>\n",
       "    </tr>\n",
       "  </tbody>\n",
       "</table>\n",
       "</div>"
      ],
      "text/plain": [
       "  Name  Age\n",
       "0    A   15\n",
       "1    B   20\n",
       "2    C   25"
      ]
     },
     "execution_count": 3,
     "metadata": {},
     "output_type": "execute_result"
    }
   ],
   "source": [
    "import pandas as pd\n",
    "\n",
    "data = {\"Name\": [\"A\", \"B\", \"C\"], \"Age\": [15, 20, 25]}\n",
    "df = pd.DataFrame(data)\n",
    "df"
   ]
  },
  {
   "cell_type": "markdown",
   "id": "88ea5201-b909-42ef-bd83-fb1e4b8146f3",
   "metadata": {},
   "source": [
    "describe(): The describe() function generates descriptive statistics of a pandas DataFrame, such as count, mean, standard deviation, and more. This function is useful for quickly understanding the distribution and range of values in a dataset.m"
   ]
  },
  {
   "cell_type": "code",
   "execution_count": 4,
   "id": "a9146549-1085-48f6-a4a8-aaadf1687c03",
   "metadata": {},
   "outputs": [
    {
     "data": {
      "text/html": [
       "<div>\n",
       "<style scoped>\n",
       "    .dataframe tbody tr th:only-of-type {\n",
       "        vertical-align: middle;\n",
       "    }\n",
       "\n",
       "    .dataframe tbody tr th {\n",
       "        vertical-align: top;\n",
       "    }\n",
       "\n",
       "    .dataframe thead th {\n",
       "        text-align: right;\n",
       "    }\n",
       "</style>\n",
       "<table border=\"1\" class=\"dataframe\">\n",
       "  <thead>\n",
       "    <tr style=\"text-align: right;\">\n",
       "      <th></th>\n",
       "      <th>Age</th>\n",
       "    </tr>\n",
       "  </thead>\n",
       "  <tbody>\n",
       "    <tr>\n",
       "      <th>count</th>\n",
       "      <td>3.0</td>\n",
       "    </tr>\n",
       "    <tr>\n",
       "      <th>mean</th>\n",
       "      <td>20.0</td>\n",
       "    </tr>\n",
       "    <tr>\n",
       "      <th>std</th>\n",
       "      <td>5.0</td>\n",
       "    </tr>\n",
       "    <tr>\n",
       "      <th>min</th>\n",
       "      <td>15.0</td>\n",
       "    </tr>\n",
       "    <tr>\n",
       "      <th>25%</th>\n",
       "      <td>17.5</td>\n",
       "    </tr>\n",
       "    <tr>\n",
       "      <th>50%</th>\n",
       "      <td>20.0</td>\n",
       "    </tr>\n",
       "    <tr>\n",
       "      <th>75%</th>\n",
       "      <td>22.5</td>\n",
       "    </tr>\n",
       "    <tr>\n",
       "      <th>max</th>\n",
       "      <td>25.0</td>\n",
       "    </tr>\n",
       "  </tbody>\n",
       "</table>\n",
       "</div>"
      ],
      "text/plain": [
       "        Age\n",
       "count   3.0\n",
       "mean   20.0\n",
       "std     5.0\n",
       "min    15.0\n",
       "25%    17.5\n",
       "50%    20.0\n",
       "75%    22.5\n",
       "max    25.0"
      ]
     },
     "execution_count": 4,
     "metadata": {},
     "output_type": "execute_result"
    }
   ],
   "source": [
    "df.describe()"
   ]
  },
  {
   "cell_type": "markdown",
   "id": "e21cc45b-1cda-4f6b-b5ca-4e65fdf43da1",
   "metadata": {},
   "source": [
    "pivot_table(): This function is used to create a spreadsheet-style pivot table based on a Pandas DataFrame, which is useful for summarizing and aggregating data."
   ]
  },
  {
   "cell_type": "code",
   "execution_count": 6,
   "id": "dbab5711-ec11-4de5-bd99-aa419fac1725",
   "metadata": {},
   "outputs": [
    {
     "data": {
      "text/html": [
       "<div>\n",
       "<style scoped>\n",
       "    .dataframe tbody tr th:only-of-type {\n",
       "        vertical-align: middle;\n",
       "    }\n",
       "\n",
       "    .dataframe tbody tr th {\n",
       "        vertical-align: top;\n",
       "    }\n",
       "\n",
       "    .dataframe thead th {\n",
       "        text-align: right;\n",
       "    }\n",
       "</style>\n",
       "<table border=\"1\" class=\"dataframe\">\n",
       "  <thead>\n",
       "    <tr style=\"text-align: right;\">\n",
       "      <th></th>\n",
       "      <th></th>\n",
       "      <th>Salary</th>\n",
       "    </tr>\n",
       "    <tr>\n",
       "      <th>Sex</th>\n",
       "      <th>Age</th>\n",
       "      <th></th>\n",
       "    </tr>\n",
       "  </thead>\n",
       "  <tbody>\n",
       "    <tr>\n",
       "      <th>F</th>\n",
       "      <th>25</th>\n",
       "      <td>52500</td>\n",
       "    </tr>\n",
       "    <tr>\n",
       "      <th rowspan=\"3\" valign=\"top\">M</th>\n",
       "      <th>30</th>\n",
       "      <td>62500</td>\n",
       "    </tr>\n",
       "    <tr>\n",
       "      <th>35</th>\n",
       "      <td>70000</td>\n",
       "    </tr>\n",
       "    <tr>\n",
       "      <th>40</th>\n",
       "      <td>80000</td>\n",
       "    </tr>\n",
       "  </tbody>\n",
       "</table>\n",
       "</div>"
      ],
      "text/plain": [
       "         Salary\n",
       "Sex Age        \n",
       "F   25    52500\n",
       "M   30    62500\n",
       "    35    70000\n",
       "    40    80000"
      ]
     },
     "execution_count": 6,
     "metadata": {},
     "output_type": "execute_result"
    }
   ],
   "source": [
    "import pandas as pd\n",
    "\n",
    "# Creating a DataFrame\n",
    "data = {\"Name\": [\"Alice\", \"Bob\", \"Charlie\", \"David\", \"Ella\", \"Frank\"],\n",
    "        \"Sex\": [\"F\", \"M\", \"M\", \"M\", \"F\", \"M\"],\n",
    "        \"Age\": [25, 30, 35, 40, 25, 30],\n",
    "        \"Salary\": [50000, 60000, 70000, 80000, 55000, 65000]}\n",
    "df = pd.DataFrame(data)\n",
    "\n",
    "# Creating a pivot table\n",
    "pivot_df = pd.pivot_table(df, index=[\"Sex\", \"Age\"], values=\"Salary\", aggfunc=\"mean\")\n",
    "\n",
    "pivot_df"
   ]
  },
  {
   "cell_type": "markdown",
   "id": "8179293e-4242-4dd9-8cb0-60cf95c1a175",
   "metadata": {},
   "source": [
    "4)merge(): The merge() function merges two pandas DataFrames based on one or more common columns. This function is useful for combining data from multiple sources based on a shared key."
   ]
  },
  {
   "cell_type": "code",
   "execution_count": 7,
   "id": "06a82c16-fa68-4d10-a9d1-84da48b4300f",
   "metadata": {},
   "outputs": [
    {
     "data": {
      "text/html": [
       "<div>\n",
       "<style scoped>\n",
       "    .dataframe tbody tr th:only-of-type {\n",
       "        vertical-align: middle;\n",
       "    }\n",
       "\n",
       "    .dataframe tbody tr th {\n",
       "        vertical-align: top;\n",
       "    }\n",
       "\n",
       "    .dataframe thead th {\n",
       "        text-align: right;\n",
       "    }\n",
       "</style>\n",
       "<table border=\"1\" class=\"dataframe\">\n",
       "  <thead>\n",
       "    <tr style=\"text-align: right;\">\n",
       "      <th></th>\n",
       "      <th>Name</th>\n",
       "      <th>Age</th>\n",
       "      <th>Salary</th>\n",
       "    </tr>\n",
       "  </thead>\n",
       "  <tbody>\n",
       "    <tr>\n",
       "      <th>0</th>\n",
       "      <td>Bob</td>\n",
       "      <td>30</td>\n",
       "      <td>50000</td>\n",
       "    </tr>\n",
       "  </tbody>\n",
       "</table>\n",
       "</div>"
      ],
      "text/plain": [
       "  Name  Age  Salary\n",
       "0  Bob   30   50000"
      ]
     },
     "execution_count": 7,
     "metadata": {},
     "output_type": "execute_result"
    }
   ],
   "source": [
    "import pandas as pd\n",
    "\n",
    "# Creating two DataFrames\n",
    "df1 = pd.DataFrame({\"Name\": [\"Alice\", \"Bob\"], \"Age\": [25, 30]})\n",
    "df2 = pd.DataFrame({\"Name\": [\"Bob\", \"Charlie\"], \"Salary\": [50000, 60000]})\n",
    "\n",
    "# Merging two DataFrames based on a common column\n",
    "merged_df = pd.merge(df1, df2, on=\"Name\")\n",
    "merged_df"
   ]
  },
  {
   "cell_type": "markdown",
   "id": "869bb564-af1b-41bd-b1f6-b9ff4f1d590c",
   "metadata": {},
   "source": [
    "5)apply(): The apply() function applies a given function to each element of a pandas DataFrame or Series. This function is useful for transforming data in a DataFrame or Series according to a specified operation."
   ]
  },
  {
   "cell_type": "code",
   "execution_count": 8,
   "id": "8f7e4f05-806d-48bf-bb8f-12bacdfceb51",
   "metadata": {},
   "outputs": [
    {
     "data": {
      "text/html": [
       "<div>\n",
       "<style scoped>\n",
       "    .dataframe tbody tr th:only-of-type {\n",
       "        vertical-align: middle;\n",
       "    }\n",
       "\n",
       "    .dataframe tbody tr th {\n",
       "        vertical-align: top;\n",
       "    }\n",
       "\n",
       "    .dataframe thead th {\n",
       "        text-align: right;\n",
       "    }\n",
       "</style>\n",
       "<table border=\"1\" class=\"dataframe\">\n",
       "  <thead>\n",
       "    <tr style=\"text-align: right;\">\n",
       "      <th></th>\n",
       "      <th>Name</th>\n",
       "      <th>Age</th>\n",
       "    </tr>\n",
       "  </thead>\n",
       "  <tbody>\n",
       "    <tr>\n",
       "      <th>0</th>\n",
       "      <td>Alice</td>\n",
       "      <td>35</td>\n",
       "    </tr>\n",
       "    <tr>\n",
       "      <th>1</th>\n",
       "      <td>Bob</td>\n",
       "      <td>40</td>\n",
       "    </tr>\n",
       "    <tr>\n",
       "      <th>2</th>\n",
       "      <td>Charlie</td>\n",
       "      <td>45</td>\n",
       "    </tr>\n",
       "  </tbody>\n",
       "</table>\n",
       "</div>"
      ],
      "text/plain": [
       "      Name  Age\n",
       "0    Alice   35\n",
       "1      Bob   40\n",
       "2  Charlie   45"
      ]
     },
     "execution_count": 8,
     "metadata": {},
     "output_type": "execute_result"
    }
   ],
   "source": [
    "import pandas as pd\n",
    "\n",
    "# Creating a DataFrame\n",
    "data = {\"Name\": [\"Alice\", \"Bob\", \"Charlie\"],\n",
    "        \"Age\": [25, 30, 35]}\n",
    "df = pd.DataFrame(data)\n",
    "\n",
    "# Defining a function to add 10 to each age\n",
    "def add_10(age):\n",
    "    return age + 10\n",
    "\n",
    "# Applying the function to the \"Age\" column of the DataFrame\n",
    "df[\"Age\"] = df[\"Age\"].apply(add_10)\n",
    "df"
   ]
  },
  {
   "cell_type": "markdown",
   "id": "3a87193e-eea3-44a2-aec1-527743ce02a0",
   "metadata": {},
   "source": [
    "Q2. Given a Pandas DataFrame df with columns 'A', 'B', and 'C', write a Python function to re-index the DataFrame with a new index that starts from 1 and increments by 2 for each row.m"
   ]
  },
  {
   "cell_type": "code",
   "execution_count": 9,
   "id": "278f994d-0cd0-43f7-8012-cedd8c6fa03d",
   "metadata": {},
   "outputs": [
    {
     "name": "stdout",
     "output_type": "stream",
     "text": [
      "    A   B    C\n",
      "1  10  50   90\n",
      "3  20  60  100\n",
      "5  30  70  110\n",
      "7  40  80  120\n"
     ]
    }
   ],
   "source": [
    "import pandas as pd\n",
    "\n",
    "# Re-indexing the DataFrame using the reindex_df() function\n",
    "def reindex_df(df):\n",
    "    new_index = range(1, 2*len(df)+1, 2)\n",
    "    df = df.set_index(pd.Index(new_index))\n",
    "    return df\n",
    "\n",
    "#Driver Code\n",
    "# Creating a sample DataFrame\n",
    "df = pd.DataFrame({'A': [10, 20, 30, 40],\n",
    "                   'B': [50, 60, 70, 80],\n",
    "                   'C': [90, 100, 110, 120]})\n",
    "df = reindex_df(df)\n",
    "print(df)"
   ]
  },
  {
   "cell_type": "markdown",
   "id": "ddddb37f-0152-432b-8658-197f734b024b",
   "metadata": {},
   "source": [
    "Q3. You have a Pandas DataFrame df with a column named 'Values'. Write a Python function that iterates over the DataFrame and calculates the sum of the first three values in the 'Values' column. Thefunction should print the sum to the console.For example, if the 'Values' column of df contains the values [10, 20, 30, 40, 50], your function shouldcalculate and print the sum of the first three values, which is 60."
   ]
  },
  {
   "cell_type": "code",
   "execution_count": 11,
   "id": "e8f32c25-e3b1-4d37-93e5-c55090f9df3c",
   "metadata": {},
   "outputs": [
    {
     "name": "stdout",
     "output_type": "stream",
     "text": [
      "The sum of the first three values in the 'Values' column is 60.\n"
     ]
    }
   ],
   "source": [
    "import pandas as pd\n",
    "\n",
    "#Functin for priting the sum\n",
    "def sum_first_three_values(df):\n",
    "    values_col = df['Values']\n",
    "    first_three_values = values_col.iloc[:3]\n",
    "    sum_first_three = sum(first_three_values)\n",
    "    print(f\"The sum of the first three values in the 'Values' column is {sum_first_three}.\")\n",
    "    \n",
    "#Driver Code\n",
    "# Creating a sample DataFrame\n",
    "df = pd.DataFrame({'Values': [10, 20, 30, 40, 50]})\n",
    "\n",
    "# Calculating the sum of the first three values in the 'Values' column using the sum_first_three_values() function\n",
    "sum_first_three_values(df)\n"
   ]
  },
  {
   "cell_type": "markdown",
   "id": "9b0341fd-0456-4877-bb8e-dd35204522c0",
   "metadata": {},
   "source": [
    "Q4. Given a Pandas DataFrame df with a column 'Text', write a Python function to create a new column 'Word_Count' that contains the number of words in each row of the 'Text' column."
   ]
  },
  {
   "cell_type": "code",
   "execution_count": 13,
   "id": "fd984caa-5540-45c5-934d-9f2fa9def17f",
   "metadata": {},
   "outputs": [
    {
     "name": "stdout",
     "output_type": "stream",
     "text": [
      "                            Text  Word_Count\n",
      "0         This is a sample text.           5\n",
      "1  Another text with more words.           5\n",
      "2                  A third text.           3\n"
     ]
    }
   ],
   "source": [
    "import pandas as pd\n",
    "\n",
    "# Sample DataFrame\n",
    "df = pd.DataFrame({'Text': ['This is a sample text.', 'Another text with more words.', 'A third text.']})\n",
    "\n",
    "# Function to count the number of words in a given text\n",
    "def count_words(text):\n",
    "    return len(text.split())\n",
    "\n",
    "# Apply the function to each row of the 'Text' column and create a new column 'Word_Count'\n",
    "df['Word_Count'] = df['Text'].apply(lambda x: count_words(x))\n",
    "\n",
    "# Print the DataFrame\n",
    "print(df)\n"
   ]
  },
  {
   "cell_type": "markdown",
   "id": "e399b545-174c-40ad-8b76-bbf51a306d5b",
   "metadata": {},
   "source": [
    "Q5. How are DataFrame.size() and DataFrame.shape() different?\n"
   ]
  },
  {
   "cell_type": "markdown",
   "id": "e9623e48-912d-44c6-8216-ad83edf6dad6",
   "metadata": {},
   "source": [
    "The DataFrame.size() and DataFrame.shape() functions in Pandas are different in the following ways:\n",
    "\n",
    "DataFrame.size() returns the total number of elements in the DataFrame, which is equal to the product of the number of rows and columns, i.e., DataFrame.size() = DataFrame.shape[0] * DataFrame.shape[1].\n",
    "DataFrame.shape() returns a tuple of two integers representing the dimensions of the DataFrame, where the first integer represents the number of rows and the second integer represents the number of columns.\n",
    "In summary, DataFrame.size() returns the total number of elements in the DataFrame, while DataFrame.shape() returns a tuple representing the dimensions of the DataFrame."
   ]
  },
  {
   "cell_type": "markdown",
   "id": "f63ed7e4-5fbc-4b12-908a-bafcdbd5d15e",
   "metadata": {},
   "source": [
    "Q6. Which function of pandas do we use to read an excel file?"
   ]
  },
  {
   "cell_type": "markdown",
   "id": "0a45db2f-b230-4eea-87d5-69ca7b07ce7d",
   "metadata": {},
   "source": [
    "The pandas library provides the read_excel() function to read an Excel file. The read_excel() function can read Excel files with various file extensions, including .xls, .xlsx, .xlsm, .xlsb, etc. Here's an example of how to use the read_excel() function to read an Excel file:"
   ]
  },
  {
   "cell_type": "code",
   "execution_count": null,
   "id": "a90e472f-18ab-4538-ba84-d95d4fa396d1",
   "metadata": {},
   "outputs": [],
   "source": [
    "import pandas as pd\n",
    "\n",
    "# Read an Excel file into a DataFrame\n",
    "df = pd.read_excel('example.xlsx')\n",
    "\n",
    "#In the above code, the read_excel() function reads the Excel file named example.xlsx and returns a DataFrame.\n",
    "#You can specify additional parameters to the read_excel() function to customize how the file is read, such as the sheet name, column names, data types, etc."
   ]
  },
  {
   "cell_type": "markdown",
   "id": "5ac134ba-3a22-42cd-b04b-8f4edfac36fb",
   "metadata": {},
   "source": [
    "Q7. You have a Pandas DataFrame df that contains a column named 'Email' that contains email\n",
    "addresses in the format 'username@domain.com'. Write a Python function that creates a new column\n",
    "'Username' in df that contains only the username part of each email address.\n",
    "The username is the part of the email address that appears before the '@' symbol. For example, if the\n",
    "email address is 'john.doe@example.com', the 'Username' column should contain 'john.doe'. Your\n",
    "function should extract the username from each email address and store it in the new 'Username'\n",
    "column."
   ]
  },
  {
   "cell_type": "code",
   "execution_count": 15,
   "id": "7d7fac1f-defd-4faa-8eb4-cfc90f279801",
   "metadata": {},
   "outputs": [
    {
     "name": "stdout",
     "output_type": "stream",
     "text": [
      "                 Email     Username\n",
      "0    herilshah@xyz.com    herilshah\n",
      "1   heril.shah@xyz.com   heril.shah\n",
      "2  heril.shah1@xyz.com  heril.shah1\n"
     ]
    }
   ],
   "source": [
    "import pandas as pd\n",
    "\n",
    "# Sample DataFrame\n",
    "df = pd.DataFrame({'Email': ['herilshah@xyz.com', 'heril.shah@xyz.com', 'heril.shah1@xyz.com']})\n",
    "\n",
    "# Function to extract the username from an email address\n",
    "def extract_username(email):\n",
    "    return email.split('@')[0]\n",
    "\n",
    "# Apply the function to each row of the 'Email' column and create a new column 'Username'\n",
    "df['Username'] = df['Email'].apply(lambda x: extract_username(x))\n",
    "\n",
    "# Print the DataFrame\n",
    "print(df)\n"
   ]
  },
  {
   "cell_type": "markdown",
   "id": "0ed41050-5e02-4023-aa19-65e3f15e4637",
   "metadata": {},
   "source": [
    "Q8. You have a Pandas DataFrame df with columns 'A', 'B', and 'C'. Write a Python function that selects\n",
    "all rows where the value in column 'A' is greater than 5 and the value in column 'B' is less than 10. The\n",
    "function should return a new DataFrame that contains only the selected rows.\n",
    "For example, if df contains the following values:\n",
    "   A B C\n",
    "0 3 5 1\n",
    "1 8 2 7\n",
    "2 6 9 4\n",
    "3 2 3 5\n",
    "4 9 1 2                                                                                                                                                 \n",
    "Your function should select the following rows:                                                                                      \n",
    "   A B C\n",
    "1 8 2 7\n",
    "4 9 1 2\n",
    "The function should return a new DataFrame that contains only the selected rows."
   ]
  },
  {
   "cell_type": "code",
   "execution_count": 19,
   "id": "0d0c3135-1790-4bbe-9a76-0c2e51d2c66d",
   "metadata": {},
   "outputs": [
    {
     "data": {
      "text/html": [
       "<div>\n",
       "<style scoped>\n",
       "    .dataframe tbody tr th:only-of-type {\n",
       "        vertical-align: middle;\n",
       "    }\n",
       "\n",
       "    .dataframe tbody tr th {\n",
       "        vertical-align: top;\n",
       "    }\n",
       "\n",
       "    .dataframe thead th {\n",
       "        text-align: right;\n",
       "    }\n",
       "</style>\n",
       "<table border=\"1\" class=\"dataframe\">\n",
       "  <thead>\n",
       "    <tr style=\"text-align: right;\">\n",
       "      <th></th>\n",
       "      <th>A</th>\n",
       "      <th>B</th>\n",
       "      <th>C</th>\n",
       "    </tr>\n",
       "  </thead>\n",
       "  <tbody>\n",
       "    <tr>\n",
       "      <th>0</th>\n",
       "      <td>3</td>\n",
       "      <td>5</td>\n",
       "      <td>1</td>\n",
       "    </tr>\n",
       "    <tr>\n",
       "      <th>1</th>\n",
       "      <td>8</td>\n",
       "      <td>2</td>\n",
       "      <td>7</td>\n",
       "    </tr>\n",
       "    <tr>\n",
       "      <th>2</th>\n",
       "      <td>6</td>\n",
       "      <td>9</td>\n",
       "      <td>4</td>\n",
       "    </tr>\n",
       "    <tr>\n",
       "      <th>3</th>\n",
       "      <td>2</td>\n",
       "      <td>3</td>\n",
       "      <td>5</td>\n",
       "    </tr>\n",
       "    <tr>\n",
       "      <th>4</th>\n",
       "      <td>9</td>\n",
       "      <td>1</td>\n",
       "      <td>2</td>\n",
       "    </tr>\n",
       "  </tbody>\n",
       "</table>\n",
       "</div>"
      ],
      "text/plain": [
       "   A  B  C\n",
       "0  3  5  1\n",
       "1  8  2  7\n",
       "2  6  9  4\n",
       "3  2  3  5\n",
       "4  9  1  2"
      ]
     },
     "execution_count": 19,
     "metadata": {},
     "output_type": "execute_result"
    }
   ],
   "source": [
    "data = [[ 3, 5, 1],[8, 2, 7],[6, 9, 4],[2, 3, 5],[9, 1, 2]]\n",
    "df = pd.DataFrame(data, columns = ['A','B','C'])\n",
    "df"
   ]
  },
  {
   "cell_type": "code",
   "execution_count": 20,
   "id": "a98bd4a9-b746-4e19-a703-46473e09fb42",
   "metadata": {},
   "outputs": [
    {
     "data": {
      "text/html": [
       "<div>\n",
       "<style scoped>\n",
       "    .dataframe tbody tr th:only-of-type {\n",
       "        vertical-align: middle;\n",
       "    }\n",
       "\n",
       "    .dataframe tbody tr th {\n",
       "        vertical-align: top;\n",
       "    }\n",
       "\n",
       "    .dataframe thead th {\n",
       "        text-align: right;\n",
       "    }\n",
       "</style>\n",
       "<table border=\"1\" class=\"dataframe\">\n",
       "  <thead>\n",
       "    <tr style=\"text-align: right;\">\n",
       "      <th></th>\n",
       "      <th>A</th>\n",
       "      <th>B</th>\n",
       "      <th>C</th>\n",
       "    </tr>\n",
       "  </thead>\n",
       "  <tbody>\n",
       "    <tr>\n",
       "      <th>1</th>\n",
       "      <td>8</td>\n",
       "      <td>2</td>\n",
       "      <td>7</td>\n",
       "    </tr>\n",
       "    <tr>\n",
       "      <th>2</th>\n",
       "      <td>6</td>\n",
       "      <td>9</td>\n",
       "      <td>4</td>\n",
       "    </tr>\n",
       "    <tr>\n",
       "      <th>4</th>\n",
       "      <td>9</td>\n",
       "      <td>1</td>\n",
       "      <td>2</td>\n",
       "    </tr>\n",
       "  </tbody>\n",
       "</table>\n",
       "</div>"
      ],
      "text/plain": [
       "   A  B  C\n",
       "1  8  2  7\n",
       "2  6  9  4\n",
       "4  9  1  2"
      ]
     },
     "execution_count": 20,
     "metadata": {},
     "output_type": "execute_result"
    }
   ],
   "source": [
    "new_df = df[(df['A'] > 5)  & (df['B'] < 10 )]\n",
    "new_df"
   ]
  },
  {
   "cell_type": "markdown",
   "id": "c9a2c78d-0aaa-4320-85c2-2bd4f13615a0",
   "metadata": {},
   "source": [
    "Q9. Given a Pandas DataFrame df with a column 'Values', write a Python function to calculate the mean,\n",
    "median, and standard deviation of the values in the 'Values' column."
   ]
  },
  {
   "cell_type": "code",
   "execution_count": 21,
   "id": "25543570-c4e4-413d-b776-0b1b4ad7907d",
   "metadata": {},
   "outputs": [
    {
     "data": {
      "text/html": [
       "<div>\n",
       "<style scoped>\n",
       "    .dataframe tbody tr th:only-of-type {\n",
       "        vertical-align: middle;\n",
       "    }\n",
       "\n",
       "    .dataframe tbody tr th {\n",
       "        vertical-align: top;\n",
       "    }\n",
       "\n",
       "    .dataframe thead th {\n",
       "        text-align: right;\n",
       "    }\n",
       "</style>\n",
       "<table border=\"1\" class=\"dataframe\">\n",
       "  <thead>\n",
       "    <tr style=\"text-align: right;\">\n",
       "      <th></th>\n",
       "      <th>Values</th>\n",
       "    </tr>\n",
       "  </thead>\n",
       "  <tbody>\n",
       "    <tr>\n",
       "      <th>0</th>\n",
       "      <td>2</td>\n",
       "    </tr>\n",
       "    <tr>\n",
       "      <th>1</th>\n",
       "      <td>3</td>\n",
       "    </tr>\n",
       "    <tr>\n",
       "      <th>2</th>\n",
       "      <td>4</td>\n",
       "    </tr>\n",
       "    <tr>\n",
       "      <th>3</th>\n",
       "      <td>5</td>\n",
       "    </tr>\n",
       "    <tr>\n",
       "      <th>4</th>\n",
       "      <td>6</td>\n",
       "    </tr>\n",
       "    <tr>\n",
       "      <th>5</th>\n",
       "      <td>7</td>\n",
       "    </tr>\n",
       "    <tr>\n",
       "      <th>6</th>\n",
       "      <td>8</td>\n",
       "    </tr>\n",
       "  </tbody>\n",
       "</table>\n",
       "</div>"
      ],
      "text/plain": [
       "   Values\n",
       "0       2\n",
       "1       3\n",
       "2       4\n",
       "3       5\n",
       "4       6\n",
       "5       7\n",
       "6       8"
      ]
     },
     "execution_count": 21,
     "metadata": {},
     "output_type": "execute_result"
    }
   ],
   "source": [
    "df = pd.DataFrame({'Values': [2,3,4,5,6,7,8]})\n",
    "df"
   ]
  },
  {
   "cell_type": "code",
   "execution_count": 22,
   "id": "6d572a25-df8b-45c1-9fe3-e4dc94debeae",
   "metadata": {},
   "outputs": [
    {
     "data": {
      "text/html": [
       "<div>\n",
       "<style scoped>\n",
       "    .dataframe tbody tr th:only-of-type {\n",
       "        vertical-align: middle;\n",
       "    }\n",
       "\n",
       "    .dataframe tbody tr th {\n",
       "        vertical-align: top;\n",
       "    }\n",
       "\n",
       "    .dataframe thead th {\n",
       "        text-align: right;\n",
       "    }\n",
       "</style>\n",
       "<table border=\"1\" class=\"dataframe\">\n",
       "  <thead>\n",
       "    <tr style=\"text-align: right;\">\n",
       "      <th></th>\n",
       "      <th>Values</th>\n",
       "    </tr>\n",
       "  </thead>\n",
       "  <tbody>\n",
       "    <tr>\n",
       "      <th>count</th>\n",
       "      <td>7.000000</td>\n",
       "    </tr>\n",
       "    <tr>\n",
       "      <th>mean</th>\n",
       "      <td>5.000000</td>\n",
       "    </tr>\n",
       "    <tr>\n",
       "      <th>std</th>\n",
       "      <td>2.160247</td>\n",
       "    </tr>\n",
       "    <tr>\n",
       "      <th>min</th>\n",
       "      <td>2.000000</td>\n",
       "    </tr>\n",
       "    <tr>\n",
       "      <th>25%</th>\n",
       "      <td>3.500000</td>\n",
       "    </tr>\n",
       "    <tr>\n",
       "      <th>50%</th>\n",
       "      <td>5.000000</td>\n",
       "    </tr>\n",
       "    <tr>\n",
       "      <th>75%</th>\n",
       "      <td>6.500000</td>\n",
       "    </tr>\n",
       "    <tr>\n",
       "      <th>max</th>\n",
       "      <td>8.000000</td>\n",
       "    </tr>\n",
       "  </tbody>\n",
       "</table>\n",
       "</div>"
      ],
      "text/plain": [
       "         Values\n",
       "count  7.000000\n",
       "mean   5.000000\n",
       "std    2.160247\n",
       "min    2.000000\n",
       "25%    3.500000\n",
       "50%    5.000000\n",
       "75%    6.500000\n",
       "max    8.000000"
      ]
     },
     "execution_count": 22,
     "metadata": {},
     "output_type": "execute_result"
    }
   ],
   "source": [
    "df.describe() #All"
   ]
  },
  {
   "cell_type": "code",
   "execution_count": 23,
   "id": "d90bf232-b4c0-4886-b2e8-c70c46c52e99",
   "metadata": {},
   "outputs": [
    {
     "data": {
      "text/plain": [
       "Values    5.0\n",
       "dtype: float64"
      ]
     },
     "execution_count": 23,
     "metadata": {},
     "output_type": "execute_result"
    }
   ],
   "source": [
    "df.mean() "
   ]
  },
  {
   "cell_type": "code",
   "execution_count": 24,
   "id": "364b6dc1-d807-4de1-8b29-ee073fd3783f",
   "metadata": {},
   "outputs": [
    {
     "data": {
      "text/plain": [
       "Values    5.0\n",
       "dtype: float64"
      ]
     },
     "execution_count": 24,
     "metadata": {},
     "output_type": "execute_result"
    }
   ],
   "source": [
    "df.median()    "
   ]
  },
  {
   "cell_type": "code",
   "execution_count": 25,
   "id": "411ce095-d357-4534-a330-62ae14283ff0",
   "metadata": {},
   "outputs": [
    {
     "data": {
      "text/plain": [
       "Values    2.160247\n",
       "dtype: float64"
      ]
     },
     "execution_count": 25,
     "metadata": {},
     "output_type": "execute_result"
    }
   ],
   "source": [
    "df.std()    "
   ]
  },
  {
   "cell_type": "markdown",
   "id": "1105201e-5f65-40f7-b7b4-9039070dabdb",
   "metadata": {},
   "source": [
    "Q10. Given a Pandas DataFrame df with a column 'Sales' and a column 'Date', write a Python function to create a new column 'Moving Average' that contains the moving average of the sales for the past 7 days for each row in the DataFrame. The moving average should be calculated using a window of size 7 and should include the current day."
   ]
  },
  {
   "cell_type": "code",
   "execution_count": 20,
   "id": "66abeaee-8954-4e01-b398-0f6429831019",
   "metadata": {},
   "outputs": [],
   "source": [
    "import numpy as np\n",
    "import pandas as pd"
   ]
  },
  {
   "cell_type": "code",
   "execution_count": 21,
   "id": "994572ac-d9c0-4d95-8cd3-2a147e12f8ba",
   "metadata": {},
   "outputs": [
    {
     "data": {
      "text/html": [
       "<div>\n",
       "<style scoped>\n",
       "    .dataframe tbody tr th:only-of-type {\n",
       "        vertical-align: middle;\n",
       "    }\n",
       "\n",
       "    .dataframe tbody tr th {\n",
       "        vertical-align: top;\n",
       "    }\n",
       "\n",
       "    .dataframe thead th {\n",
       "        text-align: right;\n",
       "    }\n",
       "</style>\n",
       "<table border=\"1\" class=\"dataframe\">\n",
       "  <thead>\n",
       "    <tr style=\"text-align: right;\">\n",
       "      <th></th>\n",
       "      <th>Sales</th>\n",
       "      <th>Date</th>\n",
       "    </tr>\n",
       "  </thead>\n",
       "  <tbody>\n",
       "    <tr>\n",
       "      <th>0</th>\n",
       "      <td>409</td>\n",
       "      <td>2023-02-10</td>\n",
       "    </tr>\n",
       "    <tr>\n",
       "      <th>1</th>\n",
       "      <td>612</td>\n",
       "      <td>2023-02-11</td>\n",
       "    </tr>\n",
       "    <tr>\n",
       "      <th>2</th>\n",
       "      <td>366</td>\n",
       "      <td>2023-02-12</td>\n",
       "    </tr>\n",
       "    <tr>\n",
       "      <th>3</th>\n",
       "      <td>791</td>\n",
       "      <td>2023-02-13</td>\n",
       "    </tr>\n",
       "    <tr>\n",
       "      <th>4</th>\n",
       "      <td>927</td>\n",
       "      <td>2023-02-14</td>\n",
       "    </tr>\n",
       "    <tr>\n",
       "      <th>5</th>\n",
       "      <td>462</td>\n",
       "      <td>2023-02-15</td>\n",
       "    </tr>\n",
       "    <tr>\n",
       "      <th>6</th>\n",
       "      <td>783</td>\n",
       "      <td>2023-02-16</td>\n",
       "    </tr>\n",
       "    <tr>\n",
       "      <th>7</th>\n",
       "      <td>549</td>\n",
       "      <td>2023-02-17</td>\n",
       "    </tr>\n",
       "    <tr>\n",
       "      <th>8</th>\n",
       "      <td>884</td>\n",
       "      <td>2023-02-18</td>\n",
       "    </tr>\n",
       "    <tr>\n",
       "      <th>9</th>\n",
       "      <td>682</td>\n",
       "      <td>2023-02-19</td>\n",
       "    </tr>\n",
       "    <tr>\n",
       "      <th>10</th>\n",
       "      <td>200</td>\n",
       "      <td>2023-02-20</td>\n",
       "    </tr>\n",
       "    <tr>\n",
       "      <th>11</th>\n",
       "      <td>231</td>\n",
       "      <td>2023-02-21</td>\n",
       "    </tr>\n",
       "    <tr>\n",
       "      <th>12</th>\n",
       "      <td>274</td>\n",
       "      <td>2023-02-22</td>\n",
       "    </tr>\n",
       "    <tr>\n",
       "      <th>13</th>\n",
       "      <td>536</td>\n",
       "      <td>2023-02-23</td>\n",
       "    </tr>\n",
       "    <tr>\n",
       "      <th>14</th>\n",
       "      <td>520</td>\n",
       "      <td>2023-02-24</td>\n",
       "    </tr>\n",
       "    <tr>\n",
       "      <th>15</th>\n",
       "      <td>849</td>\n",
       "      <td>2023-02-25</td>\n",
       "    </tr>\n",
       "    <tr>\n",
       "      <th>16</th>\n",
       "      <td>748</td>\n",
       "      <td>2023-02-26</td>\n",
       "    </tr>\n",
       "  </tbody>\n",
       "</table>\n",
       "</div>"
      ],
      "text/plain": [
       "    Sales       Date\n",
       "0     409 2023-02-10\n",
       "1     612 2023-02-11\n",
       "2     366 2023-02-12\n",
       "3     791 2023-02-13\n",
       "4     927 2023-02-14\n",
       "5     462 2023-02-15\n",
       "6     783 2023-02-16\n",
       "7     549 2023-02-17\n",
       "8     884 2023-02-18\n",
       "9     682 2023-02-19\n",
       "10    200 2023-02-20\n",
       "11    231 2023-02-21\n",
       "12    274 2023-02-22\n",
       "13    536 2023-02-23\n",
       "14    520 2023-02-24\n",
       "15    849 2023-02-25\n",
       "16    748 2023-02-26"
      ]
     },
     "execution_count": 21,
     "metadata": {},
     "output_type": "execute_result"
    }
   ],
   "source": [
    "df = pd.DataFrame(pd.date_range(start='2023-02-10' , end = '2023-02-26'), columns = ['Date'])\n",
    "df['Sales'] = np.random.randint(100,1000,size=(17))\n",
    "df[['Sales','Date']]"
   ]
  },
  {
   "cell_type": "markdown",
   "id": "c4222f24-0769-4178-9f2c-9764d30554ab",
   "metadata": {},
   "source": [
    "\n",
    "Q11. You have a Pandas DataFrame df with a column 'Date'. Write a Python function that creates a new column 'Weekday' in the DataFrame. The 'Weekday' column should contain the weekday name (e.g. Monday, Tuesday) corresponding to each date in the 'Date' column.\n",
    "For example, if df contains the following values:\n",
    "Date\n",
    "O 2023-01-01\n",
    "1 2023-01-02\n",
    "2 2023-01-03\n",
    "3 2023-01-04\n",
    "4 2023-01-05\n",
    "\n",
    "Your function should create the following DataFrame:\n",
    "Date Weekday\n",
    "0 2023-01-01 Sunday\n",
    "1 2023-01-02 Monday\n",
    "2 2023-01-03 Tuesday\n",
    "3 2023-01-04 Wednesday\n",
    "4 2023-01-05 Thursday\n",
    "\n",
    "The function should return the modified DataFrame."
   ]
  },
  {
   "cell_type": "code",
   "execution_count": 22,
   "id": "4863d7ef-49af-4198-b5a0-2078c8b35359",
   "metadata": {},
   "outputs": [
    {
     "data": {
      "text/html": [
       "<div>\n",
       "<style scoped>\n",
       "    .dataframe tbody tr th:only-of-type {\n",
       "        vertical-align: middle;\n",
       "    }\n",
       "\n",
       "    .dataframe tbody tr th {\n",
       "        vertical-align: top;\n",
       "    }\n",
       "\n",
       "    .dataframe thead th {\n",
       "        text-align: right;\n",
       "    }\n",
       "</style>\n",
       "<table border=\"1\" class=\"dataframe\">\n",
       "  <thead>\n",
       "    <tr style=\"text-align: right;\">\n",
       "      <th></th>\n",
       "      <th>Date</th>\n",
       "    </tr>\n",
       "  </thead>\n",
       "  <tbody>\n",
       "    <tr>\n",
       "      <th>0</th>\n",
       "      <td>2023-01-01</td>\n",
       "    </tr>\n",
       "    <tr>\n",
       "      <th>1</th>\n",
       "      <td>2023-01-02</td>\n",
       "    </tr>\n",
       "    <tr>\n",
       "      <th>2</th>\n",
       "      <td>2023-01-03</td>\n",
       "    </tr>\n",
       "    <tr>\n",
       "      <th>3</th>\n",
       "      <td>2023-01-04</td>\n",
       "    </tr>\n",
       "    <tr>\n",
       "      <th>4</th>\n",
       "      <td>2023-01-05</td>\n",
       "    </tr>\n",
       "  </tbody>\n",
       "</table>\n",
       "</div>"
      ],
      "text/plain": [
       "        Date\n",
       "0 2023-01-01\n",
       "1 2023-01-02\n",
       "2 2023-01-03\n",
       "3 2023-01-04\n",
       "4 2023-01-05"
      ]
     },
     "execution_count": 22,
     "metadata": {},
     "output_type": "execute_result"
    }
   ],
   "source": [
    "date = pd.date_range(start='2023-01-01' , end = '2023-01-05')\n",
    "df = pd.DataFrame({'Date':date})\n",
    "df"
   ]
  },
  {
   "cell_type": "code",
   "execution_count": 23,
   "id": "9d587fae-b50f-4fd5-847e-f0a8775b64e7",
   "metadata": {},
   "outputs": [
    {
     "data": {
      "text/html": [
       "<div>\n",
       "<style scoped>\n",
       "    .dataframe tbody tr th:only-of-type {\n",
       "        vertical-align: middle;\n",
       "    }\n",
       "\n",
       "    .dataframe tbody tr th {\n",
       "        vertical-align: top;\n",
       "    }\n",
       "\n",
       "    .dataframe thead th {\n",
       "        text-align: right;\n",
       "    }\n",
       "</style>\n",
       "<table border=\"1\" class=\"dataframe\">\n",
       "  <thead>\n",
       "    <tr style=\"text-align: right;\">\n",
       "      <th></th>\n",
       "      <th>Date</th>\n",
       "      <th>Weekday</th>\n",
       "    </tr>\n",
       "  </thead>\n",
       "  <tbody>\n",
       "    <tr>\n",
       "      <th>0</th>\n",
       "      <td>2023-01-01</td>\n",
       "      <td>Sunday</td>\n",
       "    </tr>\n",
       "    <tr>\n",
       "      <th>1</th>\n",
       "      <td>2023-01-02</td>\n",
       "      <td>Monday</td>\n",
       "    </tr>\n",
       "    <tr>\n",
       "      <th>2</th>\n",
       "      <td>2023-01-03</td>\n",
       "      <td>Tuesday</td>\n",
       "    </tr>\n",
       "    <tr>\n",
       "      <th>3</th>\n",
       "      <td>2023-01-04</td>\n",
       "      <td>Wednesday</td>\n",
       "    </tr>\n",
       "    <tr>\n",
       "      <th>4</th>\n",
       "      <td>2023-01-05</td>\n",
       "      <td>Thursday</td>\n",
       "    </tr>\n",
       "  </tbody>\n",
       "</table>\n",
       "</div>"
      ],
      "text/plain": [
       "        Date    Weekday\n",
       "0 2023-01-01     Sunday\n",
       "1 2023-01-02     Monday\n",
       "2 2023-01-03    Tuesday\n",
       "3 2023-01-04  Wednesday\n",
       "4 2023-01-05   Thursday"
      ]
     },
     "execution_count": 23,
     "metadata": {},
     "output_type": "execute_result"
    }
   ],
   "source": [
    "df['Weekday'] = df['Date'].dt.day_name()\n",
    "df"
   ]
  },
  {
   "cell_type": "markdown",
   "id": "c0bbbfdc-46ac-4806-96fb-9150e9abeb32",
   "metadata": {},
   "source": [
    "Q12. Given a Pandas DataFrame df with a column 'Date' that contains timestamps, write a Python function to select all rows where the date is between '2023-01-01' and '2023-01-31'"
   ]
  },
  {
   "cell_type": "code",
   "execution_count": 25,
   "id": "a5542141-f846-4314-9486-f07483fd9345",
   "metadata": {},
   "outputs": [
    {
     "data": {
      "text/html": [
       "<div>\n",
       "<style scoped>\n",
       "    .dataframe tbody tr th:only-of-type {\n",
       "        vertical-align: middle;\n",
       "    }\n",
       "\n",
       "    .dataframe tbody tr th {\n",
       "        vertical-align: top;\n",
       "    }\n",
       "\n",
       "    .dataframe thead th {\n",
       "        text-align: right;\n",
       "    }\n",
       "</style>\n",
       "<table border=\"1\" class=\"dataframe\">\n",
       "  <thead>\n",
       "    <tr style=\"text-align: right;\">\n",
       "      <th></th>\n",
       "      <th>Date</th>\n",
       "    </tr>\n",
       "  </thead>\n",
       "  <tbody>\n",
       "    <tr>\n",
       "      <th>0</th>\n",
       "      <td>2022-12-01</td>\n",
       "    </tr>\n",
       "    <tr>\n",
       "      <th>1</th>\n",
       "      <td>2022-12-02</td>\n",
       "    </tr>\n",
       "    <tr>\n",
       "      <th>2</th>\n",
       "      <td>2022-12-03</td>\n",
       "    </tr>\n",
       "    <tr>\n",
       "      <th>3</th>\n",
       "      <td>2022-12-04</td>\n",
       "    </tr>\n",
       "    <tr>\n",
       "      <th>4</th>\n",
       "      <td>2022-12-05</td>\n",
       "    </tr>\n",
       "    <tr>\n",
       "      <th>...</th>\n",
       "      <td>...</td>\n",
       "    </tr>\n",
       "    <tr>\n",
       "      <th>85</th>\n",
       "      <td>2023-02-24</td>\n",
       "    </tr>\n",
       "    <tr>\n",
       "      <th>86</th>\n",
       "      <td>2023-02-25</td>\n",
       "    </tr>\n",
       "    <tr>\n",
       "      <th>87</th>\n",
       "      <td>2023-02-26</td>\n",
       "    </tr>\n",
       "    <tr>\n",
       "      <th>88</th>\n",
       "      <td>2023-02-27</td>\n",
       "    </tr>\n",
       "    <tr>\n",
       "      <th>89</th>\n",
       "      <td>2023-02-28</td>\n",
       "    </tr>\n",
       "  </tbody>\n",
       "</table>\n",
       "<p>90 rows × 1 columns</p>\n",
       "</div>"
      ],
      "text/plain": [
       "         Date\n",
       "0  2022-12-01\n",
       "1  2022-12-02\n",
       "2  2022-12-03\n",
       "3  2022-12-04\n",
       "4  2022-12-05\n",
       "..        ...\n",
       "85 2023-02-24\n",
       "86 2023-02-25\n",
       "87 2023-02-26\n",
       "88 2023-02-27\n",
       "89 2023-02-28\n",
       "\n",
       "[90 rows x 1 columns]"
      ]
     },
     "execution_count": 25,
     "metadata": {},
     "output_type": "execute_result"
    }
   ],
   "source": [
    "data = pd.date_range(start='2022-12-01', end='2023-02-28')\n",
    "df_date = pd.DataFrame(data, columns=['Date'])\n",
    "df_date"
   ]
  },
  {
   "cell_type": "code",
   "execution_count": 26,
   "id": "364a9bb6-df3f-4fe9-979b-ad3d05e9f6e7",
   "metadata": {},
   "outputs": [
    {
     "data": {
      "text/html": [
       "<div>\n",
       "<style scoped>\n",
       "    .dataframe tbody tr th:only-of-type {\n",
       "        vertical-align: middle;\n",
       "    }\n",
       "\n",
       "    .dataframe tbody tr th {\n",
       "        vertical-align: top;\n",
       "    }\n",
       "\n",
       "    .dataframe thead th {\n",
       "        text-align: right;\n",
       "    }\n",
       "</style>\n",
       "<table border=\"1\" class=\"dataframe\">\n",
       "  <thead>\n",
       "    <tr style=\"text-align: right;\">\n",
       "      <th></th>\n",
       "      <th>Date</th>\n",
       "      <th>Weekday</th>\n",
       "    </tr>\n",
       "  </thead>\n",
       "  <tbody>\n",
       "    <tr>\n",
       "      <th>1</th>\n",
       "      <td>2023-01-02</td>\n",
       "      <td>Monday</td>\n",
       "    </tr>\n",
       "    <tr>\n",
       "      <th>2</th>\n",
       "      <td>2023-01-03</td>\n",
       "      <td>Tuesday</td>\n",
       "    </tr>\n",
       "    <tr>\n",
       "      <th>3</th>\n",
       "      <td>2023-01-04</td>\n",
       "      <td>Wednesday</td>\n",
       "    </tr>\n",
       "    <tr>\n",
       "      <th>4</th>\n",
       "      <td>2023-01-05</td>\n",
       "      <td>Thursday</td>\n",
       "    </tr>\n",
       "  </tbody>\n",
       "</table>\n",
       "</div>"
      ],
      "text/plain": [
       "        Date    Weekday\n",
       "1 2023-01-02     Monday\n",
       "2 2023-01-03    Tuesday\n",
       "3 2023-01-04  Wednesday\n",
       "4 2023-01-05   Thursday"
      ]
     },
     "execution_count": 26,
     "metadata": {},
     "output_type": "execute_result"
    }
   ],
   "source": [
    "start = '2023-01-01'\n",
    "end =  '2023-01-31'\n",
    "mask = (df['Date'] > start) & (df['Date'] < end)\n",
    "df.loc[mask]\n"
   ]
  },
  {
   "cell_type": "markdown",
   "id": "afe62567-609d-47f2-8845-8d2af9828583",
   "metadata": {},
   "source": [
    "Q13. To use the basic functions of pandas, what is the first and foremost necessary library that needs to be imported?"
   ]
  },
  {
   "cell_type": "code",
   "execution_count": null,
   "id": "598418ff-a75e-4845-876c-280704fe9cc0",
   "metadata": {},
   "outputs": [],
   "source": [
    "import pandas as pd"
   ]
  },
  {
   "cell_type": "code",
   "execution_count": 28,
   "id": "e5be0da9-ec26-4ab9-af6e-da7f7de7a13f",
   "metadata": {},
   "outputs": [],
   "source": [
    "#The Pandas Library"
   ]
  },
  {
   "cell_type": "code",
   "execution_count": null,
   "id": "dc2f4466-0c88-4b41-ac81-8149bd543288",
   "metadata": {},
   "outputs": [],
   "source": []
  },
  {
   "cell_type": "code",
   "execution_count": null,
   "id": "aafc0213-6ba1-499b-9016-63d64545c7c9",
   "metadata": {},
   "outputs": [],
   "source": []
  },
  {
   "cell_type": "code",
   "execution_count": null,
   "id": "8a8792d0-ec9e-4459-9879-106384ea8ee8",
   "metadata": {},
   "outputs": [],
   "source": []
  },
  {
   "cell_type": "code",
   "execution_count": null,
   "id": "2f18778d-7c1e-4491-bdc0-c0ce30bfeeba",
   "metadata": {},
   "outputs": [],
   "source": []
  },
  {
   "cell_type": "code",
   "execution_count": null,
   "id": "003ec713-f33e-4e12-950e-13c5ae69a2ba",
   "metadata": {},
   "outputs": [],
   "source": []
  }
 ],
 "metadata": {
  "kernelspec": {
   "display_name": "Python 3 (ipykernel)",
   "language": "python",
   "name": "python3"
  },
  "language_info": {
   "codemirror_mode": {
    "name": "ipython",
    "version": 3
   },
   "file_extension": ".py",
   "mimetype": "text/x-python",
   "name": "python",
   "nbconvert_exporter": "python",
   "pygments_lexer": "ipython3",
   "version": "3.10.8"
  }
 },
 "nbformat": 4,
 "nbformat_minor": 5
}
