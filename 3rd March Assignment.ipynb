{
 "cells": [
  {
   "cell_type": "markdown",
   "id": "b745361d-e634-4755-a169-98a904d33783",
   "metadata": {},
   "source": [
    "Q1. What is Statistics?"
   ]
  },
  {
   "cell_type": "markdown",
   "id": "72be9658-c5e6-4af3-8125-5650ed144b13",
   "metadata": {},
   "source": [
    "Statistics is a branch of mathematics that deals with the collection, analysis, interpretation, presentation, and organization of data. It is used to make sense of the information that is collected from various sources and to make decisions based on that information."
   ]
  },
  {
   "cell_type": "markdown",
   "id": "57f0229e-d558-43ce-8d96-e829100f0cb5",
   "metadata": {},
   "source": [
    "Q2. Define the different types of statistics and give an example of when each type might be used."
   ]
  },
  {
   "cell_type": "markdown",
   "id": "a51c33e3-12ef-4ad8-b57c-c4219d905837",
   "metadata": {},
   "source": [
    "There are two main types of statistics: descriptive statistics and inferential statistics.\n",
    "\n",
    "Descriptive statistics: This type of statistics is used to summarize and describe the main features of a dataset. Examples of descriptive statistics include measures of central tendency (such as mean, median, and mode) and measures of variability (such as range, variance, and standard deviation). Descriptive statistics can be used to summarize data from a survey, for example, by reporting the average age of the participants or the percentage of participants who answered a particular question in a certain way.\n",
    "\n",
    "Inferential statistics: This type of statistics is used to draw conclusions or make predictions about a population based on a sample of data. It involves making inferences or generalizations about a larger group based on data from a smaller group. Examples of inferential statistics include hypothesis testing and confidence intervals. Inferential statistics can be used to determine whether a new drug is effective by comparing the outcomes of patients who receive the drug to those who receive a placebo."
   ]
  },
  {
   "cell_type": "markdown",
   "id": "b707655d-b9be-426e-96a7-03cfdadef41f",
   "metadata": {},
   "source": [
    "Q3. What are the different types of data and how do they differ from each other? Provide an example of each type of data."
   ]
  },
  {
   "cell_type": "markdown",
   "id": "5aab466b-13c2-4b42-8c4e-f95e1ce1f452",
   "metadata": {},
   "source": [
    "There are two main types of data: qualitative data and quantitative data.\n",
    "\n",
    "Qualitative data: This type of data is descriptive in nature and cannot be measured numerically. It is used to describe characteristics or qualities of a population or phenomenon. Examples of qualitative data include gender, hair color, and occupation. Qualitative data can be collected through interviews, surveys, and observations.\n",
    "\n",
    "1.Discrete Data: This type of data consists of separate and distinct values that cannot be divided into smaller parts. Examples of discrete data include the number of students in a classroom or the number of cars in a parking lot.\n",
    "\n",
    "2.Continuous Data: This type of data consists of values that can be measured at any point along a continuum. Examples of continuous data include height, weight, and temperature. Continuous data can take on any value within a certain range, and it is often measured with a measuring instrument.\n",
    "\n",
    "Quantitative data: This type of data is numerical in nature and can be measured or counted. It is used to measure or quantify characteristics of a population or phenomenon. Examples of quantitative data include height, weight, and age. Quantitative data can be collected through surveys, experiments, and observational studies.\n",
    "\n",
    "1.Nominal Data: This type of data consists of categories that do not have a specific order or ranking. Nominal data is often used to classify characteristics or attributes. Examples of nominal data include gender (male/female), hair color (blonde/brown/black), and favorite color (red/blue/green). Nominal data is also sometimes referred to as categorical data.\n",
    "\n",
    "2.Ordinal Data: This type of data consists of categories that can be ranked or ordered. Ordinal data is often used to measure attitudes or opinions. Examples of ordinal data include rankings of academic performance (first, second, third), or rankings of customer satisfaction (high, medium, low). The difference between the categories in ordinal data is not necessarily equal."
   ]
  },
  {
   "cell_type": "markdown",
   "id": "2fb71230-ea4a-4a3e-8ad5-2cdc2d88388c",
   "metadata": {},
   "source": [
    "Q4. Categorise the following datasets with respect to quantitative and qualitative data types:\n",
    "(i) Grading in exam: A+, A, B+, B, C+, C, D, E\n",
    "(ii) Colour of mangoes: yellow, green, orange, red\n",
    "(iii) Height data of a class: [178.9, 179, 179.5, 176, 177.2, 178.3, 175.8,...]\n",
    "(iv) Number of mangoes exported by a farm: [500, 600, 478, 672, ...]"
   ]
  },
  {
   "cell_type": "markdown",
   "id": "1008735f-2af8-4a1d-8680-14a3ba71f288",
   "metadata": {},
   "source": [
    "(i) Grading in exam: This is an example of ordinal data as the grades can be ranked in order.\n",
    "\n",
    "(ii) Colour of mangoes: This is an example of nominal data as the colors are categories that do not have a specific order or ranking.\n",
    "\n",
    "(iii) Height data of a class: This is an example of continuous quantitative data as it consists of numerical values that can take on any value within a certain range.\n",
    "\n",
    "(iv) Number of mangoes exported by a farm: This is an example of discrete quantitative data as it consists of separate and distinct numerical values that cannot be divided into smaller parts."
   ]
  },
  {
   "cell_type": "markdown",
   "id": "e3571e06-6a40-430a-b1b0-64bb6f9a4dad",
   "metadata": {},
   "source": [
    "Q5. Explain the concept of levels of measurement and give an example of a variable for each level."
   ]
  },
  {
   "cell_type": "markdown",
   "id": "171b07ea-cb32-49c4-8169-20af59b85c45",
   "metadata": {},
   "source": [
    "Levels of measurement refer to the different scales or levels used to measure variables in data. There are four levels of measurement: nominal, ordinal, interval, and ratio.\n",
    "\n",
    "Nominal: This is the lowest level of measurement, where data is categorized into distinct categories or names, and there is no order or ranking. Examples of nominal variables are gender, eye color, or blood type.\n",
    "\n",
    "Ordinal: This level of measurement categorizes data into distinct categories or names, but there is an order or ranking. Examples of ordinal variables include educational level, socioeconomic status, or customer satisfaction level.\n",
    "\n",
    "Interval: This level of measurement is similar to ordinal, but the difference between values is meaningful and can be measured. However, there is no true zero point. Examples of interval variables include temperature measured in Celsius or Fahrenheit or time of day.\n",
    "\n",
    "Ratio: This is the highest level of measurement, where the difference between values is meaningful, and there is a true zero point. Examples of ratio variables include height, weight, income, or number of children."
   ]
  },
  {
   "cell_type": "markdown",
   "id": "e5b26daa-e39f-446a-9fa0-7d86658e5f4e",
   "metadata": {},
   "source": [
    "Q6. Why is it important to understand the level of measurement when analyzing data? Provide an example to illustrate your answer."
   ]
  },
  {
   "cell_type": "markdown",
   "id": "0484a421-592b-47be-8462-2120ba387901",
   "metadata": {},
   "source": [
    "Understanding the level of measurement is important when analyzing data because it determines the appropriate statistical tests and methods to use. For example, using a statistical test that requires interval or ratio data when analyzing nominal or ordinal data can result in misleading or incorrect conclusions.\n",
    "\n",
    "For instance, if we want to compare the average income of two groups of people, we need to know whether the income data is nominal, ordinal, interval, or ratio. If the data is nominal, we can only compare the frequency or percentage of people in each group, but we cannot compare their income levels. If the data is ordinal, we can compare the median income levels of each group. However, if the data is interval or ratio, we can use t-tests or ANOVA to compare the mean income levels of each group."
   ]
  },
  {
   "cell_type": "markdown",
   "id": "e660f460-8e61-47b7-abeb-1a88c26a4f9b",
   "metadata": {},
   "source": [
    "Q7. How nominal data type is different from ordinal data type."
   ]
  },
  {
   "cell_type": "code",
   "execution_count": null,
   "id": "c046d161-42db-4c39-8477-a52a246cc751",
   "metadata": {},
   "outputs": [],
   "source": []
  },
  {
   "cell_type": "markdown",
   "id": "0b379dbf-e354-43c9-9f43-6cc67ff073ed",
   "metadata": {},
   "source": [
    "Q8. Which type of plot can be used to display data in terms of range?"
   ]
  },
  {
   "cell_type": "code",
   "execution_count": null,
   "id": "f6d60782-450b-4b1f-af9b-359ae82823b3",
   "metadata": {},
   "outputs": [],
   "source": []
  },
  {
   "cell_type": "markdown",
   "id": "41bdc9f7-6813-42b9-843f-b109c10a5a2d",
   "metadata": {},
   "source": [
    "Q9. Describe the difference between descriptive and inferential statistics. Give an example of each type of statistics and explain how they are used."
   ]
  },
  {
   "cell_type": "code",
   "execution_count": null,
   "id": "6deff8c6-ed02-45cb-8da0-5e0ea0eeb2c5",
   "metadata": {},
   "outputs": [],
   "source": []
  },
  {
   "cell_type": "markdown",
   "id": "a1d0770b-98f1-4be0-8bee-ccb75fb606d4",
   "metadata": {},
   "source": [
    "Q10. What are some common measures of central tendency and variability used in statistics? Explain how each measure can be used to describe a dataset."
   ]
  },
  {
   "cell_type": "code",
   "execution_count": null,
   "id": "014c73f9-b153-4028-9f1c-5719a3e5b71f",
   "metadata": {},
   "outputs": [],
   "source": []
  },
  {
   "cell_type": "code",
   "execution_count": null,
   "id": "498507ab-50d4-4cb2-8dd2-012beb520449",
   "metadata": {},
   "outputs": [],
   "source": []
  },
  {
   "cell_type": "code",
   "execution_count": null,
   "id": "e76a4008-a8d8-425a-919b-a092552caf5c",
   "metadata": {},
   "outputs": [],
   "source": []
  },
  {
   "cell_type": "code",
   "execution_count": null,
   "id": "cb33a8cb-c112-4fab-8d33-6f335e8764fa",
   "metadata": {},
   "outputs": [],
   "source": []
  },
  {
   "cell_type": "code",
   "execution_count": null,
   "id": "6434d880-a2b1-4652-b71a-a98316b78345",
   "metadata": {},
   "outputs": [],
   "source": []
  }
 ],
 "metadata": {
  "kernelspec": {
   "display_name": "Python 3 (ipykernel)",
   "language": "python",
   "name": "python3"
  },
  "language_info": {
   "codemirror_mode": {
    "name": "ipython",
    "version": 3
   },
   "file_extension": ".py",
   "mimetype": "text/x-python",
   "name": "python",
   "nbconvert_exporter": "python",
   "pygments_lexer": "ipython3",
   "version": "3.10.8"
  }
 },
 "nbformat": 4,
 "nbformat_minor": 5
}
