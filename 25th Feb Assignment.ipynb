{
 "cells": [
  {
   "cell_type": "markdown",
   "id": "8ccbb837-7354-4452-a151-4e04724dae15",
   "metadata": {},
   "source": [
    "Consider following code to answer further questions:\n",
    "import pandas as pd\n",
    "course_name = [‘Data Science’, ‘Machine Learning’, ‘Big Data’, ‘Data Engineer’]\n",
    "duration = [2,3,6,4]\n",
    "df = pd.DataFrame(data = {‘course_name’ : course_name, ‘duration’ : duration})\n"
   ]
  },
  {
   "cell_type": "markdown",
   "id": "e98b10d6-77fb-4aca-b27d-f8c731686e5b",
   "metadata": {},
   "source": [
    "Q1. Write a code to print the data present in the second row of the dataframe, df."
   ]
  },
  {
   "cell_type": "code",
   "execution_count": 1,
   "id": "74d8b711-a451-41a3-816b-36ce4ca72397",
   "metadata": {},
   "outputs": [
    {
     "name": "stdout",
     "output_type": "stream",
     "text": [
      "course_name    Machine Learning\n",
      "duration                      3\n",
      "Name: 1, dtype: object\n"
     ]
    }
   ],
   "source": [
    "import pandas as pd\n",
    "\n",
    "# Create the DataFrame\n",
    "course_name = ['Data Science', 'Machine Learning', 'Big Data', 'Data Engineer']\n",
    "duration = [2,3,6,4]\n",
    "df = pd.DataFrame(data = {'course_name' : course_name, 'duration' : duration})\n",
    "\n",
    "# Print the second row of the DataFrame\n",
    "print(df.iloc[1])"
   ]
  },
  {
   "cell_type": "markdown",
   "id": "89b50781-2499-4fe8-8c71-2486570c07bd",
   "metadata": {},
   "source": [
    "Q2. What is the difference between the functions loc and iloc in pandas.DataFrame?\n"
   ]
  },
  {
   "cell_type": "markdown",
   "id": "56cd2177-6dfc-4487-b57d-6ba566eaa283",
   "metadata": {},
   "source": [
    "Both loc and iloc are used for selecting subsets of data from a Pandas DataFrame, but they differ in the way they refer to the indices of the DataFrame.\n",
    "\n",
    "The loc function is used to select rows and columns based on their labels (i.e., their index or column names). It takes two arguments: the first one specifies the row(s) to select, and the second one specifies the column(s) to select. You can pass a single label, a list of labels, or a slice object to the loc function.\n",
    "\n",
    "For example, to select the rows with index labels 'a' and 'b' and the columns with column names 'x' and 'y', you would use the following code:m"
   ]
  },
  {
   "cell_type": "code",
   "execution_count": null,
   "id": "c5255e60-e7e9-4183-9550-5054655cc9de",
   "metadata": {},
   "outputs": [],
   "source": [
    "df.loc[['a', 'b'], ['x', 'y']]"
   ]
  },
  {
   "cell_type": "markdown",
   "id": "4966514a-bb50-48c0-a90b-7b97ff3044b2",
   "metadata": {},
   "source": [
    "On the other hand, iloc is used to select rows and columns based on their integer positions in the DataFrame. It also takes two arguments: the first one specifies the row(s) to select, and the second one specifies the column(s) to select. You can pass a single integer, a list of integers, or a slice object to the iloc function.\n",
    "\n",
    "For example, to select the first two rows and the first two columns of a DataFrame, you would use the following code:"
   ]
  },
  {
   "cell_type": "code",
   "execution_count": null,
   "id": "2e9adf4f-95eb-4040-8f09-55d7068115f9",
   "metadata": {},
   "outputs": [],
   "source": [
    "df.iloc[:2, :2]\n"
   ]
  },
  {
   "cell_type": "markdown",
   "id": "927e0031-7c2b-420a-a40e-c164fb28b55f",
   "metadata": {},
   "source": [
    "So, the main difference between loc and iloc is that loc uses labels to select data, while iloc uses integer positions."
   ]
  },
  {
   "cell_type": "markdown",
   "id": "c43da7ca-a7cb-45ea-9c5c-e68cca8f1a95",
   "metadata": {},
   "source": [
    "Q3. Reindex the given dataframe using a variable, reindex = [3,0,1,2] and store it in the variable, new_df then find the output for both new_df.loc[2] and new_df.iloc[2].\n",
    "\n",
    "Did you observe any difference in both the outputs? If so then explain it."
   ]
  },
  {
   "cell_type": "code",
   "execution_count": 4,
   "id": "56fc3a7a-cd5d-4984-aa4f-7e73c83f2885",
   "metadata": {},
   "outputs": [
    {
     "name": "stdout",
     "output_type": "stream",
     "text": [
      "        course_name  duration\n",
      "0      Data Science         2\n",
      "1  Machine Learning         3\n",
      "2          Big Data         6\n",
      "3     Data Engineer         4\n"
     ]
    }
   ],
   "source": [
    "import pandas as pd\n",
    "\n",
    "# Create the DataFrame\n",
    "course_name = ['Data Science', 'Machine Learning', 'Big Data', 'Data Engineer']\n",
    "duration = [2,3,6,4]\n",
    "df = pd.DataFrame(data = {'course_name' : course_name, 'duration' : duration})\n",
    "\n",
    "#Printing original dataframe\n",
    "print(df)"
   ]
  },
  {
   "cell_type": "code",
   "execution_count": 5,
   "id": "4dd160c3-668e-44a3-8639-11df553ba6b0",
   "metadata": {},
   "outputs": [
    {
     "name": "stdout",
     "output_type": "stream",
     "text": [
      "        course_name  duration\n",
      "3     Data Engineer         4\n",
      "0      Data Science         2\n",
      "1  Machine Learning         3\n",
      "2          Big Data         6\n",
      "--+----+----+----+----+----+----+----+--\n",
      "course_name    Big Data\n",
      "duration              6\n",
      "Name: 2, dtype: object\n",
      "--+----+----+----+----+----+----+----+--\n",
      "course_name    Machine Learning\n",
      "duration                      3\n",
      "Name: 1, dtype: object\n"
     ]
    }
   ],
   "source": [
    "reindex = [3,0,1,2]\n",
    "\n",
    "#Reindexing\n",
    "new_df = df.reindex(reindex)\n",
    "\n",
    "\n",
    "print(new_df)\n",
    "print(\"--+--\"*8)\n",
    "\n",
    "#prints output for both new_df.loc[2]\n",
    "print(new_df.loc[2])\n",
    "\n",
    "print(\"--+--\"*8)\n",
    "\n",
    "#prints output for both new_df.iloc[2]\n",
    "print(new_df.iloc[2])"
   ]
  },
  {
   "cell_type": "markdown",
   "id": "c22a01da-e435-420c-95db-5103e9e32efd",
   "metadata": {},
   "source": [
    "As we can see, both new_df.loc[2] and new_df.iloc[2] return different outputs. The reason for this is that loc[] uses the index label to locate a row while iloc[] uses the integer location of the row. In our case, after reindexing, the index labels of new_df are [3, 0, 1, 2]. Therefore, new_df.loc[2] returns the row with index label 2 which is the row with the index label 1 of the original DataFrame df. On the other hand, new_df.iloc[2] returns the third row of new_df which is the row with the integer location 2 of the original DataFrame df. Hence, the two outputs are different."
   ]
  },
  {
   "cell_type": "markdown",
   "id": "cd0bd401-898c-492c-94a3-47ae91a77f17",
   "metadata": {},
   "source": [
    "Consider the below code to answer further questions:\n",
    "import pandas as pd\n",
    "import numpy as np\n",
    "columns = ['column_1', 'column_2', 'column_3', 'column_4', 'column_5', 'column_6']\n",
    "indices = [1,2,3,4,5,6]\n",
    "#Creating a dataframe:\n",
    "df1 = pd.DataFrame(np.random.rand(6,6), columns = columns, index = indices)"
   ]
  },
  {
   "cell_type": "markdown",
   "id": "bc918b0e-b90a-463c-a69b-b7bee5d35ebf",
   "metadata": {},
   "source": [
    "Q4. Write a code to find the following statistical measurements for the above dataframe df1:\n",
    "(i) mean of each and every column present in the dataframe.\n",
    "(ii) standard deviation of column, ‘column_2’"
   ]
  },
  {
   "cell_type": "code",
   "execution_count": 6,
   "id": "14351036-69e5-4836-8c9e-b2f9a50b95f7",
   "metadata": {},
   "outputs": [
    {
     "name": "stdout",
     "output_type": "stream",
     "text": [
      "Column Means:\n",
      " column_1    0.568328\n",
      "column_2    0.407457\n",
      "column_3    0.582814\n",
      "column_4    0.491529\n",
      "column_5    0.432375\n",
      "column_6    0.362997\n",
      "dtype: float64\n",
      "\n",
      "----+--------+--------+--------+--------+----\n",
      "\n",
      "Standard Deviation of Column 2: 0.31242522515185567\n"
     ]
    }
   ],
   "source": [
    "import pandas as pd\n",
    "import numpy as np\n",
    "\n",
    "columns = ['column_1', 'column_2', 'column_3', 'column_4', 'column_5', 'column_6']\n",
    "indices = [1, 2, 3, 4, 5, 6]\n",
    "\n",
    "# Creating a dataframe\n",
    "df1 = pd.DataFrame(np.random.rand(6, 6), columns=columns, index=indices)\n",
    "\n",
    "# (i) Mean of each and every column present in the dataframe\n",
    "column_means = df1.mean()\n",
    "print('Column Means:\\n', column_means)\n",
    "\n",
    "print(\"\\n\"+ \"----+----\"*5 + \"\\n\")\n",
    "\n",
    "# (ii) Standard deviation of column, ‘column_2’\n",
    "column_std = df1['column_2'].std()\n",
    "print('Standard Deviation of Column 2:', column_std)"
   ]
  },
  {
   "cell_type": "markdown",
   "id": "1c6d741b-2c60-41f1-9a43-469a5731ad93",
   "metadata": {},
   "source": [
    "Here, we have used the mean() method to find the mean of each and every column present in the DataFrame df1. The resulting object is a pandas Series object containing the means of all columns.\n",
    "\n",
    "Similarly, we have used the std() method to find the standard deviation of the column named 'column_2'. The resulting output is a single value representing the standard deviation of the specified column."
   ]
  },
  {
   "cell_type": "markdown",
   "id": "357deaef-70b9-423e-be2b-da1bc93f63e9",
   "metadata": {},
   "source": [
    "Q5. Replace the data present in the second row of column, ‘column_2’ by a string variable then find the\n",
    "mean of column, column_2.\n",
    "If you are getting errors in executing it then explain why.\n",
    "[Hint: To replace the data use df1.loc[] and equate this to string data of your choice.]"
   ]
  },
  {
   "cell_type": "code",
   "execution_count": 7,
   "id": "3ab794a7-99a2-4a3a-8a9a-23a020654e9c",
   "metadata": {},
   "outputs": [
    {
     "name": "stdout",
     "output_type": "stream",
     "text": [
      "   column_1  column_2  column_3  column_4  column_5  column_6\n",
      "1  0.378987  0.145109  0.633225  0.272109  0.133913  0.154390\n",
      "2  0.283940  0.225537  0.282917  0.871204  0.223025  0.596376\n",
      "3  0.739054  0.771290  0.740578  0.617807  0.855248  0.397563\n",
      "4  0.925780  0.349872  0.526877  0.202832  0.713727  0.170153\n",
      "5  0.681104  0.934942  0.966136  0.161540  0.848079  0.083901\n",
      "6  0.120596  0.411443  0.591323  0.143966  0.812964  0.392910\n",
      "   column_1            column_2  column_3  column_4  column_5  column_6\n",
      "1  0.378987            0.145109  0.633225  0.272109  0.133913  0.154390\n",
      "2  0.283940  replacement_string  0.282917  0.871204  0.223025  0.596376\n",
      "3  0.739054             0.77129  0.740578  0.617807  0.855248  0.397563\n",
      "4  0.925780            0.349872  0.526877  0.202832  0.713727  0.170153\n",
      "5  0.681104            0.934942  0.966136  0.161540  0.848079  0.083901\n",
      "6  0.120596            0.411443  0.591323  0.143966  0.812964  0.392910\n"
     ]
    },
    {
     "ename": "TypeError",
     "evalue": "unsupported operand type(s) for +: 'float' and 'str'",
     "output_type": "error",
     "traceback": [
      "\u001b[0;31m---------------------------------------------------------------------------\u001b[0m",
      "\u001b[0;31mTypeError\u001b[0m                                 Traceback (most recent call last)",
      "Cell \u001b[0;32mIn[7], line 16\u001b[0m\n\u001b[1;32m     13\u001b[0m \u001b[38;5;28mprint\u001b[39m(df1)\n\u001b[1;32m     15\u001b[0m \u001b[38;5;66;03m# find the mean of column_2\u001b[39;00m\n\u001b[0;32m---> 16\u001b[0m mean_column_2 \u001b[38;5;241m=\u001b[39m \u001b[43mdf1\u001b[49m\u001b[43m[\u001b[49m\u001b[38;5;124;43m'\u001b[39;49m\u001b[38;5;124;43mcolumn_2\u001b[39;49m\u001b[38;5;124;43m'\u001b[39;49m\u001b[43m]\u001b[49m\u001b[38;5;241;43m.\u001b[39;49m\u001b[43mmean\u001b[49m\u001b[43m(\u001b[49m\u001b[43m)\u001b[49m\n\u001b[1;32m     18\u001b[0m \u001b[38;5;28mprint\u001b[39m(mean_column_2)\n",
      "File \u001b[0;32m/opt/conda/lib/python3.10/site-packages/pandas/core/generic.py:11847\u001b[0m, in \u001b[0;36mNDFrame._add_numeric_operations.<locals>.mean\u001b[0;34m(self, axis, skipna, level, numeric_only, **kwargs)\u001b[0m\n\u001b[1;32m  11829\u001b[0m \u001b[38;5;129m@doc\u001b[39m(\n\u001b[1;32m  11830\u001b[0m     _num_doc,\n\u001b[1;32m  11831\u001b[0m     desc\u001b[38;5;241m=\u001b[39m\u001b[38;5;124m\"\u001b[39m\u001b[38;5;124mReturn the mean of the values over the requested axis.\u001b[39m\u001b[38;5;124m\"\u001b[39m,\n\u001b[0;32m   (...)\u001b[0m\n\u001b[1;32m  11845\u001b[0m     \u001b[38;5;241m*\u001b[39m\u001b[38;5;241m*\u001b[39mkwargs,\n\u001b[1;32m  11846\u001b[0m ):\n\u001b[0;32m> 11847\u001b[0m     \u001b[38;5;28;01mreturn\u001b[39;00m \u001b[43mNDFrame\u001b[49m\u001b[38;5;241;43m.\u001b[39;49m\u001b[43mmean\u001b[49m\u001b[43m(\u001b[49m\u001b[38;5;28;43mself\u001b[39;49m\u001b[43m,\u001b[49m\u001b[43m \u001b[49m\u001b[43maxis\u001b[49m\u001b[43m,\u001b[49m\u001b[43m \u001b[49m\u001b[43mskipna\u001b[49m\u001b[43m,\u001b[49m\u001b[43m \u001b[49m\u001b[43mlevel\u001b[49m\u001b[43m,\u001b[49m\u001b[43m \u001b[49m\u001b[43mnumeric_only\u001b[49m\u001b[43m,\u001b[49m\u001b[43m \u001b[49m\u001b[38;5;241;43m*\u001b[39;49m\u001b[38;5;241;43m*\u001b[39;49m\u001b[43mkwargs\u001b[49m\u001b[43m)\u001b[49m\n",
      "File \u001b[0;32m/opt/conda/lib/python3.10/site-packages/pandas/core/generic.py:11401\u001b[0m, in \u001b[0;36mNDFrame.mean\u001b[0;34m(self, axis, skipna, level, numeric_only, **kwargs)\u001b[0m\n\u001b[1;32m  11393\u001b[0m \u001b[38;5;28;01mdef\u001b[39;00m \u001b[38;5;21mmean\u001b[39m(\n\u001b[1;32m  11394\u001b[0m     \u001b[38;5;28mself\u001b[39m,\n\u001b[1;32m  11395\u001b[0m     axis: Axis \u001b[38;5;241m|\u001b[39m \u001b[38;5;28;01mNone\u001b[39;00m \u001b[38;5;241m|\u001b[39m lib\u001b[38;5;241m.\u001b[39mNoDefault \u001b[38;5;241m=\u001b[39m lib\u001b[38;5;241m.\u001b[39mno_default,\n\u001b[0;32m   (...)\u001b[0m\n\u001b[1;32m  11399\u001b[0m     \u001b[38;5;241m*\u001b[39m\u001b[38;5;241m*\u001b[39mkwargs,\n\u001b[1;32m  11400\u001b[0m ) \u001b[38;5;241m-\u001b[39m\u001b[38;5;241m>\u001b[39m Series \u001b[38;5;241m|\u001b[39m \u001b[38;5;28mfloat\u001b[39m:\n\u001b[0;32m> 11401\u001b[0m     \u001b[38;5;28;01mreturn\u001b[39;00m \u001b[38;5;28;43mself\u001b[39;49m\u001b[38;5;241;43m.\u001b[39;49m\u001b[43m_stat_function\u001b[49m\u001b[43m(\u001b[49m\n\u001b[1;32m  11402\u001b[0m \u001b[43m        \u001b[49m\u001b[38;5;124;43m\"\u001b[39;49m\u001b[38;5;124;43mmean\u001b[39;49m\u001b[38;5;124;43m\"\u001b[39;49m\u001b[43m,\u001b[49m\u001b[43m \u001b[49m\u001b[43mnanops\u001b[49m\u001b[38;5;241;43m.\u001b[39;49m\u001b[43mnanmean\u001b[49m\u001b[43m,\u001b[49m\u001b[43m \u001b[49m\u001b[43maxis\u001b[49m\u001b[43m,\u001b[49m\u001b[43m \u001b[49m\u001b[43mskipna\u001b[49m\u001b[43m,\u001b[49m\u001b[43m \u001b[49m\u001b[43mlevel\u001b[49m\u001b[43m,\u001b[49m\u001b[43m \u001b[49m\u001b[43mnumeric_only\u001b[49m\u001b[43m,\u001b[49m\u001b[43m \u001b[49m\u001b[38;5;241;43m*\u001b[39;49m\u001b[38;5;241;43m*\u001b[39;49m\u001b[43mkwargs\u001b[49m\n\u001b[1;32m  11403\u001b[0m \u001b[43m    \u001b[49m\u001b[43m)\u001b[49m\n",
      "File \u001b[0;32m/opt/conda/lib/python3.10/site-packages/pandas/core/generic.py:11353\u001b[0m, in \u001b[0;36mNDFrame._stat_function\u001b[0;34m(self, name, func, axis, skipna, level, numeric_only, **kwargs)\u001b[0m\n\u001b[1;32m  11343\u001b[0m     warnings\u001b[38;5;241m.\u001b[39mwarn(\n\u001b[1;32m  11344\u001b[0m         \u001b[38;5;124m\"\u001b[39m\u001b[38;5;124mUsing the level keyword in DataFrame and Series aggregations is \u001b[39m\u001b[38;5;124m\"\u001b[39m\n\u001b[1;32m  11345\u001b[0m         \u001b[38;5;124m\"\u001b[39m\u001b[38;5;124mdeprecated and will be removed in a future version. Use groupby \u001b[39m\u001b[38;5;124m\"\u001b[39m\n\u001b[0;32m   (...)\u001b[0m\n\u001b[1;32m  11348\u001b[0m         stacklevel\u001b[38;5;241m=\u001b[39mfind_stack_level(),\n\u001b[1;32m  11349\u001b[0m     )\n\u001b[1;32m  11350\u001b[0m     \u001b[38;5;28;01mreturn\u001b[39;00m \u001b[38;5;28mself\u001b[39m\u001b[38;5;241m.\u001b[39m_agg_by_level(\n\u001b[1;32m  11351\u001b[0m         name, axis\u001b[38;5;241m=\u001b[39maxis, level\u001b[38;5;241m=\u001b[39mlevel, skipna\u001b[38;5;241m=\u001b[39mskipna, numeric_only\u001b[38;5;241m=\u001b[39mnumeric_only\n\u001b[1;32m  11352\u001b[0m     )\n\u001b[0;32m> 11353\u001b[0m \u001b[38;5;28;01mreturn\u001b[39;00m \u001b[38;5;28;43mself\u001b[39;49m\u001b[38;5;241;43m.\u001b[39;49m\u001b[43m_reduce\u001b[49m\u001b[43m(\u001b[49m\n\u001b[1;32m  11354\u001b[0m \u001b[43m    \u001b[49m\u001b[43mfunc\u001b[49m\u001b[43m,\u001b[49m\u001b[43m \u001b[49m\u001b[43mname\u001b[49m\u001b[38;5;241;43m=\u001b[39;49m\u001b[43mname\u001b[49m\u001b[43m,\u001b[49m\u001b[43m \u001b[49m\u001b[43maxis\u001b[49m\u001b[38;5;241;43m=\u001b[39;49m\u001b[43maxis\u001b[49m\u001b[43m,\u001b[49m\u001b[43m \u001b[49m\u001b[43mskipna\u001b[49m\u001b[38;5;241;43m=\u001b[39;49m\u001b[43mskipna\u001b[49m\u001b[43m,\u001b[49m\u001b[43m \u001b[49m\u001b[43mnumeric_only\u001b[49m\u001b[38;5;241;43m=\u001b[39;49m\u001b[43mnumeric_only\u001b[49m\n\u001b[1;32m  11355\u001b[0m \u001b[43m\u001b[49m\u001b[43m)\u001b[49m\n",
      "File \u001b[0;32m/opt/conda/lib/python3.10/site-packages/pandas/core/series.py:4816\u001b[0m, in \u001b[0;36mSeries._reduce\u001b[0;34m(self, op, name, axis, skipna, numeric_only, filter_type, **kwds)\u001b[0m\n\u001b[1;32m   4812\u001b[0m     \u001b[38;5;28;01mraise\u001b[39;00m \u001b[38;5;167;01mNotImplementedError\u001b[39;00m(\n\u001b[1;32m   4813\u001b[0m         \u001b[38;5;124mf\u001b[39m\u001b[38;5;124m\"\u001b[39m\u001b[38;5;124mSeries.\u001b[39m\u001b[38;5;132;01m{\u001b[39;00mname\u001b[38;5;132;01m}\u001b[39;00m\u001b[38;5;124m does not implement \u001b[39m\u001b[38;5;132;01m{\u001b[39;00mkwd_name\u001b[38;5;132;01m}\u001b[39;00m\u001b[38;5;124m.\u001b[39m\u001b[38;5;124m\"\u001b[39m\n\u001b[1;32m   4814\u001b[0m     )\n\u001b[1;32m   4815\u001b[0m \u001b[38;5;28;01mwith\u001b[39;00m np\u001b[38;5;241m.\u001b[39merrstate(\u001b[38;5;28mall\u001b[39m\u001b[38;5;241m=\u001b[39m\u001b[38;5;124m\"\u001b[39m\u001b[38;5;124mignore\u001b[39m\u001b[38;5;124m\"\u001b[39m):\n\u001b[0;32m-> 4816\u001b[0m     \u001b[38;5;28;01mreturn\u001b[39;00m \u001b[43mop\u001b[49m\u001b[43m(\u001b[49m\u001b[43mdelegate\u001b[49m\u001b[43m,\u001b[49m\u001b[43m \u001b[49m\u001b[43mskipna\u001b[49m\u001b[38;5;241;43m=\u001b[39;49m\u001b[43mskipna\u001b[49m\u001b[43m,\u001b[49m\u001b[43m \u001b[49m\u001b[38;5;241;43m*\u001b[39;49m\u001b[38;5;241;43m*\u001b[39;49m\u001b[43mkwds\u001b[49m\u001b[43m)\u001b[49m\n",
      "File \u001b[0;32m/opt/conda/lib/python3.10/site-packages/pandas/core/nanops.py:93\u001b[0m, in \u001b[0;36mdisallow.__call__.<locals>._f\u001b[0;34m(*args, **kwargs)\u001b[0m\n\u001b[1;32m     91\u001b[0m \u001b[38;5;28;01mtry\u001b[39;00m:\n\u001b[1;32m     92\u001b[0m     \u001b[38;5;28;01mwith\u001b[39;00m np\u001b[38;5;241m.\u001b[39merrstate(invalid\u001b[38;5;241m=\u001b[39m\u001b[38;5;124m\"\u001b[39m\u001b[38;5;124mignore\u001b[39m\u001b[38;5;124m\"\u001b[39m):\n\u001b[0;32m---> 93\u001b[0m         \u001b[38;5;28;01mreturn\u001b[39;00m \u001b[43mf\u001b[49m\u001b[43m(\u001b[49m\u001b[38;5;241;43m*\u001b[39;49m\u001b[43margs\u001b[49m\u001b[43m,\u001b[49m\u001b[43m \u001b[49m\u001b[38;5;241;43m*\u001b[39;49m\u001b[38;5;241;43m*\u001b[39;49m\u001b[43mkwargs\u001b[49m\u001b[43m)\u001b[49m\n\u001b[1;32m     94\u001b[0m \u001b[38;5;28;01mexcept\u001b[39;00m \u001b[38;5;167;01mValueError\u001b[39;00m \u001b[38;5;28;01mas\u001b[39;00m e:\n\u001b[1;32m     95\u001b[0m     \u001b[38;5;66;03m# we want to transform an object array\u001b[39;00m\n\u001b[1;32m     96\u001b[0m     \u001b[38;5;66;03m# ValueError message to the more typical TypeError\u001b[39;00m\n\u001b[1;32m     97\u001b[0m     \u001b[38;5;66;03m# e.g. this is normally a disallowed function on\u001b[39;00m\n\u001b[1;32m     98\u001b[0m     \u001b[38;5;66;03m# object arrays that contain strings\u001b[39;00m\n\u001b[1;32m     99\u001b[0m     \u001b[38;5;28;01mif\u001b[39;00m is_object_dtype(args[\u001b[38;5;241m0\u001b[39m]):\n",
      "File \u001b[0;32m/opt/conda/lib/python3.10/site-packages/pandas/core/nanops.py:155\u001b[0m, in \u001b[0;36mbottleneck_switch.__call__.<locals>.f\u001b[0;34m(values, axis, skipna, **kwds)\u001b[0m\n\u001b[1;32m    153\u001b[0m         result \u001b[38;5;241m=\u001b[39m alt(values, axis\u001b[38;5;241m=\u001b[39maxis, skipna\u001b[38;5;241m=\u001b[39mskipna, \u001b[38;5;241m*\u001b[39m\u001b[38;5;241m*\u001b[39mkwds)\n\u001b[1;32m    154\u001b[0m \u001b[38;5;28;01melse\u001b[39;00m:\n\u001b[0;32m--> 155\u001b[0m     result \u001b[38;5;241m=\u001b[39m \u001b[43malt\u001b[49m\u001b[43m(\u001b[49m\u001b[43mvalues\u001b[49m\u001b[43m,\u001b[49m\u001b[43m \u001b[49m\u001b[43maxis\u001b[49m\u001b[38;5;241;43m=\u001b[39;49m\u001b[43maxis\u001b[49m\u001b[43m,\u001b[49m\u001b[43m \u001b[49m\u001b[43mskipna\u001b[49m\u001b[38;5;241;43m=\u001b[39;49m\u001b[43mskipna\u001b[49m\u001b[43m,\u001b[49m\u001b[43m \u001b[49m\u001b[38;5;241;43m*\u001b[39;49m\u001b[38;5;241;43m*\u001b[39;49m\u001b[43mkwds\u001b[49m\u001b[43m)\u001b[49m\n\u001b[1;32m    157\u001b[0m \u001b[38;5;28;01mreturn\u001b[39;00m result\n",
      "File \u001b[0;32m/opt/conda/lib/python3.10/site-packages/pandas/core/nanops.py:418\u001b[0m, in \u001b[0;36m_datetimelike_compat.<locals>.new_func\u001b[0;34m(values, axis, skipna, mask, **kwargs)\u001b[0m\n\u001b[1;32m    415\u001b[0m \u001b[38;5;28;01mif\u001b[39;00m datetimelike \u001b[38;5;129;01mand\u001b[39;00m mask \u001b[38;5;129;01mis\u001b[39;00m \u001b[38;5;28;01mNone\u001b[39;00m:\n\u001b[1;32m    416\u001b[0m     mask \u001b[38;5;241m=\u001b[39m isna(values)\n\u001b[0;32m--> 418\u001b[0m result \u001b[38;5;241m=\u001b[39m \u001b[43mfunc\u001b[49m\u001b[43m(\u001b[49m\u001b[43mvalues\u001b[49m\u001b[43m,\u001b[49m\u001b[43m \u001b[49m\u001b[43maxis\u001b[49m\u001b[38;5;241;43m=\u001b[39;49m\u001b[43maxis\u001b[49m\u001b[43m,\u001b[49m\u001b[43m \u001b[49m\u001b[43mskipna\u001b[49m\u001b[38;5;241;43m=\u001b[39;49m\u001b[43mskipna\u001b[49m\u001b[43m,\u001b[49m\u001b[43m \u001b[49m\u001b[43mmask\u001b[49m\u001b[38;5;241;43m=\u001b[39;49m\u001b[43mmask\u001b[49m\u001b[43m,\u001b[49m\u001b[43m \u001b[49m\u001b[38;5;241;43m*\u001b[39;49m\u001b[38;5;241;43m*\u001b[39;49m\u001b[43mkwargs\u001b[49m\u001b[43m)\u001b[49m\n\u001b[1;32m    420\u001b[0m \u001b[38;5;28;01mif\u001b[39;00m datetimelike:\n\u001b[1;32m    421\u001b[0m     result \u001b[38;5;241m=\u001b[39m _wrap_results(result, orig_values\u001b[38;5;241m.\u001b[39mdtype, fill_value\u001b[38;5;241m=\u001b[39miNaT)\n",
      "File \u001b[0;32m/opt/conda/lib/python3.10/site-packages/pandas/core/nanops.py:706\u001b[0m, in \u001b[0;36mnanmean\u001b[0;34m(values, axis, skipna, mask)\u001b[0m\n\u001b[1;32m    703\u001b[0m     dtype_count \u001b[38;5;241m=\u001b[39m dtype\n\u001b[1;32m    705\u001b[0m count \u001b[38;5;241m=\u001b[39m _get_counts(values\u001b[38;5;241m.\u001b[39mshape, mask, axis, dtype\u001b[38;5;241m=\u001b[39mdtype_count)\n\u001b[0;32m--> 706\u001b[0m the_sum \u001b[38;5;241m=\u001b[39m _ensure_numeric(\u001b[43mvalues\u001b[49m\u001b[38;5;241;43m.\u001b[39;49m\u001b[43msum\u001b[49m\u001b[43m(\u001b[49m\u001b[43maxis\u001b[49m\u001b[43m,\u001b[49m\u001b[43m \u001b[49m\u001b[43mdtype\u001b[49m\u001b[38;5;241;43m=\u001b[39;49m\u001b[43mdtype_sum\u001b[49m\u001b[43m)\u001b[49m)\n\u001b[1;32m    708\u001b[0m \u001b[38;5;28;01mif\u001b[39;00m axis \u001b[38;5;129;01mis\u001b[39;00m \u001b[38;5;129;01mnot\u001b[39;00m \u001b[38;5;28;01mNone\u001b[39;00m \u001b[38;5;129;01mand\u001b[39;00m \u001b[38;5;28mgetattr\u001b[39m(the_sum, \u001b[38;5;124m\"\u001b[39m\u001b[38;5;124mndim\u001b[39m\u001b[38;5;124m\"\u001b[39m, \u001b[38;5;28;01mFalse\u001b[39;00m):\n\u001b[1;32m    709\u001b[0m     count \u001b[38;5;241m=\u001b[39m cast(np\u001b[38;5;241m.\u001b[39mndarray, count)\n",
      "File \u001b[0;32m/opt/conda/lib/python3.10/site-packages/numpy/core/_methods.py:48\u001b[0m, in \u001b[0;36m_sum\u001b[0;34m(a, axis, dtype, out, keepdims, initial, where)\u001b[0m\n\u001b[1;32m     46\u001b[0m \u001b[38;5;28;01mdef\u001b[39;00m \u001b[38;5;21m_sum\u001b[39m(a, axis\u001b[38;5;241m=\u001b[39m\u001b[38;5;28;01mNone\u001b[39;00m, dtype\u001b[38;5;241m=\u001b[39m\u001b[38;5;28;01mNone\u001b[39;00m, out\u001b[38;5;241m=\u001b[39m\u001b[38;5;28;01mNone\u001b[39;00m, keepdims\u001b[38;5;241m=\u001b[39m\u001b[38;5;28;01mFalse\u001b[39;00m,\n\u001b[1;32m     47\u001b[0m          initial\u001b[38;5;241m=\u001b[39m_NoValue, where\u001b[38;5;241m=\u001b[39m\u001b[38;5;28;01mTrue\u001b[39;00m):\n\u001b[0;32m---> 48\u001b[0m     \u001b[38;5;28;01mreturn\u001b[39;00m \u001b[43mumr_sum\u001b[49m\u001b[43m(\u001b[49m\u001b[43ma\u001b[49m\u001b[43m,\u001b[49m\u001b[43m \u001b[49m\u001b[43maxis\u001b[49m\u001b[43m,\u001b[49m\u001b[43m \u001b[49m\u001b[43mdtype\u001b[49m\u001b[43m,\u001b[49m\u001b[43m \u001b[49m\u001b[43mout\u001b[49m\u001b[43m,\u001b[49m\u001b[43m \u001b[49m\u001b[43mkeepdims\u001b[49m\u001b[43m,\u001b[49m\u001b[43m \u001b[49m\u001b[43minitial\u001b[49m\u001b[43m,\u001b[49m\u001b[43m \u001b[49m\u001b[43mwhere\u001b[49m\u001b[43m)\u001b[49m\n",
      "\u001b[0;31mTypeError\u001b[0m: unsupported operand type(s) for +: 'float' and 'str'"
     ]
    }
   ],
   "source": [
    "import pandas as pd\n",
    "import numpy as np\n",
    "\n",
    "columns = ['column_1', 'column_2', 'column_3', 'column_4', 'column_5', 'column_6']\n",
    "indices = [1,2,3,4,5,6]\n",
    "\n",
    "#Creating a dataframe:\n",
    "df1 = pd.DataFrame(np.random.rand(6,6), columns = columns, index = indices)\n",
    "print(df1)\n",
    "\n",
    "# replace the data in the second row of column_2 by a string variable\n",
    "df1.loc[2, 'column_2'] = 'replacement_string'\n",
    "print(df1)\n",
    "\n",
    "# find the mean of column_2\n",
    "mean_column_2 = df1['column_2'].mean()\n",
    "\n",
    "print(mean_column_2)"
   ]
  },
  {
   "cell_type": "markdown",
   "id": "7d8a8215-f1c4-4902-8201-30641e104ab6",
   "metadata": {},
   "source": [
    "Yes, we will get a TypeError: unsupported operand type(s) for +: 'float' and 'str' . This error occurs because Python doesn't know how to add a string and a float together while calculating the mean."
   ]
  },
  {
   "cell_type": "markdown",
   "id": "c2b39293-6060-4b8c-9e80-4dc228a3224f",
   "metadata": {},
   "source": [
    "Q6. What do you understand about the windows function in pandas and list the types of windows\n",
    "functions?"
   ]
  },
  {
   "cell_type": "markdown",
   "id": "cc2b33cc-9d79-472e-8d2b-43ea803724d4",
   "metadata": {},
   "source": [
    "In Pandas, the windows function is used for performing calculations over a sliding window of data. It is a powerful tool for analyzing time-series data and can be used to calculate rolling averages, cumulative sums, and other types of window-based calculations.\n",
    "\n",
    "The windows function works by defining a rolling window of a fixed size, and then applying a function to the data within that window. The window is then moved forward by one observation, and the process is repeated for each subsequent window.\n",
    "\n",
    "There are several types of windows functions in Pandas:\n",
    "\n",
    "Rolling: It applies a rolling calculation over a specified window size, which can be based on either time or the number of observations.\n",
    "\n",
    "Expanding: It applies a cumulative calculation over all the observations in the DataFrame, starting from the beginning of the data.\n",
    "\n",
    "Exponentially Weighted Moving Average (EWMA): It applies a weighted average to the observations in a rolling window, with more weight given to the more recent observations.\n",
    "\n",
    "Rolling Windows with Window Function: This is a generalization of rolling windows that can be applied with any window function.\n",
    "\n",
    "GroupBy Windows: It applies a window function to groups of data defined by a categorical variable.\n",
    "\n",
    "Time-based Windows: It defines a window based on a time interval, such as days, weeks, months, or years.\n",
    "\n",
    "These are some of the most commonly used types of windows functions in Pandas. They provide a powerful toolset for analyzing and visualizing time-series data.\n",
    "\n"
   ]
  },
  {
   "cell_type": "markdown",
   "id": "600b65ca-d44e-414a-9fec-5caef6ed0385",
   "metadata": {},
   "source": [
    "Q7. Write a code to print only the current month and year at the time of answering this question.\n",
    "[Hint: Use pandas.datetime function]"
   ]
  },
  {
   "cell_type": "code",
   "execution_count": 8,
   "id": "b6a45138-864d-4cb4-9d93-f798b9118b11",
   "metadata": {},
   "outputs": [
    {
     "name": "stdout",
     "output_type": "stream",
     "text": [
      "The current month and year are: 4 2023\n"
     ]
    }
   ],
   "source": [
    "import pandas as pd\n",
    "from datetime import datetime\n",
    "\n",
    "# Create a pandas Timestamp object for the current date and time\n",
    "\n",
    "current_time = pd.Timestamp(datetime.now())\n",
    "\n",
    "# Get the current month and year from the Timestamp object\n",
    "current_month = current_time.month\n",
    "current_year = current_time.year\n",
    "\n",
    "# Print the current month and year\n",
    "print(\"The current month and year are: {} {}\".format(current_month, current_year))"
   ]
  },
  {
   "cell_type": "markdown",
   "id": "ff416536-01b2-4abb-b7c7-1fd1ecc68082",
   "metadata": {},
   "source": [
    "Q8. Write a Python program that takes in two dates as input (in the format YYYY-MM-DD) and\n",
    "calculates the difference between them in days, hours, and minutes using Pandas time delta. The\n",
    "program should prompt the user to enter the dates and display the result."
   ]
  },
  {
   "cell_type": "code",
   "execution_count": 9,
   "id": "3583dbf8-4ae0-4cc3-b2b3-f354b54d601d",
   "metadata": {},
   "outputs": [
    {
     "name": "stdin",
     "output_type": "stream",
     "text": [
      "Enter the first date in the format YYYY-MM-DD:  2020-01-19\n",
      "Enter the second date in the format YYYY-MM-DD:  2023-02-23\n"
     ]
    },
    {
     "name": "stdout",
     "output_type": "stream",
     "text": [
      "The difference between 2020-01-19 00:00:00 and 2023-02-23 00:00:00 is 1131 days, 0 hours, and 0 minutes.\n"
     ]
    }
   ],
   "source": [
    "import pandas as pd\n",
    "\n",
    "# Prompt the user to enter the dates\n",
    "date1 = input(\"Enter the first date in the format YYYY-MM-DD: \")\n",
    "date2 = input(\"Enter the second date in the format YYYY-MM-DD: \")\n",
    "\n",
    "# Convert the input strings to datetime objects\n",
    "date1 = pd.to_datetime(date1)\n",
    "date2 = pd.to_datetime(date2)\n",
    "\n",
    "# Calculate the difference between the dates\n",
    "delta = date2 - date1\n",
    "\n",
    "# Extract the number of days, hours, and minutes from the timedelta object\n",
    "days = delta.days\n",
    "hours = delta.seconds // 3600\n",
    "minutes = (delta.seconds // 60) % 60\n",
    "\n",
    "# Display the result\n",
    "print(f\"The difference between {date1} and {date2} is {days} days, {hours} hours, and {minutes} minutes.\")\n"
   ]
  },
  {
   "cell_type": "markdown",
   "id": "57c6ad0d-c7ff-48ee-99ed-ed3bba9f9ace",
   "metadata": {},
   "source": [
    "Q9. Write a Python program that reads a CSV file containing categorical data and converts a specified\n",
    "column to a categorical data type. The program should prompt the user to enter the file path, column\n",
    "name, and category order, and then display the sorted data."
   ]
  },
  {
   "cell_type": "code",
   "execution_count": 12,
   "id": "aabc1b4f-8b57-41cc-92e5-6cc97c267bf2",
   "metadata": {},
   "outputs": [
    {
     "name": "stdin",
     "output_type": "stream",
     "text": [
      "Enter the file path:  services.csv\n",
      "Enter the column name:  id\n",
      "Enter the category order (comma-separated):  1,2,3\n"
     ]
    },
    {
     "name": "stdout",
     "output_type": "stream",
     "text": [
      "     id  location_id  program_id         accepted_payments  \\\n",
      "0   NaN            1         NaN                       NaN   \n",
      "1   NaN            2         NaN                       NaN   \n",
      "2   NaN            3         NaN                       NaN   \n",
      "3   NaN            4         NaN                       NaN   \n",
      "4   NaN            5         NaN                       NaN   \n",
      "5   NaN            6         NaN                       NaN   \n",
      "6   NaN            7         NaN                       NaN   \n",
      "7   NaN            8         NaN                       NaN   \n",
      "8   NaN            9         NaN                       NaN   \n",
      "9   NaN           10         NaN                       NaN   \n",
      "10  NaN           11         NaN                       NaN   \n",
      "11  NaN           12         NaN                       NaN   \n",
      "12  NaN           13         NaN                       NaN   \n",
      "13  NaN           14         NaN                       NaN   \n",
      "14  NaN           15         NaN                       NaN   \n",
      "15  NaN           16         NaN                       NaN   \n",
      "16  NaN           17         NaN                       NaN   \n",
      "17  NaN           18         NaN                       NaN   \n",
      "18  NaN           19         NaN                       NaN   \n",
      "19  NaN           20         NaN                       NaN   \n",
      "20  NaN           21         NaN                       NaN   \n",
      "21  NaN           22         NaN  Cash, Check, Credit Card   \n",
      "22  NaN           22         NaN                       NaN   \n",
      "\n",
      "           alternate_name                                application_process  \\\n",
      "0                     NaN                         Walk in or apply by phone.   \n",
      "1                     NaN                 Apply by phone for an appointment.   \n",
      "2                     NaN        Phone for information (403-4300 Ext. 4322).   \n",
      "3                     NaN                                    Apply by phone.   \n",
      "4                     NaN                             Phone for information.   \n",
      "5                     NaN  Walk in or apply by phone for membership appli...   \n",
      "6                     NaN  Apply by phone or be referred by a doctor, soc...   \n",
      "7                     NaN                                    Apply by phone.   \n",
      "8                     NaN  Walk in. Proof of residency in California requ...   \n",
      "9                     NaN  Walk in. Proof of California residency to rece...   \n",
      "10                    NaN  Walk in. Proof of California residency require...   \n",
      "11                    NaN  Walk in or apply by phone, email or webpage re...   \n",
      "12                    NaN  Walk in. Proof of California residency require...   \n",
      "13                    NaN  Call for appointment. Referral from human serv...   \n",
      "14                    NaN          Walk in or through other agency referral.   \n",
      "15                    NaN  Walk in. Written application, identification r...   \n",
      "16                    NaN                              Call for information.   \n",
      "17                    NaN  Call for screening appointment. Medical visits...   \n",
      "18                    NaN     Call for screening appointment (650-347-3648).   \n",
      "19                    NaN                                           Walk in.   \n",
      "20                    NaN                    By phone during business hours.   \n",
      "21  Fotos para pasaportes                  Walk in or apply by phone or mail   \n",
      "22                    NaN                  Walk in or apply by phone or mail   \n",
      "\n",
      "                                             audience  \\\n",
      "0   Older adults age 55 or over, ethnic minorities...   \n",
      "1        Residents of San Mateo County age 55 or over   \n",
      "2   Older adults age 55 or over who can benefit fr...   \n",
      "3   Parents, children, families with problems of c...   \n",
      "4   Low-income working families with children tran...   \n",
      "5                                             Any age   \n",
      "6   Older adults who have memory or sensory loss, ...   \n",
      "7   Senior citizens age 60 or over, disabled indiv...   \n",
      "8      Ethnic minorities, especially Spanish speaking   \n",
      "9                                                 NaN   \n",
      "10                                                NaN   \n",
      "11  Adults, parents, children in 1st-12th grades i...   \n",
      "12                                                NaN   \n",
      "13  Individuals or families with low or no income ...   \n",
      "14  Adult alcoholic/drug addictive men and women w...   \n",
      "15                                                NaN   \n",
      "16                                                NaN   \n",
      "17                                                NaN   \n",
      "18                                                NaN   \n",
      "19                                                NaN   \n",
      "20                                                NaN   \n",
      "21  Profit and nonprofit businesses, the public, m...   \n",
      "22  Second service and nonprofit businesses, the p...   \n",
      "\n",
      "                                          description  \\\n",
      "0   A walk-in center for older adults that provide...   \n",
      "1   Provides training and job placement to eligibl...   \n",
      "2   Offers supportive counseling services to San M...   \n",
      "3   Provides supervised visitation services and a ...   \n",
      "4   Provides fixed 8% short term loans to eligible...   \n",
      "5   A multipurpose center offering a wide variety ...   \n",
      "6   Rosener House is a day center for older adults...   \n",
      "7   Delivers a hot meal to the home of persons age...   \n",
      "8   Provides general reading material, including b...   \n",
      "9   Provides general reading and media materials, ...   \n",
      "10  Provides general reading materials, including ...   \n",
      "11  Offers an intergenerational literacy program f...   \n",
      "12  Provides general reading materials, including ...   \n",
      "13  Provides food, clothing, bus tokens and shelte...   \n",
      "14  Provides a long-term (6-12 month) residential ...   \n",
      "15  Provides emergency assistance including food a...   \n",
      "16  Provides emergency food, clothing and furnitur...   \n",
      "17  By appointment only, Project Smile provides a ...   \n",
      "18  Provides free medical and dental care to those...   \n",
      "19              no unrequired fields for this service   \n",
      "20                                just a test service   \n",
      "21  [NOTE THIS IS NOT A REAL SERVICE--THIS IS FOR ...   \n",
      "22  [NOTE THIS IS NOT A REAL ORGANIZATION--THIS IS...   \n",
      "\n",
      "                                          eligibility                  email  \\\n",
      "0   Age 55 or over for most programs, age 60 or ov...                    NaN   \n",
      "1   Age 55 or over, county resident and willing an...                    NaN   \n",
      "2         Resident of San Mateo County age 55 or over                    NaN   \n",
      "3                                                None                    NaN   \n",
      "4   Eligibility: Low-income family with legal cust...                    NaN   \n",
      "5                                                None                    NaN   \n",
      "6                                      Age 18 or over                    NaN   \n",
      "7             Homebound person unable to cook or shop                    NaN   \n",
      "8     Resident of California to obtain a library card                    NaN   \n",
      "9             Resident of California to obtain a card                    NaN   \n",
      "10  Resident of California to obtain a library car...                    NaN   \n",
      "11  English-speaking adult reading at or below 7th...                    NaN   \n",
      "12    Resident of California to obtain a library card                    NaN   \n",
      "13  None for most services. For emergency assistan...                    NaN   \n",
      "14  Age 21-60, detoxed, physically able and willin...                    NaN   \n",
      "15                      None for emergency assistance                    NaN   \n",
      "16                                Low-income families                    NaN   \n",
      "17    Low-income person without access to health care                    NaN   \n",
      "18    Low-income person without access to health care                    NaN   \n",
      "19                                                NaN                    NaN   \n",
      "20                                                NaN                    NaN   \n",
      "21                                               None  passports@example.org   \n",
      "22                                               None                    NaN   \n",
      "\n",
      "    ...                            interpretation_services  \\\n",
      "0   ...                                                NaN   \n",
      "1   ...                                                NaN   \n",
      "2   ...                                                NaN   \n",
      "3   ...                                                NaN   \n",
      "4   ...                                                NaN   \n",
      "5   ...                                                NaN   \n",
      "6   ...                                                NaN   \n",
      "7   ...                                                NaN   \n",
      "8   ...                                                NaN   \n",
      "9   ...                                                NaN   \n",
      "10  ...                                                NaN   \n",
      "11  ...                                                NaN   \n",
      "12  ...                                                NaN   \n",
      "13  ...                                                NaN   \n",
      "14  ...                                                NaN   \n",
      "15  ...                                                NaN   \n",
      "16  ...                                                NaN   \n",
      "17  ...                                                NaN   \n",
      "18  ...                                                NaN   \n",
      "19  ...                                                NaN   \n",
      "20  ...                                                NaN   \n",
      "21  ...  We offer 3-way interpretation services over th...   \n",
      "22  ...                                                NaN   \n",
      "\n",
      "                                             keywords languages  \\\n",
      "0   ADULT PROTECTION AND CARE SERVICES, Meal Sites...       NaN   \n",
      "1   EMPLOYMENT/TRAINING SERVICES, Job Development,...       NaN   \n",
      "2   Geriatric Counseling, Older Adults, Gay, Lesbi...       NaN   \n",
      "3   INDIVIDUAL AND FAMILY DEVELOPMENT SERVICES, Gr...       NaN   \n",
      "4      COMMUNITY SERVICES, Speakers, Automobile Loans       NaN   \n",
      "5   ADULT PROTECTION AND CARE SERVICES, In-Home Su...       NaN   \n",
      "6   ADULT PROTECTION AND CARE SERVICES, Adult Day ...       NaN   \n",
      "7   ADULT PROTECTION AND CARE SERVICES, Meal Sites...       NaN   \n",
      "8   EDUCATION SERVICES, Library, Libraries, Public...       NaN   \n",
      "9   EDUCATION SERVICES, Library, Libraries, Public...       NaN   \n",
      "10  EDUCATION SERVICES, Library, Libraries, Public...       NaN   \n",
      "11  EDUCATION SERVICES, Adult, Alternative, Litera...       NaN   \n",
      "12  EDUCATION SERVICES, Library, Libraries, Public...       NaN   \n",
      "13  COMMUNITY SERVICES, Interpretation/Translation...       NaN   \n",
      "14  ALCOHOLISM SERVICES, Residential Care, DRUG AB...       NaN   \n",
      "15  COMMODITY SERVICES, Clothing/Personal Items, C...       NaN   \n",
      "16  COMMODITY SERVICES, Clothing/Personal Items, C...       NaN   \n",
      "17  HEALTH SERVICES, Outpatient Care, Community Cl...       NaN   \n",
      "18  HEALTH SERVICES, Outpatient Care, Community Cl...       NaN   \n",
      "19                                                NaN       NaN   \n",
      "20                                                NaN       NaN   \n",
      "21                                    Salud, Medicina   Spanish   \n",
      "22         Ruby on Rails/Postgres/Redis, testing, wic       NaN   \n",
      "\n",
      "                                    name  \\\n",
      "0        Fair Oaks Adult Activity Center   \n",
      "1       Second Career Employment Program   \n",
      "2                 Senior Peer Counseling   \n",
      "3               Family Visitation Center   \n",
      "4      Economic Self-Sufficiency Program   \n",
      "5   Little House Recreational Activities   \n",
      "6       Rosener House Adult Day Services   \n",
      "7         Meals on Wheels - South County   \n",
      "8                       Fair Oaks Branch   \n",
      "9                           Main Library   \n",
      "10                       Schaberg Branch   \n",
      "11                          Project Read   \n",
      "12                 Redwood Shores Branch   \n",
      "13                    Redwood City Corps   \n",
      "14           Adult Rehabilitation Center   \n",
      "15                       Sunnyvale Corps   \n",
      "16     South San Francisco Citadel Corps   \n",
      "17                         Project Smile   \n",
      "18         San Mateo Free Medical Clinic   \n",
      "19             Service with blank fields   \n",
      "20       Service for Admin Test Location   \n",
      "21                       Passport Photos   \n",
      "22                  Example Service Name   \n",
      "\n",
      "                          required_documents  \\\n",
      "0                                        NaN   \n",
      "1                                        NaN   \n",
      "2                                        NaN   \n",
      "3                                        NaN   \n",
      "4                                        NaN   \n",
      "5                                        NaN   \n",
      "6                                        NaN   \n",
      "7                                        NaN   \n",
      "8                                        NaN   \n",
      "9                                        NaN   \n",
      "10                                       NaN   \n",
      "11                                       NaN   \n",
      "12                                       NaN   \n",
      "13                                       NaN   \n",
      "14                                       NaN   \n",
      "15                                       NaN   \n",
      "16                                       NaN   \n",
      "17                                       NaN   \n",
      "18                                       NaN   \n",
      "19                                       NaN   \n",
      "20                                       NaN   \n",
      "21  Government-issued picture identification   \n",
      "22                                       NaN   \n",
      "\n",
      "                            service_areas    status  \\\n",
      "0                                   Colma    active   \n",
      "1                        San Mateo County    active   \n",
      "2                        San Mateo County    active   \n",
      "3                        San Mateo County    active   \n",
      "4                        San Mateo County    active   \n",
      "5                        San Mateo County    active   \n",
      "6     Belmont, Burlingame, East Palo Alto    active   \n",
      "7                 Belmont, East Palo Alto    active   \n",
      "8                        San Mateo County    active   \n",
      "9                        San Mateo County    active   \n",
      "10                       San Mateo County    active   \n",
      "11                              Daly City    active   \n",
      "12                       San Mateo County    active   \n",
      "13    Belmont, Burlingame, East Palo Alto    active   \n",
      "14       Alameda County, San Mateo County    active   \n",
      "15                                    NaN    active   \n",
      "16  Colma, Daly City, South San Francisco    active   \n",
      "17                         East Palo Alto    active   \n",
      "18                    Belmont, Burlingame    active   \n",
      "19                                    NaN   defunct   \n",
      "20                       San Mateo County  inactive   \n",
      "21       Alameda County, San Mateo County    active   \n",
      "22       San Mateo County, Alameda County    active   \n",
      "\n",
      "                                            wait_time                 website  \\\n",
      "0                                            No wait.                     NaN   \n",
      "1                                             Varies.                     NaN   \n",
      "2                                             Varies.                     NaN   \n",
      "3                                            No wait.                     NaN   \n",
      "4                                                 NaN                     NaN   \n",
      "5                                            No wait.                     NaN   \n",
      "6                                            No wait.                     NaN   \n",
      "7                                            No wait.                     NaN   \n",
      "8                                            No wait.                     NaN   \n",
      "9                                            No wait.                     NaN   \n",
      "10                                           No wait.                     NaN   \n",
      "11  Depends on availability of tutors for small gr...                     NaN   \n",
      "12                                           No wait.                     NaN   \n",
      "13                                  Up to 20 minutes.                     NaN   \n",
      "14  Varies according to available beds for men and...                     NaN   \n",
      "15                                           No wait.                     NaN   \n",
      "16                                                NaN                     NaN   \n",
      "17                                            Varies.                     NaN   \n",
      "18                                            Varies.                     NaN   \n",
      "19                                                NaN                     NaN   \n",
      "20                                                NaN                     NaN   \n",
      "21                                No wait to 2 weeks.  http://www.example.com   \n",
      "22                                 No wait to 2 weeks  http://www.example.com   \n",
      "\n",
      "                                taxonomy_ids  \n",
      "0                                        NaN  \n",
      "1                                        NaN  \n",
      "2                                        NaN  \n",
      "3                                        NaN  \n",
      "4                                        NaN  \n",
      "5                                        NaN  \n",
      "6                                        NaN  \n",
      "7                                        NaN  \n",
      "8                                        NaN  \n",
      "9                                        NaN  \n",
      "10                                       NaN  \n",
      "11                                       NaN  \n",
      "12                                       NaN  \n",
      "13                                       NaN  \n",
      "14                                       NaN  \n",
      "15                                       NaN  \n",
      "16                                       NaN  \n",
      "17                                       NaN  \n",
      "18                                       NaN  \n",
      "19                                       NaN  \n",
      "20                                       NaN  \n",
      "21  105, 108, 108-05, 108-05-01, 111, 111-05  \n",
      "22                                       NaN  \n",
      "\n",
      "[23 rows x 22 columns]\n"
     ]
    }
   ],
   "source": [
    "import pandas as pd\n",
    "\n",
    "# Prompt the user to enter the file path, column name, and category order\n",
    "file_path = input(\"Enter the file path: \")\n",
    "column_name = input(\"Enter the column name: \")\n",
    "category_order = input(\"Enter the category order (comma-separated): \").split(\",\")\n",
    "\n",
    "# Read the CSV file\n",
    "data = pd.read_csv(file_path)\n",
    "\n",
    "# Convert the specified column to a categorical data type\n",
    "data[column_name] = pd.Categorical(data[column_name], categories=category_order, ordered=True)\n",
    "\n",
    "# Sort the data by the specified column\n",
    "data_sorted = data.sort_values(by=column_name)\n",
    "\n",
    "# Display the sorted data\n",
    "print(data_sorted)"
   ]
  },
  {
   "cell_type": "markdown",
   "id": "60b69811-acd2-4147-9987-77a126a06f9a",
   "metadata": {},
   "source": [
    "Q10. Write a Python program that reads a CSV file containing sales data for different products and\n",
    "visualizes the data using a stacked bar chart to show the sales of each product category over time. The\n",
    "program should prompt the user to enter the file path and display the chart."
   ]
  },
  {
   "cell_type": "code",
   "execution_count": 14,
   "id": "6c168693-2aad-4b0f-833c-5fb3b7ce3cea",
   "metadata": {},
   "outputs": [
    {
     "name": "stdin",
     "output_type": "stream",
     "text": [
      "Enter the path of the CSV file:  sales_data.csv\n"
     ]
    },
    {
     "data": {
      "image/png": "[encoded data removed]",
      "text/plain": [
       "<Figure size 640x480 with 1 Axes>"
      ]
     },
     "metadata": {},
     "output_type": "display_data"
    }
   ],
   "source": [
    "import pandas as pd\n",
    "import matplotlib.pyplot as plt\n",
    "\n",
    "# prompt user to enter file path\n",
    "file_path = input(\"Enter the path of the CSV file: \")\n",
    "\n",
    "# read CSV file into a pandas DataFrame\n",
    "df = pd.read_csv(file_path)\n",
    "\n",
    "# set the 'Date' column as the index and convert it to datetime format\n",
    "df.set_index('Date', inplace=True)\n",
    "df.index = pd.to_datetime(df.index)\n",
    "\n",
    "# create a pivot table to aggregate the sales data by product category and month\n",
    "sales_by_category = df.pivot_table(values='Sales', index=df.index.month, columns='Category', aggfunc='sum')\n",
    "\n",
    "# create stacked bar chart\n",
    "sales_by_category.plot(kind='bar', stacked=True)\n",
    "\n",
    "# set chart title and axis labels\n",
    "plt.title('Sales by Product Category')\n",
    "plt.xlabel('Month')\n",
    "plt.ylabel('Sales')\n",
    "\n",
    "# display chart\n",
    "plt.show()\n"
   ]
  },
  {
   "cell_type": "markdown",
   "id": "12135cf8-d5dd-4bf7-ad75-04f3a85d6a19",
   "metadata": {},
   "source": [
    "Q11. You are given a CSV file containing student data that includes the student ID and their test score. Write a Python program that reads the CSV file, calculates the mean, median, and mode of the test scores, and displays the results in a table."
   ]
  },
  {
   "cell_type": "code",
   "execution_count": 19,
   "id": "2f4c685d-f97f-47a6-9c2e-85a6cf33987c",
   "metadata": {},
   "outputs": [
    {
     "name": "stdout",
     "output_type": "stream",
     "text": [
      "\n",
      "\tOriginal Data\n",
      "\n",
      "   Student ID  Score\n",
      "0        1001     85\n",
      "1        1002     90\n",
      "2        1003     87\n",
      "3        1004     80\n",
      "4        1005     90\n",
      "---+------+------+------+------+------+------+---\n",
      "  Statistic  Score\n",
      "0      Mean   86.1\n",
      "1    Median   87.0\n",
      "2      Mode   87.0\n"
     ]
    }
   ],
   "source": [
    "import pandas as pd\n",
    "\n",
    "# Read the CSV file into a DataFrame\n",
    "df = pd.read_csv('student_data.csv')\n",
    "\n",
    "# Calculate the mean, median, and mode of the test scores\n",
    "mean_score = df['Score'].mean()\n",
    "median_score = df['Score'].median()\n",
    "mode_score = df['Score'].mode().iloc[0]\n",
    "\n",
    "# Display the results in a table\n",
    "print(\"\\n\\tOriginal Data\\n\")\n",
    "print(data.head())\n",
    "print(\"---+---\"*7)\n",
    "results = pd.DataFrame({\n",
    "    'Statistic': ['Mean', 'Median', 'Mode'],\n",
    "    'Score': [mean_score, median_score, mode_score]\n",
    "})\n",
    "\n",
    "print(results)\n"
   ]
  },
  {
   "cell_type": "code",
   "execution_count": null,
   "id": "a238a8c7-b972-484e-bad6-84801040f4f7",
   "metadata": {},
   "outputs": [],
   "source": []
  },
  {
   "cell_type": "code",
   "execution_count": null,
   "id": "24dd84c8-2bf2-4d99-ad5b-bb61a8b337db",
   "metadata": {},
   "outputs": [],
   "source": []
  },
  {
   "cell_type": "code",
   "execution_count": null,
   "id": "c3e07fe3-97be-468c-aa98-819855312fd7",
   "metadata": {},
   "outputs": [],
   "source": []
  },
  {
   "cell_type": "code",
   "execution_count": null,
   "id": "c77fab0b-f885-4c34-ad0e-34f2d00c51b5",
   "metadata": {},
   "outputs": [],
   "source": []
  },
  {
   "cell_type": "code",
   "execution_count": null,
   "id": "e4f5c6cd-2786-4639-83f9-68c23dddf98a",
   "metadata": {},
   "outputs": [],
   "source": []
  }
 ],
 "metadata": {
  "kernelspec": {
   "display_name": "Python 3 (ipykernel)",
   "language": "python",
   "name": "python3"
  },
  "language_info": {
   "codemirror_mode": {
    "name": "ipython",
    "version": 3
   },
   "file_extension": ".py",
   "mimetype": "text/x-python",
   "name": "python",
   "nbconvert_exporter": "python",
   "pygments_lexer": "ipython3",
   "version": "3.10.8"
  }
 },
 "nbformat": 4,
 "nbformat_minor": 5
}
