{
 "cells": [
  {
   "cell_type": "markdown",
   "id": "f11f03bc",
   "metadata": {},
   "source": [
    "Q1. What is Bayes' theorem?\n"
   ]
  },
  {
   "cell_type": "markdown",
   "id": "49e78119",
   "metadata": {},
   "source": [
    "A1. Bayes' theorem is a fundamental concept in probability theory and statistics. It provides a way to update or revise the probability of an event based on new evidence or information. The theorem is named after the Reverend Thomas Bayes, an 18th-century mathematician."
   ]
  },
  {
   "cell_type": "markdown",
   "id": "36eb077b",
   "metadata": {},
   "source": [
    "Q2. What is the formula for Bayes' theorem?\n"
   ]
  },
  {
   "cell_type": "markdown",
   "id": "c6d55afe",
   "metadata": {},
   "source": [
    "A2. The formula for Bayes' theorem is:\n",
    "\n",
    "P(A|B) = (P(B|A) * P(A)) / P(B)\n",
    "\n",
    "where:\n",
    "\n",
    "P(A|B) is the conditional probability of event A given event B.\n",
    "P(B|A) is the conditional probability of event B given event A.\n",
    "P(A) and P(B) are the probabilities of events A and B, respectively."
   ]
  },
  {
   "cell_type": "markdown",
   "id": "5d48b79b",
   "metadata": {},
   "source": [
    "Q3. How is Bayes' theorem used in practice?\n"
   ]
  },
  {
   "cell_type": "markdown",
   "id": "baf3e4ac",
   "metadata": {},
   "source": [
    "A3. Bayes' theorem is used in practice for a wide range of applications, including but not limited to:\n",
    "\n",
    "Bayesian inference: It is used to update the probabilities of hypotheses or parameters based on observed data.\n",
    "Machine learning: It is used in various algorithms, such as Naive Bayes classifiers, to make predictions based on available evidence.\n",
    "Spam filtering: It is used to classify emails as spam or non-spam by analyzing the probabilities of certain words or patterns.\n",
    "Medical diagnosis: It is used to update the probability of a disease given the presence of specific symptoms or test results."
   ]
  },
  {
   "cell_type": "markdown",
   "id": "0aa9700e",
   "metadata": {},
   "source": [
    "Q4. What is the relationship between Bayes' theorem and conditional probability?\n"
   ]
  },
  {
   "cell_type": "markdown",
   "id": "ba7c997d",
   "metadata": {},
   "source": [
    "A4. Bayes' theorem provides a way to calculate conditional probabilities. It relates the conditional probability of event A given event B (P(A|B)) to the conditional probability of event B given event A (P(B|A)) and the individual probabilities of events A (P(A)) and B (P(B)). In other words, Bayes' theorem establishes a relationship between the posterior probability (P(A|B)), the likelihood (P(B|A)), and the prior probability (P(A)).\n"
   ]
  },
  {
   "cell_type": "markdown",
   "id": "030ba5ab",
   "metadata": {},
   "source": [
    "Q5. How do you choose which type of Naive Bayes classifier to use for any given problem?"
   ]
  },
  {
   "cell_type": "markdown",
   "id": "42bad337",
   "metadata": {},
   "source": [
    "A5. The choice of the Naive Bayes classifier depends on the nature of the problem and the characteristics of the data. Here are a few considerations:\n",
    "\n",
    "Gaussian Naive Bayes: This classifier assumes that the features follow a Gaussian (normal) distribution. It is suitable for continuous numerical data.\n",
    "\n",
    "Multinomial Naive Bayes: This classifier is designed for discrete count data or categorical features. It is commonly used for text classification problems where features represent word frequencies.\n",
    "\n",
    "Bernoulli Naive Bayes: This classifier is similar to the multinomial variant but assumes binary features (0 or 1). It is often used for text classification tasks where the presence or absence of words is important.\n",
    "\n",
    "The choice of the Naive Bayes classifier depends on the nature of the features and the assumptions made about their distribution. It is essential to analyze the data and understand the characteristics of the problem to select the appropriate variant."
   ]
  },
  {
   "cell_type": "markdown",
   "id": "7b2224a7",
   "metadata": {},
   "source": [
    "Q6. Assignment:\n",
    "You have a dataset with two features, X1 and X2, and two possible classes, A and B. You want to use Naive\n",
    "Bayes to classify a new instance with features X1 = 3 and X2 = 4. The following table shows the frequency of\n",
    "each feature value for each class:\n",
    "Class X1=1 X1=2 X1=3 X2=1 X2=2 X2=3 X2=4\n",
    "A 3 3 4 4 3 3 3\n",
    "B 2 2 1 2 2 2 3\n",
    "Assuming equal prior probabilities for each class, which class would Naive Bayes predict the new instance\n",
    "to belong to?"
   ]
  },
  {
   "cell_type": "markdown",
   "id": "d96e6209",
   "metadata": {},
   "source": [
    "To predict the class of the new instance using Naive Bayes, we need to calculate the posterior probabilities for each class given the feature values.\n",
    "\n",
    "Given the table with the frequency of each feature value for each class, we can calculate the conditional probabilities P(X1=x1|A), P(X2=x2|A), P(X1=x1|B), and P(X2=x2|B) for each possible feature value.\n",
    "\n",
    "Class A:\n",
    "\n",
    "P(X1=3|A) = 4/13\n",
    "P(X2=4|A) = 3/13\n",
    "Class B:\n",
    "\n",
    "P(X1=3|B) = 1/10\n",
    "P(X2=4|B) = 3/10\n",
    "Since we assume equal prior probabilities for each class, P(A) = P(B) = 0.5.\n",
    "\n",
    "Now, let's calculate the posterior probabilities using Bayes' theorem:\n",
    "\n",
    "P(A|X1=3, X2=4) = (P(X1=3|A) * P(X2=4|A) * P(A)) / (P(X1=3) * P(X2=4))\n",
    "P(B|X1=3, X2=4) = (P(X1=3|B) * P(X2=4|B) * P(B)) / (P(X1=3) * P(X2=4))\n",
    "\n",
    "We can ignore the denominator as it is the same for both classes.\n",
    "\n",
    "P(A|X1=3, X2=4) = (4/13) * (3/13) * 0.5 = 0.0697\n",
    "P(B|X1=3, X2=4) = (1/10) * (3/10) * 0.5 = 0.015\n",
    "\n",
    "Comparing the posterior probabilities, P(A|X1=3, X2=4) is larger than P(B|X1=3, X2=4). Therefore, Naive Bayes would predict the new instance to belong to Class A"
   ]
  },
  {
   "cell_type": "code",
   "execution_count": null,
   "id": "7c9efe23",
   "metadata": {},
   "outputs": [],
   "source": []
  },
  {
   "cell_type": "code",
   "execution_count": null,
   "id": "1b505dbb",
   "metadata": {},
   "outputs": [],
   "source": []
  },
  {
   "cell_type": "code",
   "execution_count": null,
   "id": "035395a7",
   "metadata": {},
   "outputs": [],
   "source": []
  }
 ],
 "metadata": {
  "kernelspec": {
   "display_name": "Python 3 (ipykernel)",
   "language": "python",
   "name": "python3"
  },
  "language_info": {
   "codemirror_mode": {
    "name": "ipython",
    "version": 3
   },
   "file_extension": ".py",
   "mimetype": "text/x-python",
   "name": "python",
   "nbconvert_exporter": "python",
   "pygments_lexer": "ipython3",
   "version": "3.9.13"
  }
 },
 "nbformat": 4,
 "nbformat_minor": 5
}
