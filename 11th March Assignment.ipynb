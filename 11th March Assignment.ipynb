{
 "cells": [
  {
   "cell_type": "markdown",
   "id": "15125e11-6f4a-449b-b4a8-b8fb10d8a879",
   "metadata": {},
   "source": [
    "Q1: What is the difference between a t-test and a z-test? Provide an example scenario where you would\n",
    "use each type of test."
   ]
  },
  {
   "cell_type": "markdown",
   "id": "7656bffc-2a8f-4e9d-a3e7-1e0de4337f8c",
   "metadata": {},
   "source": [
    "The main difference between a t-test and a z-test is that t-tests are used when the sample size is small or when the population variance is unknown, while z-tests are used when the sample size is large and the population variance is known. For example, if a researcher wants to compare the means of two small groups (less than 30 samples) with unknown variances, they would use a t-test. However, if they are comparing the means of two large groups (greater than 30 samples) with known variances, they would use a z-test."
   ]
  },
  {
   "cell_type": "markdown",
   "id": "878adf6f-9b2d-411b-bc59-fd003f047c20",
   "metadata": {},
   "source": [
    "Q2: Differentiate between one-tailed and two-tailed tests."
   ]
  },
  {
   "cell_type": "markdown",
   "id": "01e8f73a-a0e1-403c-b886-26d44b38e89f",
   "metadata": {},
   "source": [
    "One-tailed tests are used when the researcher is only interested in one direction of the hypothesis, while two-tailed tests are used when the researcher is interested in both directions of the hypothesis. In a one-tailed test, the null hypothesis is only rejected if the sample statistic falls in the extreme tail of the distribution, either above or below the mean. In a two-tailed test, the null hypothesis is rejected if the sample statistic falls in either tail of the distribution"
   ]
  },
  {
   "cell_type": "markdown",
   "id": "d967cce1-aa72-4829-87bc-1a9596e21295",
   "metadata": {},
   "source": [
    "Q3: Explain the concept of Type 1 and Type 2 errors in hypothesis testing. Provide an example scenario for\n",
    "each type of error."
   ]
  },
  {
   "cell_type": "markdown",
   "id": "3cfd5f29-44a0-4081-a6f9-eac565c15d7f",
   "metadata": {},
   "source": [
    "Type 1 error occurs when the null hypothesis is rejected even though it is actually true. This is a false positive result. Type 2 error occurs when the null hypothesis is not rejected even though it is false. This is a false negative result. For example, in a medical study, a Type 1 error would be when a drug is approved for use when it actually has harmful side effects. A Type 2 error would be when a drug is not approved for use when it is actually safe and effective."
   ]
  },
  {
   "cell_type": "markdown",
   "id": "27df5cf6-6193-4a32-b791-17909e3d1a7b",
   "metadata": {},
   "source": [
    "Q4: Explain Bayes's theorem with an example."
   ]
  },
  {
   "cell_type": "markdown",
   "id": "369d45ac-9b0a-463f-a2ef-f485d98ae9af",
   "metadata": {},
   "source": [
    "Bayes's theorem is a mathematical formula that describes the probability of an event based on prior knowledge or conditions that might be related to the event. It is used to update the probability of a hypothesis as new evidence is obtained. Bayes's theorem can be written as P(A|B) = P(B|A) x P(A) / P(B), where A and B are events, P(A) is the prior probability of A, P(B|A) is the conditional probability of B given A, P(B) is the prior probability of B, and P(A|B) is the updated probability of A given B.\n",
    "\n",
    "For example, suppose a doctor knows that a particular disease affects 1% of the population, and a new patient comes in with symptoms that are common to the disease. The doctor performs a test that has a false positive rate of 5%, meaning that 5% of healthy people will test positive for the disease. The doctor can use Bayes's theorem to calculate the probability that the patient actually has the disease given the test result"
   ]
  },
  {
   "cell_type": "markdown",
   "id": "cd9f48a0-30cf-4990-a967-a5b478f2e694",
   "metadata": {},
   "source": [
    "Q5: What is a confidence interval? How to calculate the confidence interval, explain with an example."
   ]
  },
  {
   "cell_type": "markdown",
   "id": "a8b9044c-4cc2-4768-85a7-08df4c87f074",
   "metadata": {},
   "source": [
    "A confidence interval is a range of values that is likely to contain an unknown population parameter. The confidence level is the percentage of time that the confidence interval will contain the true parameter value. For example, a 95% confidence interval means that there is a 95% chance that the true parameter value is within the interval.\n",
    "\n",
    "To calculate a confidence interval, you need to know the following:\n",
    "\n",
    "The sample size\n",
    "The sample mean\n",
    "The sample standard deviation\n",
    "The confidence level\n",
    "Once you have this information, you can use the following formula to calculate the confidence interval:\n",
    "Confidence Interval = (Sample Mean ± (Z * Standard Error of the Mean))\n",
    "Where:\n",
    "Z is the Z-score for the desired confidence level\n",
    "Standard Error of the Mean = (Sample Standard Deviation / Square Root of the Sample Size)\n",
    "For example, let's say you want to calculate a 95% confidence interval for the mean height of all adult males in the United States. You randomly sample 100 adult males and find that their mean height is 6 feet tall, with a standard deviation of 3 inches. The Z-score for a 95% confidence interval is 1.96. Therefore, the 95% confidence interval for the mean height of all adult males in the United States is\n",
    "(6 feet ± (1.96 * 3 inches))\n",
    "(5.04 feet to 6.96 feet)\n",
    "This means that we are 95% confident that the true mean height of all adult males in the United States is within the range of 5.04 feet to 6.96 feet.\n",
    "Confidence intervals are a useful tool for estimating unknown population parameters. They allow us to quantify the uncertainty in our estimates and to make more informed decisions about our research."
   ]
  },
  {
   "cell_type": "markdown",
   "id": "3467f639-fa6f-4229-b772-7abb751991b3",
   "metadata": {},
   "source": [
    "Q6. Use Bayes' Theorem to calculate the probability of an event occurring given prior knowledge of the\n",
    "event's probability and new evidence. Provide a sample problem and solution."
   ]
  },
  {
   "cell_type": "markdown",
   "id": "3506964b-c3db-4b90-9d0b-6e2953b9c401",
   "metadata": {},
   "source": [
    "Suppose a company manufactures a certain type of product that has a defect rate of 2%. The company uses a quality control process that is 95% effective in catching defective products, and 99% effective in passing non-defective products. If a product passes the quality control process, what is the probability that it is actually defect-free?\n",
    "To solve this problem using Bayes' theorem, we first define the following events:\n",
    "D: the product is defective\n",
    "~D: the product is not defective\n",
    "P: the product passes the quality control process\n",
    "Solution\n",
    "P(~D|P) = P(P|~D) * P(~D) / P(P)\n",
    "P(P) = P(P|D) * P(D) + P(P|~D) * P(~D)\n",
    "\n",
    "P(D) = 0.02\n",
    "P(~D) = 0.98\n",
    "P(P|D) = 0.05\n",
    "P(P|~D) = 0.99\n",
    "\n",
    "P(P) = P(P|D) * P(D) + P(P|~D) * P(~D)\n",
    "     = 0.05 * 0.02 + 0.99 * 0.98\n",
    "     = 0.9756\n",
    "\n",
    "P(~D|P) = P(P|~D) * P(~D) / P(P)\n",
    "        = 0.99 * 0.98 / 0.9756\n",
    "        = 0.9990\n",
    "Therefore, the probability that a product is not defective given that it passes the quality control process is approximately 0.9990, or 99.90%. This result indicates that if a product passes the quality control process, it is highly likely to be defect-free. However, it is important to note that no quality control process is perfect, and some defective products may still slip through."
   ]
  },
  {
   "cell_type": "code",
   "execution_count": 3,
   "id": "f3de2b46-20bb-4316-ba2c-0d7a1a33e264",
   "metadata": {},
   "outputs": [
    {
     "name": "stdout",
     "output_type": "stream",
     "text": [
      "The probability of the product being defect-free given it passed the quality control process is 0.9990\n"
     ]
    }
   ],
   "source": [
    "# Solution for above with python\n",
    "\n",
    "# Define the prior probabilities and conditional probabilities\n",
    "p_defect = 0.02\n",
    "p_pass_given_defect = 0.05\n",
    "p_not_defect = 0.98\n",
    "p_pass_given_not_defect = 0.99\n",
    "\n",
    "# Calculate the total probability of passing the quality control process\n",
    "p_pass = p_pass_given_defect * p_defect + p_pass_given_not_defect * p_not_defect\n",
    "\n",
    "# Calculate the probability of the product being defect-free given it passed the quality control process\n",
    "p_not_defect_given_pass = (p_pass_given_not_defect * p_not_defect) / p_pass\n",
    "\n",
    "# Print the result\n",
    "print(f\"The probability of the product being defect-free given it passed the quality control process is {p_not_defect_given_pass:.4f}\")"
   ]
  },
  {
   "cell_type": "markdown",
   "id": "c25099ed-ee2a-401a-a05d-1fd70abdd3ec",
   "metadata": {},
   "source": [
    "Q7. Calculate the 95% confidence interval for a sample of data with a mean of 50 and a standard deviation\n",
    "of 5. Interpret the results."
   ]
  },
  {
   "cell_type": "markdown",
   "id": "b01ee327-91cb-4a94-aae8-4763d8240706",
   "metadata": {},
   "source": [
    "Sample Size is not provided in above Question , I am assuming sample size of 50"
   ]
  },
  {
   "cell_type": "code",
   "execution_count": 5,
   "id": "e8a7021c-b9f6-4af0-b2cf-6ce046c79835",
   "metadata": {},
   "outputs": [
    {
     "name": "stdout",
     "output_type": "stream",
     "text": [
      "t statistic for significance level 0.05 , sample size of 50 is : 2.01\n",
      " The 95% confidence interval is (48.58, 51.42)\n"
     ]
    }
   ],
   "source": [
    "import math\n",
    "import scipy.stats as stats\n",
    "\n",
    "# Define the sample mean, standard deviation, and sample size\n",
    "sample_mean = 50\n",
    "sample_std_dev = 5\n",
    "sample_size = 50\n",
    "\n",
    "# Signficance Level\n",
    "alpha = 0.05\n",
    "\n",
    "# Calculate the critical value for a 95% confidence interval\n",
    "t_crit = stats.t.ppf(1-alpha/2, df=sample_size-1)\n",
    "print(f't statistic for significance level {alpha} , sample size of {sample_size} is : {t_crit:.2f}')\n",
    "\n",
    "# Calculate the standard error\n",
    "std_error = sample_std_dev / math.sqrt(sample_size)\n",
    "\n",
    "# Calculate the lower and upper bounds of the confidence interval\n",
    "lower_bound = sample_mean - t_crit * std_error\n",
    "upper_bound = sample_mean + t_crit * std_error\n",
    "\n",
    "# Print the results\n",
    "print(f\" The 95% confidence interval is ({lower_bound:.2f}, {upper_bound:.2f})\")\n"
   ]
  },
  {
   "cell_type": "markdown",
   "id": "b82b0974-65a3-4433-bf28-cdba92316bfb",
   "metadata": {},
   "source": [
    "Above results mean that I can say with 95% condfidence that the POPULATION MEAN Lies in between 48.58 and 51.42"
   ]
  },
  {
   "cell_type": "markdown",
   "id": "6d504190-2055-496a-8b5b-5a4830f291dc",
   "metadata": {},
   "source": [
    "Q8. What is the margin of error in a confidence interval? How does sample size affect the margin of error?\n",
    "Provide an example of a scenario where a larger sample size would result in a smaller margin of error."
   ]
  },
  {
   "cell_type": "markdown",
   "id": "ac61c28c-936b-4bde-9ece-9f469b01fd1b",
   "metadata": {},
   "source": [
    "The margin of error in a confidence interval is the range of values around the sample statistic (such as the sample mean) within which we expect the true population parameter (such as the population mean) to lie with a certain level of confidence. The margin of error is affected by the sample size, level of confidence, and standard deviation of the population.\n",
    "As the sample size increases, the margin of error decreases because larger samples provide more information about the population, and hence the sample statistics are more likely to be representative of the population. The decrease in margin of error with an increase in sample size follows the square root law, which states that the margin of error decreases by the square root of the sample size.\n",
    "For example, suppose we want to estimate the average height of all students in a university using a random sample of students. We take a sample of 50 students and calculate their average height to be 170 cm with a standard deviation of 5 cm. We want to calculate a 95% confidence interval for the true population mean height.\n",
    "Using the formula for the margin of error for a confidence interval, we get:\n",
    "\n",
    "Margin of error = z * (standard deviation / sqrt(sample size))\n",
    "For a 95% confidence interval, the critical z-value is 1.96. So, plugging in the values, we get:\n",
    "\n",
    "Margin of error = 1.96 * (5 / sqrt(50)) = 1.38 cm\n",
    "This means that we are 95% confident that the true population mean height is within 1.38 cm of our sample mean of 170 cm. If we had taken a larger sample size of 200 students, the margin of error would have been:\n",
    "\n",
    "Margin of error = 1.96 * (5 / sqrt(200)) = 0.98 cm\n",
    "So, a larger sample size would result in a smaller margin of error, making our estimate of the true population mean height more precise."
   ]
  },
  {
   "cell_type": "markdown",
   "id": "a08632a9-797c-45c5-bac0-7defebd2aaac",
   "metadata": {},
   "source": [
    "Q9. Calculate the z-score for a data point with a value of 75, a population mean of 70, and a population\n",
    "standard deviation of 5. Interpret the results."
   ]
  },
  {
   "cell_type": "code",
   "execution_count": 6,
   "id": "d0d68637-4e5b-48ac-824a-32a572e4b835",
   "metadata": {},
   "outputs": [
    {
     "name": "stdout",
     "output_type": "stream",
     "text": [
      "The z-score is: 1.0\n"
     ]
    }
   ],
   "source": [
    "# Define the values\n",
    "x = 75  # Data point value\n",
    "mu = 70  # Population mean\n",
    "sigma = 5  # Population standard deviation\n",
    "\n",
    "# Calculate the z-score\n",
    "z = (x - mu) / sigma\n",
    "\n",
    "print(f\"The z-score is: {z}\")"
   ]
  },
  {
   "cell_type": "markdown",
   "id": "fe4ca4ff-896f-4a7f-8a2c-2411d88c6a95",
   "metadata": {},
   "source": [
    "This means that the data point is 1 standard deviation above the population mean. A positive z-score indicates that the data point is above the mean, while a negative z-score indicates that it is below the mean. The magnitude of the z-score tells us how far away the data point is from the mean in terms of standard deviations."
   ]
  },
  {
   "cell_type": "code",
   "execution_count": 7,
   "id": "c25ae670-4db7-48af-8c6d-268fe07a5388",
   "metadata": {},
   "outputs": [
    {
     "name": "stdout",
     "output_type": "stream",
     "text": [
      "The percentage of values below a z-score of 1 is: 84.13%\n"
     ]
    }
   ],
   "source": [
    "from scipy.stats import norm\n",
    "\n",
    "# Calculate the percentage of values below a z-score of 1\n",
    "percent_below = norm.cdf(z) * 100\n",
    "\n",
    "print(f\"The percentage of values below a z-score of 1 is: {percent_below:.2f}%\")"
   ]
  },
  {
   "cell_type": "markdown",
   "id": "f543bed4-225d-4b3b-a5f6-e7ab1c3d972a",
   "metadata": {},
   "source": [
    "A z-score of 1 corresponds to approximately 84.13% of values being below this value in a standard normal distribution."
   ]
  },
  {
   "cell_type": "markdown",
   "id": "fedf6460-f8da-4c00-a71d-4a5a8f352ff0",
   "metadata": {},
   "source": [
    "Q10. In a study of the effectiveness of a new weight loss drug, a sample of 50 participants lost an average\n",
    "of 6 pounds with a standard deviation of 2.5 pounds. Conduct a hypothesis test to determine if the drug is\n",
    "significantly effective at a 95% confidence level using a t-test.Q10. In a study of the effectiveness of a new weight loss drug, a sample of 50 participants lost an average\n",
    "of 6 pounds with a standard deviation of 2.5 pounds. Conduct a hypothesis test to determine if the drug is\n",
    "significantly effective at a 95% confidence level using a t-test."
   ]
  },
  {
   "cell_type": "code",
   "execution_count": 8,
   "id": "524c3860-873e-4b7a-baf7-a472e6a261f1",
   "metadata": {},
   "outputs": [
    {
     "name": "stdout",
     "output_type": "stream",
     "text": [
      "t-statistic: 16.9706\n",
      "p-value: 0.0\n",
      "Reject the null hypothesis. the drug is significantly effective.\n"
     ]
    }
   ],
   "source": [
    "import numpy as np\n",
    "from scipy.stats import t\n",
    "\n",
    "# Null hypothesis: the drug is not significantly effective\n",
    "# Alternative hypothesis: the drug is significantly effective\n",
    "alpha = 0.05  # significance level\n",
    "null_hypothesis = \"the drug is not significantly effective\"\n",
    "alternative_hypothesis = \"the drug is significantly effective\"\n",
    "\n",
    "mu = 0\n",
    "sample_mean = 6\n",
    "sample_std = 2.5\n",
    "n = 50\n",
    "df = n - 1  # degrees of freedom\n",
    "\n",
    "# Calculate the t-score and p-value\n",
    "t_score = (sample_mean - mu) / (sample_std / np.sqrt(n))\n",
    "p_value = 2 * (1 - t.cdf(abs(t_score), df))\n",
    "\n",
    "# Compare p-value with alpha and make a conclusion\n",
    "print(f\"t-statistic: {t_score:.4f}\")\n",
    "print(f\"p-value: {p_value}\")\n",
    "if p_value < alpha:\n",
    "    print(f\"Reject the null hypothesis. {alternative_hypothesis}.\")\n",
    "else:\n",
    "    print(f\"Fail to reject the null hypothesis. {null_hypothesis}.\")"
   ]
  },
  {
   "cell_type": "markdown",
   "id": "6aa051fd-0638-478f-9d3e-74b474c6ed3f",
   "metadata": {},
   "source": [
    "Q11. In a survey of 500 people, 65% reported being satisfied with their current job. Calculate the 95%\n",
    "confidence interval for the true proportion of people who are satisfied with their job."
   ]
  },
  {
   "cell_type": "code",
   "execution_count": 9,
   "id": "3f2e4783-939e-486b-9953-aeb1c34b6bf8",
   "metadata": {},
   "outputs": [
    {
     "name": "stdout",
     "output_type": "stream",
     "text": [
      "The 95% confidence interval for the proportion of people who are satisfied with their job is (60.82%, 69.18%)\n"
     ]
    }
   ],
   "source": [
    "import math\n",
    "\n",
    "p = 0.65  # sample proportion\n",
    "n = 500  # sample size\n",
    "z_alpha = 1.96  # z-score for 95% confidence level\n",
    "\n",
    "# Calculate the standard error\n",
    "se = math.sqrt((p * (1 - p)) / n)\n",
    "\n",
    "# Calculate the margin of error\n",
    "me = z_alpha * se\n",
    "\n",
    "# Calculate the confidence interval\n",
    "lower_bound = p - me\n",
    "upper_bound = p + me\n",
    "\n",
    "# Print the results\n",
    "print(f\"The 95% confidence interval for the proportion of people who are satisfied with their job is ({lower_bound*100:.2f}%, {upper_bound*100:.2f}%)\")"
   ]
  },
  {
   "cell_type": "markdown",
   "id": "1728e8d1-7142-4628-813e-944cc22273da",
   "metadata": {},
   "source": [
    "Q12. A researcher is testing the effectiveness of two different teaching methods on student performance.\n",
    "Sample A has a mean score of 85 with a standard deviation of 6, while sample B has a mean score of 82\n",
    "with a standard deviation of 5. Conduct a hypothesis test to determine if the two teaching methods have a\n",
    "significant difference in student performance using a t-test with a significance level of 0.01."
   ]
  },
  {
   "cell_type": "code",
   "execution_count": 10,
   "id": "4fedec05-bbd9-4a1a-9f19-66d0c2c062f7",
   "metadata": {},
   "outputs": [
    {
     "name": "stdout",
     "output_type": "stream",
     "text": [
      "t-statistic: 2.104\n",
      "Degrees of freedom: 58\n",
      "Critical t-value: 2.663\n",
      "p-value: 0.040\n",
      "Fail to reject null hypothesis.\n",
      "mu1 = mu2 (the means are equal)\n"
     ]
    }
   ],
   "source": [
    "import numpy as np\n",
    "from scipy.stats import t\n",
    "\n",
    "# Sample A\n",
    "x1 = 85\n",
    "s1 = 6\n",
    "n1 = 30\n",
    "\n",
    "# Sample B\n",
    "x2 = 82\n",
    "s2 = 5\n",
    "n2 = 30\n",
    "\n",
    "# Set up null and alternative hypotheses\n",
    "# H0: mu1 = mu2 (the means are equal)\n",
    "# Ha: mu1 != mu2 (the means are not equal)\n",
    "alpha = 0.01\n",
    "null_hypothesis = \"mu1 = mu2 (the means are equal)\"\n",
    "alternative_hypothesis = \"mu1 != mu2 (the means are not equal)\"\n",
    "\n",
    "# Calculate pooled standard deviation\n",
    "sp = np.sqrt(((n1 - 1) * s1 ** 2 + (n2 - 1) * s2 ** 2) / (n1 + n2 - 2))\n",
    "\n",
    "# Calculate t-statistic\n",
    "t_stat = (x1 - x2) / (sp * np.sqrt(1 / n1 + 1 / n2))\n",
    "\n",
    "# Calculate degrees of freedom\n",
    "df = n1 + n2 - 2\n",
    "\n",
    "# Calculate critical t-value\n",
    "t_crit = t.ppf(1-alpha / 2, df)\n",
    "\n",
    "# Calculate p-value\n",
    "p_value = 2 * (1 - t.cdf(abs(t_stat), df))\n",
    "\n",
    "# Print results\n",
    "print(f\"t-statistic: {t_stat:.3f}\")\n",
    "print(f\"Degrees of freedom: {df}\")\n",
    "print(f\"Critical t-value: {t_crit:.3f}\")\n",
    "print(f\"p-value: {p_value:.3f}\")\n",
    "\n",
    "if abs(t_stat) > t_crit:\n",
    "    print(\"Reject null hypothesis.\")\n",
    "    print(alternative_hypothesis)\n",
    "else:\n",
    "    print(\"Fail to reject null hypothesis.\")\n",
    "    print(null_hypothesis)"
   ]
  },
  {
   "cell_type": "markdown",
   "id": "3b089b22-21c1-49cb-b452-8cd5afcc67bb",
   "metadata": {},
   "source": [
    "Q13. A population has a mean of 60 and a standard deviation of 8. A sample of 50 observations has a mean\n",
    "of 65. Calculate the 90% confidence interval for the true population mean."
   ]
  },
  {
   "cell_type": "code",
   "execution_count": 11,
   "id": "7ce82ec4-b035-4dcc-bffa-1042fea4f2a2",
   "metadata": {},
   "outputs": [
    {
     "name": "stdout",
     "output_type": "stream",
     "text": [
      "t statistic for 50 samples with 90% confidence is : 1.6766\n",
      "The 90% confidence interval for the true population mean is (63.103, 66.897)\n"
     ]
    }
   ],
   "source": [
    "import math\n",
    "from scipy.stats import t\n",
    "\n",
    "pop_mean = 60\n",
    "pop_std = 8\n",
    "n = 50\n",
    "sample_mean = 65\n",
    "confidence_level = 0.90\n",
    "\n",
    "# Calculate the t-score\n",
    "t_score = (sample_mean - pop_mean) / (pop_std / math.sqrt(n))\n",
    "\n",
    "# Find the critical t-value\n",
    "df = n - 1\n",
    "t_crit = t.ppf((1+confidence_level)/2, df)\n",
    "print(f't statistic for {n} samples with {confidence_level*100:.0f}% confidence is : {t_crit:.4f}')\n",
    "\n",
    "# Calculate the margin of error\n",
    "margin_of_error = t_crit * (pop_std / math.sqrt(n))\n",
    "\n",
    "# Calculate the confidence interval\n",
    "lower_bound = sample_mean - margin_of_error\n",
    "upper_bound = sample_mean + margin_of_error\n",
    "\n",
    "# Print the results\n",
    "print(f\"The {confidence_level*100:.0f}% confidence interval for the true population mean is ({lower_bound:.3f}, {upper_bound:.3f})\")\n"
   ]
  },
  {
   "cell_type": "markdown",
   "id": "83ae996a-85af-4307-8de9-0814dafb22c4",
   "metadata": {},
   "source": [
    "Q14. In a study of the effects of caffeine on reaction time, a sample of 30 participants had an average\n",
    "reaction time of 0.25 seconds with a standard deviation of 0.05 seconds. Conduct a hypothesis test to\n",
    "determine if the caffeine has a significant effect on reaction time at a 90% confidence level using a t-test."
   ]
  },
  {
   "cell_type": "markdown",
   "id": "470ed9c2-8186-4d9b-8465-a6e5f20417da",
   "metadata": {},
   "source": [
    "In this example popluation mean is not provided\n",
    "According to researchers typical human reaction time is 200ms to 300ms\n",
    "Here i have assumed the population mean as 300ms or 0.3 seconds"
   ]
  },
  {
   "cell_type": "code",
   "execution_count": 13,
   "id": "cd280084-d694-42dc-8dbb-62cccd14a5ec",
   "metadata": {},
   "outputs": [
    {
     "name": "stdout",
     "output_type": "stream",
     "text": [
      "t-statistic: -5.477\n",
      "t-critical value: 1.699\n",
      "90% Confidence Interval: (0.234, 0.266)\n",
      "Reject the null hypothesis\n",
      "Caffeine has a significant effect on reaction time\n"
     ]
    }
   ],
   "source": [
    "import math\n",
    "import scipy.stats as stats\n",
    "\n",
    "# Null Hypothesis: Caffeine has no significant effect on reaction time\n",
    "# Alternative Hypothesis: Caffeine has a significant effect on reaction time\n",
    "null_hypothesis = \"Caffeine has no significant effect on reaction time\"\n",
    "alternative_hypothesis = \"Caffeine has a significant effect on reaction time\"\n",
    "\n",
    "sample_mean = 0.25  # sample mean\n",
    "sample_std_dev = 0.05  # sample standard deviation\n",
    "n = 30  # sample size\n",
    "pop_mean = 0.3  # population mean under null hypothesis\n",
    "alpha = 0.1  # significance level\n",
    "\n",
    "# Calculate the t-statistic\n",
    "t_stat = (sample_mean - pop_mean) / (sample_std_dev / math.sqrt(n))\n",
    "\n",
    "# Calculate the critical t-value\n",
    "t_crit = stats.t.ppf(1-alpha/2, n-1)\n",
    "\n",
    "# Calculate the confidence interval\n",
    "margin_of_error = t_crit * (sample_std_dev / math.sqrt(n))\n",
    "lower_ci = sample_mean - margin_of_error\n",
    "upper_ci = sample_mean + margin_of_error\n",
    "\n",
    "# Print the results\n",
    "print(f\"t-statistic: {t_stat:.3f}\")\n",
    "print(f\"t-critical value: {t_crit:.3f}\")\n",
    "print(f\"90% Confidence Interval: ({lower_ci:.3f}, {upper_ci:.3f})\")\n",
    "\n",
    "# Determine if the null hypothesis should be rejected or not\n",
    "if abs(t_stat) > t_crit:\n",
    "    print(\"Reject the null hypothesis\")\n",
    "    print(alternative_hypothesis)\n",
    "else:\n",
    "    print(\"Fail to reject the null hypothesis\")\n",
    "    print(null_hypothesis)"
   ]
  },
  {
   "cell_type": "code",
   "execution_count": null,
   "id": "76b4534f-25c3-469e-9e24-e6bb1174a2b1",
   "metadata": {},
   "outputs": [],
   "source": []
  },
  {
   "cell_type": "code",
   "execution_count": null,
   "id": "fbf23ef4-a5a9-4f0b-a557-1c7adab4ef11",
   "metadata": {},
   "outputs": [],
   "source": []
  }
 ],
 "metadata": {
  "kernelspec": {
   "display_name": "Python 3 (ipykernel)",
   "language": "python",
   "name": "python3"
  },
  "language_info": {
   "codemirror_mode": {
    "name": "ipython",
    "version": 3
   },
   "file_extension": ".py",
   "mimetype": "text/x-python",
   "name": "python",
   "nbconvert_exporter": "python",
   "pygments_lexer": "ipython3",
   "version": "3.10.8"
  }
 },
 "nbformat": 4,
 "nbformat_minor": 5
}
