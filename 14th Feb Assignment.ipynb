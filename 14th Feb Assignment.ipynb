{
 "cells": [
  {
   "cell_type": "markdown",
   "id": "a105eda5-3035-4077-8ffe-ca8b749fdf50",
   "metadata": {},
   "source": [
    "Q1: What is multithreading in Python, why is it used, and what module is used to handle threads in Python?"
   ]
  },
  {
   "cell_type": "markdown",
   "id": "fc287658-fba8-4fc5-bfb4-ff6317e5a4e5",
   "metadata": {},
   "source": [
    "Multithreading is a technique used in programming to enable the concurrent execution of multiple threads in a single process. In Python, multithreading is used to achieve parallelism, where multiple threads execute code simultaneously to perform tasks faster and more efficiently.\n",
    "\n",
    "Multithreading is particularly useful in scenarios where certain tasks can be run concurrently without depending on each other's results. For example, if you have a web server that receives many requests at the same time, you can use multithreading to handle multiple requests simultaneously, which can significantly improve the server's performance.\n",
    "\n",
    "Python provides a built-in threading module to handle threads. The threading module allows you to create, start, and stop threads, as well as synchronize threads and protect shared resources from race conditions. It also provides useful tools such as locks, events, conditions, and semaphores that can be used to coordinate threads and avoid conflicts.\n",
    "\n",
    "Here's an example of how to create and start a new thread using the threading module in Python:"
   ]
  },
  {
   "cell_type": "code",
   "execution_count": 1,
   "id": "e49ef8f2-f8b7-4a4f-a3a3-0a1d20c97cf5",
   "metadata": {},
   "outputs": [
    {
     "name": "stdout",
     "output_type": "stream",
     "text": [
      "Starting worker thread...\n",
      "Worker thread finished.\n",
      "Main program finished.\n"
     ]
    }
   ],
   "source": [
    "import threading\n",
    "\n",
    "# Define a function to be run in a new thread\n",
    "def worker():\n",
    "    print(\"Starting worker thread...\")\n",
    "    # Do some work...\n",
    "    print(\"Worker thread finished.\")\n",
    "\n",
    "# Create a new thread and start it\n",
    "t = threading.Thread(target=worker)\n",
    "t.start()\n",
    "\n",
    "# Wait for the thread to finish before exiting the main program\n",
    "t.join()\n",
    "\n",
    "print(\"Main program finished.\")\n"
   ]
  },
  {
   "cell_type": "markdown",
   "id": "9e815190-25fe-44f5-82d7-24d8f142b609",
   "metadata": {},
   "source": [
    "This code defines a function called worker that will be executed in a new thread. The threading.Thread class is used to create a new thread, passing the worker function as the target to be executed in the new thread. The start method is then called on the new thread object to start the thread. Finally, the join method is called to wait for the thread to finish before continuing with the main program."
   ]
  },
  {
   "cell_type": "markdown",
   "id": "5623d272-1f6d-469a-bba8-5f205e857478",
   "metadata": {},
   "source": [
    "Q2: Why is the threading module used, and what is the use of the following functions: activeCount(), currentThread(), enumerate()?"
   ]
  },
  {
   "cell_type": "markdown",
   "id": "adb993c8-ba5b-4e5b-9f6c-2b6957be03bb",
   "metadata": {},
   "source": [
    "The threading module in Python is used to create and manage threads. It provides a simple and intuitive API for working with threads, and also includes a number of synchronization primitives, such as locks and semaphores, to help manage shared resources and prevent race conditions.\n",
    "\n",
    "Here are the uses of the following functions in the threading module:\n",
    "\n",
    "activeCount(): Returns the number of active threads in the current thread's thread pool. This includes the main thread, as well as any child threads that have been started with the start() method.\n",
    "\n",
    "currentThread(): Returns a reference to the current thread object.\n",
    "\n",
    "enumerate(): Returns a list of all active thread objects in the current thread's thread pool.\n",
    "\n",
    "Here's an example of how to use these functions:\n",
    "\n"
   ]
  },
  {
   "cell_type": "code",
   "execution_count": 2,
   "id": "16cf45a8-6433-4e45-8912-c44bd99fe1ba",
   "metadata": {},
   "outputs": [
    {
     "name": "stdout",
     "output_type": "stream",
     "text": [
      "Starting worker thread...\n",
      "Active threads:  9\n",
      "Current thread:  <Thread(Thread-6 (worker), started 139750769940032)>\n",
      "Thread pool:  [<_MainThread(MainThread, started 139751333906240)>, <Thread(IOPub, started daemon 139751189378624)>, <Heartbeat(Heartbeat, started daemon 139751180985920)>, <Thread(Thread-3 (_watch_pipe_fd), started daemon 139751155807808)>, <Thread(Thread-4 (_watch_pipe_fd), started daemon 139751147415104)>, <ControlThread(Control, started daemon 139751139022400)>, <HistorySavingThread(IPythonHistorySavingThread, started 139750786725440)>, <ParentPollerUnix(Thread-2, started daemon 139750778332736)>, <Thread(Thread-6 (worker), started 139750769940032)>]\n",
      "Worker thread finished.\n",
      "Main program finished.\n"
     ]
    },
    {
     "name": "stderr",
     "output_type": "stream",
     "text": [
      "/tmp/ipykernel_77/783383455.py:6: DeprecationWarning: activeCount() is deprecated, use active_count() instead\n",
      "  print(\"Active threads: \", threading.activeCount())\n",
      "/tmp/ipykernel_77/783383455.py:7: DeprecationWarning: currentThread() is deprecated, use current_thread() instead\n",
      "  print(\"Current thread: \", threading.currentThread())\n"
     ]
    }
   ],
   "source": [
    "import threading\n",
    "\n",
    "# Define a function to be run in a new thread\n",
    "def worker():\n",
    "    print(\"Starting worker thread...\")\n",
    "    print(\"Active threads: \", threading.activeCount())\n",
    "    print(\"Current thread: \", threading.currentThread())\n",
    "    print(\"Thread pool: \", threading.enumerate())\n",
    "    print(\"Worker thread finished.\")\n",
    "\n",
    "# Create a new thread and start it\n",
    "t = threading.Thread(target=worker)\n",
    "t.start()\n",
    "\n",
    "# Wait for the thread to finish before exiting the main program\n",
    "t.join()\n",
    "\n",
    "print(\"Main program finished.\")\n"
   ]
  },
  {
   "cell_type": "markdown",
   "id": "4c111703-bfba-4b44-850c-77e3dc6e8cbd",
   "metadata": {},
   "source": [
    "Q3: Explain the following functions in the threading module: run(), start(), join(), isAlive()."
   ]
  },
  {
   "cell_type": "markdown",
   "id": "ec0d871e-2dac-4901-a171-1a9b1b7cb97d",
   "metadata": {},
   "source": [
    "run(): This method is called when a new thread is started using the start() method. It is used to define the code that will be executed in the new thread.\n",
    "\n",
    "start(): This method is used to start a new thread. It calls the run() method in the new thread.\n",
    "\n",
    "join(): This method is used to wait for a thread to finish before continuing with the main program. It blocks the main program until the thread has completed execution.\n",
    "\n",
    "isAlive(): This method returns True if the thread is currently running, and False otherwise.\n",
    "\n",
    "Here's an example of how to use these functions:"
   ]
  },
  {
   "cell_type": "code",
   "execution_count": null,
   "id": "dccae20c-8b23-40e1-8473-30b9d43b2347",
   "metadata": {},
   "outputs": [],
   "source": [
    "import threading\n",
    "\n",
    "# Define a subclass of threading.Thread\n",
    "class MyThread(threading.Thread):\n",
    "    \n",
    "    def __init__(self, name):\n",
    "        super().__init__(name=name)\n",
    "        \n",
    "    # Override the run() method\n",
    "    def run(self):\n",
    "        print(f\"Thread {self.name} starting...\")\n",
    "        # Do some work...\n",
    "        print(f\"Thread {self.name} finished.\")\n",
    "\n",
    "# Create two new threads\n",
    "t1 = MyThread(\"Thread 1\")\n",
    "t2 = MyThread(\"Thread 2\")\n",
    "\n",
    "# Start the threads\n",
    "t1.start()\n",
    "t2.start()\n",
    "\n",
    "# Wait for the threads to finish\n",
    "t1.join()\n",
    "t2.join()\n",
    "\n",
    "print(\"Main program finished.\")\n"
   ]
  },
  {
   "cell_type": "markdown",
   "id": "d42da8c1-fe93-48d0-989f-d42b6c67e9d4",
   "metadata": {},
   "source": [
    "Q4: Write a Python program to create two threads. Thread one must print the list of squares and thread two must print the list of cubes."
   ]
  },
  {
   "cell_type": "code",
   "execution_count": 3,
   "id": "cb4e2582-de55-439b-b8f0-b2b543ae8696",
   "metadata": {},
   "outputs": [
    {
     "name": "stdout",
     "output_type": "stream",
     "text": [
      "0\n",
      "1\n",
      "4\n",
      "9\n",
      "16\n",
      "25\n",
      "36\n",
      "49\n",
      "64\n",
      "81\n",
      "0\n",
      "1\n",
      "8\n",
      "27\n",
      "64\n",
      "125\n",
      "216\n",
      "343\n",
      "512\n",
      "729\n",
      "Main program finished.\n"
     ]
    }
   ],
   "source": [
    "import threading\n",
    "\n",
    "def print_squares(n):\n",
    "    for i in range(n):\n",
    "        print(i**2)\n",
    "\n",
    "def print_cubes(n):\n",
    "    for i in range(n):\n",
    "        print(i**3)\n",
    "\n",
    "# Create two threads\n",
    "t1 = threading.Thread(target=print_squares, args=(10,))\n",
    "t2 = threading.Thread(target=print_cubes, args=(10,))\n",
    "\n",
    "# Start the threads\n",
    "t1.start()\n",
    "t2.start()\n",
    "\n",
    "# Wait for the threads to finish\n",
    "t1.join()\n",
    "t2.join()\n",
    "\n",
    "print(\"Main program finished.\")\n"
   ]
  },
  {
   "cell_type": "markdown",
   "id": "1c73a9db-7fe0-4857-8ed7-2e2edf54c08a",
   "metadata": {},
   "source": [
    "Q5: State the advantages and disadvantages of multithreading."
   ]
  },
  {
   "cell_type": "markdown",
   "id": "8282323f-0176-46d7-bce1-ed2c096ee8db",
   "metadata": {},
   "source": [
    "Advantages of Multithreading:\n",
    "Increased performance: Multithreading allows multiple tasks to be executed simultaneously, which can improve the overall performance of the program.\n",
    "Better resource utilization: Multithreading allows multiple threads to share the same resources, such as memory and I/O devices, which can improve the efficiency of the program.\n",
    "Improved responsiveness: Multithreading can improve the responsiveness of a program by allowing it to handle multiple tasks at the same time, rather than waiting for one task to finish before starting another.\n",
    "Disadvantages of Multithreading:\n",
    "Increased complexity: Multithreaded programs can be more difficult to design, implement, and debug than single-threaded programs, due to the need for synchronization and communication between threads.\n",
    "Increased resource usage: Multithreading can increase the usage of system resources, such as memory and CPU time, which can impact the performance of other programs running on the same system.\n",
    "Increased risk of errors: Multithreading can introduce synchronization errors, such as race conditions and deadlocks, which can be difficult to detect and debug.\n"
   ]
  },
  {
   "cell_type": "markdown",
   "id": "994d7146-31e1-47aa-b891-4a8d0801d69e",
   "metadata": {},
   "source": [
    "Q6: Explain deadlocks and race conditions."
   ]
  },
  {
   "cell_type": "markdown",
   "id": "05d3768a-2730-4ffa-aba7-f0c7753bc69d",
   "metadata": {},
   "source": [
    "Deadlocks:\n",
    "A deadlock is a situation that can occur in a multithreaded program when two or more threads are waiting for each other to release a resource that they need in order to continue executing. This can result in a situation where none of the threads can make progress, and the program becomes stuck.\n",
    "\n",
    "For example, consider two threads, A and B, each of which holds a lock on a different resource that the other thread needs. If both threads try to acquire the lock that the other thread is holding, they will become deadlocked, as neither thread can make progress until the other releases its lock.\n",
    "\n",
    "Race conditions:\n",
    "A race condition is a situation that can occur in a multithreaded program when multiple threads are accessing and modifying shared resources, such as variables or files, without proper synchronization. This can result in unpredictable behavior and data corruption, as the order of operations between the threads is not guaranteed.\n",
    "\n",
    "For example, consider two threads, A and B, both of which are incrementing a shared counter variable. If both threads read the current value of the counter, increment it, and write the new value back to the counter without proper synchronization, they may overwrite each other's changes, resulting in an incorrect final value for the counter. This is a race condition. To avoid race conditions, proper synchronization mechanisms, such as locks or semaphores, should be used to ensure that only one thread can access the shared resource at a time.\n",
    "\n",
    "\n",
    "\n"
   ]
  },
  {
   "cell_type": "code",
   "execution_count": null,
   "id": "88802be1-873f-422b-b75e-19c57f3f70a6",
   "metadata": {},
   "outputs": [],
   "source": []
  },
  {
   "cell_type": "code",
   "execution_count": null,
   "id": "e5d5644c-1a9a-406d-8a98-585acf049c89",
   "metadata": {},
   "outputs": [],
   "source": []
  },
  {
   "cell_type": "code",
   "execution_count": null,
   "id": "71c05879-b608-46fb-a173-5deb448c57cf",
   "metadata": {},
   "outputs": [],
   "source": []
  },
  {
   "cell_type": "code",
   "execution_count": null,
   "id": "75364bbd-d770-4495-8db5-7a3f8a20a2fc",
   "metadata": {},
   "outputs": [],
   "source": []
  }
 ],
 "metadata": {
  "kernelspec": {
   "display_name": "Python 3 (ipykernel)",
   "language": "python",
   "name": "python3"
  },
  "language_info": {
   "codemirror_mode": {
    "name": "ipython",
    "version": 3
   },
   "file_extension": ".py",
   "mimetype": "text/x-python",
   "name": "python",
   "nbconvert_exporter": "python",
   "pygments_lexer": "ipython3",
   "version": "3.10.8"
  }
 },
 "nbformat": 4,
 "nbformat_minor": 5
}
