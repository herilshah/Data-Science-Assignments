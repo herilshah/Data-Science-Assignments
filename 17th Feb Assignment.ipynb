{
 "cells": [
  {
   "cell_type": "code",
   "execution_count": null,
   "id": "44ed36f8-fc48-4e84-af4c-a220c7ba9d30",
   "metadata": {},
   "outputs": [],
   "source": [
    "#Q1. What is MongoDB? Explain non-relational databases in short. In which scenarios it is preferred to use MongoDB over SQL databases?"
   ]
  },
  {
   "cell_type": "markdown",
   "id": "b6dde686-da52-4d30-b00b-b56818369882",
   "metadata": {},
   "source": [
    "MongoDB is a popular open-source document-oriented NoSQL database that provides high scalability and performance for handling large amounts of unstructured data. Unlike traditional SQL databases, which store data in rows and columns of tables, MongoDB stores data in flexible JSON-like documents with dynamic schemas. This allows for faster and more flexible data modeling, as well as easier integration with modern web development technologies.\n",
    "\n",
    "Non-relational databases, also known as NoSQL databases, are designed to handle unstructured data that cannot be easily organized into tables and columns. NoSQL databases provide a flexible data model that can handle a wide variety of data types, including semi-structured and unstructured data. They are particularly well-suited for handling large amounts of data, as well as for real-time applications that require low latency and high availability.\n",
    "\n",
    "MongoDB is preferred over SQL databases in scenarios where:\n",
    "\n",
    "The data being stored is unstructured or semi-structured, and does not fit neatly into a table-based schema\n",
    "The application requires high scalability and performance, and needs to handle large amounts of data\n",
    "The application needs to store and process complex data structures, such as geospatial data or time series data\n",
    "The application needs to be integrated with modern web development technologies, such as Node.js or AngularJS"
   ]
  },
  {
   "cell_type": "code",
   "execution_count": null,
   "id": "0f960f0f-def2-4217-88fe-d466c30ba5d2",
   "metadata": {},
   "outputs": [],
   "source": [
    "#Q2. State and Explain the features of MongoDB."
   ]
  },
  {
   "cell_type": "markdown",
   "id": "b05035d1-d44c-49d2-a5ae-321e82ab105e",
   "metadata": {},
   "source": [
    "Some of the key features of MongoDB are:\n",
    "\n",
    "Document-Oriented: MongoDB is a document-oriented database, which means that it stores data in flexible JSON-like documents instead of tables and rows.\n",
    "High Scalability and Performance: MongoDB is designed to handle large amounts of data and high query loads, and provides automatic sharding and replication for high availability.\n",
    "Dynamic Schemas: MongoDB has a flexible schema design that allows for dynamic and evolving data models.\n",
    "Querying and Indexing: MongoDB provides powerful querying and indexing capabilities, including support for ad-hoc queries, text search, and geospatial queries.\n",
    "Aggregation Framework: MongoDB includes a powerful aggregation framework for performing complex data processing tasks on large data sets.\n",
    "Native JSON Support: MongoDB supports JSON natively, making it easy to work with data in modern web development languages such as JavaScript and Node.js.\n",
    "Built-in Security: MongoDB provides robust security features, including authentication, authorization, and encryption.\n",
    "Rich Data Model: MongoDB supports a wide range of data types, including arrays, embedded documents, and geospatial data.\n",
    "Open Source: MongoDB is an open-source database, which means that it is free to use and can be customized and extended as needed."
   ]
  },
  {
   "cell_type": "code",
   "execution_count": null,
   "id": "b8b3f2e4-475b-4501-a8df-ac2db2450eac",
   "metadata": {},
   "outputs": [],
   "source": [
    "#Q3. Write a code to connect MongoDB to Python. Also, create a database and a collection in MongoDB."
   ]
  },
  {
   "cell_type": "markdown",
   "id": "ec6a9d80-31f3-4ec8-a42d-09b51f7edc56",
   "metadata": {},
   "source": [
    "To connect to MongoDB in Python, you can use the PyMongo library. Here's an example code snippet to connect to MongoDB, create a database named \"mydatabase\", and a collection named \"customers\":"
   ]
  },
  {
   "cell_type": "code",
   "execution_count": null,
   "id": "bddcf007-710d-4692-a325-b72273735503",
   "metadata": {},
   "outputs": [],
   "source": [
    "import pymongo\n",
    "\n",
    "# Create a client instance of MongoDB\n",
    "myclient = pymongo.MongoClient(\"mongodb://localhost:27017/\")\n",
    "\n",
    "# Create a database named \"mydatabase\"\n",
    "mydb = myclient[\"mydatabase\"]\n",
    "\n",
    "# Create a collection named \"customers\"\n",
    "mycol = mydb[\"customers\"]\n",
    "#In the above code, we create a client instance of MongoDB using the PyMongo library and connect to a local MongoDB server running on port 27017.\n",
    "#We then create a database named \"mydatabase\" and a collection named \"customers\" using the corresponding methods provided by the PyMongo library."
   ]
  },
  {
   "cell_type": "code",
   "execution_count": null,
   "id": "f83c098e-7e4f-41e5-a715-ae7445fce58d",
   "metadata": {},
   "outputs": [],
   "source": [
    "#Q4. Using the database and the collection created in question number 3, write a code to insert one record, and insert many records. Use the find() and find_one() methods to print the inserted record."
   ]
  },
  {
   "cell_type": "code",
   "execution_count": null,
   "id": "64638c4a-f86b-4f6b-b80f-a6d44a64adca",
   "metadata": {},
   "outputs": [],
   "source": [
    "# import the required libraries\n",
    "from pymongo import MongoClient\n",
    "\n",
    "# connect to MongoDB\n",
    "client = MongoClient('mongodb://localhost:27017/')\n",
    "\n",
    "# access the mydatabase database and mycollection collection\n",
    "db = client['mydatabase']\n",
    "collection = db['mycollection']\n",
    "\n",
    "# insert one record\n",
    "document_one = {\"name\": \"Alice\", \"age\": 25, \"email\": \"alice@example.com\"}\n",
    "collection.insert_one(document_one)\n",
    "\n",
    "# insert many records\n",
    "document_many = [\n",
    "    {\"name\": \"Bob\", \"age\": 30, \"email\": \"bob@example.com\"},\n",
    "    {\"name\": \"Charlie\", \"age\": 35, \"email\": \"charlie@example.com\"},\n",
    "    {\"name\": \"David\", \"age\": 40, \"email\": \"david@example.com\"}\n",
    "]\n",
    "collection.insert_many(document_many)\n",
    "\n",
    "# print the inserted record using find_one()\n",
    "record = collection.find_one({\"name\": \"Alice\"})\n",
    "print(\"One record:\")\n",
    "print(record)\n",
    "\n",
    "# print the inserted records using find()\n",
    "records = collection.find({\"age\": {\"$gte\": 30}})\n",
    "print(\"Many records:\")\n",
    "for record in records:\n",
    "    print(record)"
   ]
  },
  {
   "cell_type": "markdown",
   "id": "af6a105a-f669-42b9-82bf-674546f4ae1d",
   "metadata": {},
   "source": [
    "In this code snippet, we first connect to the mydatabase database and mycollection collection using the MongoClient class.\n",
    "\n",
    "We then insert one record into the mycollection collection using the insert_one() method, and insert many records using the insert_many() method.\n",
    "\n",
    "We then use the find_one() method to retrieve the record with name equal to \"Alice\", and print it to the console. We also use the find() method to retrieve all records with age greater than or equal to 30, and print them to the console.\n",
    "\n",
    "Note that the find() method returns a cursor object, which can be used to iterate over the returned documents."
   ]
  },
  {
   "cell_type": "code",
   "execution_count": null,
   "id": "a42d3c10-646f-4539-996c-4c8f63b2b072",
   "metadata": {},
   "outputs": [],
   "source": [
    "#Q5. Explain how you can use the find() method to query the MongoDB database. Write a simple code to demonstrate this."
   ]
  },
  {
   "cell_type": "markdown",
   "id": "71548383-89a9-47e0-a832-dcb2168de6f8",
   "metadata": {},
   "source": [
    "The find() method is used to query the MongoDB database. It returns a cursor object that can be used to iterate over the documents that match the query criteria. The find() method takes a query object as a parameter which is used to filter the documents.The find() method is used to query the MongoDB database. It returns a cursor object that can be used to iterate over the documents that match the query criteria. The find() method takes a query object as a parameter which is used to filter the documents."
   ]
  },
  {
   "cell_type": "code",
   "execution_count": null,
   "id": "45d5b186-b9a2-49a4-ab77-4ef39ff22116",
   "metadata": {},
   "outputs": [],
   "source": [
    "import pymongo\n",
    "\n",
    "# Connect to MongoDB\n",
    "client = pymongo.MongoClient(\"mongodb://localhost:27017/\")\n",
    "\n",
    "# Get the database\n",
    "mydb = client[\"mydatabase\"]\n",
    "\n",
    "# Get the collection\n",
    "mycol = mydb[\"customers\"]\n",
    "\n",
    "# Find all the documents in the collection\n",
    "docs = mycol.find()\n",
    "\n",
    "# Print the documents\n",
    "for doc in docs:\n",
    "    print(doc)\n"
   ]
  },
  {
   "cell_type": "markdown",
   "id": "a49c2559-ad82-4a1b-828d-a02717e78a96",
   "metadata": {},
   "source": [
    "In this example, we first connect to MongoDB, get the database and collection, and then use the find() method to retrieve all the documents in the collection. We then iterate over the cursor object and print each document."
   ]
  },
  {
   "cell_type": "code",
   "execution_count": null,
   "id": "aa3b0c63-33b7-4234-b1ec-d85f290225c0",
   "metadata": {},
   "outputs": [],
   "source": [
    "#Q6. Explain the sort() method. Give an example to demonstrate sorting in MongoDB."
   ]
  },
  {
   "cell_type": "markdown",
   "id": "e846b597-ca3f-45d0-9bf7-2e7effac684b",
   "metadata": {},
   "source": [
    "The sort() method is used to sort the documents in a collection based on a specified field. It takes a field name and a sorting order as parameters. The sorting order can be either 1 for ascending order or -1 for descending order.\n",
    "\n"
   ]
  },
  {
   "cell_type": "code",
   "execution_count": null,
   "id": "a626e707-b6d5-4454-8663-0a74a54ff904",
   "metadata": {},
   "outputs": [],
   "source": [
    "import pymongo\n",
    "\n",
    "# Connect to MongoDB\n",
    "client = pymongo.MongoClient(\"mongodb://localhost:27017/\")\n",
    "\n",
    "# Get the database\n",
    "mydb = client[\"mydatabase\"]\n",
    "\n",
    "# Get the collection\n",
    "mycol = mydb[\"customers\"]\n",
    "\n",
    "# Sort the documents by name in ascending order\n",
    "docs = mycol.find().sort(\"name\", 1)\n",
    "\n",
    "# Print the documents\n",
    "for doc in docs:\n",
    "    print(doc)\n"
   ]
  },
  {
   "cell_type": "markdown",
   "id": "977762e8-37df-432f-bede-9e7408754e98",
   "metadata": {},
   "source": [
    "In this example, we first connect to MongoDB, get the database and collection, and then use the sort() method to sort the documents by name in ascending order. We then iterate over the cursor object and print each document."
   ]
  },
  {
   "cell_type": "code",
   "execution_count": null,
   "id": "f2ad3455-e8c1-4e96-881b-d1c4b1e4e479",
   "metadata": {},
   "outputs": [],
   "source": [
    "#Q7. Explain why delete_one(), delete_many(), and drop() is used."
   ]
  },
  {
   "cell_type": "markdown",
   "id": "c48b79bf-b178-447d-82b1-d5cb496c77ef",
   "metadata": {},
   "source": [
    "n MongoDB, the delete_one() and delete_many() methods are used to remove one or multiple documents from a collection, respectively. The drop() method, on the other hand, is used to completely remove a collection from the database.\n",
    "\n",
    "Here's an explanation of each of these methods:\n",
    "\n",
    "1)delete_one(): This method is used to remove a single document from a collection. It takes a dictionary as its parameter, which specifies the criteria to match for the document to be deleted. If multiple documents match the criteria, only the first one will be deleted.\n",
    "\n",
    "2)delete_many(): This method is used to remove multiple documents from a collection. Like delete_one(), it takes a dictionary as its parameter to specify the criteria for matching documents. All documents that match the criteria will be deleted.\n",
    "\n",
    "3)drop(): This method is used to completely remove a collection from the database. It does not take any parameters and will delete all documents in the collection. Once a collection has been dropped, it cannot be recovered.\n",
    "\n",
    "These methods are used to modify the data stored in a MongoDB database. delete_one() and delete_many() can be used to remove specific documents that match certain criteria, while drop() is used to remove entire collections. These methods are useful when you need to remove unwanted data from your database or start fresh with a new collection. It is important to use these methods carefully, however, as they can permanently delete data from your database."
   ]
  },
  {
   "cell_type": "code",
   "execution_count": null,
   "id": "bc91c9f5-3c43-472a-ae3e-70fd51a8d776",
   "metadata": {},
   "outputs": [],
   "source": []
  },
  {
   "cell_type": "code",
   "execution_count": null,
   "id": "72aa47f0-2b0d-44a6-af18-51da3e74fa54",
   "metadata": {},
   "outputs": [],
   "source": []
  },
  {
   "cell_type": "code",
   "execution_count": null,
   "id": "fe26df6a-dcbf-4d36-b08d-120a30f77811",
   "metadata": {},
   "outputs": [],
   "source": []
  },
  {
   "cell_type": "code",
   "execution_count": null,
   "id": "b7a3d500-2e7d-4edd-b105-a6df79e1a21d",
   "metadata": {},
   "outputs": [],
   "source": []
  },
  {
   "cell_type": "code",
   "execution_count": null,
   "id": "225fe0cb-8907-4e89-b146-e3eb1df38ac9",
   "metadata": {},
   "outputs": [],
   "source": []
  },
  {
   "cell_type": "code",
   "execution_count": null,
   "id": "6f122f03-a454-483c-a83f-2b2f62087fbe",
   "metadata": {},
   "outputs": [],
   "source": []
  }
 ],
 "metadata": {
  "kernelspec": {
   "display_name": "Python 3 (ipykernel)",
   "language": "python",
   "name": "python3"
  },
  "language_info": {
   "codemirror_mode": {
    "name": "ipython",
    "version": 3
   },
   "file_extension": ".py",
   "mimetype": "text/x-python",
   "name": "python",
   "nbconvert_exporter": "python",
   "pygments_lexer": "ipython3",
   "version": "3.10.8"
  }
 },
 "nbformat": 4,
 "nbformat_minor": 5
}
