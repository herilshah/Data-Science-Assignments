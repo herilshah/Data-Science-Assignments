{
 "cells": [
  {
   "cell_type": "markdown",
   "id": "76048592-5376-4655-95dd-092d8cbae1cb",
   "metadata": {},
   "source": [
    "Q1. Is there any difference in the data type of variables list_ and array_list? If there is then write a code\n",
    "to print the data types of both the variables."
   ]
  },
  {
   "cell_type": "markdown",
   "id": "0e0243b4-4571-482c-9a92-d68bb464ae0d",
   "metadata": {},
   "source": [
    "Yes, there is a difference in the data type of the variables list_ and array_list.\n",
    "\n",
    "list_ is a Python list that contains string objects, while array_list is a NumPy array that also contains string objects. However, the data type of the objects in array_list is different from the data type of objects in list_.\n",
    "The objects in list_ are of type str, while the objects in array_list are of type numpy.str_.\n",
    "\n",
    "Here is the code to print the data types of both the variables:m"
   ]
  },
  {
   "cell_type": "code",
   "execution_count": 4,
   "id": "938f35c7-0f92-42b9-80f5-1a80b064c698",
   "metadata": {},
   "outputs": [
    {
     "name": "stdout",
     "output_type": "stream",
     "text": [
      "Data type of list_: <class 'list'>\n",
      "Data type of data in list_: <class 'str'>\n",
      "Data type of array_list: <class 'numpy.ndarray'>\n",
      "Data type of data in  array_list: <class 'numpy.str_'>\n"
     ]
    }
   ],
   "source": [
    "import numpy as np\n",
    "\n",
    "list_ = ['1', '2', '3', '4', '5']\n",
    "array_list = np.array(object=list_)\n",
    "\n",
    "print(\"Data type of list_:\", type(list_))\n",
    "print(\"Data type of data in list_:\", type(list_[0]))\n",
    "print(\"Data type of array_list:\", type(array_list))\n",
    "print(\"Data type of data in  array_list:\", type(array_list[0]))"
   ]
  },
  {
   "cell_type": "markdown",
   "id": "d6c740ed-10f0-4de6-9856-3a3201c77c0d",
   "metadata": {},
   "source": [
    "Q2. Write a code to print the data type of each and every element of both the variables list_ and arra_list."
   ]
  },
  {
   "cell_type": "code",
   "execution_count": 5,
   "id": "712230fa-4e70-4b56-b446-2fd1e82720f9",
   "metadata": {},
   "outputs": [
    {
     "name": "stdout",
     "output_type": "stream",
     "text": [
      "Data type of 1 in _list is <class 'str'>\n",
      "Data type of 2 in _list is <class 'str'>\n",
      "Data type of 3 in _list is <class 'str'>\n",
      "Data type of 4 in _list is <class 'str'>\n",
      "Data type of 5 in _list is <class 'str'>\n",
      "\n",
      "Data type of 1 in array_list is <class 'numpy.str_'>\n",
      "Data type of 2 in array_list is <class 'numpy.str_'>\n",
      "Data type of 3 in array_list is <class 'numpy.str_'>\n",
      "Data type of 4 in array_list is <class 'numpy.str_'>\n",
      "Data type of 5 in array_list is <class 'numpy.str_'>\n"
     ]
    }
   ],
   "source": [
    "import numpy as np\n",
    "\n",
    "list_ = ['1', '2', '3', '4', '5']\n",
    "array_list = np.array(object=list_)\n",
    "\n",
    "#Printing data types of all element in list_\n",
    "for ele in list_:\n",
    "    print(f\"Data type of {ele} in _list is {type(ele)}\")\n",
    "    \n",
    "print()\n",
    "\n",
    "#Printing data types of all element in array_list\n",
    "for ele in array_list:\n",
    "     print(f\"Data type of {ele} in array_list is {type(ele)}\")\n"
   ]
  },
  {
   "cell_type": "markdown",
   "id": "1f2d75b9-de56-4139-8813-997576a2aa46",
   "metadata": {},
   "source": [
    "Q3. Considering the following changes in the variable, array_list:\n",
    "array_list = np.array(object = list_, dtype = int)\n",
    "Will there be any difference in the data type of the elements present in both the variables, list_ and array_list? If so then print the data types of each and every element present in both the variables, list_and arra_list."
   ]
  },
  {
   "cell_type": "markdown",
   "id": "dd01df79-0aeb-4527-9d46-a504ad25213d",
   "metadata": {},
   "source": [
    "Yes, there will be a difference in the data type of the elements present in the variables list_ and array_list.\n",
    "\n",
    "The dtype=int parameter in np.array(object=list_, dtype=int) specifies that the data type of the elements in the resulting NumPy array should be integers. Since the input sequence (list_) contains strings, NumPy will try to convert each string element to an integer. If any element in the input sequence cannot be converted to an integer, a ValueError will be raised."
   ]
  },
  {
   "cell_type": "code",
   "execution_count": 7,
   "id": "f91a7604-fc2f-45ed-b451-244bd4c8fc1b",
   "metadata": {},
   "outputs": [
    {
     "name": "stdout",
     "output_type": "stream",
     "text": [
      "Data type of 1 in _list is <class 'str'>\n",
      "Data type of 2 in _list is <class 'str'>\n",
      "Data type of 3 in _list is <class 'str'>\n",
      "Data type of 4 in _list is <class 'str'>\n",
      "Data type of 5 in _list is <class 'str'>\n",
      "\n",
      "Data type of 1 in array_list is <class 'numpy.int64'>\n",
      "Data type of 2 in array_list is <class 'numpy.int64'>\n",
      "Data type of 3 in array_list is <class 'numpy.int64'>\n",
      "Data type of 4 in array_list is <class 'numpy.int64'>\n",
      "Data type of 5 in array_list is <class 'numpy.int64'>\n"
     ]
    }
   ],
   "source": [
    "import numpy as np\n",
    "\n",
    "list_ = ['1', '2', '3', '4', '5']\n",
    "array_list = np.array(object = list_, dtype = int)\n",
    "\n",
    "#Printing data types of all element in list_\n",
    "for ele in list_:\n",
    "    print(f\"Data type of {ele} in _list is {type(ele)}\")\n",
    "    \n",
    "print()\n",
    "\n",
    "#Printing data types of all element in array_list\n",
    "for ele in array_list:\n",
    "     print(f\"Data type of {ele} in array_list is {type(ele)}\")"
   ]
  },
  {
   "cell_type": "markdown",
   "id": "ffdaa8d6-79af-493a-887e-744378d8e627",
   "metadata": {},
   "source": [
    "As you can see, the elements in list_ are of type str, while the elements in array_list are of type numpy.int64 after the conversion."
   ]
  },
  {
   "cell_type": "markdown",
   "id": "6d8267c2-8cac-4d17-9b31-bffadc0a1f99",
   "metadata": {},
   "source": [
    "Consider the below code to answer further questions:\n",
    "import numpy as np\n",
    "num_list = [ [ 1 , 2 , 3 ] , [ 4 , 5 , 6 ] ]\n",
    "num_array = np.array(object = num_list)\n",
    "\n",
    "Q4. Write a code to find the following characteristics of variable, num_array:\n",
    "(i) shape\n",
    "(ii) size"
   ]
  },
  {
   "cell_type": "code",
   "execution_count": 8,
   "id": "eccfe013-1ff7-458a-af27-e41490c2a66f",
   "metadata": {},
   "outputs": [
    {
     "name": "stdout",
     "output_type": "stream",
     "text": [
      "Shape of num_array: (2, 3)\n",
      "Size of num_array: 6\n"
     ]
    }
   ],
   "source": [
    "import numpy as np\n",
    "\n",
    "num_list = [[1, 2, 3], [4, 5, 6]]\n",
    "num_array = np.array(object=num_list)\n",
    "\n",
    "# Find the shape of num_array\n",
    "print(\"Shape of num_array:\", num_array.shape)\n",
    "\n",
    "# Find the size of num_array\n",
    "print(\"Size of num_array:\", num_array.size)"
   ]
  },
  {
   "cell_type": "markdown",
   "id": "04f70e9c-d3d5-4791-b08b-462d8e57869c",
   "metadata": {},
   "source": [
    "Q5. Write a code to create numpy array of 3*3 matrix containing zeros only, using a numpy array creation function. [Hint: The size of the array will be 9 and the shape will be (3,3).]"
   ]
  },
  {
   "cell_type": "code",
   "execution_count": 9,
   "id": "2b8d1274-0c18-435f-b300-5a9916766256",
   "metadata": {},
   "outputs": [
    {
     "name": "stdout",
     "output_type": "stream",
     "text": [
      "[[0. 0. 0.]\n",
      " [0. 0. 0.]\n",
      " [0. 0. 0.]]\n"
     ]
    }
   ],
   "source": [
    "import numpy as np\n",
    "\n",
    "# Create a NumPy array of 3x3 matrix containing zeros only\n",
    "zeros_array = np.zeros((3, 3))\n",
    "\n",
    "# Print the array\n",
    "print(zeros_array)\n"
   ]
  },
  {
   "cell_type": "markdown",
   "id": "0370b1fa-1348-4e38-9a1c-993d0a9a3779",
   "metadata": {},
   "source": [
    "Q6. Create an identity matrix of shape (5,5) using numpy functions? [Hint: An identity matrix is a matrix containing 1 diagonally and other elements will be 0.]"
   ]
  },
  {
   "cell_type": "code",
   "execution_count": 11,
   "id": "3b9c981b-141c-4c60-b8b7-38249d2edfdd",
   "metadata": {},
   "outputs": [
    {
     "name": "stdout",
     "output_type": "stream",
     "text": [
      "[[1. 0. 0. 0. 0.]\n",
      " [0. 1. 0. 0. 0.]\n",
      " [0. 0. 1. 0. 0.]\n",
      " [0. 0. 0. 1. 0.]\n",
      " [0. 0. 0. 0. 1.]]\n"
     ]
    }
   ],
   "source": [
    "import numpy as np\n",
    "\n",
    "# Create an identity matrix of shape (5, 5)\n",
    "identity_matrix = np.eye(5)\n",
    "\n",
    "# Print the matrix\n",
    "print(identity_matrix)"
   ]
  },
  {
   "cell_type": "code",
   "execution_count": null,
   "id": "faa8d9b4-1da2-41a3-9eab-d824d398b4e4",
   "metadata": {},
   "outputs": [],
   "source": []
  },
  {
   "cell_type": "code",
   "execution_count": null,
   "id": "f3b6f888-902e-4d31-b0b8-f2c1be62b7b1",
   "metadata": {},
   "outputs": [],
   "source": []
  },
  {
   "cell_type": "code",
   "execution_count": null,
   "id": "a48d4498-91e8-412e-95a5-0fe8964fa08b",
   "metadata": {},
   "outputs": [],
   "source": []
  }
 ],
 "metadata": {
  "kernelspec": {
   "display_name": "Python 3 (ipykernel)",
   "language": "python",
   "name": "python3"
  },
  "language_info": {
   "codemirror_mode": {
    "name": "ipython",
    "version": 3
   },
   "file_extension": ".py",
   "mimetype": "text/x-python",
   "name": "python",
   "nbconvert_exporter": "python",
   "pygments_lexer": "ipython3",
   "version": "3.10.8"
  }
 },
 "nbformat": 4,
 "nbformat_minor": 5
}
