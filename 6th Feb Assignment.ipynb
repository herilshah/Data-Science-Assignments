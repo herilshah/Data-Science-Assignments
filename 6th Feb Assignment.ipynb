{
 "cells": [
  {
   "cell_type": "markdown",
   "id": "c2fc54b2-8856-456d-ac90-a5250fdc2f71",
   "metadata": {},
   "source": [
    "Q1. Create a function which will take a list as an argument and return the product of all the numbers\n",
    "after creating a flat list.\n",
    "Use the below-given list as an argument for your function.\n",
    "list1 = [1,2,3,4, [44,55,66, True], False, (34,56,78,89,34), {1,2,3,3,2,1}, {1:34, \"key2\": [55, 67, 78, 89], 4: (45,\n",
    "22, 61, 34)}, [56, 'data science'], 'Machine Learning']\n",
    "Note: you must extract numeric keys and values of the dictionary also."
   ]
  },
  {
   "cell_type": "code",
   "execution_count": 8,
   "id": "7ea540b3-05e9-4f31-8657-ffcd3ab0b984",
   "metadata": {},
   "outputs": [
    {
     "name": "stdout",
     "output_type": "stream",
     "text": [
      "13124863683993600\n",
      "Dictionary keys: dict_keys([1, 2, 'key2', 4])\n",
      "Dictionary values: dict_values([34, 55, 67, 61])\n"
     ]
    }
   ],
   "source": [
    "def product_of_numbers(lst):\n",
    "    product = 1\n",
    "    for item in lst:\n",
    "        if type(item) in [int, float]:\n",
    "            product *= item\n",
    "        elif type(item) == list:\n",
    "            for sub_item in item:\n",
    "                if type(sub_item) in [int, float]:\n",
    "                    product *= sub_item\n",
    "        elif type(item) == dict:\n",
    "            for key, value in item.items():\n",
    "                if type(key) in [int, float]:\n",
    "                    product *= key\n",
    "                if type(value) in [int, float]:\n",
    "                    product *= value\n",
    "    return product\n",
    "\n",
    "list1 = [1,2,3,4, [44,55,66, True], False, (34,56,78,89,34), {1,2,3,3,2,1}, {1:34, 2:55, \"key2\": 67, 4: 61}, [56, 'data science'], 'Machine Learning']\n",
    "result = product_of_numbers(list1)\n",
    "print(result)\n",
    "\n",
    "for item in list1:\n",
    "    if type(item) == dict:\n",
    "        keys = item.keys()\n",
    "        values = item.values()\n",
    "        print(\"Dictionary keys:\", keys)\n",
    "        print(\"Dictionary values:\", values)\n",
    "        \n"
   ]
  },
  {
   "cell_type": "code",
   "execution_count": null,
   "id": "221c4f5b-32b3-495b-bdce-28e2741b83f2",
   "metadata": {},
   "outputs": [],
   "source": []
  },
  {
   "cell_type": "markdown",
   "id": "d21f88c0-9dd8-4538-a3c0-d13d13df89f9",
   "metadata": {},
   "source": [
    "Q2. Write a python program for encrypting a message sent to you by your friend. The logic of encryption\n",
    "should be such that, for a the output should be z. For b, the output should be y. For c, the output should\n",
    "be x respectively. Also, the whitespace should be replaced with a dollar sign. Keep the punctuation\n",
    "marks unchanged.\n",
    "Input Sentence: I want to become a Data Scientist.\n",
    "Encrypt the above input sentence using the program you just created.\n",
    "Note: Convert the given input sentence into lowercase before encrypting. The final output should be\n",
    "lowercase."
   ]
  },
  {
   "cell_type": "code",
   "execution_count": 3,
   "id": "6f0b35fd-a82c-4817-ab98-c7b86aa5b132",
   "metadata": {},
   "outputs": [
    {
     "name": "stdout",
     "output_type": "stream",
     "text": [
      "r$dzmg$gl$yvxlnv$z$wzgz$hxrvmgrhg.\n"
     ]
    }
   ],
   "source": [
    "def encrypt_message(message: str):\n",
    "    encrypted_message = ''\n",
    "    for char in message.lower():\n",
    "        if char == ' ':\n",
    "            encrypted_message += '$'\n",
    "        elif char.isalpha():\n",
    "            encrypted_message += chr(122 - ord(char) + 97)\n",
    "        else:\n",
    "            encrypted_message += char\n",
    "    return encrypted_message\n",
    "\n",
    "message = \"I want to become a Data Scientist.\"\n",
    "result = encrypt_message(message)\n",
    "print(result)\n"
   ]
  },
  {
   "cell_type": "code",
   "execution_count": null,
   "id": "f714ab90-148a-4dec-8fe2-001aec288cd7",
   "metadata": {},
   "outputs": [],
   "source": []
  },
  {
   "cell_type": "code",
   "execution_count": null,
   "id": "ab2d19b7-00cf-4bc8-a284-3b5bfaad8a4b",
   "metadata": {},
   "outputs": [],
   "source": []
  },
  {
   "cell_type": "code",
   "execution_count": null,
   "id": "f16878c9-befe-4cf8-97cf-180470619d79",
   "metadata": {},
   "outputs": [],
   "source": []
  }
 ],
 "metadata": {
  "kernelspec": {
   "display_name": "Python 3 (ipykernel)",
   "language": "python",
   "name": "python3"
  },
  "language_info": {
   "codemirror_mode": {
    "name": "ipython",
    "version": 3
   },
   "file_extension": ".py",
   "mimetype": "text/x-python",
   "name": "python",
   "nbconvert_exporter": "python",
   "pygments_lexer": "ipython3",
   "version": "3.10.8"
  }
 },
 "nbformat": 4,
 "nbformat_minor": 5
}
