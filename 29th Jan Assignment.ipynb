{
 "cells": [
  {
   "cell_type": "markdown",
   "id": "e42b7042-68cd-41a1-85f7-4788d7238cdc",
   "metadata": {},
   "source": [
    "Q 1.Who developed Python Programming Language?"
   ]
  },
  {
   "cell_type": "markdown",
   "id": "123e79e5-10e0-44aa-905f-64d190e5b3ee",
   "metadata": {},
   "source": [
    "Ans: Guido van Rossum"
   ]
  },
  {
   "cell_type": "markdown",
   "id": "d6a0780c-38e5-4ce8-b019-4adbe667759c",
   "metadata": {},
   "source": [
    "Q 2. Which type of Programming does Python support?"
   ]
  },
  {
   "cell_type": "markdown",
   "id": "532ab8b1-d087-4322-bc6f-0c99d969840a",
   "metadata": {},
   "source": [
    "Ans: Python supports four main programming ie imperative, functional, procedural, and object-oriented."
   ]
  },
  {
   "cell_type": "markdown",
   "id": "17d2dad7-aa65-4470-8789-7ae7b28892b7",
   "metadata": {},
   "source": [
    "Q 3. Is python case sensitive when dealing with identifiers?"
   ]
  },
  {
   "cell_type": "markdown",
   "id": "bda328e7-8f5e-4967-ab12-9f7491c11a33",
   "metadata": {},
   "source": [
    "Ans: Yes, Python is a case-sensitive language, i.e., it treats uppercase and lowercase characters differently.\n",
    "This applies to identifiers too.Hence we must avoid using the same name with different cases while naming identifiers."
   ]
  },
  {
   "cell_type": "markdown",
   "id": "44c18e96-d017-4e86-80f6-f28c5341a925",
   "metadata": {},
   "source": [
    "Q 4. What is the correct extension of the python file?"
   ]
  },
  {
   "cell_type": "markdown",
   "id": "1ae2e147-a85b-4373-a3b3-ecb09d760748",
   "metadata": {},
   "source": [
    "Ans : .py"
   ]
  },
  {
   "cell_type": "markdown",
   "id": "be5f81fd-1a29-4279-973a-014892239ee6",
   "metadata": {},
   "source": [
    "Q 5. Is python code complied or interpreted?"
   ]
  },
  {
   "cell_type": "markdown",
   "id": "436e88aa-6556-4ef0-b706-003884774cb4",
   "metadata": {},
   "source": [
    "Ans> Python is an interpreted language"
   ]
  },
  {
   "cell_type": "markdown",
   "id": "5f6a6852-cba1-4892-b13a-cfccd48a4888",
   "metadata": {},
   "source": [
    "Q.6. Name a few blocks of code used to define in python language ?"
   ]
  },
  {
   "cell_type": "markdown",
   "id": "be25b707-df81-4ee9-83f9-dd4d6be3dc9c",
   "metadata": {},
   "source": [
    "Ans: A module, A function body, and A class definition"
   ]
  },
  {
   "cell_type": "markdown",
   "id": "e2893106-e79a-4f48-a983-728510f5f454",
   "metadata": {},
   "source": [
    "Q.7 State a character used to give single line comments in python ? "
   ]
  },
  {
   "cell_type": "markdown",
   "id": "afc1cd21-49f1-45c9-a9a2-99e6b895fd49",
   "metadata": {},
   "source": [
    "Ans: '#' is used to give single line comments in python"
   ]
  },
  {
   "cell_type": "markdown",
   "id": "25dfae86-d814-4ae3-9044-e58d92c17492",
   "metadata": {},
   "source": [
    "Q 8. Mention functions which can help us to find the version of python that we are currently working on?"
   ]
  },
  {
   "cell_type": "code",
   "execution_count": null,
   "id": "cbd62963-a65e-4721-8551-47c64dc7b43e",
   "metadata": {},
   "outputs": [],
   "source": [
    "from platform import python_version\n",
    "python_version()"
   ]
  },
  {
   "cell_type": "markdown",
   "id": "4fcb2c21-80f7-4230-8a7e-0cb0f2234f6f",
   "metadata": {},
   "source": [
    "Q 9. Python supports the creation of anonymous functions at runtime, using a construct called?"
   ]
  },
  {
   "cell_type": "markdown",
   "id": "2e3ca43a-6011-4379-b503-88d045f51cad",
   "metadata": {},
   "source": [
    "Ans: Lambda"
   ]
  },
  {
   "cell_type": "markdown",
   "id": "74f431a2-f51a-4d56-bff5-0352acc4abc1",
   "metadata": {},
   "source": [
    "Q 10. What does pip stand for python ?"
   ]
  },
  {
   "cell_type": "markdown",
   "id": "04a83df4-2a66-41fd-aeff-c2e14c44773f",
   "metadata": {},
   "source": [
    "Ans: pip stand for \" Preferred Installer Program \" in python. "
   ]
  },
  {
   "cell_type": "markdown",
   "id": "330382bd-0125-47c0-be4b-7d2338a0489d",
   "metadata": {},
   "source": [
    "Q.11. Mention a few built-in function in python ? "
   ]
  },
  {
   "cell_type": "markdown",
   "id": "6ec279d4-ba2b-409f-9373-337866e78b13",
   "metadata": {},
   "source": [
    "Ans:  print(), input(), type(), len(), range(), list(), str(), etc."
   ]
  },
  {
   "cell_type": "markdown",
   "id": "87676085-fcbd-44aa-8455-dde583fa2267",
   "metadata": {},
   "source": [
    "Q 12. What is the maximum possible length of an identifier in python?"
   ]
  },
  {
   "cell_type": "markdown",
   "id": "531e0941-7449-4d10-af9b-6f6042aa7ae0",
   "metadata": {},
   "source": [
    "Ans: An identifier can have a maximum length of 79 characters in Python."
   ]
  },
  {
   "cell_type": "markdown",
   "id": "ae3fafbd-87c1-4b76-be5b-b0ea9a23cc73",
   "metadata": {},
   "source": [
    "Q.13. What are the benefits of using python ? "
   ]
  },
  {
   "cell_type": "markdown",
   "id": "b1e3e343-f251-49f7-9cab-66e929343c97",
   "metadata": {},
   "source": [
    "Ans: Python is a high-level, dynamically typed, and interpreted language that offers several benefits: 1. Easy to learn and use with a simple and readable syntax.\n",
    "2.Large and supportive community, with a wealth of libraries and tools for various tasks.\n",
    "3.Can be used for a wide range of applications, such as web development, data analysis, scientific computing, artificial intelligence, and more."
   ]
  },
  {
   "cell_type": "markdown",
   "id": "fa4fcaa7-2dee-492e-9e3d-0ee87bf15f6f",
   "metadata": {},
   "source": [
    "Q.14. How is memory managed in python ?"
   ]
  },
  {
   "cell_type": "markdown",
   "id": "94634855-69d4-45ed-bc1e-6504e31abc38",
   "metadata": {},
   "source": [
    "Ans:Memory management in Python involves a private heap containing all Python objects and data structures.\n",
    "The management of this private heap is ensured internally by the Python memory manager."
   ]
  },
  {
   "cell_type": "markdown",
   "id": "b27865fa-8e9b-488a-8d56-5dedc9e91020",
   "metadata": {},
   "source": [
    "Q 15. How to install python on windows and set path variables?"
   ]
  },
  {
   "cell_type": "markdown",
   "id": "a5b171d8-8bcb-488b-8f16-b62351cd15b6",
   "metadata": {},
   "source": [
    "Ans:To install Python on Windows:\n",
    "\n",
    "Go to the official Python website (https://www.python.org/downloads/windows/) and download the latest version of Python for Windows.\n",
    "\n",
    "Run the installation file and follow the instructions.\n",
    "\n",
    "During the installation process, make sure to select the option to add Python to your environment variables. This will make it easier to run Python from the command line.\n",
    "\n",
    "Once the installation is complete, open the Command Prompt and type \"python\" to confirm that Python is installed and the environment variables are set correctly.\n",
    "\n",
    "To set the Python path manually:\n",
    "\n",
    "Right-click on \"This PC\" or \"My Computer\" and select \"Properties.\"\n",
    "\n",
    "Click on \"Advanced system settings.\"\n",
    "\n",
    "Click on \"Environment Variables.\"\n",
    "\n",
    "Under \"System Variables,\" scroll down and find the \"Path\" variable, then click \"Edit.\"\n",
    "\n",
    "Add the path to your Python installation (e.g., \"C:\\Python37\") to the end of the list of paths, separated by a semicolon.\n",
    "\n",
    "Restart your computer or open a new Command Prompt to apply the changes.\n",
    "\n",
    "To confirm the changes, open the Command Prompt and type \"python\" to start the Python interpreter."
   ]
  },
  {
   "cell_type": "markdown",
   "id": "4638699e-7d50-4968-8394-b44f5e608257",
   "metadata": {},
   "source": [
    "Q 16. Is indentation required in python?"
   ]
  },
  {
   "cell_type": "markdown",
   "id": "4350852b-d0b0-4dd0-9123-4b3a2465f7ed",
   "metadata": {},
   "source": [
    "Ans: Yes, indentation is required in Python."
   ]
  },
  {
   "cell_type": "code",
   "execution_count": null,
   "id": "9d2eb8f3-1a70-4d29-bc9b-0b36ebe773a1",
   "metadata": {},
   "outputs": [],
   "source": []
  }
 ],
 "metadata": {
  "kernelspec": {
   "display_name": "Python 3 (ipykernel)",
   "language": "python",
   "name": "python3"
  },
  "language_info": {
   "codemirror_mode": {
    "name": "ipython",
    "version": 3
   },
   "file_extension": ".py",
   "mimetype": "text/x-python",
   "name": "python",
   "nbconvert_exporter": "python",
   "pygments_lexer": "ipython3",
   "version": "3.10.8"
  }
 },
 "nbformat": 4,
 "nbformat_minor": 5
}
