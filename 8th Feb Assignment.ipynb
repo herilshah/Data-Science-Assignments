{
 "cells": [
  {
   "cell_type": "markdown",
   "id": "993cd729-a774-4bc6-9d4f-cced0168a5ab",
   "metadata": {},
   "source": [
    "Q1. What is Abstraction in OOps? Explain with an example."
   ]
  },
  {
   "cell_type": "markdown",
   "id": "e13a4434-bdef-4367-8274-564b3b738de8",
   "metadata": {},
   "source": [
    "Abstraction in OOPs is a technique of hiding the complex implementation details of a system and exposing only the essential information required to perform a specific task. The idea behind abstraction is to simplify the complexity of a system by breaking it down into smaller parts, each of which has a well-defined interface.\n",
    "\n",
    "Example: Consider a car, it has many internal parts such as an engine, transmission, wheels, etc. but as a user, you only need to know about the steering wheel, pedals, gear lever, etc. to drive it. Here, the internal implementation details of the car are abstracted away, and the user only interacts with the essential parts to operate the car."
   ]
  },
  {
   "cell_type": "markdown",
   "id": "7bee34cf-2b46-45be-9e21-30f8008dc767",
   "metadata": {},
   "source": [
    "Q2. Differentiate between Abstraction and Encapsulation. Explain with an example."
   ]
  },
  {
   "cell_type": "markdown",
   "id": "e885d6ba-be97-4d9c-8033-b539537f0ae7",
   "metadata": {},
   "source": [
    "Abstraction refers to hiding the implementation details of a system and exposing only the essential information required to perform a specific task.\n",
    "\n",
    "Encapsulation refers to wrapping data and functions that manipulate that data within a single unit or object. This protects the data from external access and modification, which can ensure data integrity and increase security.\n",
    "\n",
    "Example: Consider a bank account, the user interacts with the bank account by making deposits and withdrawals through an ATM. The ATM provides a simple interface to access the bank account, but the internal details of how the bank account is implemented are hidden (abstraction). The bank account also protects the user's money by encapsulating it, i.e., wrapping the money within the account object and allowing access to it only through specific methods such as deposit and withdrawal."
   ]
  },
  {
   "cell_type": "markdown",
   "id": "f96a3509-b83d-405b-a986-4509b34720ce",
   "metadata": {},
   "source": [
    "Q3. What is abc module in python? Why is it used?"
   ]
  },
  {
   "cell_type": "markdown",
   "id": "ec05f913-ed61-4de2-b765-2c599aabcf82",
   "metadata": {},
   "source": [
    "The abc module (Abstract Base Class) in Python is a module that provides support for abstract classes. Abstract classes are classes that contain one or more abstract methods. Abstract methods are methods that have a declaration but no implementation. Subclasses of an abstract class are required to provide an implementation for the abstract methods. The purpose of an abstract class is to provide a common interface for its subclasses.\n",
    "\n",
    "The abc module is used in Python to define abstract base classes and to enforce the contract that subclasses must implement certain methods. It is used to ensure that a class has certain properties or behaviors and can be used as a blueprint for creating new classes."
   ]
  },
  {
   "cell_type": "markdown",
   "id": "104ae21a-32b6-4326-b9c3-bb7cff1fdccb",
   "metadata": {},
   "source": [
    "Q4. How can we achieve data abstraction?"
   ]
  },
  {
   "cell_type": "markdown",
   "id": "daf27836-e3fb-4cd1-a948-937630812555",
   "metadata": {},
   "source": [
    "Data Abstraction can be achieved in several ways, including:\n",
    "\n",
    "Abstraction through Classes: Creating classes with abstract methods that must be implemented by subclasses.\n",
    "\n",
    "Interfaces: An interface defines a set of methods that a class must implement.\n",
    "\n",
    "Encapsulation: Wrapping data within a class and accessing it only through methods, which can protect the data from external modification.\n",
    "\n",
    "Modularization: Dividing a large system into smaller, more manageable parts."
   ]
  },
  {
   "cell_type": "markdown",
   "id": "57d49407-6d37-48ba-842c-407190f371cd",
   "metadata": {},
   "source": [
    "Q5. Can we create an instance of an abstract class? Explain your answer."
   ]
  },
  {
   "cell_type": "markdown",
   "id": "7fb1ee64-4395-4995-b414-223db82b895e",
   "metadata": {},
   "source": [
    "No, you cannot create an instance of an abstract class. An abstract class is meant to be a blueprint for other classes, and it cannot be instantiated on its own. You must create a subclass that implements the abstract methods of the abstract class, and then you can create an instance of the subclass. The purpose of an abstract class is to provide a common interface for its subclasses and enforce the contract that subclasses must implement certain methods."
   ]
  },
  {
   "cell_type": "code",
   "execution_count": null,
   "id": "68441ca2-c1ac-41d0-90b8-75cc746c98b0",
   "metadata": {},
   "outputs": [],
   "source": []
  },
  {
   "cell_type": "code",
   "execution_count": null,
   "id": "a0e0da47-22e5-4086-9bbc-7cc68c98c1fd",
   "metadata": {},
   "outputs": [],
   "source": []
  },
  {
   "cell_type": "code",
   "execution_count": null,
   "id": "da050236-e3e4-480b-a7d9-ca61e08d71ba",
   "metadata": {},
   "outputs": [],
   "source": []
  }
 ],
 "metadata": {
  "kernelspec": {
   "display_name": "Python 3 (ipykernel)",
   "language": "python",
   "name": "python3"
  },
  "language_info": {
   "codemirror_mode": {
    "name": "ipython",
    "version": 3
   },
   "file_extension": ".py",
   "mimetype": "text/x-python",
   "name": "python",
   "nbconvert_exporter": "python",
   "pygments_lexer": "ipython3",
   "version": "3.10.8"
  }
 },
 "nbformat": 4,
 "nbformat_minor": 5
}
