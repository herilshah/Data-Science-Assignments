{
 "cells": [
  {
   "cell_type": "code",
   "execution_count": 1,
   "id": "4e552ef9-2d11-42b8-8253-88dac2a4ef50",
   "metadata": {},
   "outputs": [],
   "source": [
    "# Q1. What is a database? Differentiate between SQL and NoSQL databases."
   ]
  },
  {
   "cell_type": "code",
   "execution_count": null,
   "id": "bf5a4a76-896d-4192-8239-000054d18081",
   "metadata": {},
   "outputs": [],
   "source": [
    "\"\"\"\n",
    "A database is a structured collection of data that is stored in a computer or server. It allows users to store and retrieve data in a way that is organized and efficient. Databases can be broadly categorized into two types: SQL and NoSQL databases.\n",
    "\n",
    "SQL databases are relational databases that store data in tables with predefined schemas. These databases are designed to handle structured data and are suitable for applications that require complex queries and transactions. Examples of SQL databases include MySQL, Oracle, and PostgreSQL.\n",
    "\n",
    "NoSQL databases, on the other hand, are non-relational databases that store data in a non-tabular form, such as key-value pairs, documents, or graphs. These databases are designed to handle unstructured data and are suitable for applications that require scalability and flexibility. Examples of NoSQL databases include MongoDB, Cassandra, and DynamoDB.\n",
    "\n",
    "In summary, SQL databases are best suited for applications that require complex querying and transactions, while NoSQL databases are best suited for applications that require scalability and flexibility with unstructured data.\n",
    "\"\"\""
   ]
  },
  {
   "cell_type": "code",
   "execution_count": null,
   "id": "3d6fc8f8-ba41-4ba4-a28d-a050ebd4bf61",
   "metadata": {},
   "outputs": [],
   "source": [
    "# Q2. What is DDL? Explain why CREATE, DROP, ALTER, and TRUNCATE are used with an example."
   ]
  },
  {
   "cell_type": "code",
   "execution_count": null,
   "id": "48bcc26b-084d-4393-9c32-efef43c76401",
   "metadata": {},
   "outputs": [],
   "source": [
    "\"\"\"\n",
    "DDL stands for Data Definition Language, and it is used to define and manage the structure of a database. Some common DDL statements include CREATE, DROP, ALTER, and TRUNCATE.\n",
    "\n",
    "CREATE is used to create a new table or database in the database management system. For example, the following SQL statement creates a new table named \"customers\":\n",
    "\n",
    "CREATE TABLE customers (\n",
    "  customer_id INT PRIMARY KEY,\n",
    "  first_name VARCHAR(50),\n",
    "  last_name VARCHAR(50),\n",
    "  email VARCHAR(100)\n",
    ");\n",
    "\n",
    "DROP is used to delete a table or database from the database management system. For example, the following SQL statement deletes the \"customers\" table:\n",
    "\n",
    "DROP TABLE customers;\n",
    "\n",
    "ALTER is used to modify the structure of an existing table. For example, the following SQL statement adds a new column named \"phone\" to the \"customers\" table:\n",
    "\n",
    "ALTER TABLE customers\n",
    "ADD COLUMN phone VARCHAR(20);\n",
    "\n",
    "TRUNCATE is used to delete all the data in a table while keeping the table structure intact. For example, the following SQL statement removes all the data from the \"customers\" table:\n",
    "\n",
    "TRUNCATE TABLE customers;\n",
    "\"\"\""
   ]
  },
  {
   "cell_type": "code",
   "execution_count": null,
   "id": "9e1d26d8-14d2-4ed9-9323-cd560d402ffc",
   "metadata": {},
   "outputs": [],
   "source": [
    "# Q3. What is DML? Explain INSERT, UPDATE, and DELETE with an example.\n"
   ]
  },
  {
   "cell_type": "code",
   "execution_count": null,
   "id": "486df700-20f1-48db-b4d2-dd63cf1b82ba",
   "metadata": {},
   "outputs": [],
   "source": [
    "\"\"\"\n",
    "DML stands for Data Manipulation Language, and it is used to manage the data stored in a database. Some common DML statements include INSERT, UPDATE, and DELETE.\n",
    "\n",
    "INSERT is used to add new data to a table. For example, the following SQL statement adds a new row of data to the \"customers\" table:\n",
    "\n",
    "INSERT INTO customers (customer_id, first_name, last_name, email)\n",
    "VALUES (1, 'John', 'Doe', 'john.doe@example.com');\n",
    "\n",
    "UPDATE is used to modify existing data in a table. For example, the following SQL statement updates the email address for the customer with ID 1:\n",
    "\n",
    "UPDATE customers\n",
    "SET email = 'john.doe@newemail.com'\n",
    "WHERE customer_id = 1;\n",
    "\n",
    "DELETE is used to remove data from a table. For example, the following SQL statement removes the row of data for the customer with ID 1:\n",
    "\n",
    "DELETE FROM customers\n",
    "WHERE customer_id = 1;\n",
    "\"\"\""
   ]
  },
  {
   "cell_type": "code",
   "execution_count": null,
   "id": "bfa3c649-271c-4d74-9f06-86e1e7d9adb1",
   "metadata": {},
   "outputs": [],
   "source": [
    "# Q4. What is DQL? Explain SELECT with an example."
   ]
  },
  {
   "cell_type": "code",
   "execution_count": null,
   "id": "7ae0049a-a73d-4cbd-8c64-03aef941196d",
   "metadata": {},
   "outputs": [],
   "source": [
    "\"\"\"\n",
    "DQL stands for Data Query Language, and it is used to retrieve data from a database. The most common DQL statement is SELECT.\n",
    "\n",
    "SELECT is used to retrieve data from one or more tables.\n",
    "For example, the following SQL statement retrieves all the data from the \"customers\" table:\n",
    "\n",
    "SELECT * FROM customers;\n",
    "\n",
    "The * symbol is used to select all the columns from the table. You can also specify individual columns to retrieve:\n",
    "\n",
    "SELECT first_name, last_name, email FROM customers;\n",
    "\n",
    "You can also use various clauses with SELECT to filter and sort the data, such as WHERE, ORDER BY, and LIMIT.\n",
    "\"\"\""
   ]
  },
  {
   "cell_type": "code",
   "execution_count": null,
   "id": "6fdc1bb1-9a20-4143-bf38-8d945b476619",
   "metadata": {},
   "outputs": [],
   "source": [
    "#Q5. Explain Primary Key and Foreign Key."
   ]
  },
  {
   "cell_type": "code",
   "execution_count": null,
   "id": "bada2b69-85dc-45be-ac5e-16fa68aa1fdd",
   "metadata": {},
   "outputs": [],
   "source": [
    "\"\"\"\n",
    "A primary key is a unique identifier for a row of data in a table. It is used to ensure that each row in the table is uniquely identifiable and to enforce referential integrity in the database. A primary key column cannot contain null values.\n",
    "\n",
    "For example, in the \"customers\" table, the customer_id column could be used as the primary key:\n",
    "\n",
    "CREATE TABLE customers (\n",
    "customer_id INT PRIMARY KEY,\n",
    "first_name VARCHAR(50),\n",
    "last_name VARCHAR(50),\n",
    "email VARCHAR(100)\n",
    ");\n",
    "\n",
    "A foreign key is a column or a set of columns in a table that refers to the primary key of another table. It is used to establish a relationship between two tables in the database. A foreign key column can contain null values.\n",
    "\n",
    "For example, in a \"orders\" table, the customer_id column could be a foreign key that refers to the customer_id column in the \"customers\" table:\n",
    "\n",
    "CREATE TABLE orders (\n",
    "order_id INT PRIMARY KEY,\n",
    "order_date DATE,\n",
    "customer_id INT,\n",
    "FOREIGN KEY (customer_id) REFERENCES customers(customer_id)\n",
    ");\n",
    "\"\"\""
   ]
  },
  {
   "cell_type": "code",
   "execution_count": null,
   "id": "8b9a0d05-ec20-48f2-81bd-70f219f2bb12",
   "metadata": {},
   "outputs": [],
   "source": [
    "#Q6. Write a python code to connect MySQL to python. Explain the cursor() and execute() method."
   ]
  },
  {
   "cell_type": "code",
   "execution_count": null,
   "id": "0ee5cda9-6eb2-46ac-ab02-348dd61f92aa",
   "metadata": {},
   "outputs": [],
   "source": [
    "import mysql.connector\n",
    "\n",
    "mydb = mysql.connector.connect(\n",
    "host=\"localhost\",\n",
    "user=\"username\",\n",
    "password=\"password\",\n",
    "database=\"databasename\"\n",
    ")\n",
    "'''\n",
    "The cursor() method is used to create a cursor object that allows you to execute SQL statements on the database. You can use the cursor() method on the database connection object to create a cursor:\n",
    "\n",
    "mycursor = mydb.cursor()\n",
    "\n",
    "The execute() method is used to execute SQL statements on the database. You can pass the SQL statement as a parameter to the execute() method:\n",
    "\n",
    "mycursor.execute(\"SELECT * FROM customers\")\n",
    "\n",
    "You can then use various methods of the cursor object to retrieve the data, such as fetchone(), fetchall(), and fetchmany().\n",
    "\"\"\""
   ]
  },
  {
   "cell_type": "code",
   "execution_count": null,
   "id": "a981ad93-f29a-49ad-88b0-e6eb36ab5db8",
   "metadata": {},
   "outputs": [],
   "source": [
    "#Q7. Give the order of execution of SQL clauses in an SQL query."
   ]
  },
  {
   "cell_type": "markdown",
   "id": "2146cd36-ec8b-4451-b800-460ad167f047",
   "metadata": {},
   "source": [
    "\n",
    "The order of execution of SQL clauses in an SQL query is as follows:\n",
    "\n",
    "FROM\n",
    "JOIN\n",
    "WHERE\n",
    "GROUP BY\n",
    "HAVING\n",
    "SELECT\n",
    "DISTINCT\n",
    "ORDER BY\n",
    "LIMIT\n"
   ]
  },
  {
   "cell_type": "code",
   "execution_count": null,
   "id": "bfa95edc-e462-4738-90bf-14204448e257",
   "metadata": {},
   "outputs": [],
   "source": []
  },
  {
   "cell_type": "code",
   "execution_count": null,
   "id": "da5446ef-a2cd-4d05-b544-d6a3fdd56224",
   "metadata": {},
   "outputs": [],
   "source": []
  },
  {
   "cell_type": "code",
   "execution_count": null,
   "id": "f596b5f0-c1b5-43c9-9cb4-c2386fc03ef7",
   "metadata": {},
   "outputs": [],
   "source": []
  }
 ],
 "metadata": {
  "kernelspec": {
   "display_name": "Python 3 (ipykernel)",
   "language": "python",
   "name": "python3"
  },
  "language_info": {
   "codemirror_mode": {
    "name": "ipython",
    "version": 3
   },
   "file_extension": ".py",
   "mimetype": "text/x-python",
   "name": "python",
   "nbconvert_exporter": "python",
   "pygments_lexer": "ipython3",
   "version": "3.10.8"
  }
 },
 "nbformat": 4,
 "nbformat_minor": 5
}
