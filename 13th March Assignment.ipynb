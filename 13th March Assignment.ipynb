{
 "cells": [
  {
   "cell_type": "markdown",
   "id": "5c37fece-5393-42fd-bb99-9ccf1906b42d",
   "metadata": {},
   "source": [
    "Q1. Explain the assumptions required to use ANOVA and provide examples of violations that could impact\n",
    "the validity of the results."
   ]
  },
  {
   "cell_type": "markdown",
   "id": "b16bb695-9246-4ab5-a458-c6fa2ff9be04",
   "metadata": {},
   "source": [
    " Assumptions of ANOVA and Examples of Violations\n",
    "\n",
    "Assumptions of ANOVA are:\n",
    "\n",
    "Normality: The dependent variable is normally distributed within each group.\n",
    "Homogeneity of Variance: The variance of the dependent variable is equal across all groups.\n",
    "Independence: Observations within each group are independent of each other.\n",
    "Random Sampling: Samples are randomly selected from the population.\n",
    "Examples of violations that could impact the validity of the results are:\n",
    "\n",
    "Non-normality: If the distribution of the dependent variable is significantly non-normal, the results of ANOVA may not be valid. For example, if the distribution is skewed or has outliers.\n",
    "Heterogeneity of Variance: If the variance of the dependent variable is not equal across all groups, the results of ANOVA may not be valid. For example, if one group has a much larger variance than the other groups.\n",
    "Dependence: If observations within each group are not independent of each other, the results of ANOVA may not be valid. For example, if the same subjects are used in multiple groups.\n",
    "Non-Random Sampling: If samples are not randomly selected from the population, the results of ANOVA may not be valid. For example, if samples are selected based on convenience or preference."
   ]
  },
  {
   "cell_type": "markdown",
   "id": "bac32453-44ba-4e87-9464-7d6b50657dec",
   "metadata": {},
   "source": [
    "Q2. What are the three types of ANOVA, and in what situations would each be used?"
   ]
  },
  {
   "cell_type": "markdown",
   "id": "df8249c1-809f-48a5-bc96-d38bbf6fe2d9",
   "metadata": {},
   "source": [
    "The three types of ANOVA are:\n",
    "\n",
    "One-Way ANOVA: Used to compare means of a dependent variable across two or more independent groups.\n",
    "Two-Way ANOVA: Used to compare means of a dependent variable across two or more independent groups while controlling for the effects of two independent variables.\n",
    "Repeated Measures ANOVA: Used to compare means of a dependent variable across two or more related groups over time."
   ]
  },
  {
   "cell_type": "markdown",
   "id": "b2cc7a80-5d30-4438-bc1f-fc391b30e8cb",
   "metadata": {},
   "source": [
    "Q3. What is the partitioning of variance in ANOVA, and why is it important to understand this concept?"
   ]
  },
  {
   "cell_type": "markdown",
   "id": "e7ac4978-c7fc-4a51-9ec2-3c338b07d31a",
   "metadata": {},
   "source": [
    "The partitioning of variance in ANOVA is the process of decomposing the total variance of the dependent variable into different sources. The total variance is divided into two parts: the variance due to differences between the groups (explained variance) and the variance due to differences within the groups (unexplained variance or error variance). \n",
    "\n",
    "Understanding the partitioning of variance is important because it allows us to determine the proportion of variance that is explained by the independent variable and to test the significance of the independent variable."
   ]
  },
  {
   "cell_type": "markdown",
   "id": "5c1b04c5-9a47-4d10-96b4-3c6bc56521cd",
   "metadata": {},
   "source": [
    "Q4. How would you calculate the total sum of squares (SST), explained sum of squares (SSE), and residual\n",
    "sum of squares (SSR) in a one-way ANOVA using Python?"
   ]
  },
  {
   "cell_type": "code",
   "execution_count": 2,
   "id": "3cd5f07d-5292-4967-9b94-4692c6182782",
   "metadata": {},
   "outputs": [
    {
     "name": "stdout",
     "output_type": "stream",
     "text": [
      "Top 5 rows of IRIS dataset : \n",
      "   sepal_length  sepal_width  petal_length  petal_width species\n",
      "0           5.1          3.5           1.4          0.2  setosa\n",
      "1           4.9          3.0           1.4          0.2  setosa\n",
      "2           4.7          3.2           1.3          0.2  setosa\n",
      "3           4.6          3.1           1.5          0.2  setosa\n",
      "4           5.0          3.6           1.4          0.2  setosa\n",
      "\n",
      "===================================================================\n",
      "\n",
      "Values for Sepal Length vs Species:\n",
      "SSE: 63.2121\n",
      "SSR: 38.9562\n",
      "SST: 102.1683\n",
      "\n",
      "===================================================================\n",
      "\n",
      "             df     sum_sq    mean_sq           F        PR(>F)\n",
      "species     2.0  63.212133  31.606067  119.264502  1.669669e-31\n",
      "Residual  147.0  38.956200   0.265008         NaN           NaN\n"
     ]
    }
   ],
   "source": [
    "import pandas as pd\n",
    "from statsmodels.formula.api import ols\n",
    "import seaborn as sns\n",
    "from statsmodels.stats.anova import anova_lm\n",
    "\n",
    "# Loading Iris dataset from seaborn\n",
    "df_iris = sns.load_dataset('iris')\n",
    "print('Top 5 rows of IRIS dataset : ')\n",
    "print(df_iris.head())\n",
    "print('\\n===================================================================\\n')\n",
    "\n",
    "# Fit the one-way ANOVA model (sepal length vs Species)\n",
    "model = ols('sepal_length ~ species', data=df_iris).fit()\n",
    "\n",
    "# Calculate the sum of squares for the model\n",
    "print('Values for Sepal Length vs Species:')\n",
    "SSE = model.ess\n",
    "SSR = model.ssr\n",
    "SST = SSE + SSR\n",
    "\n",
    "print('SSE:', round(SSE,4))\n",
    "print('SSR:', round(SSR,4))\n",
    "print('SST:', round(SST,4))\n",
    "\n",
    "print('\\n===================================================================\\n')\n",
    "# Print the ANOVA table\n",
    "print(anova_lm(model))"
   ]
  },
  {
   "cell_type": "markdown",
   "id": "84b45f11-aa28-47ec-b084-cca6461dc3f3",
   "metadata": {},
   "source": [
    "Q5. In a two-way ANOVA, how would you calculate the main effects and interaction effects using Python?"
   ]
  },
  {
   "cell_type": "code",
   "execution_count": null,
   "id": "75462eff-7288-44ef-8af4-31e82fefe043",
   "metadata": {},
   "outputs": [
    {
     "name": "stdout",
     "output_type": "stream",
     "text": [
      "Top 5 rows of Tooth Growth Dataset\n",
      "    len supp  dose\n",
      "0   4.2   VC   0.5\n",
      "1  11.5   VC   0.5\n",
      "2   7.3   VC   0.5\n",
      "3   5.8   VC   0.5\n",
      "4   6.4   VC   0.5\n",
      "\n",
      "==============================================================\n",
      "\n",
      "Main effects:\n",
      "C(supp)     205.350000\n",
      "C(dose)    2426.434333\n",
      "Name: sum_sq, dtype: float64\n",
      "\n",
      "==============================\n",
      "\n",
      "Interaction effect:\n",
      "C(supp):C(dose)    108.319\n",
      "Name: sum_sq, dtype: float64\n",
      "\n",
      "==============================\n",
      "\n",
      "ANOVA Table:\n",
      "                      sum_sq    df          F        PR(>F)\n",
      "C(supp)           205.350000   1.0  15.571979  2.311828e-04\n",
      "C(dose)          2426.434333   2.0  91.999965  4.046291e-18\n",
      "C(supp):C(dose)   108.319000   2.0   4.106991  2.186027e-02\n",
      "Residual          712.106000  54.0        NaN           NaN\n"
     ]
    }
   ],
   "source": []
  },
  {
   "cell_type": "markdown",
   "id": "0b3763d8-656f-491d-94d2-c0f36baad03d",
   "metadata": {},
   "source": [
    "Q6. Suppose you conducted a one-way ANOVA and obtained an F-statistic of 5.23 and a p-value of 0.02.\n",
    "What can you conclude about the differences between the groups, and how would you interpret these\n",
    "results?"
   ]
  },
  {
   "cell_type": "markdown",
   "id": "e66fa87b-4546-48aa-be97-946b6435cad2",
   "metadata": {},
   "source": [
    "With an F-statistic of 5.23 and a p-value of 0.02, we can conclude that there are significant differences between the groups being compared. The F-statistic is a ratio of between-group variance to within-group variance, with higher values indicating greater between-group differences relative to within-group differences. The p-value indicates the probability of obtaining an F-statistic as extreme or more extreme than the one observed, assuming the null hypothesis (i.e., no group differences) is true. In this case, with a p-value of 0.02, we reject the null hypothesis and conclude that there are significant group differences. The effect size should also be considered to determine the practical significance of the findings."
   ]
  },
  {
   "cell_type": "markdown",
   "id": "4eb11c4c-0694-488e-b889-0a81a85d6b50",
   "metadata": {},
   "source": [
    "Q7. In a repeated measures ANOVA, how would you handle missing data, and what are the potential\n",
    "consequences of using different methods to handle missing data?"
   ]
  },
  {
   "cell_type": "markdown",
   "id": "49dc213e-14a5-41f3-ae1f-4de87d7652b9",
   "metadata": {},
   "source": [
    "In a repeated measures ANOVA, missing data can be handled using various methods such as pairwise deletion, listwise deletion, imputation, and maximum likelihood estimation. Pairwise deletion retains data for each individual variable and omits data from any cases with missing data. Listwise deletion omits entire cases that contain missing data, which can result in a loss of statistical power and introduce bias if the data are not missing at random. Imputation involves estimating the missing values using statistical techniques such as mean imputation, regression imputation, or multiple imputation. Maximum likelihood estimation involves estimating the model parameters while accounting for the missing data using the observed data and an assumption about the distribution of the missing data.\n",
    "\n",
    "The potential consequences of using different methods to handle missing data include biased estimates of the model parameters, reduced statistical power, and increased risk of type I and type II errors. The choice of method depends on the pattern and amount of missing data, the research question, and assumptions about the missing data mechanism."
   ]
  },
  {
   "cell_type": "markdown",
   "id": "628e3f03-d3f4-4e97-b55c-e80d0dab4101",
   "metadata": {},
   "source": [
    "Q8. What are some common post-hoc tests used after ANOVA, and when would you use each one? Provide\n",
    "an example of a situation where a post-hoc test might be necessary."
   ]
  },
  {
   "cell_type": "markdown",
   "id": "59ae3fdf-cce1-4043-b0fc-20b1578ab610",
   "metadata": {},
   "source": [
    "Common post-hoc tests used after ANOVA include the Tukey-Kramer test, the Scheffe test, the Bonferroni test, and the Dunnett test. The Tukey-Kramer test is used to determine which specific groups differ significantly from each other in pairwise comparisons. The Scheffe test is a more conservative test that controls for familywise error rate (FWER) and can be used when the number of pairwise comparisons is large. The Bonferroni test is another conservative test that controls for the FWER by adjusting the significance level for each comparison. The Dunnett test is used to compare multiple groups to a control group, with less stringent assumptions than the other post-hoc tests.\n",
    "\n",
    "An example of a situation where a post-hoc test might be necessary is when conducting a study comparing the effectiveness of three different treatments for a medical condition. After conducting an ANOVA and finding a significant overall effect, a post-hoc test can be used to determine which specific treatments are significantly different from each other."
   ]
  },
  {
   "cell_type": "markdown",
   "id": "098fce1d-8306-4a3d-a64c-9011f479d82f",
   "metadata": {},
   "source": [
    "Q9. A researcher wants to compare the mean weight loss of three diets: A, B, and C. They collect data from\n",
    "50 participants who were randomly assigned to one of the diets. Conduct a one-way ANOVA using Python\n",
    "to determine if there are any significant differences between the mean weight loss of the three diets.\n",
    "Report the F-statistic and p-value, and interpret the results."
   ]
  },
  {
   "cell_type": "code",
   "execution_count": 9,
   "id": "9ac53e95-ed41-4155-a056-15b596b34d26",
   "metadata": {},
   "outputs": [
    {
     "name": "stdout",
     "output_type": "stream",
     "text": [
      "F-statistic: 57.06379442059458\n",
      "p-value: 4.5619061215783055e-19\n",
      "We reject the null hypothesis.\n",
      "Conclusion : The mean weight loss is different for at least one diet.\n"
     ]
    }
   ],
   "source": [
    "import numpy as np\n",
    "from scipy.stats import f_oneway\n",
    "\n",
    "# Generate simulated data assuming normal distribution with same variance\n",
    "np.random.seed(1)\n",
    "diet_A = np.random.normal(5, 1, 50)\n",
    "diet_B = np.random.normal(4, 1, 50)\n",
    "diet_C = np.random.normal(3, 1, 50)\n",
    "\n",
    "# Perform one-way ANOVA\n",
    "f_statistic, p_value = f_oneway(diet_A, diet_B, diet_C)\n",
    "\n",
    "# Set significance level\n",
    "alpha = 0.05\n",
    "\n",
    "# Null hypothesis: The mean weight loss is the same for all three diets.\n",
    "# Alternative hypothesis: The mean weight loss is different for at least one diet.\n",
    "null_hypothesis = \"The mean weight loss is the same for all three diets.\"\n",
    "alternate_hypothesis = \"The mean weight loss is different for at least one diet.\"\n",
    "\n",
    "print(\"F-statistic:\", f_statistic)\n",
    "print(\"p-value:\", p_value)\n",
    "if p_value < alpha:\n",
    "    print(\"We reject the null hypothesis.\")\n",
    "    print(f\"Conclusion : {alternate_hypothesis}\")\n",
    "else:\n",
    "    print(\"We fail to reject the null hypothesis.\")\n",
    "    print(f\"Conclusion : {null_hypothesis}\")"
   ]
  },
  {
   "cell_type": "code",
   "execution_count": 10,
   "id": "eac8bdce-abb3-45b2-b7da-8a103cc304ef",
   "metadata": {},
   "outputs": [
    {
     "name": "stdout",
     "output_type": "stream",
     "text": [
      "Multiple Comparison of Means - Tukey HSD, FWER=0.05\n",
      "===================================================\n",
      "group1 group2 meandiff p-adj  lower   upper  reject\n",
      "---------------------------------------------------\n",
      "     A      B  -0.8278   0.0 -1.2477 -0.4079   True\n",
      "     A      C  -1.8898   0.0 -2.3097 -1.4699   True\n",
      "     B      C   -1.062   0.0 -1.4819 -0.6421   True\n",
      "---------------------------------------------------\n"
     ]
    }
   ],
   "source": [
    "#Performing Tukey's test for mean difference\n",
    "import numpy as np\n",
    "from statsmodels.stats.multicomp import pairwise_tukeyhsd\n",
    "\n",
    "#create DataFrame to hold data\n",
    "df = pd.DataFrame({'weight_loss': list(diet_A) + list(diet_B) + list(diet_C),\n",
    "                   'group': np.repeat(['A', 'B', 'C'], repeats=50)})\n",
    "\n",
    "# perform Tukey's test\n",
    "tukey = pairwise_tukeyhsd(endog=df['weight_loss'],\n",
    "                          groups=df['group'],\n",
    "                          alpha=0.05)\n",
    "\n",
    "# Print results\n",
    "print(tukey)"
   ]
  },
  {
   "cell_type": "markdown",
   "id": "879034db-6508-4ce2-aebc-7770548a9d7d",
   "metadata": {},
   "source": [
    "Above interpretation means all three means are different reject value is True for all of 3\n",
    "Mean Difference between diet_A and diet_B is -0.8278\n",
    "Mean Difference between diet_A and diet_C is -1.8898\n",
    "Mean Difference between diet_A and diet_C is -1.062\n",
    "Maximum mean difference is in between diet_A and diet_C\n",
    "All mean differences with diet_A are negative\n",
    "diet_A has shown highest weight loss compared to diet_B and diet_C\n"
   ]
  },
  {
   "cell_type": "markdown",
   "id": "63f0be2c-1181-4cf8-9bf4-7a9dddda1de2",
   "metadata": {},
   "source": [
    "Q10. A company wants to know if there are any significant differences in the average time it takes to\n",
    "complete a task using three different software programs: Program A, Program B, and Program C. They\n",
    "randomly assign 30 employees to one of the programs and record the time it takes each employee to\n",
    "complete the task. Conduct a two-way ANOVA using Python to determine if there are any main effects or\n",
    "interaction effects between the software programs and employee experience level (novice vs.\n",
    "experienced). Report the F-statistics and p-values, and interpret the results."
   ]
  },
  {
   "cell_type": "code",
   "execution_count": 11,
   "id": "8947d68b-a64e-410c-b35e-73430e489f3a",
   "metadata": {},
   "outputs": [
    {
     "name": "stdout",
     "output_type": "stream",
     "text": [
      "Simulated Data example :\n",
      "  Software Experience       Time\n",
      "0        A     Novice  12.828739\n",
      "1        A     Novice  16.994691\n",
      "2        A     Novice  15.565957\n",
      "3        A     Novice  11.987411\n",
      "4        A     Novice  13.842799\n",
      "\n",
      "======================================================================================\n",
      "\n",
      "                             df      sum_sq     mean_sq          F  \\\n",
      "C(Software)                 2.0  204.881181  102.440590  18.135666   \n",
      "C(Experience)               1.0  165.079097  165.079097  29.224933   \n",
      "C(Software):C(Experience)   2.0   17.481552    8.740776   1.547431   \n",
      "Residual                   56.0  316.319953    5.648571        NaN   \n",
      "\n",
      "                                 PR(>F)  \n",
      "C(Software)                8.460472e-07  \n",
      "C(Experience)              1.375177e-06  \n",
      "C(Software):C(Experience)  2.217544e-01  \n",
      "Residual                            NaN  \n",
      "\n",
      "\n",
      "Conclusion: There is a significant main effect of software.\n",
      "Conclusion: There is a significant main effect of experience.\n",
      "Conclusion: There is no significant interaction effect between software and experience.\n"
     ]
    }
   ],
   "source": [
    "#Assuming Significance level of 0.05\n",
    "import pandas as pd\n",
    "import statsmodels.api as sm\n",
    "from statsmodels.formula.api import ols\n",
    "\n",
    "# Setting random seed for reproducibility\n",
    "np.random.seed(123)\n",
    "\n",
    "# Generating 2 random time samples for novice and expert\n",
    "time_novice = np.random.normal(loc=15, scale=2, size=30)\n",
    "time_expert = np.random.normal(loc=10, scale=2, size=30)\n",
    "\n",
    "# Generate simulated data\n",
    "data = pd.DataFrame({\n",
    "    'Software': ['A']*20 + ['B']*20 + ['C']*20,\n",
    "    'Experience': ['Novice']*30 + ['Experienced']*30,\n",
    "    'Time': list(time_novice)+list(time_expert)\n",
    "})\n",
    "\n",
    "# Print the simulated data head \n",
    "print('Simulated Data example :')\n",
    "print(data.head())\n",
    "\n",
    "print('\\n======================================================================================\\n')\n",
    "\n",
    "# Fit the two-way ANOVA model\n",
    "model = ols('Time ~ C(Software) + C(Experience) + C(Software):C(Experience)', data=data).fit()\n",
    "table = sm.stats.anova_lm(model, typ=1)\n",
    "\n",
    "# Set significance level\n",
    "alpha = 0.05\n",
    "\n",
    "# Main effects and interaction effect\n",
    "print(table)\n",
    "print('\\n')\n",
    "if table['PR(>F)'][0] < alpha:\n",
    "    print(\"Conclusion: There is a significant main effect of software.\")\n",
    "else:\n",
    "    print(\"Conclusion: There is no significant main effect of software.\")\n",
    "\n",
    "if table['PR(>F)'][1] < alpha:\n",
    "    print(\"Conclusion: There is a significant main effect of experience.\")\n",
    "else:\n",
    "    print(\"Conclusion: There is no significant main effect of experience.\")\n",
    "\n",
    "if table['PR(>F)'][2] < alpha:\n",
    "    print(\"Conclusion: There is a significant interaction effect between software and experience.\")\n",
    "else:\n",
    "    print(\"Conclusion: There is no significant interaction effect between software and experience.\")"
   ]
  },
  {
   "cell_type": "markdown",
   "id": "896ba2f7-8948-490b-9a2e-1458bb688316",
   "metadata": {},
   "source": [
    "Here are the interpretations of the three conclusions:\n",
    "1. \"There is a significant main effect of software\": This means that the software programs used by the employees have a significant impact on the outcome variable (e.g., completion time), independent of the experience level of the employees. This suggests that the choice of software program is an important factor that should be considered carefully when completing this task.\n",
    "\n",
    "2. \"There is a significant main effect of experience\": This means that the experience level of the employees has a significant impact on the outcome variable, independent of the software program used. Specifically, this suggests that experienced employees may complete the task faster than novices, or vice versa. This finding can be helpful for the company to identify the best employees for a given task and to provide appropriate training for new employees.\n",
    "\n",
    "3. \"There is NO significant interaction effect between software and experience\": This means that the effect of software on the outcome variable does not depend on the experience level of the employees, and vice versa. This suggests that the software programs perform similarly for both novices and experienced employees. This finding can be helpful for the company to decide which software program to use, as they do not need to consider the experience level of the employees when making the choice.\n",
    "\n",
    "\n"
   ]
  },
  {
   "cell_type": "markdown",
   "id": "b684b6e7-5ef3-4691-9bcd-98ec51ff7abf",
   "metadata": {},
   "source": [
    "Q11. An educational researcher is interested in whether a new teaching method improves student test\n",
    "scores. They randomly assign 100 students to either the control group (traditional teaching method) or the\n",
    "experimental group (new teaching method) and administer a test at the end of the semester. Conduct a\n",
    "two-sample t-test using Python to determine if there are any significant differences in test scores\n",
    "between the two groups. If the results are significant, follow up with a post-hoc test to determine which\n",
    "group(s) differ significantly from each other."
   ]
  },
  {
   "cell_type": "code",
   "execution_count": 12,
   "id": "e094f63d-d5f6-4a4a-a479-dd175d21c4f9",
   "metadata": {},
   "outputs": [
    {
     "name": "stdout",
     "output_type": "stream",
     "text": [
      "Simulated data for test_scores:\n",
      "   test_score    group\n",
      "0   70.079124  control\n",
      "1   70.780965  control\n",
      "2   68.814563  control\n",
      "3   69.387097  control\n",
      "4   66.185102  control\n",
      "\n",
      "===============================\n",
      "\n",
      "t-statistic: -28.5074, p-value: 3.096206271894725e-49\n",
      "\n",
      "\n",
      "Reject the Null Hypothesis\n",
      "Conclusion : There is SIGNIFICANT difference in test scores between the control and experimental groups.\n"
     ]
    }
   ],
   "source": [
    "import pandas as pd\n",
    "import numpy as np\n",
    "from scipy.stats import ttest_ind\n",
    "\n",
    "# Setting numpy random seed\n",
    "np.random.seed(45)\n",
    "\n",
    "# Generating normal test scores with same variance for both control groups\n",
    "test_score_control = np.random.normal(loc=70, scale=3, size=50)\n",
    "test_score_experimental = np.random.normal(loc=85, scale=3, size=50)\n",
    "\n",
    "# Creating the dataframe\n",
    "df = pd.DataFrame({'test_score':list(test_score_control)+list(test_score_experimental),\n",
    "                   'group':['control']*50 + ['experimental']*50})\n",
    "\n",
    "# printing the sample dataframe\n",
    "print('Simulated data for test_scores:')\n",
    "print(df.head())\n",
    "print('\\n===============================\\n')\n",
    "\n",
    "null_hypothesis = \"There is NO difference in test scores between the control and experimental groups.\"\n",
    "alt_hypothesis = \"There is SIGNIFICANT difference in test scores between the control and experimental groups.\"\n",
    "\n",
    "# Conduct the two-sample t-test\n",
    "control_scores = df[df['group'] == 'control']['test_score']\n",
    "experimental_scores = df[df['group'] == 'experimental']['test_score']\n",
    "t_stat, p_val = ttest_ind(control_scores, experimental_scores, equal_var=True)\n",
    "print(f\"t-statistic: {t_stat:.4f}, p-value: {p_val}\")\n",
    "print('\\n')\n",
    "\n",
    "# Significance value \n",
    "alpha = 0.05\n",
    "if p_val<alpha:\n",
    "    print('Reject the Null Hypothesis')\n",
    "    print(f'Conclusion : {alt_hypothesis}')\n",
    "else:\n",
    "    print('Failed to reject the Null Hypothesis')\n",
    "    print(f'Conclusion : {null_hypothesis}')"
   ]
  },
  {
   "cell_type": "code",
   "execution_count": 13,
   "id": "8076e060-cb00-4b3b-a37b-90b35418a4e2",
   "metadata": {},
   "outputs": [
    {
     "name": "stdout",
     "output_type": "stream",
     "text": [
      "   Multiple Comparison of Means - Tukey HSD, FWER=0.05    \n",
      "==========================================================\n",
      " group1    group2    meandiff p-adj  lower   upper  reject\n",
      "----------------------------------------------------------\n",
      "control experimental  15.8829   0.0 14.7773 16.9886   True\n",
      "----------------------------------------------------------\n"
     ]
    }
   ],
   "source": [
    "from statsmodels.stats.multicomp import pairwise_tukeyhsd\n",
    "\n",
    "# Conduct post-hoc Tukey's test\n",
    "tukey_results = pairwise_tukeyhsd(df['test_score'], df['group'], 0.05)\n",
    "print(tukey_results)"
   ]
  },
  {
   "cell_type": "markdown",
   "id": "8a18595f-7a23-4144-83b7-b0663d823c3c",
   "metadata": {},
   "source": [
    "Tukey's Results Interpretation\n",
    "Reject = True suggests that there is significant difference in both control and Experimental groups also p-adj is almost 0.\n",
    "\n",
    "Experimental group has increased the performance of test scores of students by mean of 15.88 approximately\n",
    "\n",
    "Mean score improved by Experimental method is (14.78,16.99) with 95% confidence level\n",
    "\n"
   ]
  },
  {
   "cell_type": "markdown",
   "id": "8fa1f560-85c8-4567-89c2-001660035e76",
   "metadata": {},
   "source": [
    "Q12. A researcher wants to know if there are any significant differences in the average daily sales of three\n",
    "retail stores: Store A, Store B, and Store C. They randomly select 30 days and record the sales for each store\n",
    "on those days. Conduct a repeated measures ANOVA using Python to determine if there are any significant differences in sales between the three stores. If the results are significant, follow up with a post-\n",
    "hoc test to determine which store(s) differ significantly from each other."
   ]
  },
  {
   "cell_type": "code",
   "execution_count": 14,
   "id": "c92ea3a3-a445-4f68-b47e-5f014097090b",
   "metadata": {},
   "outputs": [
    {
     "name": "stdout",
     "output_type": "stream",
     "text": [
      "Generated data top 5 rows : \n",
      "   Day    Store        Sales\n",
      "0    0  Store A   933.187150\n",
      "1    1  Store A   950.179048\n",
      "2    2  Store A  1061.857582\n",
      "3    3  Store A  1056.869225\n",
      "4    4  Store A  1135.050948\n",
      "\n",
      "================================================\n",
      "\n",
      "               Anova\n",
      "===================================\n",
      "      F Value Num DF  Den DF Pr > F\n",
      "-----------------------------------\n",
      "Store 51.5040 2.0000 58.0000 0.0000\n",
      "===================================\n",
      "\n",
      "Reject the Null Hypothesis : Atleast one of the group has different mean.\n",
      "\n",
      "Tukey HSD posthoc test:\n",
      "    Multiple Comparison of Means - Tukey HSD, FWER=0.05    \n",
      "===========================================================\n",
      " group1  group2  meandiff p-adj    lower     upper   reject\n",
      "-----------------------------------------------------------\n",
      "Store A Store B   21.2439 0.6945   -40.881   83.3688  False\n",
      "Store A Store C -207.8078    0.0 -269.9328 -145.6829   True\n",
      "Store B Store C -229.0517    0.0 -291.1766 -166.9268   True\n",
      "-----------------------------------------------------------\n"
     ]
    }
   ],
   "source": [
    "import numpy as np\n",
    "import pandas as pd\n",
    "from statsmodels.stats.anova import AnovaRM\n",
    "from statsmodels.stats.multicomp import pairwise_tukeyhsd\n",
    "\n",
    "# set random seed for reproducibility\n",
    "np.random.seed(456)\n",
    "\n",
    "# generate sales data for Store A, B, and C\n",
    "sales_a = np.random.normal(loc=1000, scale=100, size=(30,))\n",
    "sales_b = np.random.normal(loc=1050, scale=150, size=(30,))\n",
    "sales_c = np.random.normal(loc=800, scale=80, size=(30,))\n",
    "\n",
    "# create a DataFrame to store the sales data\n",
    "sales_df = pd.DataFrame({'Store A': sales_a, 'Store B': sales_b, 'Store C': sales_c})\n",
    "\n",
    "# reshape the DataFrame for repeated measures ANOVA\n",
    "sales_melted = pd.melt(sales_df.reset_index(), id_vars=['index'], value_vars=['Store A', 'Store B', 'Store C'])\n",
    "sales_melted.columns = ['Day', 'Store', 'Sales']\n",
    "\n",
    "# Printing top 5 rows of generated data\n",
    "print('Generated data top 5 rows : ')\n",
    "print(sales_melted.head())\n",
    "\n",
    "print('\\n================================================\\n')\n",
    "\n",
    "# perform repeated measures ANOVA\n",
    "rm_anova = AnovaRM(sales_melted, 'Sales', 'Day', within=['Store'])\n",
    "rm_results = rm_anova.fit()\n",
    "print(rm_results)\n",
    "\n",
    "# check if null hypothesis should be rejected based on p-value\n",
    "if rm_results.anova_table['Pr > F'][0] < 0.05:\n",
    "    # perform post-hoc Tukey test\n",
    "    print('Reject the Null Hypothesis : Atleast one of the group has different mean.\\n')\n",
    "    print('Tukey HSD posthoc test:')\n",
    "    tukey_results = pairwise_tukeyhsd(sales_melted['Sales'], sales_melted['Store'])\n",
    "    print(tukey_results)\n",
    "else:\n",
    "    print('NO significant difference between groups.')"
   ]
  },
  {
   "cell_type": "markdown",
   "id": "7f7fabb8-2967-4308-8490-21cf0bb8fec9",
   "metadata": {},
   "source": [
    "Interpretation of above\n",
    "In Repeated Measure ANOVA test we got p_value (Pr>F) as 0.0000 which is less than 0.05 .Reject the Null Hypothesis .Which means atleast one of the mean of groups is different.\n",
    "\n",
    "In Tukey's Post Hoc Test we get following interpretation :\n",
    "\n",
    "No significant difference between sales of Store A and Store B. Store B earns 21.24 dollars more than store A(becuse reject=False for this)\n",
    "Significant difference between sales of Store A and Store C . Store C has approx 207.8 dollars lesser compared to store A (reject=True)\n",
    "Siginficant difference between sales of Store B and Store C . Store C has approx 229.0 dollars lesser compared to store B (reject=True"
   ]
  },
  {
   "cell_type": "code",
   "execution_count": null,
   "id": "59bf1d3c-65bf-46e6-9f12-c39094371503",
   "metadata": {},
   "outputs": [],
   "source": []
  }
 ],
 "metadata": {
  "kernelspec": {
   "display_name": "Python 3 (ipykernel)",
   "language": "python",
   "name": "python3"
  },
  "language_info": {
   "codemirror_mode": {
    "name": "ipython",
    "version": 3
   },
   "file_extension": ".py",
   "mimetype": "text/x-python",
   "name": "python",
   "nbconvert_exporter": "python",
   "pygments_lexer": "ipython3",
   "version": "3.10.8"
  }
 },
 "nbformat": 4,
 "nbformat_minor": 5
}
