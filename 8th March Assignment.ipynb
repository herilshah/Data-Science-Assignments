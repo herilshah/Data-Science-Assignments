{
 "cells": [
  {
   "cell_type": "markdown",
   "id": "85a7b451-8200-4611-ad30-30368e17133b",
   "metadata": {},
   "source": [
    "Q1. What is the Probability density function?"
   ]
  },
  {
   "cell_type": "markdown",
   "id": "363f6f7b-9cb5-4ab4-96e2-22815effa41a",
   "metadata": {},
   "source": [
    "The probability density function (PDF) is a function that describes the relative likelihood for a random variable to take on a given value.\n",
    "Unlike the probability mass function (PMF), which is used for discrete random variables, the PDF is used for continuous random variables. The PDF is defined as the derivative of the cumulative distribution function (CDF) with respect to the variable of interest.\n",
    "\n",
    "Mathematically, the PDF is denoted by f(x) and satisfies the following properties:\n",
    "\n",
    "The probability of a random variable taking on any particular value is zero, i.e., P(X = x) = 0 for all x.\n",
    "\n",
    "The total area under the PDF curve is equal to 1, i.e., ∫f(x)dx = 1, where the integral is taken over the entire range of the random variable.\n",
    "\n",
    "The probability of a random variable falling within a particular range of values is given by the area under the PDF curve between those values.\n",
    "\n",
    "The PDF is an essential concept in probability theory and statistics, as it allows us to calculate probabilities and make inferences about continuous random variables."
   ]
  },
  {
   "cell_type": "markdown",
   "id": "cc981563-de18-4968-ad06-60b5159fd20f",
   "metadata": {},
   "source": [
    "Q2. What are the types of Probability distribution?"
   ]
  },
  {
   "cell_type": "markdown",
   "id": "6056ae70-7afd-4455-a781-7d357743f01d",
   "metadata": {},
   "source": [
    "There are several types of probability distributions, each with its own characteristics and applications. Some of the most common types of probability distributions are:\n",
    "\n",
    "Bernoulli distribution: A discrete distribution that models the probability of a binary outcome (e.g., success/failure, yes/no) in a single trial.\n",
    "\n",
    "Binomial distribution: A discrete distribution that models the number of successes in a fixed number of independent Bernoulli trials.\n",
    "\n",
    "Poisson distribution: A discrete distribution that models the probability of a certain number of events occurring in a fixed time or space interval.\n",
    "\n",
    "Uniform distribution: A continuous distribution where all values in a given range have equal probability of occurring.\n",
    "\n",
    "Normal distribution: A continuous distribution that is symmetrical, bell-shaped, and describes many natural phenomena.\n",
    "\n",
    "Exponential distribution: A continuous distribution that models the time between events occurring in a Poisson process."
   ]
  },
  {
   "cell_type": "markdown",
   "id": "1f496b26-4424-4c90-b9be-3203bbc9119e",
   "metadata": {},
   "source": [
    "Q3. Write a Python function to calculate the probability density function of a normal distribution with\n",
    "given mean and standard deviation at a given point."
   ]
  },
  {
   "cell_type": "code",
   "execution_count": 11,
   "id": "3a5c1e3d-7258-49ac-9df8-9d4231252e26",
   "metadata": {},
   "outputs": [
    {
     "name": "stdout",
     "output_type": "stream",
     "text": [
      "0.02699548325659403\n"
     ]
    }
   ],
   "source": [
    "import math\n",
    "\n",
    "def normal_pdf(x, mean, std_dev):\n",
    "    \"\"\"\n",
    "    Calculates the probability density function of a normal distribution at point x.\n",
    "    \"\"\"\n",
    "    coef = 1 / (std_dev * math.sqrt(2 * math.pi))\n",
    "    exponent = -((x - mean)**2 / (2 * std_dev**2))\n",
    "    return coef * math.exp(exponent)\n",
    "pdf = normal_pdf(9, 5, 2)\n",
    "print(pdf)  "
   ]
  },
  {
   "cell_type": "markdown",
   "id": "1a90f476-66c7-4323-bb9f-41f93ac2cc6b",
   "metadata": {},
   "source": [
    "Q4. What are the properties of Binomial distribution? Give two examples of events where binomial\n",
    "distribution can be applied."
   ]
  },
  {
   "cell_type": "markdown",
   "id": "d8b6288a-f64e-415f-aef0-475a40f0b337",
   "metadata": {},
   "source": [
    "The binomial distribution is a probability distribution that describes the number of successes in a fixed number of independent and identical trials, where each trial has only two possible outcomes (success or failure). The properties of the binomial distribution are:\n",
    "\n",
    "The distribution is discrete, meaning that the random variable can only take on integer values. The distribution is characterized by two parameters: n, the number of trials, and p, the probability of success on each trial. The mean of the distribution is np, and the variance is np(1-p). The shape of the distribution is symmetric for values of p=0.5, and becomes increasingly skewed as p moves away from 0.5.\n",
    "\n",
    "Two examples of events where the binomial distribution can be applied are:\n",
    "\n",
    "Tossing a coin: Suppose we toss a fair coin (where the probability of getting heads is p=0.5) 10 times. The number of heads we get in this experiment follows a binomial distribution with parameters n=10 and p=0.5.\n",
    "\n",
    "Quality control: A manufacturer wants to check the quality of a batch of 1000 products, and decides to inspect 10% of the items at random. Let's assume that each product has a probability p=0.95 of passing the inspection. The number of products that pass the inspection follows a binomial distribution with parameters n=100 and p=0.95.m"
   ]
  },
  {
   "cell_type": "markdown",
   "id": "3c43c8b1-b53f-4d35-9427-13111c13fab2",
   "metadata": {},
   "source": [
    "Q5. Generate a random sample of size 1000 from a binomial distribution with probability of success 0.4\n",
    "and plot a histogram of the results using matplotlib."
   ]
  },
  {
   "cell_type": "code",
   "execution_count": 12,
   "id": "e229b7f1-b9ef-45b0-b10e-36936714fbca",
   "metadata": {},
   "outputs": [
    {
     "data": {
      "image/png": "[encoded data removed]",
      "text/plain": [
       "<Figure size 640x480 with 1 Axes>"
      ]
     },
     "metadata": {},
     "output_type": "display_data"
    }
   ],
   "source": [
    "import numpy as np\n",
    "import matplotlib.pyplot as plt\n",
    "\n",
    "# Generate 1000 samples from a binomial distribution\n",
    "n = 1000\n",
    "p = 0.4\n",
    "sample = np.random.binomial(n, p, size=1000)\n",
    "\n",
    "# Plot histogram of results\n",
    "plt.hist(sample, bins=range(0, n+1))\n",
    "plt.title(\"Binomial Distribution\")\n",
    "plt.xlabel(\"Number of Successes\")\n",
    "plt.ylabel(\"Frequency\")\n",
    "plt.show()\n"
   ]
  },
  {
   "cell_type": "markdown",
   "id": "37af77b9-ceb2-4e09-b4b3-b8c7c43eea25",
   "metadata": {},
   "source": [
    "Q6. Write a Python function to calculate the cumulative distribution function of a Poisson distribution\n",
    "with given mean at a given point."
   ]
  },
  {
   "cell_type": "code",
   "execution_count": 13,
   "id": "8db2399c-7d6e-40df-82d9-6f8daf91b420",
   "metadata": {},
   "outputs": [],
   "source": [
    "import math\n",
    "\n",
    "def poisson_cdf(mu, k):\n",
    "    \"\"\"\n",
    "    Calculate the cumulative distribution function (CDF) of a Poisson distribution with mean mu at point k.\n",
    "    \"\"\"\n",
    "    cdf = 0.0\n",
    "    for i in range(k+1):\n",
    "        cdf += math.exp(-mu) * (mu ** i) / math.factorial(i)\n",
    "    return cdf"
   ]
  },
  {
   "cell_type": "code",
   "execution_count": 14,
   "id": "447a6af5-6c0f-46cd-9fb7-714303c0bcf3",
   "metadata": {},
   "outputs": [
    {
     "name": "stdout",
     "output_type": "stream",
     "text": [
      "0.7575761331330659\n"
     ]
    }
   ],
   "source": [
    "# Calculate the Poisson CDF at k=3 with mean mu=2.5\n",
    "result = poisson_cdf(2.5, 3)\n",
    "print(result)"
   ]
  },
  {
   "cell_type": "markdown",
   "id": "3461ee80-8baa-4ab8-8cc9-6c75175fa75a",
   "metadata": {},
   "source": [
    "Q7. How Binomial distribution different from Poisson distribution?"
   ]
  },
  {
   "cell_type": "markdown",
   "id": "9746ee8b-6725-4f17-96a3-d06957d6f3bf",
   "metadata": {},
   "source": [
    "Binomial and Poisson distributions are both probability distributions used in statistical inference and modeling, but they differ in several important ways:\n",
    "\n",
    "Nature of Events: The Binomial distribution is used to model the number of successes in a fixed number of independent Bernoulli trials, where each trial has only two possible outcomes (success or failure). On the other hand, the Poisson distribution is used to model the number of rare events that occur over a fixed interval of time or space.\n",
    "\n",
    "Assumptions: The Binomial distribution assumes a fixed number of trials and that the probability of success is constant across all trials. The Poisson distribution assumes that the rare events occur randomly and independently in time or space.\n",
    "\n",
    "Parameterization: The Binomial distribution is parameterized by the number of trials (n) and the probability of success on each trial (p), while the Poisson distribution is parameterized by the rate parameter (λ) which represents the average number of rare events per unit of time or space.\n",
    "\n",
    "Range of Values: The Binomial distribution is a discrete distribution and can take on integer values between 0 and n, while the Poisson distribution is also a discrete distribution but can take on any non-negative integer value.\n",
    "\n",
    "Relationship: The Poisson distribution can be derived from the Binomial distribution in the limit as the number of trials becomes large and the probability of success becomes small, while holding the expected number of successes fixed.\n",
    "\n",
    "In summary, while both the Binomial and Poisson distributions are discrete probability distributions, they are used to model different types of events and have different assumptions and parameterizations"
   ]
  },
  {
   "cell_type": "markdown",
   "id": "7fae9011-1e40-449b-9ee9-98b1531a6413",
   "metadata": {},
   "source": [
    "Q8. Generate a random sample of size 1000 from a Poisson distribution with mean 5 and calculate the\n",
    "sample mean and variance."
   ]
  },
  {
   "cell_type": "markdown",
   "id": "0be07ebc-1eaf-4f5b-a84b-ebefa6895453",
   "metadata": {},
   "source": [
    " Here is a Python code to generate a random sample of size 1000 from a Poisson distribution with mean 5 and calculate the sample mean and variance:"
   ]
  },
  {
   "cell_type": "code",
   "execution_count": 15,
   "id": "0b95f913-f596-4720-8ee2-13930e33db85",
   "metadata": {},
   "outputs": [
    {
     "name": "stdout",
     "output_type": "stream",
     "text": [
      "Sample mean: 5.041\n",
      "Sample variance: 5.361319\n"
     ]
    }
   ],
   "source": [
    "import numpy as np\n",
    "\n",
    "# generate random sample of size 1000 from Poisson distribution with mean 5\n",
    "sample = np.random.poisson(5, size=1000)\n",
    "\n",
    "# calculate sample mean and variance\n",
    "sample_mean = np.mean(sample)\n",
    "sample_var = np.var(sample)\n",
    "\n",
    "print(\"Sample mean:\", sample_mean)\n",
    "print(\"Sample variance:\", sample_var)\n"
   ]
  },
  {
   "cell_type": "markdown",
   "id": "2ecaa53d-c66a-4019-bfec-9eff8c77d1d7",
   "metadata": {},
   "source": [
    "Q9. How mean and variance are related in Binomial distribution and Poisson distribution?"
   ]
  },
  {
   "cell_type": "markdown",
   "id": "1ba42b09-fdb9-4afe-b43d-040f8589a1ce",
   "metadata": {},
   "source": [
    "The mean and variance in a Binomial distribution and a Poisson distribution are related as follows:\n",
    "\n",
    "For a Binomial distribution with parameters n and p, the mean is given by np and the variance is given by np(1-p).\n",
    "\n",
    "For a Poisson distribution with parameter λ, the mean and variance are both equal to λ.\n",
    "\n",
    "In other words, the variance of a Binomial distribution depends on both the number of trials and the probability of success, whereas the variance of a Poisson distribution depends only on the mean."
   ]
  },
  {
   "cell_type": "raw",
   "id": "386b81a3-6ec0-4102-9003-375aac5b048f",
   "metadata": {},
   "source": [
    "Q10. In normal distribution with respect to mean position, where does the least frequent data appear?"
   ]
  },
  {
   "cell_type": "markdown",
   "id": "2b51992a-4b0a-4dda-9cd5-761c57e83aa2",
   "metadata": {},
   "source": [
    " In a normal distribution, the least frequent data appears at the extremes, which are the points that are furthest away from the mean. Specifically, data points that are more than 2 standard deviations away from the mean are considered to be relatively rare, with only about 5% of the data falling outside this range in a standard normal distribution."
   ]
  },
  {
   "cell_type": "code",
   "execution_count": null,
   "id": "1a7f067e-e0fe-45c9-9c9b-2bd56fb40440",
   "metadata": {},
   "outputs": [],
   "source": []
  },
  {
   "cell_type": "code",
   "execution_count": null,
   "id": "5f50fcf3-e178-4ce2-bcbb-d82d013791be",
   "metadata": {},
   "outputs": [],
   "source": []
  },
  {
   "cell_type": "code",
   "execution_count": null,
   "id": "22b6facd-0dd0-4050-acd5-295f540f7fc0",
   "metadata": {},
   "outputs": [],
   "source": []
  }
 ],
 "metadata": {
  "kernelspec": {
   "display_name": "Python 3 (ipykernel)",
   "language": "python",
   "name": "python3"
  },
  "language_info": {
   "codemirror_mode": {
    "name": "ipython",
    "version": 3
   },
   "file_extension": ".py",
   "mimetype": "text/x-python",
   "name": "python",
   "nbconvert_exporter": "python",
   "pygments_lexer": "ipython3",
   "version": "3.10.8"
  }
 },
 "nbformat": 4,
 "nbformat_minor": 5
}
