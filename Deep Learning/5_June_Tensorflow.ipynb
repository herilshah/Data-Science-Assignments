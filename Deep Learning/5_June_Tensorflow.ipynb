{
  "cells": [
    {
      "cell_type": "markdown",
      "metadata": {
        "id": "hm4UloMCUI_K"
      },
      "source": [
        "**Part 1: Theoretical Questions**\n",
        "\n"
      ]
    },
    {
      "cell_type": "markdown",
      "metadata": {
        "id": "eBnxAeBxUI_L"
      },
      "source": [
        "## Q1. What is different data structures used in Tensorflow ? Give some examples\n",
        "---"
      ]
    },
    {
      "cell_type": "markdown",
      "metadata": {
        "id": "fR-_GSaMUI_Q"
      },
      "source": [
        "### TensorFlow, a popular open-source machine learning framework, provides several different data structures to efficiently handle and manipulate data for building and training machine learning models. Some of the key data structures used in TensorFlow include:\n",
        "\n",
        "1. `Tensors` : Tensors are the fundamental building blocks in TensorFlow. They are n-dimensional arrays that represent the data in the computation graph. Tensors can be scalars (0-dimensional), vectors (1-dimensional), matrices (2-dimensional), or higher-dimensional arrays. TensorFlow tensors can be created using functions like tf.constant(), tf.Variable(), and by performing various operations on existing tensors."
      ]
    },
    {
      "cell_type": "code",
      "execution_count": 2,
      "metadata": {
        "id": "uUxsZiGsUI_R"
      },
      "outputs": [],
      "source": [
        "import tensorflow as tf\n",
        "\n",
        "# Creating tensors\n",
        "scalar = tf.constant(10)\n",
        "vector = tf.constant([1, 2, 3, 4, 5, 6])\n",
        "matrix = tf.constant([[1, 2], [3, 4]])"
      ]
    },
    {
      "cell_type": "code",
      "execution_count": 3,
      "metadata": {
        "colab": {
          "base_uri": "https://localhost:8080/"
        },
        "id": "F0H1M1s_UI_U",
        "outputId": "0e20dd47-90fe-4a36-9b89-d0a9bd76c27f"
      },
      "outputs": [
        {
          "output_type": "execute_result",
          "data": {
            "text/plain": [
              "<tf.Tensor: shape=(), dtype=int32, numpy=10>"
            ]
          },
          "metadata": {},
          "execution_count": 3
        }
      ],
      "source": [
        "scalar"
      ]
    },
    {
      "cell_type": "code",
      "execution_count": 4,
      "metadata": {
        "colab": {
          "base_uri": "https://localhost:8080/"
        },
        "id": "KtN3Rs2XUI_W",
        "outputId": "80cfb906-8e81-4d6b-a793-5e48e07380c1"
      },
      "outputs": [
        {
          "output_type": "execute_result",
          "data": {
            "text/plain": [
              "<tf.Tensor: shape=(6,), dtype=int32, numpy=array([1, 2, 3, 4, 5, 6], dtype=int32)>"
            ]
          },
          "metadata": {},
          "execution_count": 4
        }
      ],
      "source": [
        "vector"
      ]
    },
    {
      "cell_type": "code",
      "execution_count": 5,
      "metadata": {
        "colab": {
          "base_uri": "https://localhost:8080/"
        },
        "id": "aPM39PuXUI_X",
        "outputId": "faa6e988-d158-49a5-d6af-3052a0bce61f"
      },
      "outputs": [
        {
          "output_type": "execute_result",
          "data": {
            "text/plain": [
              "<tf.Tensor: shape=(2, 2), dtype=int32, numpy=\n",
              "array([[1, 2],\n",
              "       [3, 4]], dtype=int32)>"
            ]
          },
          "metadata": {},
          "execution_count": 5
        }
      ],
      "source": [
        "matrix"
      ]
    },
    {
      "cell_type": "markdown",
      "metadata": {
        "id": "TNanN4QdUI_X"
      },
      "source": [
        "2. `Variables`: TensorFlow Variables are special tensors that can hold mutable state. They are often used to store model parameters that need to be learned during training. Variables are typically initialized with some initial values and then updated through operations."
      ]
    },
    {
      "cell_type": "code",
      "execution_count": 8,
      "metadata": {
        "id": "frobDv_PUI_Y"
      },
      "outputs": [],
      "source": [
        "# Creating a variable\n",
        "initial_value = tf.random.normal(shape=(6, 6))\n",
        "model_weights = tf.Variable(initial_value)"
      ]
    },
    {
      "cell_type": "code",
      "execution_count": 9,
      "metadata": {
        "id": "XoNbY-iTUI_Y",
        "outputId": "a1d79ba3-0db1-477c-a890-68b9c5d53453",
        "colab": {
          "base_uri": "https://localhost:8080/"
        }
      },
      "outputs": [
        {
          "output_type": "execute_result",
          "data": {
            "text/plain": [
              "<tf.Tensor: shape=(6, 6), dtype=float32, numpy=\n",
              "array([[-2.3131151 ,  0.0440109 ,  0.29744846,  1.8803967 ,  0.03337547,\n",
              "         0.97574615],\n",
              "       [ 0.43562785, -1.4715364 , -0.95558655,  0.00952041,  0.74801004,\n",
              "        -0.30931878],\n",
              "       [ 0.3415289 ,  0.62640417,  0.883265  ,  0.43127805,  0.29796487,\n",
              "         1.438003  ],\n",
              "       [-0.9760235 , -2.010557  ,  0.5239883 , -0.42228982, -0.41784635,\n",
              "         0.30849388],\n",
              "       [-0.01213103, -0.6861366 , -0.7718909 ,  0.5777891 , -1.2169088 ,\n",
              "        -0.10302201],\n",
              "       [-2.6531467 , -0.89223605,  0.825566  , -0.80281615, -0.2876945 ,\n",
              "         0.44386384]], dtype=float32)>"
            ]
          },
          "metadata": {},
          "execution_count": 9
        }
      ],
      "source": [
        "initial_value"
      ]
    },
    {
      "cell_type": "code",
      "execution_count": 10,
      "metadata": {
        "id": "dtZLpwgUUI_Y",
        "outputId": "92830ff1-00cf-4d57-e637-877bba6b8aaa",
        "colab": {
          "base_uri": "https://localhost:8080/"
        }
      },
      "outputs": [
        {
          "output_type": "execute_result",
          "data": {
            "text/plain": [
              "<tf.Variable 'Variable:0' shape=(6, 6) dtype=float32, numpy=\n",
              "array([[-2.3131151 ,  0.0440109 ,  0.29744846,  1.8803967 ,  0.03337547,\n",
              "         0.97574615],\n",
              "       [ 0.43562785, -1.4715364 , -0.95558655,  0.00952041,  0.74801004,\n",
              "        -0.30931878],\n",
              "       [ 0.3415289 ,  0.62640417,  0.883265  ,  0.43127805,  0.29796487,\n",
              "         1.438003  ],\n",
              "       [-0.9760235 , -2.010557  ,  0.5239883 , -0.42228982, -0.41784635,\n",
              "         0.30849388],\n",
              "       [-0.01213103, -0.6861366 , -0.7718909 ,  0.5777891 , -1.2169088 ,\n",
              "        -0.10302201],\n",
              "       [-2.6531467 , -0.89223605,  0.825566  , -0.80281615, -0.2876945 ,\n",
              "         0.44386384]], dtype=float32)>"
            ]
          },
          "metadata": {},
          "execution_count": 10
        }
      ],
      "source": [
        "model_weights"
      ]
    },
    {
      "cell_type": "markdown",
      "metadata": {
        "id": "tZ-ydynEUI_Z"
      },
      "source": [
        "3. `Constants`: Constants are tensors with fixed values that remain unchanged throughout the computation. They are often used for providing constant inputs or values to the computation graph."
      ]
    },
    {
      "cell_type": "code",
      "execution_count": 11,
      "metadata": {
        "id": "GwKuYtuUUI_Z"
      },
      "outputs": [],
      "source": [
        "# Creating a constant\n",
        "pi = tf.constant(3.14159)"
      ]
    },
    {
      "cell_type": "code",
      "execution_count": 12,
      "metadata": {
        "id": "3T7dfKfrUI_Z",
        "outputId": "35782287-c073-4a74-c447-849d77e83ec7",
        "colab": {
          "base_uri": "https://localhost:8080/"
        }
      },
      "outputs": [
        {
          "output_type": "execute_result",
          "data": {
            "text/plain": [
              "<tf.Tensor: shape=(), dtype=float32, numpy=3.14159>"
            ]
          },
          "metadata": {},
          "execution_count": 12
        }
      ],
      "source": [
        "pi"
      ]
    },
    {
      "cell_type": "markdown",
      "metadata": {
        "id": "1BVqaz_sUI_Z"
      },
      "source": [
        "4. `Placeholders (Deprecated)`: In older versions of TensorFlow (before TensorFlow 2.0), placeholders were used to feed data into the computation graph during training. However, placeholders have been deprecated in favor of the new tf.data API and eager execution in TensorFlow 2.0 and later.\n",
        "\n",
        "5. `Sparse Tensors`: Sparse tensors are designed to efficiently represent tensors with a large number of zero elements. They are useful for tasks involving sparse data, such as natural language processing or certain types of neural networks."
      ]
    },
    {
      "cell_type": "code",
      "execution_count": 13,
      "metadata": {
        "id": "WckiN638UI_a"
      },
      "outputs": [],
      "source": [
        "indices = [[0, 1], [1, 2]]\n",
        "values = [1, 2]\n",
        "shape = [3, 4]\n",
        "sparse_tensor = tf.SparseTensor(indices, values, shape)"
      ]
    },
    {
      "cell_type": "code",
      "execution_count": 14,
      "metadata": {
        "id": "nls4QiWoUI_a",
        "outputId": "d00ce8ef-dc70-44e6-fa4d-4de64629063f",
        "colab": {
          "base_uri": "https://localhost:8080/"
        }
      },
      "outputs": [
        {
          "output_type": "execute_result",
          "data": {
            "text/plain": [
              "SparseTensor(indices=tf.Tensor(\n",
              "[[0 1]\n",
              " [1 2]], shape=(2, 2), dtype=int64), values=tf.Tensor([1 2], shape=(2,), dtype=int32), dense_shape=tf.Tensor([3 4], shape=(2,), dtype=int64))"
            ]
          },
          "metadata": {},
          "execution_count": 14
        }
      ],
      "source": [
        "sparse_tensor"
      ]
    },
    {
      "cell_type": "markdown",
      "metadata": {
        "id": "lqlvfqynUI_a"
      },
      "source": [
        "6. `Ragged Tensors`: Ragged tensors are used to represent tensors with varying lengths along one or more dimensions. They are useful for sequences or nested data structures."
      ]
    },
    {
      "cell_type": "code",
      "execution_count": 15,
      "metadata": {
        "id": "6I3NAYM8UI_b"
      },
      "outputs": [],
      "source": [
        "# Creating a ragged tensor\n",
        "values = tf.ragged.constant([[1, 2], [3, 4, 5], [6]])"
      ]
    },
    {
      "cell_type": "code",
      "execution_count": 16,
      "metadata": {
        "id": "02ios1KSUI_e",
        "outputId": "933cdb17-1a58-4636-a54b-d66becacb786",
        "colab": {
          "base_uri": "https://localhost:8080/"
        }
      },
      "outputs": [
        {
          "output_type": "execute_result",
          "data": {
            "text/plain": [
              "<tf.RaggedTensor [[1, 2], [3, 4, 5], [6]]>"
            ]
          },
          "metadata": {},
          "execution_count": 16
        }
      ],
      "source": [
        "values"
      ]
    },
    {
      "cell_type": "markdown",
      "metadata": {
        "id": "WVU0u4m8UI_g"
      },
      "source": [
        "7. `TensorArray`: TensorArray is a dynamic data structure that allows you to store tensors of different shapes and sizes. It's often used in dynamic loop constructs."
      ]
    },
    {
      "cell_type": "code",
      "execution_count": 17,
      "metadata": {
        "id": "aewRoaAJUI_g"
      },
      "outputs": [],
      "source": [
        "# Creating a TensorArray\n",
        "ta = tf.TensorArray(dtype=tf.float32, size=0, dynamic_size=True)"
      ]
    },
    {
      "cell_type": "code",
      "execution_count": 18,
      "metadata": {
        "id": "caPDeWn_UI_h",
        "outputId": "818f2da3-b34a-4d41-aae4-e3fa8cd7c1b6",
        "colab": {
          "base_uri": "https://localhost:8080/"
        }
      },
      "outputs": [
        {
          "output_type": "execute_result",
          "data": {
            "text/plain": [
              "<tensorflow.python.ops.tensor_array_ops.TensorArray at 0x7ad17f1e5ba0>"
            ]
          },
          "metadata": {},
          "execution_count": 18
        }
      ],
      "source": [
        "ta"
      ]
    },
    {
      "cell_type": "markdown",
      "metadata": {
        "id": "jSalyMquUI_i"
      },
      "source": [
        "## Q2. How does TensorFlow constant differ from TensorFlow Variable? Explain with example\n",
        "---"
      ]
    },
    {
      "cell_type": "markdown",
      "metadata": {
        "id": "IP1-S7NDUI_j"
      },
      "source": [
        "### Both TensorFlow constants and variables are fundamental data structures, but they have different purposes and behaviors within a TensorFlow computation graph.\n",
        "\n",
        "## TensorFlow Constants:\n",
        "- Constants are tensors with fixed values that remain unchanged throughout the computation.\n",
        "- They are typically used to provide inputs or fixed values to the computation graph.\n",
        "- Constants cannot be modified or updated after they are created.\n",
        "\n",
        "## TensorFlow Variables:\n",
        "- Variables are tensors that hold mutable state, often used for model parameters that need to be learned during training.\n",
        "- They are initialized with initial values and can be updated through operations like assignments.\n",
        "- Variables can be used to store and update values as the model iteratively adjusts its parameters during training.\n",
        "\n",
        "Let's illustrate the difference with examples:"
      ]
    },
    {
      "cell_type": "markdown",
      "metadata": {
        "id": "obl0fUMfUI_j"
      },
      "source": [
        "**Example of TensorFlow Constant:**"
      ]
    },
    {
      "cell_type": "code",
      "execution_count": 19,
      "metadata": {
        "id": "G81wKNxGUI_j",
        "outputId": "9f5a102c-7dd4-42ab-fcbd-3882b8587014",
        "colab": {
          "base_uri": "https://localhost:8080/"
        }
      },
      "outputs": [
        {
          "output_type": "stream",
          "name": "stdout",
          "text": [
            "Error: 'tensorflow.python.framework.ops.EagerTensor' object has no attribute 'assign'\n"
          ]
        }
      ],
      "source": [
        "import tensorflow as tf\n",
        "\n",
        "# Creating a constant\n",
        "a = tf.constant(4)\n",
        "\n",
        "# Attempting to assign a new value to a constant will result in an error\n",
        "try:\n",
        "    a.assign(8)  # This will raise an error\n",
        "except Exception as e:\n",
        "    print(\"Error:\", e)"
      ]
    },
    {
      "cell_type": "markdown",
      "metadata": {
        "id": "44us2CfmUI_k"
      },
      "source": [
        "**Example of TensorFlow Variable:**"
      ]
    },
    {
      "cell_type": "code",
      "execution_count": 20,
      "metadata": {
        "id": "wDDulAkEUI_k",
        "outputId": "59224b54-3daa-4783-d010-198ef637080c",
        "colab": {
          "base_uri": "https://localhost:8080/"
        }
      },
      "outputs": [
        {
          "output_type": "stream",
          "name": "stdout",
          "text": [
            "Initial 'b': <tf.Variable 'Variable:0' shape=(3, 3) dtype=float32, numpy=\n",
            "array([[ 1.0866971 ,  1.0040342 , -0.99309117],\n",
            "       [-0.1838116 , -1.8002889 , -0.48294345],\n",
            "       [-1.1167066 ,  0.85398287,  1.1814251 ]], dtype=float32)>\n",
            "\n",
            "Updated 'b': <tf.Variable 'Variable:0' shape=(3, 3) dtype=float32, numpy=\n",
            "array([[ 1.5529047 , -1.5110285 , -1.7178645 ],\n",
            "       [ 0.96474385,  0.2063866 , -1.0428071 ],\n",
            "       [ 0.17149894,  0.28885084, -0.8135703 ]], dtype=float32)>\n"
          ]
        }
      ],
      "source": [
        "import tensorflow as tf\n",
        "\n",
        "# Creating a variable with an initial value\n",
        "initial_value = tf.random.normal(shape=(3, 3))\n",
        "b = tf.Variable(initial_value)\n",
        "\n",
        "print(\"Initial 'b':\",b)\n",
        "\n",
        "# Assigning a new value to the variable using the assign() operation\n",
        "new_value = tf.random.normal(shape=(3, 3))\n",
        "b.assign(new_value)\n",
        "\n",
        "# Now 'b' holds the new value assigned to it\n",
        "print(\"\\nUpdated 'b':\", b)"
      ]
    },
    {
      "cell_type": "markdown",
      "metadata": {
        "id": "_qVLhMPUUI_m"
      },
      "source": [
        "### In the second example, you can see that a TensorFlow variable b is created with an initial value. Unlike constants, variables can be assigned new values using the assign() operation. This capability is crucial during the training process, where model parameters (weights and biases) are updated iteratively to minimize the loss function.\n",
        "\n",
        "### In summary, constants are used to provide fixed inputs or values, while variables are used to hold and update mutable state, often representing model parameters.\n",
        "\n",
        "---\n",
        "---"
      ]
    },
    {
      "cell_type": "markdown",
      "metadata": {
        "id": "eSsLu95iUI_n"
      },
      "source": [
        "## Q3. Describe the process of matrix addition, multiplication and element wise operations in Tensorflow.\n",
        "---"
      ]
    },
    {
      "cell_type": "markdown",
      "metadata": {
        "id": "TY0XtdrtUI_o"
      },
      "source": [
        "### 1.Matrix Addition:\n",
        "\n",
        "Matrix addition is a basic arithmetic operation where corresponding elements of two matrices are added together to create a new matrix of the same dimensions. In TensorFlow, you can perform matrix addition using the tf.add() function or by using the + operator."
      ]
    },
    {
      "cell_type": "code",
      "execution_count": 21,
      "metadata": {
        "id": "HZ59rzOQUI_o",
        "outputId": "85b5749f-2df4-4455-d562-6c17fce6e4f3",
        "colab": {
          "base_uri": "https://localhost:8080/"
        }
      },
      "outputs": [
        {
          "output_type": "stream",
          "name": "stdout",
          "text": [
            "Matrix Addition Result:\n",
            "[[ 6  8]\n",
            " [10 12]]\n",
            "[[ 6  8]\n",
            " [10 12]]\n"
          ]
        }
      ],
      "source": [
        "import tensorflow as tf\n",
        "\n",
        "# Define two matrices\n",
        "matrix_a = tf.constant([[1, 2], [3, 4]])\n",
        "matrix_b = tf.constant([[5, 6], [7, 8]])\n",
        "\n",
        "# Perform matrix addition\n",
        "result = tf.add(matrix_a, matrix_b)\n",
        "\n",
        "# Alternatively, you can use the + operator\n",
        "result_alternative = matrix_a + matrix_b\n",
        "\n",
        "print(\"Matrix Addition Result:\")\n",
        "print(result.numpy())\n",
        "print(result_alternative.numpy())"
      ]
    },
    {
      "cell_type": "markdown",
      "metadata": {
        "id": "O1uSW00CUI_z"
      },
      "source": [
        "### 2. Matrix Multiplication:\n",
        "\n",
        "Matrix multiplication is a more complex operation where the dot product of rows and columns of two matrices results in a new matrix. TensorFlow provides the tf.matmul() function to perform matrix multiplication."
      ]
    },
    {
      "cell_type": "code",
      "execution_count": 22,
      "metadata": {
        "id": "wDGkGY5pUI_0",
        "outputId": "ece2d2bc-0777-484d-d69b-6b5aea1342d3",
        "colab": {
          "base_uri": "https://localhost:8080/"
        }
      },
      "outputs": [
        {
          "output_type": "stream",
          "name": "stdout",
          "text": [
            "Matrix Multiplication Result:\n",
            "[[19 22]\n",
            " [43 50]]\n"
          ]
        }
      ],
      "source": [
        "import tensorflow as tf\n",
        "\n",
        "# Define two matrices\n",
        "matrix_a = tf.constant([[1, 2], [3, 4]])\n",
        "matrix_b = tf.constant([[5, 6], [7, 8]])\n",
        "\n",
        "# Perform matrix multiplication\n",
        "result = tf.matmul(matrix_a, matrix_b)\n",
        "\n",
        "print(\"Matrix Multiplication Result:\")\n",
        "print(result.numpy())"
      ]
    },
    {
      "cell_type": "markdown",
      "metadata": {
        "id": "US79tFVUUI_0"
      },
      "source": [
        "### 3. Element-wise Operations:\n",
        "Element-wise operations involve applying an operation to each corresponding element of two matrices (or a matrix and a scalar). TensorFlow allows you to perform a variety of element-wise operations, such as addition, subtraction, multiplication, division, and more."
      ]
    },
    {
      "cell_type": "code",
      "execution_count": 23,
      "metadata": {
        "id": "EaaAGEPAUI_1",
        "outputId": "47003754-f15f-487b-9f3d-5ec9e4602e66",
        "colab": {
          "base_uri": "https://localhost:8080/"
        }
      },
      "outputs": [
        {
          "output_type": "stream",
          "name": "stdout",
          "text": [
            "Element-wise Addition Result:\n",
            "[[3 4]\n",
            " [5 6]]\n",
            "Element-wise Multiplication Result:\n",
            "[[2 4]\n",
            " [6 8]]\n"
          ]
        }
      ],
      "source": [
        "import tensorflow as tf\n",
        "\n",
        "# Define a matrix and a scalar\n",
        "matrix = tf.constant([[1, 2], [3, 4]])\n",
        "scalar = 2\n",
        "\n",
        "# Perform element-wise addition\n",
        "result_add = matrix + scalar\n",
        "\n",
        "# Perform element-wise multiplication\n",
        "result_multiply = matrix * scalar\n",
        "\n",
        "print(\"Element-wise Addition Result:\")\n",
        "print(result_add.numpy())\n",
        "\n",
        "print(\"Element-wise Multiplication Result:\")\n",
        "print(result_multiply.numpy())"
      ]
    },
    {
      "cell_type": "markdown",
      "metadata": {
        "id": "-RSG0pzpUI_1"
      },
      "source": [
        "### In TensorFlow, these operations are efficiently handled using optimized numerical libraries, such as Intel MKL and NVIDIA cuBLAS, for CPU and GPU computation, respectively. These libraries allow TensorFlow to take advantage of hardware acceleration for faster computation.\n",
        "\n",
        "### Remember that proper matrix dimensions and compatibility are crucial for matrix multiplication. The number of columns in the first matrix must match the number of rows in the second matrix for successful matrix multiplication. Element-wise operations require matrices or tensors to have the same shape or be broadcastable.\n",
        "\n",
        "---\n",
        "---"
      ]
    },
    {
      "cell_type": "markdown",
      "metadata": {
        "id": "4jtU3k1oUI_2"
      },
      "source": [
        "**Part 2: Practical Implementation**"
      ]
    },
    {
      "cell_type": "markdown",
      "metadata": {
        "id": "tXW1nqM5UI_2"
      },
      "source": [
        "# Task 1 : Creating and Manipulating matrices\n",
        "---"
      ]
    },
    {
      "cell_type": "markdown",
      "metadata": {
        "id": "5K3ep5n8UI_2"
      },
      "source": [
        "## Q1. Create a normal matrix A with dimensions 3x3, using Tensorflows random normal function. Display the value of matrix A.\n",
        "---"
      ]
    },
    {
      "cell_type": "code",
      "execution_count": 24,
      "metadata": {
        "id": "SQMWI976UI_3",
        "outputId": "d4ac0832-18dc-4fbb-e95d-33d34d2485d6",
        "colab": {
          "base_uri": "https://localhost:8080/"
        }
      },
      "outputs": [
        {
          "output_type": "stream",
          "name": "stdout",
          "text": [
            "Matrix A:\n",
            "tf.Tensor(\n",
            "[[ 0.7514016  -0.01408595 -0.63111496]\n",
            " [ 0.31570026 -1.2345266  -1.6878096 ]\n",
            " [-0.27566957 -1.2404485   1.8445723 ]], shape=(3, 3), dtype=float32)\n"
          ]
        }
      ],
      "source": [
        "import tensorflow as tf\n",
        "\n",
        "# Create a 3x3 matrix with random values from a normal distribution\n",
        "A = tf.random.normal(shape=(3, 3))\n",
        "\n",
        "# Display the value of matrix A\n",
        "print(\"Matrix A:\")\n",
        "print(A)"
      ]
    },
    {
      "cell_type": "markdown",
      "metadata": {
        "id": "uUfNr0AGUI_4"
      },
      "source": [
        "## Q2. Create a Gaussian Matrix B with dimension 4X4, using truncated_normal function. Display the values of Matrix B\n",
        "---"
      ]
    },
    {
      "cell_type": "code",
      "execution_count": 25,
      "metadata": {
        "id": "pyXdc2cWUI_4",
        "outputId": "be50a93b-6da3-4f53-de1b-d2a010b3f4b4",
        "colab": {
          "base_uri": "https://localhost:8080/"
        }
      },
      "outputs": [
        {
          "output_type": "stream",
          "name": "stdout",
          "text": [
            "Matrix B:\n",
            "[[-0.7251475  -0.8183251   1.3367926  -0.62212795]\n",
            " [ 0.55693215 -0.3758494  -1.2475643   0.46360412]\n",
            " [-1.5733156   0.15936531  0.4544715  -1.8297238 ]\n",
            " [-0.09446213  0.5764355  -1.1420331   0.88677186]]\n"
          ]
        }
      ],
      "source": [
        "import tensorflow as tf\n",
        "\n",
        "# Define the dimensions of the matrix\n",
        "matrix_shape = (4, 4)\n",
        "\n",
        "# Generate a Gaussian matrix using truncated normal distribution\n",
        "mean = 0\n",
        "stddev = 1\n",
        "B = tf.random.truncated_normal(shape=matrix_shape, mean=mean, stddev=stddev)\n",
        "\n",
        "# Display the generated matrix\n",
        "print(\"Matrix B:\")\n",
        "print(B.numpy())"
      ]
    },
    {
      "cell_type": "markdown",
      "metadata": {
        "id": "O7g8Q2G7UI_5"
      },
      "source": [
        "## Q3. Create a Gaussian Matrix C with dimension 2X2, where values are drawn from normal distribution with a mean of 3 and a standard deviation of 0.5, using Tensorflow's random.normal function Display values of matrix C.\n",
        "---"
      ]
    },
    {
      "cell_type": "code",
      "execution_count": 26,
      "metadata": {
        "id": "K5cwv55BUI_6",
        "outputId": "22a3ecf6-5f93-47b2-8266-1c0c548c509c",
        "colab": {
          "base_uri": "https://localhost:8080/"
        }
      },
      "outputs": [
        {
          "output_type": "stream",
          "name": "stdout",
          "text": [
            "Matrix C:\n",
            "[[3.5583296 3.162041 ]\n",
            " [2.8106625 2.7886827]]\n"
          ]
        }
      ],
      "source": [
        "import tensorflow as tf\n",
        "\n",
        "# Define the dimensions of the matrix\n",
        "matrix_shape = (2, 2)\n",
        "\n",
        "# Generate a Gaussian matrix using normal distribution\n",
        "mean = 3.0\n",
        "stddev = 0.5\n",
        "C = tf.random.normal(shape=matrix_shape, mean=mean, stddev=stddev)\n",
        "\n",
        "# Display the generated matrix\n",
        "print(\"Matrix C:\")\n",
        "print(C.numpy())"
      ]
    },
    {
      "cell_type": "markdown",
      "metadata": {
        "id": "zv91C8yNUI_6"
      },
      "source": [
        "## Q4. Perform matrix addition between matrix A and matrix B and store the results in matrix D\n",
        "---"
      ]
    },
    {
      "cell_type": "markdown",
      "metadata": {
        "id": "ZcUdMnBrUI_7"
      },
      "source": [
        "### Matrix A has shape (3,3) while matrix B has shape(4,4) it is not possible to add these matrices as shapes are different\n",
        "Below is alternate example to show matrix addition"
      ]
    },
    {
      "cell_type": "code",
      "execution_count": 27,
      "metadata": {
        "id": "pEp_5ZA0UI_7",
        "outputId": "a4b76ecc-dd16-4d67-a649-6aff6dee3f9f",
        "colab": {
          "base_uri": "https://localhost:8080/"
        }
      },
      "outputs": [
        {
          "output_type": "stream",
          "name": "stdout",
          "text": [
            "Matrix 1 :\n",
            " [[ 0.00797569 -0.9015963 ]\n",
            " [ 0.7706862  -0.59166795]]\n",
            "\n",
            "Matrix 2 :\n",
            " [[-0.77476656 -0.3084806 ]\n",
            " [ 1.7242459   1.1012186 ]]\n",
            "\n",
            "Matrix D :\n",
            " [[-0.76679087 -1.2100769 ]\n",
            " [ 2.4949322   0.50955063]]\n"
          ]
        }
      ],
      "source": [
        "matrix1 = tf.random.normal(shape=(2,2))\n",
        "matrix2 = tf.random.normal(shape=(2,2))\n",
        "D = tf.add(matrix1, matrix2)\n",
        "print(f'Matrix 1 :\\n {matrix1.numpy()}')\n",
        "print(f'\\nMatrix 2 :\\n {matrix2.numpy()}')\n",
        "print(f'\\nMatrix D :\\n {D.numpy()}')"
      ]
    },
    {
      "cell_type": "markdown",
      "metadata": {
        "id": "bRNUYOpEUI_8"
      },
      "source": [
        "## Q5. Perform matrix multiplication between  matrix C and matrix D and store result in matrix E\n",
        "---"
      ]
    },
    {
      "cell_type": "code",
      "execution_count": 28,
      "metadata": {
        "id": "GMKqQOC5UI_8",
        "outputId": "05774bf6-9bd7-40f2-b406-2ab626af0283",
        "colab": {
          "base_uri": "https://localhost:8080/"
        }
      },
      "outputs": [
        {
          "output_type": "stream",
          "name": "stdout",
          "text": [
            "Matrix C :\n",
            "[[3.5583296 3.162041 ]\n",
            " [2.8106625 2.7886827]]\n",
            "\n",
            "Matrix D :\n",
            "[[-0.76679087 -1.2100769 ]\n",
            " [ 2.4949322   0.50955063]]\n",
            "\n",
            "Matrix E = CxD:\n",
            "[[ 5.160583  -2.6946325]\n",
            " [ 4.8023844 -1.9801428]]\n"
          ]
        }
      ],
      "source": [
        "E = tf.matmul(C,D)\n",
        "\n",
        "print(f'Matrix C :\\n{C.numpy()}')\n",
        "print(f'\\nMatrix D :\\n{D.numpy()}')\n",
        "print(f'\\nMatrix E = CxD:\\n{E.numpy()}')"
      ]
    },
    {
      "cell_type": "markdown",
      "metadata": {
        "id": "C48x6zTZUI_9"
      },
      "source": [
        "---\n",
        "---"
      ]
    },
    {
      "cell_type": "markdown",
      "metadata": {
        "id": "bpK14BWqUJAK"
      },
      "source": [
        "# Task 2: Performing additional matrix operations\n",
        "---"
      ]
    },
    {
      "cell_type": "markdown",
      "metadata": {
        "id": "k6XO2lvJUJAZ"
      },
      "source": [
        "## Q1. Create a matrix F with dimensions 3x3, initialized random values using Tensorflows random_uniform function.\n",
        "---"
      ]
    },
    {
      "cell_type": "code",
      "execution_count": 29,
      "metadata": {
        "id": "wYT9AdfVUJAo",
        "outputId": "d39c7eea-63c9-44fc-ebbe-5b5cc9eec20c",
        "colab": {
          "base_uri": "https://localhost:8080/"
        }
      },
      "outputs": [
        {
          "output_type": "stream",
          "name": "stdout",
          "text": [
            "Matrix F :\n",
            "[[0.90427613 0.6640326  0.54985905]\n",
            " [0.9693881  0.28900433 0.22192848]\n",
            " [0.8901019  0.6965618  0.42168522]]\n"
          ]
        }
      ],
      "source": [
        "# Create a matrix F\n",
        "F = tf.random.uniform(shape=(3,3))\n",
        "print(f'Matrix F :\\n{F.numpy()}')"
      ]
    },
    {
      "cell_type": "markdown",
      "metadata": {
        "id": "qJ7Z8AbpUJAp"
      },
      "source": [
        "## Q2. Calculate Transpose of Matrix F and store in Matrix G\n",
        "---"
      ]
    },
    {
      "cell_type": "code",
      "execution_count": 30,
      "metadata": {
        "id": "dUosmGVtUJAq",
        "outputId": "2cc0c3aa-65a3-4401-8687-8eb9ce629d1f",
        "colab": {
          "base_uri": "https://localhost:8080/"
        }
      },
      "outputs": [
        {
          "output_type": "stream",
          "name": "stdout",
          "text": [
            "Matrix G :\n",
            "[[0.90427613 0.9693881  0.8901019 ]\n",
            " [0.6640326  0.28900433 0.6965618 ]\n",
            " [0.54985905 0.22192848 0.42168522]]\n"
          ]
        }
      ],
      "source": [
        "# Transpose the F matrix\n",
        "G = tf.transpose(F)\n",
        "\n",
        "# Print the matrix\n",
        "print(f'Matrix G :\\n{G.numpy()}')"
      ]
    },
    {
      "cell_type": "markdown",
      "metadata": {
        "id": "dKsU24fdUJAr"
      },
      "source": [
        "## Q3. Calculate element wise exponential of Matrix F and store the result in matrix H\n",
        "---"
      ]
    },
    {
      "cell_type": "code",
      "execution_count": 31,
      "metadata": {
        "id": "-7v1MnV8UJAs",
        "outputId": "f5e925e7-ccb9-46ae-bd68-1479fb06c553",
        "colab": {
          "base_uri": "https://localhost:8080/"
        }
      },
      "outputs": [
        {
          "output_type": "stream",
          "name": "stdout",
          "text": [
            "Matrix H :\n",
            "[[2.4701433 1.9426103 1.7330087]\n",
            " [2.6363308 1.3350976 1.2484821]\n",
            " [2.4353778 2.006841  1.5245285]]\n"
          ]
        }
      ],
      "source": [
        "# Element wise exponent\n",
        "H = tf.math.exp(F)\n",
        "\n",
        "# Print matrix H\n",
        "print(f'Matrix H :\\n{H.numpy()}')"
      ]
    },
    {
      "cell_type": "markdown",
      "metadata": {
        "id": "T_aEBVi9UJAt"
      },
      "source": [
        "## Q4. Create a matrix I by concatenating Matrix F and matrix G horizontally\n",
        "---"
      ]
    },
    {
      "cell_type": "code",
      "execution_count": 32,
      "metadata": {
        "id": "m1r1lwWFUJAu",
        "outputId": "0fa4cd66-927c-478b-da40-51a533c4bde5",
        "colab": {
          "base_uri": "https://localhost:8080/"
        }
      },
      "outputs": [
        {
          "output_type": "stream",
          "name": "stdout",
          "text": [
            "Matrix F:\n",
            "[[0.90427613 0.6640326  0.54985905]\n",
            " [0.9693881  0.28900433 0.22192848]\n",
            " [0.8901019  0.6965618  0.42168522]]\n",
            "\n",
            "Matrix G:\n",
            "[[0.90427613 0.9693881  0.8901019 ]\n",
            " [0.6640326  0.28900433 0.6965618 ]\n",
            " [0.54985905 0.22192848 0.42168522]]\n",
            "\n",
            "Matrix I (Concatenated Horizontally):\n",
            "[[0.90427613 0.6640326  0.54985905 0.90427613 0.9693881  0.8901019 ]\n",
            " [0.9693881  0.28900433 0.22192848 0.6640326  0.28900433 0.6965618 ]\n",
            " [0.8901019  0.6965618  0.42168522 0.54985905 0.22192848 0.42168522]]\n"
          ]
        }
      ],
      "source": [
        "# Concatenate matrices F and G horizontally to create matrix I\n",
        "I = tf.concat([F, G], axis=1)\n",
        "\n",
        "# Display the original matrices and the concatenated matrix\n",
        "print(\"Matrix F:\")\n",
        "print(F.numpy())\n",
        "\n",
        "print(\"\\nMatrix G:\")\n",
        "print(G.numpy())\n",
        "\n",
        "print(\"\\nMatrix I (Concatenated Horizontally):\")\n",
        "print(I.numpy())"
      ]
    },
    {
      "cell_type": "markdown",
      "metadata": {
        "id": "vRLDgC_aUJAx"
      },
      "source": [
        "## Q5. Create a matrix J by concatenating matrix F and matrix H vertically\n",
        "---"
      ]
    },
    {
      "cell_type": "code",
      "execution_count": 33,
      "metadata": {
        "id": "Y64TvyD_UJAz",
        "outputId": "dbb3ff03-82fa-4808-b906-d7b47877b850",
        "colab": {
          "base_uri": "https://localhost:8080/"
        }
      },
      "outputs": [
        {
          "output_type": "stream",
          "name": "stdout",
          "text": [
            "Matrix F:\n",
            "[[0.90427613 0.6640326  0.54985905]\n",
            " [0.9693881  0.28900433 0.22192848]\n",
            " [0.8901019  0.6965618  0.42168522]]\n",
            "\n",
            "Matrix H:\n",
            "[[2.4701433 1.9426103 1.7330087]\n",
            " [2.6363308 1.3350976 1.2484821]\n",
            " [2.4353778 2.006841  1.5245285]]\n",
            "\n",
            "Matrix J (Concatenated Vertically):\n",
            "[[0.90427613 0.6640326  0.54985905]\n",
            " [0.9693881  0.28900433 0.22192848]\n",
            " [0.8901019  0.6965618  0.42168522]\n",
            " [2.4701433  1.9426103  1.7330087 ]\n",
            " [2.6363308  1.3350976  1.2484821 ]\n",
            " [2.4353778  2.006841   1.5245285 ]]\n"
          ]
        }
      ],
      "source": [
        "# Concatenate matrices F and H vertically to create matrix J\n",
        "J = tf.concat([F, H], axis=0)\n",
        "\n",
        "# Display the original matrices and the concatenated matrix\n",
        "print(\"Matrix F:\")\n",
        "print(F.numpy())\n",
        "\n",
        "print(\"\\nMatrix H:\")\n",
        "print(H.numpy())\n",
        "\n",
        "print(\"\\nMatrix J (Concatenated Vertically):\")\n",
        "print(J.numpy())"
      ]
    }
  ],
  "metadata": {
    "kernelspec": {
      "display_name": "venv",
      "language": "python",
      "name": "python3"
    },
    "language_info": {
      "codemirror_mode": {
        "name": "ipython",
        "version": 3
      },
      "file_extension": ".py",
      "mimetype": "text/x-python",
      "name": "python",
      "nbconvert_exporter": "python",
      "pygments_lexer": "ipython3",
      "version": "3.11.5"
    },
    "orig_nbformat": 4,
    "colab": {
      "provenance": []
    }
  },
  "nbformat": 4,
  "nbformat_minor": 0
}