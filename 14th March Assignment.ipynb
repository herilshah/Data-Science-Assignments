{
 "cells": [
  {
   "cell_type": "markdown",
   "id": "d714182e-6baf-4eb8-a7f0-6b7de5df9d72",
   "metadata": {},
   "source": [
    "Q1. Write a Python function that takes in two arrays of data and calculates the F-value for a variance ratio\n",
    "test. The function should return the F-value and the corresponding p-value for the test."
   ]
  },
  {
   "cell_type": "code",
   "execution_count": 6,
   "id": "ff31ed74-5945-489d-a6b6-98a6b07997a0",
   "metadata": {},
   "outputs": [],
   "source": [
    "import numpy as np\n",
    "from scipy.stats import f\n",
    "\n",
    "def variance_ratio_test(data1, data2):\n",
    "    # calculate the sample variances and means\n",
    "    var1 = np.var(data1, ddof=1)\n",
    "    var2 = np.var(data2, ddof=1)\n",
    "    mean1 = np.mean(data1)\n",
    "    mean2 = np.mean(data2)\n",
    "\n",
    "    # calculate the F-value and p-value for the variance ratio test\n",
    "    f_value = var1 / var2\n",
    "    p_value = f.sf(f_value, len(data1)-1, len(data2)-1)\n",
    "\n",
    "    return f_value, p_value\n"
   ]
  },
  {
   "cell_type": "code",
   "execution_count": 7,
   "id": "843a6ff2-08eb-4450-abaa-53ee86f7d7ea",
   "metadata": {},
   "outputs": [
    {
     "name": "stdout",
     "output_type": "stream",
     "text": [
      "F-value: 0.25\n",
      "p-value: 0.896\n"
     ]
    }
   ],
   "source": [
    "data1 = [1, 2, 3, 4, 5]\n",
    "data2 = [2, 4, 6, 8, 10]\n",
    "f_value, p_value = variance_ratio_test(data1, data2)\n",
    "print(\"F-value:\", f_value)\n",
    "print(\"p-value:\", p_value)\n"
   ]
  },
  {
   "cell_type": "markdown",
   "id": "401dcd1d-c923-4bda-8763-fcda9134b209",
   "metadata": {},
   "source": [
    "Q2. Given a significance level of 0.05 and the degrees of freedom for the numerator and denominator of an\n",
    "F-distribution, write a Python function that returns the critical F-value for a two-tailed test."
   ]
  },
  {
   "cell_type": "code",
   "execution_count": 8,
   "id": "d4cc24d9-2787-4cfe-98dc-07bfdd134828",
   "metadata": {},
   "outputs": [
    {
     "name": "stdout",
     "output_type": "stream",
     "text": [
      "Critical F-values are: 0.2925 and 2.7737\n"
     ]
    }
   ],
   "source": [
    "from scipy.stats import f\n",
    "\n",
    "def critical_f_value(alpha, dfn, dfd):\n",
    "    \"\"\"\n",
    "    Returns the critical F-value for a two-tailed test given a significance level (alpha)\n",
    "    and the degrees of freedom for the numerator (dfn) and denominator (dfd) of an F-distribution.\n",
    "    \"\"\"\n",
    "    # Calculates critical values for two tailed F-test\n",
    "    F_crit1 = f.ppf(alpha/2, dfn, dfd)\n",
    "    F_crit2 = f.ppf(1-alpha/2,dfn, dfd)\n",
    "\n",
    "    return F_crit1, F_crit2\n",
    "alpha = 0.05\n",
    "dfn = 10\n",
    "dfd = 20\n",
    "\n",
    "F1, F2 = critical_f_value(alpha, dfn, dfd)\n",
    "\n",
    "print(\"Critical F-values are:\",round(F1,4),\"and\" ,round(F2,4))"
   ]
  },
  {
   "cell_type": "markdown",
   "id": "3dfa5442-54fd-44a4-be07-e20dfef856b1",
   "metadata": {},
   "source": [
    "Q3. Write a Python program that generates random samples from two normal distributions with known\n",
    "variances and uses an F-test to determine if the variances are equal. The program should output the F-\n",
    "value, degrees of freedom, and p-value for the test."
   ]
  },
  {
   "cell_type": "code",
   "execution_count": 9,
   "id": "2f218046-ad79-41c8-845f-776ad5a0630c",
   "metadata": {},
   "outputs": [
    {
     "name": "stdout",
     "output_type": "stream",
     "text": [
      "Sample 1 mean: 10.48, variance: 5.47\n",
      "Sample 2 mean: 19.90, variance: 2.94\n",
      "F-value: 1.86\n",
      "Degrees of freedom: (29, 39)\n",
      "p-value: 0.0711\n",
      "\n",
      "===================================================================\n",
      "\n",
      "Significance Level : 0.05\n",
      "Numerator dof : 29\n",
      "Denominator dof : 39\n",
      "Critical F-values are 0.4920 and 1.9619\n",
      "FAILED to reject the Null Hypothesis\n",
      "Conculsion : Variance of two samples population is same\n"
     ]
    }
   ],
   "source": [
    "import numpy as np\n",
    "from scipy.stats import f\n",
    "\n",
    "# Set seed for reproducibility\n",
    "np.random.seed(456)\n",
    "\n",
    "# Generate random samples from two normal distributions with known variances\n",
    "n1 = 30\n",
    "n2 = 40\n",
    "mean1 = 10\n",
    "mean2 = 20\n",
    "var1 = 6\n",
    "var2 = 4\n",
    "\n",
    "sample1 = np.random.normal(mean1, np.sqrt(var1), n1)\n",
    "sample2 = np.random.normal(mean2, np.sqrt(var2), n2)\n",
    "\n",
    "# Calculate the F-value and p-value for the variance ratio test\n",
    "F = np.var(sample1, ddof=1) / np.var(sample2, ddof=1)\n",
    "dfn = n1 - 1\n",
    "dfd = n2 - 1\n",
    "p_value = 2 * min(f.cdf(F, dfn, dfd), 1 - f.cdf(F, dfn, dfd))\n",
    "\n",
    "# Output the results\n",
    "print(\"Sample 1 mean: {:.2f}, variance: {:.2f}\".format(np.mean(sample1), np.var(sample1, ddof=1)))\n",
    "print(\"Sample 2 mean: {:.2f}, variance: {:.2f}\".format(np.mean(sample2), np.var(sample2, ddof=1)))\n",
    "print(\"F-value: {:.2f}\".format(F))\n",
    "print(\"Degrees of freedom: ({}, {})\".format(dfn, dfd))\n",
    "print(\"p-value: {:.4f}\".format(p_value))\n",
    "\n",
    "print('\\n===================================================================\\n')\n",
    "\n",
    "# Null Hypothesis and Alternate hypothesis \n",
    "null_hypothesis = \"Variance of two samples population is same\"\n",
    "alternate_hypothesis = \"Variance of both samples population is different\"\n",
    "\n",
    "# Assuming alpha value of 0.05 \n",
    "alpha = 0.05\n",
    "\n",
    "# Calculates critical values for two tailed F-test\n",
    "F_crit1 = f.ppf(alpha/2, dfn, dfd)\n",
    "F_crit2 = f.ppf(1-alpha/2,dfn, dfd)\n",
    "\n",
    "# Print Critical F values \n",
    "print(f'Significance Level : {alpha}')\n",
    "print(f'Numerator dof : {dfn}')\n",
    "print(f'Denominator dof : {dfd}')\n",
    "print(f\"Critical F-values are {F_crit1:.4f} and {F_crit2:.4f}\")\n",
    "\n",
    "# Conclusion \n",
    "if (F < F_crit1) or (F > F_crit2):\n",
    "    print('Reject the Null Hypothesis')\n",
    "    print(f'Conculsion : {alternate_hypothesis}')\n",
    "else:\n",
    "    print('FAILED to reject the Null Hypothesis')\n",
    "    print(f'Conculsion : {null_hypothesis}')"
   ]
  },
  {
   "cell_type": "markdown",
   "id": "362c560d-5f84-4d20-8174-d755bf789510",
   "metadata": {},
   "source": [
    "Q4.The variances of two populations are known to be 10 and 15. A sample of 12 observations is taken from\n",
    "each population. Conduct an F-test at the 5% significance level to determine if the variances are\n",
    "significantly different."
   ]
  },
  {
   "cell_type": "code",
   "execution_count": 11,
   "id": "e7fbafbf-2919-46e3-a9bf-ca4828f40334",
   "metadata": {},
   "outputs": [
    {
     "name": "stdout",
     "output_type": "stream",
     "text": [
      "Sample 1 variance: 10.00\n",
      "Sample 2 variance: 15.00\n",
      "F-value: 0.6667\n",
      "Degrees of freedom: (11, 11)\n",
      "p-value: 0.5124\n",
      "\n",
      "===================================================================\n",
      "\n",
      "Significance Level : 0.05\n",
      "Numerator dof : 11\n",
      "Denominator dof : 11\n",
      "Critical F-values are 0.2879 and 3.4737\n",
      "FAILED to reject the Null Hypothesis\n",
      "Conculsion : Variance of two samples population is same\n"
     ]
    }
   ],
   "source": [
    "from scipy.stats import f\n",
    "\n",
    "# Generate random samples from two normal distributions with known variances\n",
    "n1 = 12\n",
    "n2 = 12\n",
    "var1 = 10\n",
    "var2 = 15\n",
    "\n",
    "# Calculate the F-value and p-value for the variance ratio test\n",
    "F = var1/var2\n",
    "dfn = n1 - 1\n",
    "dfd = n2 - 1\n",
    "p_value = 2 * min(f.cdf(F, dfn, dfd), 1 - f.cdf(F, dfn, dfd))\n",
    "\n",
    "# Output the results\n",
    "print(\"Sample 1 variance: {:.2f}\".format(var1))\n",
    "print(\"Sample 2 variance: {:.2f}\".format(var2))\n",
    "print(\"F-value: {:.4f}\".format(F))\n",
    "print(\"Degrees of freedom: ({}, {})\".format(dfn, dfd))\n",
    "print(\"p-value: {:.4f}\".format(p_value))\n",
    "\n",
    "print('\\n===================================================================\\n')\n",
    "\n",
    "# Null Hypothesis and Alternate hypothesis \n",
    "null_hypothesis = \"Variance of two samples population is same\"\n",
    "alternate_hypothesis = \"Variance of both samples population is different\"\n",
    "\n",
    "# Assuming alpha value of 0.05 \n",
    "alpha = 0.05\n",
    "\n",
    "# Calculates critical values for two tailed F-test\n",
    "F_crit1 = f.ppf(alpha/2, dfn, dfd)\n",
    "F_crit2 = f.ppf(1-alpha/2,dfn, dfd)\n",
    "\n",
    "# Print Critical F values \n",
    "print(f'Significance Level : {alpha}')\n",
    "print(f'Numerator dof : {dfn}')\n",
    "print(f'Denominator dof : {dfd}')\n",
    "print(f\"Critical F-values are {F_crit1:.4f} and {F_crit2:.4f}\")\n",
    "\n",
    "# Conclusion \n",
    "if (F < F_crit1) or (F > F_crit2):\n",
    "    print('Reject the Null Hypothesis')\n",
    "    print(f'Conculsion : {alternate_hypothesis}')\n",
    "else:\n",
    "    print('FAILED to reject the Null Hypothesis')\n",
    "    print(f'Conculsion : {null_hypothesis}')"
   ]
  },
  {
   "cell_type": "markdown",
   "id": "75cabfae-49b2-49ac-bfd6-3bf5cc3b0a8c",
   "metadata": {},
   "source": [
    "Plotting decision boundary using matplotlib"
   ]
  },
  {
   "cell_type": "code",
   "execution_count": 12,
   "id": "aea9d7ba-38dd-4978-9f5e-94dd6deef2b2",
   "metadata": {},
   "outputs": [
    {
     "data": {
      "image/png": "[encoded data removed]",
      "text/plain": [
       "<Figure size 640x480 with 1 Axes>"
      ]
     },
     "metadata": {},
     "output_type": "display_data"
    }
   ],
   "source": [
    "import numpy as np\n",
    "import matplotlib.pyplot as plt\n",
    "from scipy.stats import f\n",
    "\n",
    "# plot the F-distribution\n",
    "x = np.linspace(0, 6, 1000)\n",
    "y = f.pdf(x, dfn, dfd)\n",
    "plt.plot(x, y, 'k-', label='F-distribution')\n",
    "\n",
    "# shade the critical region 1\n",
    "x_crit1 = np.linspace(0, F_crit1, 100)\n",
    "y_crit1 = f.pdf(x_crit1, dfn, dfd)\n",
    "plt.fill_between(x_crit1, y_crit1, 0, color='red', alpha=0.5, label=f'Rejection region < {F_crit1:.4f}')\n",
    "\n",
    "# shade the critical region 2\n",
    "x_crit2 = np.linspace(F_crit2, 6, 100)\n",
    "y_crit2 = f.pdf(x_crit2, dfn, dfd)\n",
    "plt.fill_between(x_crit2, y_crit2, 0, color='red', alpha=0.5, label=f'Rejection region > {F_crit2:.4f}')\n",
    "\n",
    "# highlight the F-statistic\n",
    "y_stat = f.pdf(F, dfn, dfd)\n",
    "plt.plot([F, F], [0, y_stat], 'b--', linewidth=2, label=f'F-statistic:{F:.4f}')\n",
    "\n",
    "# set the plot parameters\n",
    "plt.xlim([0, 6])\n",
    "plt.ylim([0, 1])\n",
    "plt.xlabel('F-statistic')\n",
    "plt.ylabel('Probability density')\n",
    "plt.title('Two tailed F-test')\n",
    "plt.legend()\n",
    "plt.show()"
   ]
  },
  {
   "cell_type": "markdown",
   "id": "331cac84-27d0-49f7-80b0-048e3c559fe4",
   "metadata": {},
   "source": [
    "FAIL to Reject the Null Hypothesis in above case\n",
    "Variance of two samples is same"
   ]
  },
  {
   "cell_type": "markdown",
   "id": "2b8a4f33-7412-495b-a17b-bab488b878d3",
   "metadata": {},
   "source": [
    "Q5. A manufacturer claims that the variance of the diameter of a certain product is 0.005. A sample of 25\n",
    "products is taken, and the sample variance is found to be 0.006. Conduct an F-test at the 1% significance\n",
    "level to determine if the claim is justified."
   ]
  },
  {
   "cell_type": "code",
   "execution_count": 13,
   "id": "18b9371f-fc8e-4783-ad99-bf6f85854bf3",
   "metadata": {},
   "outputs": [
    {
     "name": "stdout",
     "output_type": "stream",
     "text": [
      "F-statistic: 1.2000\n",
      "F Critical values: 0.3371 and 2.9667\n",
      "P-value: 0.6587\n",
      "FAIL to reject null hypothesis.\n",
      "Conclusion : The variance of the diameter of the product is 0.005\n"
     ]
    }
   ],
   "source": [
    "import scipy.stats as stats\n",
    "\n",
    "# set the significance level\n",
    "alpha = 0.01\n",
    "\n",
    "# set the claimed population variance and sample variance\n",
    "sigma2 = 0.005\n",
    "s2 = 0.006\n",
    "\n",
    "# set the sample size\n",
    "n = 25\n",
    "\n",
    "# Null Hypothesis and alternate hypothesis\n",
    "null_hypothesis = \"The variance of the diameter of the product is 0.005\"\n",
    "alternate_hypothesis = \"The variance of the diameter of the product is NOT 0.005.\"\n",
    "\n",
    "# calculate the F-statistic\n",
    "F = s2 / sigma2\n",
    "\n",
    "# calculate the critical value of the F-distribution\n",
    "dfn = n - 1\n",
    "dfd = n - 1\n",
    "\n",
    "# calculate the p-value\n",
    "p_value = 2 * min(f.cdf(F, dfn, dfd), 1 - f.cdf(F, dfn, dfd))\n",
    "\n",
    "# Calculates critical values for two tailed F-test\n",
    "alpha = 0.01\n",
    "F_crit1 = f.ppf(alpha/2, dfn, dfd)\n",
    "F_crit2 = f.ppf(1-alpha/2,dfn, dfd)\n",
    "\n",
    "# print the results\n",
    "print(f\"F-statistic: {F:.4f}\")\n",
    "print(f\"F Critical values: {F_crit1:.4f} and {F_crit2:.4f}\")\n",
    "print(f\"P-value: {p_value:.4f}\")\n",
    "\n",
    "if p_value < alpha:\n",
    "    print(\"Reject null hypothesis.\")\n",
    "    print(f\"Conclusion : {alternate_hypothesis}\")\n",
    "else:\n",
    "    print(\"FAIL to reject null hypothesis.\")\n",
    "    print(f\"Conclusion : {null_hypothesis}\")"
   ]
  },
  {
   "cell_type": "markdown",
   "id": "e42d7901-d8d5-4cca-988e-b864000cd114",
   "metadata": {},
   "source": [
    "Q6. Write a Python function that takes in the degrees of freedom for the numerator and denominator of an\n",
    "F-distribution and calculates the mean and variance of the distribution. The function should return the\n",
    "mean and variance as a tuple."
   ]
  },
  {
   "cell_type": "code",
   "execution_count": 14,
   "id": "07e96a38-fa41-4745-9e38-3495a03a2988",
   "metadata": {},
   "outputs": [],
   "source": [
    "def f_distribution_mean_var(df1:int, df2:int):\n",
    "    \"\"\"\n",
    "    Calculates the mean and variance of an F-distribution with\n",
    "    df1 degrees of freedom in the numerator and df2 degrees of\n",
    "    freedom in the denominator.\n",
    "    \n",
    "    Args:\n",
    "    df1 (int): Degrees of freedom in the numerator.\n",
    "    df2 (int): Degrees of freedom in the denominator.\n",
    "    \n",
    "    Returns:\n",
    "    tuple: Mean and variance of the F-distribution.\n",
    "    \"\"\"\n",
    "    if df1 <= 0 or df2 <= 0:\n",
    "        raise ValueError(\"Degrees of freedom must be positive.\")\n",
    "    \n",
    "    mean = df2 / (df2 - 2)\n",
    "    var = (2 * df2 ** 2 * (df1 + df2 - 2)) / (df1 * (df2 - 2) ** 2 * (df2 - 4))\n",
    "    \n",
    "    return (mean, var)"
   ]
  },
  {
   "cell_type": "code",
   "execution_count": 15,
   "id": "5c83baa2-d764-4e62-9aa0-2eb218650260",
   "metadata": {},
   "outputs": [
    {
     "name": "stdout",
     "output_type": "stream",
     "text": [
      "Mean: 1.0952, Variance: 0.3914\n"
     ]
    }
   ],
   "source": [
    "mean, var = f_distribution_mean_var(10, 23)\n",
    "print(f\"Mean: {mean:.4f}, Variance: {var:.4f}\")\n"
   ]
  },
  {
   "cell_type": "markdown",
   "id": "a8026b8f-91e6-4c29-8f2e-a7639c894d4e",
   "metadata": {},
   "source": [
    "Q7. A random sample of 10 measurements is taken from a normal population with unknown variance. The\n",
    "sample variance is found to be 25. Another random sample of 15 measurements is taken from another\n",
    "normal population with unknown variance, and the sample variance is found to be 20. Conduct an F-test\n",
    "at the 10% significance level to determine if the variances are significantly different."
   ]
  },
  {
   "cell_type": "code",
   "execution_count": 16,
   "id": "22357193-044c-466b-9242-eaac51f6356a",
   "metadata": {},
   "outputs": [
    {
     "name": "stdout",
     "output_type": "stream",
     "text": [
      "F-statistic: 1.2500\n",
      "F Critical value: 2.1220\n",
      "P-value: 0.3416\n",
      "FAIL to reject null hypothesis. \n",
      "Conclusion : Variances are similar\n"
     ]
    }
   ],
   "source": [
    "import numpy as np\n",
    "from scipy.stats import f\n",
    "\n",
    "# Set significance level and degrees of freedom\n",
    "alpha = 0.10\n",
    "n1 = 10\n",
    "n2 = 15\n",
    "df1 = n1-1\n",
    "df2 = n2-1\n",
    "\n",
    "# Variance for each group\n",
    "var1 = 25\n",
    "var2 = 20\n",
    "\n",
    "# Null and Alternate hypothesis\n",
    "null_hypothesis = \"Variances are similar\"\n",
    "alternate_hypothesis =  \"Variances are significantly different\"\n",
    "\n",
    "# Calculate F-statistic\n",
    "f_statistic = var1/var2\n",
    "p_value = 1 - f.cdf(f_statistic, df1, df2) \n",
    "\n",
    "# Calculate F-critical\n",
    "F_crit = f.ppf(1-alpha,df1, df2)\n",
    "\n",
    "# print the results\n",
    "print(f\"F-statistic: {f_statistic:.4f}\")\n",
    "print(f\"F Critical value: {F_crit:.4f}\")\n",
    "print(f\"P-value: {p_value:.4f}\")\n",
    "\n",
    "# Determine if null hypothesis should be rejected\n",
    "if p_value < alpha:\n",
    "    print(\"Reject null hypothesis.\")\n",
    "    print(f\"Conclusion : {alternate_hypothesis}\")\n",
    "else:\n",
    "    print(\"FAIL to reject null hypothesis. \")\n",
    "    print(f\"Conclusion : {null_hypothesis}\")\n"
   ]
  },
  {
   "cell_type": "markdown",
   "id": "cabcacff-f4ba-43d0-82b0-9fb49358352b",
   "metadata": {},
   "source": [
    "Q8. The following data represent the waiting times in minutes at two different restaurants on a Saturday\n",
    "night: Restaurant A: 24, 25, 28, 23, 22, 20, 27; Restaurant B: 31, 33, 35, 30, 32, 36. Conduct an F-test at the 5%\n",
    "significance level to determine if the variances are significantly different."
   ]
  },
  {
   "cell_type": "markdown",
   "id": "49931b9b-6218-47a3-971a-0909ec4632b7",
   "metadata": {},
   "source": [
    "\n",
    "Answer :\n",
    "Creating a function to solve above type of problems"
   ]
  },
  {
   "cell_type": "code",
   "execution_count": 17,
   "id": "242c15a2-097b-4f25-8b67-6ce4499494d6",
   "metadata": {},
   "outputs": [],
   "source": [
    "import numpy as np\n",
    "from scipy.stats import f\n",
    "\n",
    "def perform_f_test(sample1:list, sample2:list, alpha=0.05):\n",
    "\n",
    "    \"\"\"\n",
    "    This function will take two samples as list and perform F-test\n",
    "    and print the results\n",
    "    \"\"\"\n",
    "    \n",
    "    # Calculating Variances of both samples\n",
    "    var1 = np.var(sample1, ddof=1)\n",
    "    var2 = np.var(sample2, ddof=1)\n",
    "\n",
    "    # Null and Alternate hypothesis\n",
    "    null_hypothesis = \"Variances are similar\"\n",
    "    alternate_hypothesis =  \"Variances are significantly different\"\n",
    "\n",
    "    # Printing sample mean and variance\n",
    "    print(f'Sample 1 Mean : {np.mean(sample1):.4f}, Sample 1 Variance : {var1:.4f}')\n",
    "    print(f'Sample 2 Mean : {np.mean(sample2):.4f}, Sample 2 Variance : {var2:.4f}')\n",
    "\n",
    "    print('\\n================================================================================\\n')\n",
    "\n",
    "    # Calculate F-statistic\n",
    "    if var1 >= var2:\n",
    "        f_statistic = var1/var2\n",
    "        dfn = len(sample1)-1\n",
    "        dfd = len(sample2)-1        \n",
    "    else:\n",
    "        f_statistic = var2/var1\n",
    "        dfn = len(sample2)-1\n",
    "        dfd = len(sample1)-1\n",
    "\n",
    "    # Calculating p-value\n",
    "    p_value = 1 - f.cdf(f_statistic, dfn, dfd) \n",
    "\n",
    "    # Calculate F-critical\n",
    "    F_crit = f.ppf(1-alpha, dfn, dfd)\n",
    "\n",
    "    # print the results\n",
    "    print(f\"F-statistic: {f_statistic:.4f}\")\n",
    "    print(f\"F Critical value: {F_crit:.4f}\")\n",
    "    print(f\"P-value: {p_value:.4f}\")\n",
    "    print(f\"Significance Level: {alpha}\")\n",
    "    \n",
    "    # Determine if null hypothesis should be rejected\n",
    "    if p_value < alpha:\n",
    "        print(\"Reject null hypothesis.\")\n",
    "        print(f\"Conclusion : {alternate_hypothesis}\")\n",
    "    else:\n",
    "        print(\"FAIL to reject null hypothesis. \")\n",
    "        print(f\"Conclusion : {null_hypothesis}\")"
   ]
  },
  {
   "cell_type": "code",
   "execution_count": 18,
   "id": "6bb093e8-caf6-4265-92f9-923cc48cbdac",
   "metadata": {},
   "outputs": [],
   "source": [
    "import numpy as np\n",
    "import matplotlib.pyplot as plt\n",
    "from scipy.stats import f\n",
    "\n",
    "def plot_decision_boundary(sample1:list, sample2:list, alpha=0.05):\n",
    "\n",
    "    # Calculating Variances of both samples\n",
    "    var1 = np.var(sample1, ddof=1)\n",
    "    var2 = np.var(sample2, ddof=1)\n",
    "\n",
    "    # Calculate F-statistic\n",
    "    if var1 >= var2:\n",
    "        f_statistic = var1/var2\n",
    "        dfn = len(sample1)-1\n",
    "        dfd = len(sample2)-1        \n",
    "    else:\n",
    "        f_statistic = var2/var1\n",
    "        dfn = len(sample2)-1\n",
    "        dfd = len(sample1)-1\n",
    "    \n",
    "    # Calculate F-critical\n",
    "    F_crit = f.ppf(1-alpha, dfn, dfd) \n",
    "    \n",
    "    # plot the F-distribution\n",
    "    x = np.linspace(0, F_crit + 2, 1000)\n",
    "    y = f.pdf(x, dfn, dfd)\n",
    "    plt.plot(x, y, 'k-', label='F-distribution')\n",
    "\n",
    "    # shade the critical region \n",
    "    x_crit = np.linspace(F_crit, F_crit + 2 , 100)\n",
    "    y_crit = f.pdf(x_crit, dfn, dfd)\n",
    "    plt.fill_between(x_crit, y_crit, 0, color='red', alpha=0.5, label=f'Rejection region , F-critical = {F_crit:.4f}')\n",
    "  \n",
    "    # highlight the F-statistic\n",
    "    y_stat = f.pdf(f_statistic, dfn, dfd)\n",
    "    plt.plot([f_statistic, f_statistic], [0, y_stat], 'b--', linewidth=2, label=f'F-statistic = {f_statistic:.4f}')\n",
    "\n",
    "    # set the plot parameters\n",
    "    plt.xlabel('F-statistic')\n",
    "    plt.ylabel('Probability density')\n",
    "    plt.title('One tailed F-test')\n",
    "    plt.legend()\n",
    "    plt.show()"
   ]
  },
  {
   "cell_type": "code",
   "execution_count": 19,
   "id": "9a6225c4-a728-460e-bbbc-50dc5f93a5d1",
   "metadata": {},
   "outputs": [
    {
     "name": "stdout",
     "output_type": "stream",
     "text": [
      "Sample 1 Mean : 24.1429, Sample 1 Variance : 7.8095\n",
      "Sample 2 Mean : 32.8333, Sample 2 Variance : 5.3667\n",
      "\n",
      "================================================================================\n",
      "\n",
      "F-statistic: 1.4552\n",
      "F Critical value: 4.9503\n",
      "P-value: 0.3487\n",
      "Significance Level: 0.05\n",
      "FAIL to reject null hypothesis. \n",
      "Conclusion : Variances are similar\n"
     ]
    }
   ],
   "source": [
    "# Given Sample Data\n",
    "restaurant_A = [24, 25, 28, 23, 22, 20, 27]\n",
    "restaurant_B = [31, 33, 35, 30, 32, 36]\n",
    "\n",
    "# Perform F-test by calling the function\n",
    "perform_f_test(restaurant_A,restaurant_B,alpha=0.05)"
   ]
  },
  {
   "cell_type": "markdown",
   "id": "ef1061e1-e9eb-4e00-a841-7e183f5aa0d7",
   "metadata": {},
   "source": [
    "Q9. The following data represent the test scores of two groups of students: Group A: 80, 85, 90, 92, 87, 83;\n",
    "Group B: 75, 78, 82, 79, 81, 84. Conduct an F-test at the 1% significance level to determine if the variances\n",
    "are significantly different."
   ]
  },
  {
   "cell_type": "code",
   "execution_count": 20,
   "id": "eb022397-c436-44a3-9447-5b1a80998447",
   "metadata": {},
   "outputs": [
    {
     "name": "stdout",
     "output_type": "stream",
     "text": [
      "Sample 1 Mean : 86.1667, Sample 1 Variance : 19.7667\n",
      "Sample 2 Mean : 79.8333, Sample 2 Variance : 10.1667\n",
      "\n",
      "================================================================================\n",
      "\n",
      "F-statistic: 1.9443\n",
      "F Critical value: 10.9670\n",
      "P-value: 0.2416\n",
      "Significance Level: 0.01\n",
      "FAIL to reject null hypothesis. \n",
      "Conclusion : Variances are similar\n"
     ]
    }
   ],
   "source": [
    "# Given Sample data\n",
    "group_A = [80, 85, 90, 92, 87, 83]\n",
    "group_B = [75, 78, 82, 79, 81, 84]\n",
    "\n",
    "# Calling the function from question 8 to solve this problem \n",
    "perform_f_test(group_A, group_B, alpha=0.01)"
   ]
  },
  {
   "cell_type": "code",
   "execution_count": 21,
   "id": "e046cc6b-55fd-47ce-973f-eb8cb63c64fe",
   "metadata": {},
   "outputs": [
    {
     "data": {
      "image/png": "[encoded data removed]",
      "text/plain": [
       "<Figure size 640x480 with 1 Axes>"
      ]
     },
     "metadata": {},
     "output_type": "display_data"
    }
   ],
   "source": [
    "plot_decision_boundary(group_A,group_B, alpha=0.01)"
   ]
  },
  {
   "cell_type": "markdown",
   "id": "c5564fc9-c603-45c2-9f23-0ef9f7c4d75f",
   "metadata": {},
   "source": []
  }
 ],
 "metadata": {
  "kernelspec": {
   "display_name": "Python 3 (ipykernel)",
   "language": "python",
   "name": "python3"
  },
  "language_info": {
   "codemirror_mode": {
    "name": "ipython",
    "version": 3
   },
   "file_extension": ".py",
   "mimetype": "text/x-python",
   "name": "python",
   "nbconvert_exporter": "python",
   "pygments_lexer": "ipython3",
   "version": "3.10.8"
  }
 },
 "nbformat": 4,
 "nbformat_minor": 5
}
