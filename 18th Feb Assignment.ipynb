{
 "cells": [
  {
   "cell_type": "markdown",
   "id": "9f062e26-3866-4293-adbe-5d545a26ba7d",
   "metadata": {},
   "source": [
    "Q1. What is an API? Give an example, where an API is used in real life."
   ]
  },
  {
   "cell_type": "markdown",
   "id": "49df7f8a-a5f9-4560-81a9-7a58d16e35ca",
   "metadata": {},
   "source": [
    "An API (Application Programming Interface) is a way for two or more computer programs to communicate with each other. It is a type of software interface, offering a service to other pieces of software. A document or standard that describes how to build or use such a connection or interface is called an API specification. A computer system that meets this standard is said to implement or expose an API. The term API may refer either to the specification or to the implementation.\n",
    "\n",
    "An API may be custom-built for a particular pair of systems, or it may be a shared standard allowing interoperability among many systems. There are APIs for programming languages, software libraries, computer operating systems, and computer hardware. APIs originated in the 1940s, though the term did not emerge until the 1960s and 1970s. Contemporary usage of the term API often refers to web APIs, which allow communication between computers that are joined by the internet. Recent developments in APIs have led to the rise in popularity of microservices, which are loosely coupled services accessed through public APIs.\n",
    "\n",
    "An example of an API is the Google Maps API. This API allows developers to add maps and directions to their websites and applications.\n"
   ]
  },
  {
   "cell_type": "markdown",
   "id": "475d40c1-eed6-4131-a86d-7397f453be91",
   "metadata": {},
   "source": [
    "Q2. Give advantages and disadvantages of using API."
   ]
  },
  {
   "cell_type": "markdown",
   "id": "b58e94b8-7446-455e-9115-9c08564aad5f",
   "metadata": {},
   "source": [
    "Advantages of using API:\n",
    "APIs can help to improve communication between different systems.\n",
    "APIs can make it easier to share data and functionality between different systems.\n",
    "APIs can help to reduce the amount of code that needs to be written.\n",
    "APIs can help to make systems more scalable.\n",
    "\n",
    "Disadvantages of using API:\n",
    "APIs can be complex to implement and maintain.\n",
    "APIs can be a security risk if not properly implemented.\n",
    "APIs can be a bottleneck if not properly designed.\n",
    "APIs can be a single point of failure if not properly implemented."
   ]
  },
  {
   "cell_type": "markdown",
   "id": "2ed98323-aa6a-4e1e-9305-7829db58a083",
   "metadata": {},
   "source": [
    "Q3. What is a Web API? Differentiate between API and Web API."
   ]
  },
  {
   "cell_type": "markdown",
   "id": "3344c074-83e8-4cd2-8370-f6715418760a",
   "metadata": {},
   "source": [
    "Web API is an API as the name suggests, it can be accessed over the web using the HTTP protocol. It is a framework that helps you to create and develop HTTP based RESTFUL services. The web API can be developed by using different technologies such as java, ASP.NET, etc. Web API is used in either a web server or a web browser. Basically Web API is a web development concept. It is limited to Web Application’s client-side and also it does not include a web server or web browser details. If an application is to be used on a distributed system and to provide services on different devices like laptops, mobiles, etc then web API services are used. Web API is the enhanced form of the web application.\n",
    "The main difference between an API and a Web API is that an API can be accessed from any programming language, while a Web API can only be accessed from web applications."
   ]
  },
  {
   "cell_type": "markdown",
   "id": "2e24c00d-b8ac-4a29-a9f4-a9b8afae7108",
   "metadata": {},
   "source": [
    "Q4. Explain REST and SOAP Architecture. Mention shortcomings of SOAP."
   ]
  },
  {
   "cell_type": "markdown",
   "id": "71ca66a8-e585-4f2f-b2d6-e8de45c054f2",
   "metadata": {},
   "source": [
    "REST (Representational State Transfer) is an architectural style for designing web services. RESTful web services are designed to be stateless, uniform, and cacheable.\n",
    "\n",
    "SOAP (Simple Object Access Protocol) is a messaging protocol for exchanging structured information between applications. SOAP web services are designed to be stateful, uniform, and reliable.\n",
    "\n",
    "The main shortcoming of SOAP is that it is a complex protocol that can be difficult to implement and maintain."
   ]
  },
  {
   "cell_type": "markdown",
   "id": "2f28f240-b5e3-486d-9265-ccff602070af",
   "metadata": {},
   "source": [
    "Q5. Differentiate between REST and SOAP."
   ]
  },
  {
   "cell_type": "markdown",
   "id": "6ad06ce8-5728-4b26-b357-f5180b3c7dc9",
   "metadata": {},
   "source": [
    "The main difference between REST and SOAP is that REST is a lightweight protocol that is designed for efficiency, while SOAP is a heavier protocol that is designed for reliability."
   ]
  },
  {
   "cell_type": "code",
   "execution_count": null,
   "id": "4429ed67-5ac7-4b65-9329-d285b72dabac",
   "metadata": {},
   "outputs": [],
   "source": []
  },
  {
   "cell_type": "code",
   "execution_count": null,
   "id": "91f48d0e-dada-4816-b337-e0a50261dba4",
   "metadata": {},
   "outputs": [],
   "source": []
  }
 ],
 "metadata": {
  "kernelspec": {
   "display_name": "Python 3 (ipykernel)",
   "language": "python",
   "name": "python3"
  },
  "language_info": {
   "codemirror_mode": {
    "name": "ipython",
    "version": 3
   },
   "file_extension": ".py",
   "mimetype": "text/x-python",
   "name": "python",
   "nbconvert_exporter": "python",
   "pygments_lexer": "ipython3",
   "version": "3.10.8"
  }
 },
 "nbformat": 4,
 "nbformat_minor": 5
}
