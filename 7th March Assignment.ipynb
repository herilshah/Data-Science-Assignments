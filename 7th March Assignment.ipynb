{
 "cells": [
  {
   "cell_type": "code",
   "execution_count": 1,
   "id": "4b4b1a48-7e27-492e-9325-2deac9dc4065",
   "metadata": {},
   "outputs": [],
   "source": [
    "#Q1. What are the three measures of central tendency?"
   ]
  },
  {
   "cell_type": "markdown",
   "id": "0dacffcb-89d6-4374-8b01-f46c9dded97a",
   "metadata": {},
   "source": [
    "The three measures of central tendency are mean, median, and mode."
   ]
  },
  {
   "cell_type": "code",
   "execution_count": null,
   "id": "668bd057-79bf-46d2-a7fc-daff3c617f20",
   "metadata": {},
   "outputs": [],
   "source": [
    "#Q2. What is the difference between the mean, median, and mode? How are they used to measure the central tendency of a dataset?"
   ]
  },
  {
   "cell_type": "markdown",
   "id": "d5d3a1ab-dfdf-4582-8446-29e03d1277df",
   "metadata": {},
   "source": [
    "Mean is calculated by adding up all the values in a dataset and dividing by the number of values. Median is the middle value in a dataset when it is arranged in order. Mode is the value that appears most frequently in a dataset. These measures are used to describe the central tendency of a dataset and provide a single value that summarizes the entire dataset."
   ]
  },
  {
   "cell_type": "code",
   "execution_count": null,
   "id": "a9ece6d7-2f00-4fb0-8c15-122544c060f0",
   "metadata": {},
   "outputs": [],
   "source": [
    "#Q3. Measure the three measures of central tendency for the given height data: [178,177,176,177,178.2,178,175,179,180,175,178.9,176.2,177,172.5,178,176.5]"
   ]
  },
  {
   "cell_type": "code",
   "execution_count": 2,
   "id": "891132aa-3fa7-4064-8eca-a682732cea1f",
   "metadata": {},
   "outputs": [
    {
     "name": "stdout",
     "output_type": "stream",
     "text": [
      "Mean:  177.01875\n",
      "Median:  177.0\n",
      "Mode:  178\n"
     ]
    }
   ],
   "source": [
    "import statistics\n",
    "\n",
    "data = [178, 177, 176, 177, 178.2, 178, 175, 179, 180, 175, 178.9, 176.2, 177, 172.5, 178, 176.5]\n",
    "\n",
    "# Calculate the mean\n",
    "mean = statistics.mean(data)\n",
    "print(\"Mean: \", mean)\n",
    "\n",
    "# Calculate the median\n",
    "median = statistics.median(data)\n",
    "print(\"Median: \", median)\n",
    "\n",
    "# Calculate the mode\n",
    "mode = statistics.mode(data)\n",
    "print(\"Mode: \", mode)"
   ]
  },
  {
   "cell_type": "code",
   "execution_count": null,
   "id": "f2cab400-1360-4886-a61f-62570fd340b3",
   "metadata": {},
   "outputs": [],
   "source": [
    "# Q4. Find the standard deviation for the given data:\n",
    "\n",
    "# [178,177,176,177,178.2,178,175,179,180,175,178.9,176.2,177,172.5,178,176.5]"
   ]
  },
  {
   "cell_type": "code",
   "execution_count": 4,
   "id": "9ffab2d9-1e4b-4e88-8a55-0fa56a5ea50a",
   "metadata": {},
   "outputs": [
    {
     "name": "stdout",
     "output_type": "stream",
     "text": [
      "Standard deviation:  1.8472389305844188\n"
     ]
    }
   ],
   "source": [
    "import statistics\n",
    "\n",
    "data = [178, 177, 176, 177, 178.2, 178, 175, 179, 180, 175, 178.9, 176.2, 177, 172.5, 178, 176.5]\n",
    "\n",
    "# Calculate the standard deviation\n",
    "stdev = statistics.stdev(data)\n",
    "print(\"Standard deviation: \", stdev)"
   ]
  },
  {
   "cell_type": "code",
   "execution_count": null,
   "id": "c9979815-3220-4954-a398-59a36fb6c14c",
   "metadata": {},
   "outputs": [],
   "source": [
    "#Q5. How are measures of dispersion such as range, variance, and standard deviation used to describe the spread of a dataset? Provide an example."
   ]
  },
  {
   "cell_type": "markdown",
   "id": "a38eb37f-8bc4-4d57-ba2c-c8aedede590c",
   "metadata": {},
   "source": [
    "Measures of dispersion such as range, variance, and standard deviation are used to describe the spread of a dataset by quantifying how much the individual data points deviate from the central tendency of the dataset.\n",
    "\n",
    "Range: The range is the difference between the maximum and minimum values in a dataset. It provides a quick way to get an idea of how spread out the data is. However, it is sensitive to outliers and may not provide a reliable measure of dispersion in datasets with extreme values.\n",
    "\n",
    "Variance: The variance is the average of the squared differences between each data point and the mean of the dataset. It measures how much the data is spread out from the mean. A higher variance indicates that the data is more spread out, while a lower variance indicates that the data is more tightly clustered around the mean.\n",
    "\n",
    "Standard deviation: The standard deviation is the square root of the variance. It provides a more intuitive measure of the spread of the data, as it is in the same units as the data. A larger standard deviation indicates that the data is more spread out, while a smaller standard deviation indicates that the data is more tightly clustered around the mean."
   ]
  },
  {
   "cell_type": "code",
   "execution_count": 7,
   "id": "33bd476a-e67b-403b-8e49-391e5466da59",
   "metadata": {},
   "outputs": [
    {
     "name": "stdout",
     "output_type": "stream",
     "text": [
      "Range:  200\n",
      "Variance:  5000.0\n",
      "Standard deviation:  70.71067811865476\n"
     ]
    }
   ],
   "source": [
    "import statistics\n",
    "\n",
    "data = [50, 100, 150, 200, 250]\n",
    "\n",
    "# Calculate the range\n",
    "range_data = max(data) - min(data)\n",
    "print(\"Range: \", range_data)\n",
    "\n",
    "# Calculate the variance\n",
    "mean = statistics.mean(data)\n",
    "variance = sum((x - mean) ** 2 for x in data) / len(data)\n",
    "print(\"Variance: \", variance)\n",
    "\n",
    "# Calculate the standard deviation\n",
    "stdev = variance ** 0.5\n",
    "print(\"Standard deviation: \", stdev)"
   ]
  },
  {
   "cell_type": "code",
   "execution_count": null,
   "id": "cf26f32e-bb56-498b-a237-be23bd38750e",
   "metadata": {},
   "outputs": [],
   "source": [
    "#Q6. What is a Venn diagram?"
   ]
  },
  {
   "cell_type": "markdown",
   "id": "467e7112-9a76-41fd-a789-2dbb61d80f37",
   "metadata": {},
   "source": [
    "A Venn diagram is a visual representation of the relationship between sets, showing all possible logical relations between them."
   ]
  },
  {
   "cell_type": "code",
   "execution_count": null,
   "id": "553b49d3-edd8-40f0-bfb1-40d5e93bc377",
   "metadata": {},
   "outputs": [],
   "source": [
    "# Q7. For the two given sets A = (2,3,4,5,6,7) & B = (0,2,6,8,10). Find:\n",
    "\n",
    "# (i)A ⋂ B\n",
    "\n",
    "# (ii)A ⋃ B"
   ]
  },
  {
   "cell_type": "code",
   "execution_count": 5,
   "id": "4fcb5585-7106-468b-a897-89b325b10f70",
   "metadata": {},
   "outputs": [
    {
     "name": "stdout",
     "output_type": "stream",
     "text": [
      "The intersection of sets A and B is: {2, 6}\n",
      "The union of sets A and B is: {0, 2, 3, 4, 5, 6, 7, 8, 10}\n"
     ]
    }
   ],
   "source": [
    "# Define the sets A and B\n",
    "A = {2, 3, 4, 5, 6, 7}\n",
    "B = {0, 2, 6, 8, 10}\n",
    "\n",
    "# Find the intersection of sets A and B\n",
    "intersection = A.intersection(B)\n",
    "print(\"The intersection of sets A and B is:\", intersection)\n",
    "\n",
    "# Find the union of sets A and B\n",
    "union = A.union(B)\n",
    "print(\"The union of sets A and B is:\", union)\n"
   ]
  },
  {
   "cell_type": "code",
   "execution_count": null,
   "id": "889eeb24-d8b9-4b5a-afd7-5789c9267f2f",
   "metadata": {},
   "outputs": [],
   "source": [
    "# Q8. What do you understand about skewness in data?"
   ]
  },
  {
   "cell_type": "markdown",
   "id": "e1d363f6-f53c-41f2-9ac6-92599cefdb55",
   "metadata": {},
   "source": [
    "Skewness is a measure of the asymmetry of a distribution of data. In other words, it describes how much a dataset deviates from a normal or symmetric distribution.\n",
    "\n",
    "A distribution is considered to be skewed if it is not symmetrical, meaning that the two sides of the distribution are not mirror images of each other. If the tail of the distribution is longer on one side than the other, the distribution is said to be skewed in the direction of the longer tail.\n",
    "\n",
    "There are two types of skewness:\n",
    "\n",
    "Positive skewness: If the tail of the distribution is longer on the positive side, it is considered to be positively skewed. The mean of the data is usually greater than the median in a positively skewed distribution.\n",
    "\n",
    "Negative skewness: If the tail of the distribution is longer on the negative side, it is considered to be negatively skewed. The mean of the data is usually less than the median in a negatively skewed distribution.\n",
    "\n",
    "Skewness is an important concept in statistics because it can affect the interpretation of the data and the validity of some statistical tests. For example, if the data is skewed, the mean may not be an appropriate measure of central tendency, and the use of non-parametric tests may be more appropriate than parametric tests.\n",
    "\n"
   ]
  },
  {
   "cell_type": "code",
   "execution_count": 6,
   "id": "1cdc8db6-afc8-400d-8d39-7ff9f68f9f26",
   "metadata": {},
   "outputs": [],
   "source": [
    "# Q9. If a data is right skewed then what will be the position of median with respect "
   ]
  },
  {
   "cell_type": "markdown",
   "id": "96a021a5-335c-4e12-95cc-ffc6a9e163aa",
   "metadata": {},
   "source": [
    "If a data is right skewed, then the median will be less than the mean."
   ]
  },
  {
   "cell_type": "code",
   "execution_count": null,
   "id": "bb7dd4bd-7d52-462a-a4bb-278ba3a08677",
   "metadata": {},
   "outputs": [],
   "source": [
    "# Q10. Explain the difference between covariance and correlation. How are these measures used in statistical analysis?"
   ]
  },
  {
   "cell_type": "markdown",
   "id": "1f692d62-3c9c-485b-bf48-0b7be364f522",
   "metadata": {},
   "source": [
    "Covariance measures the extent to which two variables are related to each other. Correlation measures the strength of the relationship between two variables. Covariance can take on any value, while correlation is always between -1 and 1. These measures are used in statistical analysis to understand the relationship between variables."
   ]
  },
  {
   "cell_type": "code",
   "execution_count": null,
   "id": "4a3f3f5a-2e4b-4cae-bc71-fe9dbd8dcf43",
   "metadata": {},
   "outputs": [],
   "source": [
    "# Q11. What is the formula for calculating the sample mean? Provide an example calculation for a "
   ]
  },
  {
   "cell_type": "markdown",
   "id": "bcdd41e6-9062-4c2d-b4fb-484ffedd920a",
   "metadata": {},
   "source": [
    "The formula for calculating the sample mean is: mean = (sum of all values in the sample) / (number of values in the sample). For example, if the dataset is {1, 2, 3, 4, 5}, the mean would be (1+2+3+4+5) / 5 = 3."
   ]
  },
  {
   "cell_type": "code",
   "execution_count": null,
   "id": "53411736-3946-41e9-a5dc-3796d9c4356d",
   "metadata": {},
   "outputs": [],
   "source": [
    "#Q12. For a normal distribution data what is the relationship between its measure of central tendency?"
   ]
  },
  {
   "cell_type": "markdown",
   "id": "c68c26bd-e997-4424-a855-2a7bd9c0af92",
   "metadata": {},
   "source": [
    "For a normal distribution data, the mean, median, and mode are all equal. This is because a normal distribution is symmetric around its mean, and the mean is located at the peak of the distribution. Additionally, the tails of a normal distribution decay exponentially, which means that the mode and median are also located at the same point as the mean.\n",
    "\n",
    "Therefore, for a normal distribution data, the measures of central tendency - mean, median, and mode - are all equal and located at the center of the distribution"
   ]
  },
  {
   "cell_type": "code",
   "execution_count": null,
   "id": "376b7c5d-a9fc-4e90-8af1-5be023a46234",
   "metadata": {},
   "outputs": [],
   "source": [
    "# Q13. How is covariance different from correlation?"
   ]
  },
  {
   "cell_type": "markdown",
   "id": "589d5a7a-2397-47c5-a935-8efb3c739b7b",
   "metadata": {},
   "source": [
    "Covariance and correlation are two statistical measures that describe the relationship between two variables. While both of them are measures of how two variables change together, there are some key differences between them.\n",
    "\n",
    "Covariance measures the extent to which two variables are related to each other. Specifically, covariance measures the degree to which two variables vary together. When two variables have a positive covariance, it means that they tend to increase or decrease together. When two variables have a negative covariance, it means that when one variable increases, the other variable tends to decrease.\n",
    "\n",
    "The formula for covariance is as follows:\n",
    "\n",
    "cov(X,Y) = (Σ(Xi - X̄) (Yi - Ȳ)) / (n - 1)\n",
    "\n",
    "where X and Y are two variables, Xi and Yi are the individual observations of X and Y, X̄ and Ȳ are the means of X and Y, and n is the number of observations.\n",
    "\n",
    "Correlation, on the other hand, measures the strength of the relationship between two variables. Unlike covariance, correlation is not affected by the scale of the variables. Correlation is always between -1 and 1, where a correlation of 1 indicates a perfect positive relationship, a correlation of -1 indicates a perfect negative relationship, and a correlation of 0 indicates no relationship.\n",
    "\n",
    "The formula for correlation is as follows:\n",
    "\n",
    "r = (Σ(Xi - X̄) (Yi - Ȳ)) / √(Σ(Xi - X̄)² Σ(Yi - Ȳ)²)\n",
    "\n",
    "where X and Y are two variables, Xi and Yi are the individual observations of X and Y, X̄ and Ȳ are the means of X and Y, and the denominator is the product of the standard deviations of X and Y."
   ]
  },
  {
   "cell_type": "markdown",
   "id": "da9bfcd3-51f0-4b5e-83cb-d24f72cab6f2",
   "metadata": {},
   "source": [
    " Covariance is affected by the scale of the variables, while correlation is not. Covariance can take on any value, while correlation is always between -1 and 1."
   ]
  },
  {
   "cell_type": "code",
   "execution_count": null,
   "id": "4b7997d3-8cb3-4bdb-be5a-e9ed196231bf",
   "metadata": {},
   "outputs": [],
   "source": [
    "# Q14. How do outliers affect measures of central tendency and dispersion? Provide an example"
   ]
  },
  {
   "cell_type": "markdown",
   "id": "d8c6ace6-ab54-47a7-b487-91053daec6e4",
   "metadata": {},
   "source": [
    "Outliers can significantly affect the measures of central tendency and dispersion in a dataset. An outlier is an observation that falls significantly outside the range of the other observations in the dataset. Outliers can be caused by measurement errors, data entry errors, or simply by chance.\n",
    "\n",
    "The presence of outliers can distort the measures of central tendency, such as the mean and the median, as they can pull the average value towards their direction. For example, in a dataset of salaries where most of the salaries are in the range of Rs.30,000 to Rs.80,000 per year, an outlier salary of Rs.500,000 per year will significantly increase the mean salary value, making it higher than the typical salary in the dataset. In contrast, the median salary will be less affected by the outlier, as it only considers the middle value in the dataset.\n",
    "\n",
    "Outliers can also affect the measures of dispersion, such as the range, variance, and standard deviation, as they can increase or decrease the spread of the dataset. For example, if we consider the same salary dataset as above, an outlier salary of Rs.500,000 per year will increase the range, variance, and standard deviation, making the spread of the dataset appear larger than it actually is.\n"
   ]
  },
  {
   "cell_type": "code",
   "execution_count": 8,
   "id": "8839ae6c-e918-40c0-ba62-ec5866cc4dc8",
   "metadata": {},
   "outputs": [
    {
     "name": "stdout",
     "output_type": "stream",
     "text": [
      "Data: [ 10  20  30  40  50 500]\n",
      "Mean: 108.33333333333333\n",
      "Median: 35.0\n",
      "Range: 490\n",
      "Variance: 30847.222222222223\n",
      "Standard deviation: 175.6337730114064\n"
     ]
    }
   ],
   "source": [
    "import numpy as np\n",
    "\n",
    "# Create a dataset with outliers\n",
    "data = np.array([10, 20, 30, 40, 50, 500])\n",
    "\n",
    "# Calculate measures of central tendency\n",
    "mean = np.mean(data)\n",
    "median = np.median(data)\n",
    "\n",
    "# Calculate measures of dispersion\n",
    "range = np.max(data) - np.min(data)\n",
    "variance = np.var(data)\n",
    "std_deviation = np.std(data)\n",
    "\n",
    "# Print results\n",
    "print(\"Data:\", data)\n",
    "print(\"Mean:\", mean)\n",
    "print(\"Median:\", median)\n",
    "print(\"Range:\", range)\n",
    "print(\"Variance:\", variance)\n",
    "print(\"Standard deviation:\", std_deviation)"
   ]
  },
  {
   "cell_type": "markdown",
   "id": "cd107bf2-7bdf-4a7c-9c8e-56b803b2119e",
   "metadata": {},
   "source": []
  },
  {
   "cell_type": "code",
   "execution_count": null,
   "id": "2f7c931c-9ce3-4016-af00-f6406f2e4805",
   "metadata": {},
   "outputs": [],
   "source": []
  },
  {
   "cell_type": "code",
   "execution_count": null,
   "id": "05b74e39-4724-40d7-bca9-29942e9601fb",
   "metadata": {},
   "outputs": [],
   "source": []
  },
  {
   "cell_type": "code",
   "execution_count": null,
   "id": "ac948ba2-4f5f-4ee9-b32b-72d0c05222bc",
   "metadata": {},
   "outputs": [],
   "source": []
  },
  {
   "cell_type": "code",
   "execution_count": null,
   "id": "f5afe7f4-b665-4cfe-b9f5-f670371d812c",
   "metadata": {},
   "outputs": [],
   "source": []
  }
 ],
 "metadata": {
  "kernelspec": {
   "display_name": "Python 3 (ipykernel)",
   "language": "python",
   "name": "python3"
  },
  "language_info": {
   "codemirror_mode": {
    "name": "ipython",
    "version": 3
   },
   "file_extension": ".py",
   "mimetype": "text/x-python",
   "name": "python",
   "nbconvert_exporter": "python",
   "pygments_lexer": "ipython3",
   "version": "3.10.8"
  }
 },
 "nbformat": 4,
 "nbformat_minor": 5
}
